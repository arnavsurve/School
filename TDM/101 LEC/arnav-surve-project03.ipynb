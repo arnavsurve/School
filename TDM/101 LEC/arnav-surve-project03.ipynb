{
 "cells": [
  {
   "cell_type": "markdown",
   "id": "be02a957-7133-4d02-818e-fedeb3cecb05",
   "metadata": {},
   "source": [
    "# Project 3 -- Arnav Surve"
   ]
  },
  {
   "cell_type": "markdown",
   "id": "a1228853-dd19-4ab2-89e0-0394d7d72de3",
   "metadata": {},
   "source": [
    "**TA Help:** NA\n",
    "    \n",
    "**Collaboration:** NA"
   ]
  },
  {
   "cell_type": "markdown",
   "id": "6180e742-8e39-4698-98ff-5b00c8cf8ea0",
   "metadata": {},
   "source": [
    "## Question 1"
   ]
  },
  {
   "cell_type": "code",
   "execution_count": 2,
   "id": "49445606-d363-41b4-b479-e319a9a84c01",
   "metadata": {},
   "outputs": [
    {
     "data": {
      "text/html": [
       "<style>\n",
       ".list-inline {list-style: none; margin:0; padding: 0}\n",
       ".list-inline>li {display: inline-block}\n",
       ".list-inline>li:not(:last-child)::after {content: \"\\00b7\"; padding: 0 .5ex}\n",
       "</style>\n",
       "<ol class=list-inline><li>'7_dwarfs_train.csv'</li><li>'alien_saucers.csv'</li><li>'dinosaur.csv'</li><li>'entities.csv'</li><li>'expedition_everest.csv'</li><li>'flight_of_passage.csv'</li><li>'kilimanjaro_safaris.csv'</li><li>'metadata.csv'</li><li>'navi_river.csv'</li><li>'pirates_of_caribbean.csv'</li><li>'rock_n_rollercoaster.csv'</li><li>'slinky_dog.csv'</li><li>'soarin.csv'</li><li>'spaceship_earth.csv'</li><li>'splash_mountain.csv'</li><li>'total.parquet'</li><li>'touringplans_data_dictionary.xlsx'</li><li>'toy_story_mania.csv'</li><li>'update.py'</li></ol>\n"
      ],
      "text/latex": [
       "\\begin{enumerate*}\n",
       "\\item '7\\_dwarfs\\_train.csv'\n",
       "\\item 'alien\\_saucers.csv'\n",
       "\\item 'dinosaur.csv'\n",
       "\\item 'entities.csv'\n",
       "\\item 'expedition\\_everest.csv'\n",
       "\\item 'flight\\_of\\_passage.csv'\n",
       "\\item 'kilimanjaro\\_safaris.csv'\n",
       "\\item 'metadata.csv'\n",
       "\\item 'navi\\_river.csv'\n",
       "\\item 'pirates\\_of\\_caribbean.csv'\n",
       "\\item 'rock\\_n\\_rollercoaster.csv'\n",
       "\\item 'slinky\\_dog.csv'\n",
       "\\item 'soarin.csv'\n",
       "\\item 'spaceship\\_earth.csv'\n",
       "\\item 'splash\\_mountain.csv'\n",
       "\\item 'total.parquet'\n",
       "\\item 'touringplans\\_data\\_dictionary.xlsx'\n",
       "\\item 'toy\\_story\\_mania.csv'\n",
       "\\item 'update.py'\n",
       "\\end{enumerate*}\n"
      ],
      "text/markdown": [
       "1. '7_dwarfs_train.csv'\n",
       "2. 'alien_saucers.csv'\n",
       "3. 'dinosaur.csv'\n",
       "4. 'entities.csv'\n",
       "5. 'expedition_everest.csv'\n",
       "6. 'flight_of_passage.csv'\n",
       "7. 'kilimanjaro_safaris.csv'\n",
       "8. 'metadata.csv'\n",
       "9. 'navi_river.csv'\n",
       "10. 'pirates_of_caribbean.csv'\n",
       "11. 'rock_n_rollercoaster.csv'\n",
       "12. 'slinky_dog.csv'\n",
       "13. 'soarin.csv'\n",
       "14. 'spaceship_earth.csv'\n",
       "15. 'splash_mountain.csv'\n",
       "16. 'total.parquet'\n",
       "17. 'touringplans_data_dictionary.xlsx'\n",
       "18. 'toy_story_mania.csv'\n",
       "19. 'update.py'\n",
       "\n",
       "\n"
      ],
      "text/plain": [
       " [1] \"7_dwarfs_train.csv\"                \"alien_saucers.csv\"                \n",
       " [3] \"dinosaur.csv\"                      \"entities.csv\"                     \n",
       " [5] \"expedition_everest.csv\"            \"flight_of_passage.csv\"            \n",
       " [7] \"kilimanjaro_safaris.csv\"           \"metadata.csv\"                     \n",
       " [9] \"navi_river.csv\"                    \"pirates_of_caribbean.csv\"         \n",
       "[11] \"rock_n_rollercoaster.csv\"          \"slinky_dog.csv\"                   \n",
       "[13] \"soarin.csv\"                        \"spaceship_earth.csv\"              \n",
       "[15] \"splash_mountain.csv\"               \"total.parquet\"                    \n",
       "[17] \"touringplans_data_dictionary.xlsx\" \"toy_story_mania.csv\"              \n",
       "[19] \"update.py\"                        "
      ]
     },
     "metadata": {},
     "output_type": "display_data"
    },
    {
     "data": {
      "text/html": [
       "<table class=\"dataframe\">\n",
       "<caption>A data.frame: 21 x 4</caption>\n",
       "<thead>\n",
       "\t<tr><th></th><th scope=col>date</th><th scope=col>datetime</th><th scope=col>SACTMIN</th><th scope=col>SPOSTMIN</th></tr>\n",
       "\t<tr><th></th><th scope=col>&lt;fct&gt;</th><th scope=col>&lt;fct&gt;</th><th scope=col>&lt;int&gt;</th><th scope=col>&lt;int&gt;</th></tr>\n",
       "</thead>\n",
       "<tbody>\n",
       "\t<tr><th scope=row>1</th><td>01/01/2015</td><td>2015-01-01 07:51:12</td><td>NA</td><td> 45</td></tr>\n",
       "\t<tr><th scope=row>2</th><td>01/01/2015</td><td>2015-01-01 08:02:13</td><td>NA</td><td> 60</td></tr>\n",
       "\t<tr><th scope=row>3</th><td>01/01/2015</td><td>2015-01-01 08:05:30</td><td>54</td><td> NA</td></tr>\n",
       "\t<tr><th scope=row>4</th><td>01/01/2015</td><td>2015-01-01 08:09:12</td><td>NA</td><td> 60</td></tr>\n",
       "\t<tr><th scope=row>5</th><td>01/01/2015</td><td>2015-01-01 08:16:12</td><td>NA</td><td> 60</td></tr>\n",
       "\t<tr><th scope=row>6</th><td>01/01/2015</td><td>2015-01-01 08:22:16</td><td>55</td><td> NA</td></tr>\n",
       "\t<tr><th scope=row>7</th><td>01/01/2015</td><td>2015-01-01 08:23:12</td><td>NA</td><td> 60</td></tr>\n",
       "\t<tr><th scope=row>8</th><td>01/01/2015</td><td>2015-01-01 08:29:12</td><td>NA</td><td> 60</td></tr>\n",
       "\t<tr><th scope=row>9</th><td>01/01/2015</td><td>2015-01-01 08:37:13</td><td>NA</td><td> 90</td></tr>\n",
       "\t<tr><th scope=row>10</th><td>01/01/2015</td><td>2015-01-01 08:44:11</td><td>NA</td><td>105</td></tr>\n",
       "\t<tr><th scope=row>11</th><td>01/01/2015</td><td>2015-01-01 08:50:33</td><td>NA</td><td>105</td></tr>\n",
       "\t<tr><th scope=row>12</th><td>01/01/2015</td><td>2015-01-01 08:51:12</td><td>NA</td><td>105</td></tr>\n",
       "\t<tr><th scope=row>13</th><td>01/01/2015</td><td>2015-01-01 09:02:13</td><td>NA</td><td>105</td></tr>\n",
       "\t<tr><th scope=row>14</th><td>01/01/2015</td><td>2015-01-01 09:09:16</td><td>NA</td><td>105</td></tr>\n",
       "\t<tr><th scope=row>15</th><td>01/01/2015</td><td>2015-01-01 09:16:12</td><td>NA</td><td>120</td></tr>\n",
       "\t<tr><th scope=row>16</th><td>01/01/2015</td><td>2015-01-01 09:23:12</td><td>NA</td><td>120</td></tr>\n",
       "\t<tr><th scope=row>17</th><td>01/01/2015</td><td>2015-01-01 09:29:12</td><td>NA</td><td>120</td></tr>\n",
       "\t<tr><th scope=row>18</th><td>01/01/2015</td><td>2015-01-01 09:34:32</td><td>NA</td><td>120</td></tr>\n",
       "\t<tr><th scope=row>19</th><td>01/01/2015</td><td>2015-01-01 09:37:12</td><td>NA</td><td> 80</td></tr>\n",
       "\t<tr><th scope=row>20</th><td>01/01/2015</td><td>2015-01-01 09:44:11</td><td>NA</td><td> 80</td></tr>\n",
       "\t<tr><th scope=row>21</th><td>01/01/2015</td><td>2015-01-01 09:51:12</td><td>NA</td><td> 80</td></tr>\n",
       "</tbody>\n",
       "</table>\n"
      ],
      "text/latex": [
       "A data.frame: 21 x 4\n",
       "\\begin{tabular}{r|llll}\n",
       "  & date & datetime & SACTMIN & SPOSTMIN\\\\\n",
       "  & <fct> & <fct> & <int> & <int>\\\\\n",
       "\\hline\n",
       "\t1 & 01/01/2015 & 2015-01-01 07:51:12 & NA &  45\\\\\n",
       "\t2 & 01/01/2015 & 2015-01-01 08:02:13 & NA &  60\\\\\n",
       "\t3 & 01/01/2015 & 2015-01-01 08:05:30 & 54 &  NA\\\\\n",
       "\t4 & 01/01/2015 & 2015-01-01 08:09:12 & NA &  60\\\\\n",
       "\t5 & 01/01/2015 & 2015-01-01 08:16:12 & NA &  60\\\\\n",
       "\t6 & 01/01/2015 & 2015-01-01 08:22:16 & 55 &  NA\\\\\n",
       "\t7 & 01/01/2015 & 2015-01-01 08:23:12 & NA &  60\\\\\n",
       "\t8 & 01/01/2015 & 2015-01-01 08:29:12 & NA &  60\\\\\n",
       "\t9 & 01/01/2015 & 2015-01-01 08:37:13 & NA &  90\\\\\n",
       "\t10 & 01/01/2015 & 2015-01-01 08:44:11 & NA & 105\\\\\n",
       "\t11 & 01/01/2015 & 2015-01-01 08:50:33 & NA & 105\\\\\n",
       "\t12 & 01/01/2015 & 2015-01-01 08:51:12 & NA & 105\\\\\n",
       "\t13 & 01/01/2015 & 2015-01-01 09:02:13 & NA & 105\\\\\n",
       "\t14 & 01/01/2015 & 2015-01-01 09:09:16 & NA & 105\\\\\n",
       "\t15 & 01/01/2015 & 2015-01-01 09:16:12 & NA & 120\\\\\n",
       "\t16 & 01/01/2015 & 2015-01-01 09:23:12 & NA & 120\\\\\n",
       "\t17 & 01/01/2015 & 2015-01-01 09:29:12 & NA & 120\\\\\n",
       "\t18 & 01/01/2015 & 2015-01-01 09:34:32 & NA & 120\\\\\n",
       "\t19 & 01/01/2015 & 2015-01-01 09:37:12 & NA &  80\\\\\n",
       "\t20 & 01/01/2015 & 2015-01-01 09:44:11 & NA &  80\\\\\n",
       "\t21 & 01/01/2015 & 2015-01-01 09:51:12 & NA &  80\\\\\n",
       "\\end{tabular}\n"
      ],
      "text/markdown": [
       "\n",
       "A data.frame: 21 x 4\n",
       "\n",
       "| <!--/--> | date &lt;fct&gt; | datetime &lt;fct&gt; | SACTMIN &lt;int&gt; | SPOSTMIN &lt;int&gt; |\n",
       "|---|---|---|---|---|\n",
       "| 1 | 01/01/2015 | 2015-01-01 07:51:12 | NA |  45 |\n",
       "| 2 | 01/01/2015 | 2015-01-01 08:02:13 | NA |  60 |\n",
       "| 3 | 01/01/2015 | 2015-01-01 08:05:30 | 54 |  NA |\n",
       "| 4 | 01/01/2015 | 2015-01-01 08:09:12 | NA |  60 |\n",
       "| 5 | 01/01/2015 | 2015-01-01 08:16:12 | NA |  60 |\n",
       "| 6 | 01/01/2015 | 2015-01-01 08:22:16 | 55 |  NA |\n",
       "| 7 | 01/01/2015 | 2015-01-01 08:23:12 | NA |  60 |\n",
       "| 8 | 01/01/2015 | 2015-01-01 08:29:12 | NA |  60 |\n",
       "| 9 | 01/01/2015 | 2015-01-01 08:37:13 | NA |  90 |\n",
       "| 10 | 01/01/2015 | 2015-01-01 08:44:11 | NA | 105 |\n",
       "| 11 | 01/01/2015 | 2015-01-01 08:50:33 | NA | 105 |\n",
       "| 12 | 01/01/2015 | 2015-01-01 08:51:12 | NA | 105 |\n",
       "| 13 | 01/01/2015 | 2015-01-01 09:02:13 | NA | 105 |\n",
       "| 14 | 01/01/2015 | 2015-01-01 09:09:16 | NA | 105 |\n",
       "| 15 | 01/01/2015 | 2015-01-01 09:16:12 | NA | 120 |\n",
       "| 16 | 01/01/2015 | 2015-01-01 09:23:12 | NA | 120 |\n",
       "| 17 | 01/01/2015 | 2015-01-01 09:29:12 | NA | 120 |\n",
       "| 18 | 01/01/2015 | 2015-01-01 09:34:32 | NA | 120 |\n",
       "| 19 | 01/01/2015 | 2015-01-01 09:37:12 | NA |  80 |\n",
       "| 20 | 01/01/2015 | 2015-01-01 09:44:11 | NA |  80 |\n",
       "| 21 | 01/01/2015 | 2015-01-01 09:51:12 | NA |  80 |\n",
       "\n"
      ],
      "text/plain": [
       "   date       datetime            SACTMIN SPOSTMIN\n",
       "1  01/01/2015 2015-01-01 07:51:12 NA       45     \n",
       "2  01/01/2015 2015-01-01 08:02:13 NA       60     \n",
       "3  01/01/2015 2015-01-01 08:05:30 54       NA     \n",
       "4  01/01/2015 2015-01-01 08:09:12 NA       60     \n",
       "5  01/01/2015 2015-01-01 08:16:12 NA       60     \n",
       "6  01/01/2015 2015-01-01 08:22:16 55       NA     \n",
       "7  01/01/2015 2015-01-01 08:23:12 NA       60     \n",
       "8  01/01/2015 2015-01-01 08:29:12 NA       60     \n",
       "9  01/01/2015 2015-01-01 08:37:13 NA       90     \n",
       "10 01/01/2015 2015-01-01 08:44:11 NA      105     \n",
       "11 01/01/2015 2015-01-01 08:50:33 NA      105     \n",
       "12 01/01/2015 2015-01-01 08:51:12 NA      105     \n",
       "13 01/01/2015 2015-01-01 09:02:13 NA      105     \n",
       "14 01/01/2015 2015-01-01 09:09:16 NA      105     \n",
       "15 01/01/2015 2015-01-01 09:16:12 NA      120     \n",
       "16 01/01/2015 2015-01-01 09:23:12 NA      120     \n",
       "17 01/01/2015 2015-01-01 09:29:12 NA      120     \n",
       "18 01/01/2015 2015-01-01 09:34:32 NA      120     \n",
       "19 01/01/2015 2015-01-01 09:37:12 NA       80     \n",
       "20 01/01/2015 2015-01-01 09:44:11 NA       80     \n",
       "21 01/01/2015 2015-01-01 09:51:12 NA       80     "
      ]
     },
     "metadata": {},
     "output_type": "display_data"
    },
    {
     "data": {
      "text/html": [
       "<style>\n",
       ".list-inline {list-style: none; margin:0; padding: 0}\n",
       ".list-inline>li {display: inline-block}\n",
       ".list-inline>li:not(:last-child)::after {content: \"\\00b7\"; padding: 0 .5ex}\n",
       "</style>\n",
       "<ol class=list-inline><li>321631</li><li>4</li></ol>\n"
      ],
      "text/latex": [
       "\\begin{enumerate*}\n",
       "\\item 321631\n",
       "\\item 4\n",
       "\\end{enumerate*}\n"
      ],
      "text/markdown": [
       "1. 321631\n",
       "2. 4\n",
       "\n",
       "\n"
      ],
      "text/plain": [
       "[1] 321631      4"
      ]
     },
     "metadata": {},
     "output_type": "display_data"
    },
    {
     "name": "stdout",
     "output_type": "stream",
     "text": [
      "'data.frame':\t321631 obs. of  4 variables:\n",
      " $ date    : Factor w/ 2334 levels \"01/01/2015\",\"01/01/2016\",..: 1 1 1 1 1 1 1 1 1 1 ...\n",
      " $ datetime: Factor w/ 321586 levels \"2015-01-01 07:51:12\",..: 1 2 3 4 5 6 7 8 9 10 ...\n",
      " $ SACTMIN : int  NA NA 54 NA NA 55 NA NA NA NA ...\n",
      " $ SPOSTMIN: int  45 60 NA 60 60 NA 60 60 90 105 ...\n"
     ]
    }
   ],
   "source": [
    "list.files(\"/anvil/projects/tdm/data/disney\")\n",
    "myDF <- read.csv(\"/anvil/projects/tdm/data/disney/7_dwarfs_train.csv\", stringsAsFactors = TRUE)\n",
    "head(myDF, n=21)\n",
    "dim(myDF)\n",
    "str(myDF)"
   ]
  },
  {
   "cell_type": "markdown",
   "id": "b456e57c-4a12-464b-999a-ef2df5af80c1",
   "metadata": {},
   "source": [
    "The data has 321,631 rows and 4 columns. It consists of integers and strings which describe dates, times, and minutes."
   ]
  },
  {
   "cell_type": "markdown",
   "id": "fc601975-35ed-4680-a4e1-0273ee3cc047",
   "metadata": {},
   "source": [
    "## Question 2"
   ]
  },
  {
   "cell_type": "code",
   "execution_count": 3,
   "id": "a16336a1-1ef0-41e8-bc7c-49387db27497",
   "metadata": {},
   "outputs": [
    {
     "data": {
      "text/plain": [
       "\n",
       " -999     0     5    10    15    20    25    30    35    40    45    50    55 \n",
       "23062    32   897  1306   914  3638  2166 13939  4894 14941 15149 19555  6989 \n",
       "   60    65    70    75    80    85    90    95   100   105   110   115   120 \n",
       "29034 10345 23496 12101 22971  5301 23813  6853 10773  8164 11909  3000 13097 \n",
       "  125   130   135   140   145   150   155   160   165   170   175   180   185 \n",
       " 1954  5982  1723  4151   940  3793   394  1739   520  1031   272  1644   163 \n",
       "  190   195   200   205   210   215   220   225   230   235   240   250   260 \n",
       "  375   128   249   100   257    11    88    26    26    17    37    17    10 \n",
       "  270   280   300  <NA> \n",
       "    6     2     2  7635 "
      ]
     },
     "metadata": {},
     "output_type": "display_data"
    },
    {
     "data": {
      "text/html": [
       "7635"
      ],
      "text/latex": [
       "7635"
      ],
      "text/markdown": [
       "7635"
      ],
      "text/plain": [
       "[1] 7635"
      ]
     },
     "metadata": {},
     "output_type": "display_data"
    }
   ],
   "source": [
    "table(myDF$SPOSTMIN, useNA=\"always\")\n",
    "sum(is.na(myDF$SPOSTMIN))"
   ]
  },
  {
   "cell_type": "code",
   "execution_count": 4,
   "id": "f0213788-c14e-48e1-a8bc-4ba78a78ae56",
   "metadata": {},
   "outputs": [
    {
     "data": {
      "text/html": [
       "<table class=\"dataframe\">\n",
       "<caption>A data.frame: 50 x 4</caption>\n",
       "<thead>\n",
       "\t<tr><th></th><th scope=col>date</th><th scope=col>datetime</th><th scope=col>SACTMIN</th><th scope=col>SPOSTMIN</th></tr>\n",
       "\t<tr><th></th><th scope=col>&lt;fct&gt;</th><th scope=col>&lt;fct&gt;</th><th scope=col>&lt;int&gt;</th><th scope=col>&lt;int&gt;</th></tr>\n",
       "</thead>\n",
       "<tbody>\n",
       "\t<tr><th scope=row>1</th><td>01/01/2015</td><td>2015-01-01 07:51:12</td><td>NA</td><td> 45</td></tr>\n",
       "\t<tr><th scope=row>2</th><td>01/01/2015</td><td>2015-01-01 08:02:13</td><td>NA</td><td> 60</td></tr>\n",
       "\t<tr><th scope=row>4</th><td>01/01/2015</td><td>2015-01-01 08:09:12</td><td>NA</td><td> 60</td></tr>\n",
       "\t<tr><th scope=row>5</th><td>01/01/2015</td><td>2015-01-01 08:16:12</td><td>NA</td><td> 60</td></tr>\n",
       "\t<tr><th scope=row>7</th><td>01/01/2015</td><td>2015-01-01 08:23:12</td><td>NA</td><td> 60</td></tr>\n",
       "\t<tr><th scope=row>8</th><td>01/01/2015</td><td>2015-01-01 08:29:12</td><td>NA</td><td> 60</td></tr>\n",
       "\t<tr><th scope=row>9</th><td>01/01/2015</td><td>2015-01-01 08:37:13</td><td>NA</td><td> 90</td></tr>\n",
       "\t<tr><th scope=row>10</th><td>01/01/2015</td><td>2015-01-01 08:44:11</td><td>NA</td><td>105</td></tr>\n",
       "\t<tr><th scope=row>11</th><td>01/01/2015</td><td>2015-01-01 08:50:33</td><td>NA</td><td>105</td></tr>\n",
       "\t<tr><th scope=row>12</th><td>01/01/2015</td><td>2015-01-01 08:51:12</td><td>NA</td><td>105</td></tr>\n",
       "\t<tr><th scope=row>13</th><td>01/01/2015</td><td>2015-01-01 09:02:13</td><td>NA</td><td>105</td></tr>\n",
       "\t<tr><th scope=row>14</th><td>01/01/2015</td><td>2015-01-01 09:09:16</td><td>NA</td><td>105</td></tr>\n",
       "\t<tr><th scope=row>15</th><td>01/01/2015</td><td>2015-01-01 09:16:12</td><td>NA</td><td>120</td></tr>\n",
       "\t<tr><th scope=row>16</th><td>01/01/2015</td><td>2015-01-01 09:23:12</td><td>NA</td><td>120</td></tr>\n",
       "\t<tr><th scope=row>17</th><td>01/01/2015</td><td>2015-01-01 09:29:12</td><td>NA</td><td>120</td></tr>\n",
       "\t<tr><th scope=row>18</th><td>01/01/2015</td><td>2015-01-01 09:34:32</td><td>NA</td><td>120</td></tr>\n",
       "\t<tr><th scope=row>19</th><td>01/01/2015</td><td>2015-01-01 09:37:12</td><td>NA</td><td> 80</td></tr>\n",
       "\t<tr><th scope=row>20</th><td>01/01/2015</td><td>2015-01-01 09:44:11</td><td>NA</td><td> 80</td></tr>\n",
       "\t<tr><th scope=row>21</th><td>01/01/2015</td><td>2015-01-01 09:51:12</td><td>NA</td><td> 80</td></tr>\n",
       "\t<tr><th scope=row>22</th><td>01/01/2015</td><td>2015-01-01 10:02:14</td><td>NA</td><td> 90</td></tr>\n",
       "\t<tr><th scope=row>23</th><td>01/01/2015</td><td>2015-01-01 10:09:12</td><td>NA</td><td> 90</td></tr>\n",
       "\t<tr><th scope=row>24</th><td>01/01/2015</td><td>2015-01-01 10:16:12</td><td>NA</td><td> 90</td></tr>\n",
       "\t<tr><th scope=row>25</th><td>01/01/2015</td><td>2015-01-01 10:23:11</td><td>NA</td><td> 90</td></tr>\n",
       "\t<tr><th scope=row>26</th><td>01/01/2015</td><td>2015-01-01 10:29:13</td><td>NA</td><td> 90</td></tr>\n",
       "\t<tr><th scope=row>27</th><td>01/01/2015</td><td>2015-01-01 10:37:13</td><td>NA</td><td> 90</td></tr>\n",
       "\t<tr><th scope=row>28</th><td>01/01/2015</td><td>2015-01-01 10:44:13</td><td>NA</td><td> 80</td></tr>\n",
       "\t<tr><th scope=row>29</th><td>01/01/2015</td><td>2015-01-01 10:51:13</td><td>NA</td><td> 80</td></tr>\n",
       "\t<tr><th scope=row>30</th><td>01/01/2015</td><td>2015-01-01 11:02:14</td><td>NA</td><td> 80</td></tr>\n",
       "\t<tr><th scope=row>31</th><td>01/01/2015</td><td>2015-01-01 11:09:14</td><td>NA</td><td> 80</td></tr>\n",
       "\t<tr><th scope=row>32</th><td>01/01/2015</td><td>2015-01-01 11:12:55</td><td>NA</td><td> 80</td></tr>\n",
       "\t<tr><th scope=row>33</th><td>01/01/2015</td><td>2015-01-01 11:16:13</td><td>NA</td><td> 80</td></tr>\n",
       "\t<tr><th scope=row>34</th><td>01/01/2015</td><td>2015-01-01 11:23:13</td><td>NA</td><td> 80</td></tr>\n",
       "\t<tr><th scope=row>35</th><td>01/01/2015</td><td>2015-01-01 11:29:13</td><td>NA</td><td> 90</td></tr>\n",
       "\t<tr><th scope=row>36</th><td>01/01/2015</td><td>2015-01-01 11:37:13</td><td>NA</td><td> 90</td></tr>\n",
       "\t<tr><th scope=row>37</th><td>01/01/2015</td><td>2015-01-01 11:44:13</td><td>NA</td><td> 90</td></tr>\n",
       "\t<tr><th scope=row>38</th><td>01/01/2015</td><td>2015-01-01 11:51:12</td><td>NA</td><td>100</td></tr>\n",
       "\t<tr><th scope=row>39</th><td>01/01/2015</td><td>2015-01-01 12:02:14</td><td>NA</td><td>100</td></tr>\n",
       "\t<tr><th scope=row>40</th><td>01/01/2015</td><td>2015-01-01 12:09:14</td><td>NA</td><td>120</td></tr>\n",
       "\t<tr><th scope=row>41</th><td>01/01/2015</td><td>2015-01-01 12:16:12</td><td>NA</td><td>150</td></tr>\n",
       "\t<tr><th scope=row>42</th><td>01/01/2015</td><td>2015-01-01 12:23:12</td><td>NA</td><td>120</td></tr>\n",
       "\t<tr><th scope=row>43</th><td>01/01/2015</td><td>2015-01-01 12:29:12</td><td>NA</td><td>120</td></tr>\n",
       "\t<tr><th scope=row>44</th><td>01/01/2015</td><td>2015-01-01 12:37:16</td><td>NA</td><td>120</td></tr>\n",
       "\t<tr><th scope=row>45</th><td>01/01/2015</td><td>2015-01-01 12:43:18</td><td>NA</td><td>120</td></tr>\n",
       "\t<tr><th scope=row>46</th><td>01/01/2015</td><td>2015-01-01 12:44:13</td><td>NA</td><td>120</td></tr>\n",
       "\t<tr><th scope=row>47</th><td>01/01/2015</td><td>2015-01-01 12:51:12</td><td>NA</td><td>120</td></tr>\n",
       "\t<tr><th scope=row>48</th><td>01/01/2015</td><td>2015-01-01 13:02:14</td><td>NA</td><td>120</td></tr>\n",
       "\t<tr><th scope=row>49</th><td>01/01/2015</td><td>2015-01-01 13:09:23</td><td>NA</td><td>120</td></tr>\n",
       "\t<tr><th scope=row>50</th><td>01/01/2015</td><td>2015-01-01 13:16:13</td><td>NA</td><td>120</td></tr>\n",
       "\t<tr><th scope=row>51</th><td>01/01/2015</td><td>2015-01-01 13:19:19</td><td>NA</td><td>120</td></tr>\n",
       "\t<tr><th scope=row>52</th><td>01/01/2015</td><td>2015-01-01 13:23:13</td><td>NA</td><td>120</td></tr>\n",
       "</tbody>\n",
       "</table>\n"
      ],
      "text/latex": [
       "A data.frame: 50 x 4\n",
       "\\begin{tabular}{r|llll}\n",
       "  & date & datetime & SACTMIN & SPOSTMIN\\\\\n",
       "  & <fct> & <fct> & <int> & <int>\\\\\n",
       "\\hline\n",
       "\t1 & 01/01/2015 & 2015-01-01 07:51:12 & NA &  45\\\\\n",
       "\t2 & 01/01/2015 & 2015-01-01 08:02:13 & NA &  60\\\\\n",
       "\t4 & 01/01/2015 & 2015-01-01 08:09:12 & NA &  60\\\\\n",
       "\t5 & 01/01/2015 & 2015-01-01 08:16:12 & NA &  60\\\\\n",
       "\t7 & 01/01/2015 & 2015-01-01 08:23:12 & NA &  60\\\\\n",
       "\t8 & 01/01/2015 & 2015-01-01 08:29:12 & NA &  60\\\\\n",
       "\t9 & 01/01/2015 & 2015-01-01 08:37:13 & NA &  90\\\\\n",
       "\t10 & 01/01/2015 & 2015-01-01 08:44:11 & NA & 105\\\\\n",
       "\t11 & 01/01/2015 & 2015-01-01 08:50:33 & NA & 105\\\\\n",
       "\t12 & 01/01/2015 & 2015-01-01 08:51:12 & NA & 105\\\\\n",
       "\t13 & 01/01/2015 & 2015-01-01 09:02:13 & NA & 105\\\\\n",
       "\t14 & 01/01/2015 & 2015-01-01 09:09:16 & NA & 105\\\\\n",
       "\t15 & 01/01/2015 & 2015-01-01 09:16:12 & NA & 120\\\\\n",
       "\t16 & 01/01/2015 & 2015-01-01 09:23:12 & NA & 120\\\\\n",
       "\t17 & 01/01/2015 & 2015-01-01 09:29:12 & NA & 120\\\\\n",
       "\t18 & 01/01/2015 & 2015-01-01 09:34:32 & NA & 120\\\\\n",
       "\t19 & 01/01/2015 & 2015-01-01 09:37:12 & NA &  80\\\\\n",
       "\t20 & 01/01/2015 & 2015-01-01 09:44:11 & NA &  80\\\\\n",
       "\t21 & 01/01/2015 & 2015-01-01 09:51:12 & NA &  80\\\\\n",
       "\t22 & 01/01/2015 & 2015-01-01 10:02:14 & NA &  90\\\\\n",
       "\t23 & 01/01/2015 & 2015-01-01 10:09:12 & NA &  90\\\\\n",
       "\t24 & 01/01/2015 & 2015-01-01 10:16:12 & NA &  90\\\\\n",
       "\t25 & 01/01/2015 & 2015-01-01 10:23:11 & NA &  90\\\\\n",
       "\t26 & 01/01/2015 & 2015-01-01 10:29:13 & NA &  90\\\\\n",
       "\t27 & 01/01/2015 & 2015-01-01 10:37:13 & NA &  90\\\\\n",
       "\t28 & 01/01/2015 & 2015-01-01 10:44:13 & NA &  80\\\\\n",
       "\t29 & 01/01/2015 & 2015-01-01 10:51:13 & NA &  80\\\\\n",
       "\t30 & 01/01/2015 & 2015-01-01 11:02:14 & NA &  80\\\\\n",
       "\t31 & 01/01/2015 & 2015-01-01 11:09:14 & NA &  80\\\\\n",
       "\t32 & 01/01/2015 & 2015-01-01 11:12:55 & NA &  80\\\\\n",
       "\t33 & 01/01/2015 & 2015-01-01 11:16:13 & NA &  80\\\\\n",
       "\t34 & 01/01/2015 & 2015-01-01 11:23:13 & NA &  80\\\\\n",
       "\t35 & 01/01/2015 & 2015-01-01 11:29:13 & NA &  90\\\\\n",
       "\t36 & 01/01/2015 & 2015-01-01 11:37:13 & NA &  90\\\\\n",
       "\t37 & 01/01/2015 & 2015-01-01 11:44:13 & NA &  90\\\\\n",
       "\t38 & 01/01/2015 & 2015-01-01 11:51:12 & NA & 100\\\\\n",
       "\t39 & 01/01/2015 & 2015-01-01 12:02:14 & NA & 100\\\\\n",
       "\t40 & 01/01/2015 & 2015-01-01 12:09:14 & NA & 120\\\\\n",
       "\t41 & 01/01/2015 & 2015-01-01 12:16:12 & NA & 150\\\\\n",
       "\t42 & 01/01/2015 & 2015-01-01 12:23:12 & NA & 120\\\\\n",
       "\t43 & 01/01/2015 & 2015-01-01 12:29:12 & NA & 120\\\\\n",
       "\t44 & 01/01/2015 & 2015-01-01 12:37:16 & NA & 120\\\\\n",
       "\t45 & 01/01/2015 & 2015-01-01 12:43:18 & NA & 120\\\\\n",
       "\t46 & 01/01/2015 & 2015-01-01 12:44:13 & NA & 120\\\\\n",
       "\t47 & 01/01/2015 & 2015-01-01 12:51:12 & NA & 120\\\\\n",
       "\t48 & 01/01/2015 & 2015-01-01 13:02:14 & NA & 120\\\\\n",
       "\t49 & 01/01/2015 & 2015-01-01 13:09:23 & NA & 120\\\\\n",
       "\t50 & 01/01/2015 & 2015-01-01 13:16:13 & NA & 120\\\\\n",
       "\t51 & 01/01/2015 & 2015-01-01 13:19:19 & NA & 120\\\\\n",
       "\t52 & 01/01/2015 & 2015-01-01 13:23:13 & NA & 120\\\\\n",
       "\\end{tabular}\n"
      ],
      "text/markdown": [
       "\n",
       "A data.frame: 50 x 4\n",
       "\n",
       "| <!--/--> | date &lt;fct&gt; | datetime &lt;fct&gt; | SACTMIN &lt;int&gt; | SPOSTMIN &lt;int&gt; |\n",
       "|---|---|---|---|---|\n",
       "| 1 | 01/01/2015 | 2015-01-01 07:51:12 | NA |  45 |\n",
       "| 2 | 01/01/2015 | 2015-01-01 08:02:13 | NA |  60 |\n",
       "| 4 | 01/01/2015 | 2015-01-01 08:09:12 | NA |  60 |\n",
       "| 5 | 01/01/2015 | 2015-01-01 08:16:12 | NA |  60 |\n",
       "| 7 | 01/01/2015 | 2015-01-01 08:23:12 | NA |  60 |\n",
       "| 8 | 01/01/2015 | 2015-01-01 08:29:12 | NA |  60 |\n",
       "| 9 | 01/01/2015 | 2015-01-01 08:37:13 | NA |  90 |\n",
       "| 10 | 01/01/2015 | 2015-01-01 08:44:11 | NA | 105 |\n",
       "| 11 | 01/01/2015 | 2015-01-01 08:50:33 | NA | 105 |\n",
       "| 12 | 01/01/2015 | 2015-01-01 08:51:12 | NA | 105 |\n",
       "| 13 | 01/01/2015 | 2015-01-01 09:02:13 | NA | 105 |\n",
       "| 14 | 01/01/2015 | 2015-01-01 09:09:16 | NA | 105 |\n",
       "| 15 | 01/01/2015 | 2015-01-01 09:16:12 | NA | 120 |\n",
       "| 16 | 01/01/2015 | 2015-01-01 09:23:12 | NA | 120 |\n",
       "| 17 | 01/01/2015 | 2015-01-01 09:29:12 | NA | 120 |\n",
       "| 18 | 01/01/2015 | 2015-01-01 09:34:32 | NA | 120 |\n",
       "| 19 | 01/01/2015 | 2015-01-01 09:37:12 | NA |  80 |\n",
       "| 20 | 01/01/2015 | 2015-01-01 09:44:11 | NA |  80 |\n",
       "| 21 | 01/01/2015 | 2015-01-01 09:51:12 | NA |  80 |\n",
       "| 22 | 01/01/2015 | 2015-01-01 10:02:14 | NA |  90 |\n",
       "| 23 | 01/01/2015 | 2015-01-01 10:09:12 | NA |  90 |\n",
       "| 24 | 01/01/2015 | 2015-01-01 10:16:12 | NA |  90 |\n",
       "| 25 | 01/01/2015 | 2015-01-01 10:23:11 | NA |  90 |\n",
       "| 26 | 01/01/2015 | 2015-01-01 10:29:13 | NA |  90 |\n",
       "| 27 | 01/01/2015 | 2015-01-01 10:37:13 | NA |  90 |\n",
       "| 28 | 01/01/2015 | 2015-01-01 10:44:13 | NA |  80 |\n",
       "| 29 | 01/01/2015 | 2015-01-01 10:51:13 | NA |  80 |\n",
       "| 30 | 01/01/2015 | 2015-01-01 11:02:14 | NA |  80 |\n",
       "| 31 | 01/01/2015 | 2015-01-01 11:09:14 | NA |  80 |\n",
       "| 32 | 01/01/2015 | 2015-01-01 11:12:55 | NA |  80 |\n",
       "| 33 | 01/01/2015 | 2015-01-01 11:16:13 | NA |  80 |\n",
       "| 34 | 01/01/2015 | 2015-01-01 11:23:13 | NA |  80 |\n",
       "| 35 | 01/01/2015 | 2015-01-01 11:29:13 | NA |  90 |\n",
       "| 36 | 01/01/2015 | 2015-01-01 11:37:13 | NA |  90 |\n",
       "| 37 | 01/01/2015 | 2015-01-01 11:44:13 | NA |  90 |\n",
       "| 38 | 01/01/2015 | 2015-01-01 11:51:12 | NA | 100 |\n",
       "| 39 | 01/01/2015 | 2015-01-01 12:02:14 | NA | 100 |\n",
       "| 40 | 01/01/2015 | 2015-01-01 12:09:14 | NA | 120 |\n",
       "| 41 | 01/01/2015 | 2015-01-01 12:16:12 | NA | 150 |\n",
       "| 42 | 01/01/2015 | 2015-01-01 12:23:12 | NA | 120 |\n",
       "| 43 | 01/01/2015 | 2015-01-01 12:29:12 | NA | 120 |\n",
       "| 44 | 01/01/2015 | 2015-01-01 12:37:16 | NA | 120 |\n",
       "| 45 | 01/01/2015 | 2015-01-01 12:43:18 | NA | 120 |\n",
       "| 46 | 01/01/2015 | 2015-01-01 12:44:13 | NA | 120 |\n",
       "| 47 | 01/01/2015 | 2015-01-01 12:51:12 | NA | 120 |\n",
       "| 48 | 01/01/2015 | 2015-01-01 13:02:14 | NA | 120 |\n",
       "| 49 | 01/01/2015 | 2015-01-01 13:09:23 | NA | 120 |\n",
       "| 50 | 01/01/2015 | 2015-01-01 13:16:13 | NA | 120 |\n",
       "| 51 | 01/01/2015 | 2015-01-01 13:19:19 | NA | 120 |\n",
       "| 52 | 01/01/2015 | 2015-01-01 13:23:13 | NA | 120 |\n",
       "\n"
      ],
      "text/plain": [
       "   date       datetime            SACTMIN SPOSTMIN\n",
       "1  01/01/2015 2015-01-01 07:51:12 NA       45     \n",
       "2  01/01/2015 2015-01-01 08:02:13 NA       60     \n",
       "4  01/01/2015 2015-01-01 08:09:12 NA       60     \n",
       "5  01/01/2015 2015-01-01 08:16:12 NA       60     \n",
       "7  01/01/2015 2015-01-01 08:23:12 NA       60     \n",
       "8  01/01/2015 2015-01-01 08:29:12 NA       60     \n",
       "9  01/01/2015 2015-01-01 08:37:13 NA       90     \n",
       "10 01/01/2015 2015-01-01 08:44:11 NA      105     \n",
       "11 01/01/2015 2015-01-01 08:50:33 NA      105     \n",
       "12 01/01/2015 2015-01-01 08:51:12 NA      105     \n",
       "13 01/01/2015 2015-01-01 09:02:13 NA      105     \n",
       "14 01/01/2015 2015-01-01 09:09:16 NA      105     \n",
       "15 01/01/2015 2015-01-01 09:16:12 NA      120     \n",
       "16 01/01/2015 2015-01-01 09:23:12 NA      120     \n",
       "17 01/01/2015 2015-01-01 09:29:12 NA      120     \n",
       "18 01/01/2015 2015-01-01 09:34:32 NA      120     \n",
       "19 01/01/2015 2015-01-01 09:37:12 NA       80     \n",
       "20 01/01/2015 2015-01-01 09:44:11 NA       80     \n",
       "21 01/01/2015 2015-01-01 09:51:12 NA       80     \n",
       "22 01/01/2015 2015-01-01 10:02:14 NA       90     \n",
       "23 01/01/2015 2015-01-01 10:09:12 NA       90     \n",
       "24 01/01/2015 2015-01-01 10:16:12 NA       90     \n",
       "25 01/01/2015 2015-01-01 10:23:11 NA       90     \n",
       "26 01/01/2015 2015-01-01 10:29:13 NA       90     \n",
       "27 01/01/2015 2015-01-01 10:37:13 NA       90     \n",
       "28 01/01/2015 2015-01-01 10:44:13 NA       80     \n",
       "29 01/01/2015 2015-01-01 10:51:13 NA       80     \n",
       "30 01/01/2015 2015-01-01 11:02:14 NA       80     \n",
       "31 01/01/2015 2015-01-01 11:09:14 NA       80     \n",
       "32 01/01/2015 2015-01-01 11:12:55 NA       80     \n",
       "33 01/01/2015 2015-01-01 11:16:13 NA       80     \n",
       "34 01/01/2015 2015-01-01 11:23:13 NA       80     \n",
       "35 01/01/2015 2015-01-01 11:29:13 NA       90     \n",
       "36 01/01/2015 2015-01-01 11:37:13 NA       90     \n",
       "37 01/01/2015 2015-01-01 11:44:13 NA       90     \n",
       "38 01/01/2015 2015-01-01 11:51:12 NA      100     \n",
       "39 01/01/2015 2015-01-01 12:02:14 NA      100     \n",
       "40 01/01/2015 2015-01-01 12:09:14 NA      120     \n",
       "41 01/01/2015 2015-01-01 12:16:12 NA      150     \n",
       "42 01/01/2015 2015-01-01 12:23:12 NA      120     \n",
       "43 01/01/2015 2015-01-01 12:29:12 NA      120     \n",
       "44 01/01/2015 2015-01-01 12:37:16 NA      120     \n",
       "45 01/01/2015 2015-01-01 12:43:18 NA      120     \n",
       "46 01/01/2015 2015-01-01 12:44:13 NA      120     \n",
       "47 01/01/2015 2015-01-01 12:51:12 NA      120     \n",
       "48 01/01/2015 2015-01-01 13:02:14 NA      120     \n",
       "49 01/01/2015 2015-01-01 13:09:23 NA      120     \n",
       "50 01/01/2015 2015-01-01 13:16:13 NA      120     \n",
       "51 01/01/2015 2015-01-01 13:19:19 NA      120     \n",
       "52 01/01/2015 2015-01-01 13:23:13 NA      120     "
      ]
     },
     "metadata": {},
     "output_type": "display_data"
    }
   ],
   "source": [
    "## Kernel throwing error, solved by rereading csv into myDF again\n",
    "myDF <- read.csv(\"/anvil/projects/tdm/data/disney/7_dwarfs_train.csv\", stringsAsFactors=TRUE)\n",
    "newDF <- subset(myDF, !is.na(myDF$SPOSTMIN))\n",
    "head(newDF, n=50)"
   ]
  },
  {
   "cell_type": "markdown",
   "id": "14dc22d4-ddc3-41cc-a91a-cb0025bc0c80",
   "metadata": {},
   "source": [
    "a. The increments of time are all multiples of 5. There are also NA values in the column as well as 23,062 values of -999. In total, there are 56 wait time options.\n",
    "\n",
    "b. There are 7,635 NA values.\n",
    "\n",
    "c. program code above"
   ]
  },
  {
   "cell_type": "markdown",
   "id": "8e586edd-ff26-4ce2-8f6b-2424b26f2929",
   "metadata": {},
   "source": [
    "## Question 3"
   ]
  },
  {
   "cell_type": "code",
   "execution_count": 85,
   "id": "bbe0f40d-9655-4653-9ca8-886bdb61cb91",
   "metadata": {},
   "outputs": [
    {
     "data": {
      "text/html": [
       "156"
      ],
      "text/latex": [
       "156"
      ],
      "text/markdown": [
       "156"
      ],
      "text/plain": [
       "[1] 156"
      ]
     },
     "metadata": {},
     "output_type": "display_data"
    },
    {
     "data": {
      "text/html": [
       "48"
      ],
      "text/latex": [
       "48"
      ],
      "text/markdown": [
       "48"
      ],
      "text/plain": [
       "[1] 48"
      ]
     },
     "metadata": {},
     "output_type": "display_data"
    },
    {
     "data": {
      "text/html": [
       "30"
      ],
      "text/latex": [
       "30"
      ],
      "text/markdown": [
       "30"
      ],
      "text/plain": [
       "[1] 30"
      ]
     },
     "metadata": {},
     "output_type": "display_data"
    }
   ],
   "source": [
    "length(myDF$date[myDF$date == \"12/25/2021\"])\n",
    "mean(myDF$SACTMIN[myDF$date == \"12/25/2021\"], na.rm=TRUE)\n",
    "mean(myDF$SACTMIN[myDF$date == \"05/26/2021\"], na.rm=TRUE)"
   ]
  },
  {
   "cell_type": "code",
   "execution_count": 6,
   "id": "24f62110-81f2-4019-9eff-75b88aea89e7",
   "metadata": {},
   "outputs": [
    {
     "data": {
      "text/html": [
       "<table class=\"dataframe\">\n",
       "<caption>A data.frame: 6 x 4</caption>\n",
       "<thead>\n",
       "\t<tr><th></th><th scope=col>date</th><th scope=col>datetime</th><th scope=col>SACTMIN</th><th scope=col>SPOSTMIN</th></tr>\n",
       "\t<tr><th></th><th scope=col>&lt;fct&gt;</th><th scope=col>&lt;fct&gt;</th><th scope=col>&lt;int&gt;</th><th scope=col>&lt;int&gt;</th></tr>\n",
       "</thead>\n",
       "<tbody>\n",
       "\t<tr><th scope=row>1</th><td>01/01/2015</td><td>2015-01-01 07:51:12</td><td>NA</td><td>45</td></tr>\n",
       "\t<tr><th scope=row>2</th><td>01/01/2015</td><td>2015-01-01 08:02:13</td><td>NA</td><td>60</td></tr>\n",
       "\t<tr><th scope=row>3</th><td>01/01/2015</td><td>2015-01-01 08:05:30</td><td>54</td><td>NA</td></tr>\n",
       "\t<tr><th scope=row>4</th><td>01/01/2015</td><td>2015-01-01 08:09:12</td><td>NA</td><td>60</td></tr>\n",
       "\t<tr><th scope=row>5</th><td>01/01/2015</td><td>2015-01-01 08:16:12</td><td>NA</td><td>60</td></tr>\n",
       "\t<tr><th scope=row>6</th><td>01/01/2015</td><td>2015-01-01 08:22:16</td><td>55</td><td>NA</td></tr>\n",
       "</tbody>\n",
       "</table>\n"
      ],
      "text/latex": [
       "A data.frame: 6 x 4\n",
       "\\begin{tabular}{r|llll}\n",
       "  & date & datetime & SACTMIN & SPOSTMIN\\\\\n",
       "  & <fct> & <fct> & <int> & <int>\\\\\n",
       "\\hline\n",
       "\t1 & 01/01/2015 & 2015-01-01 07:51:12 & NA & 45\\\\\n",
       "\t2 & 01/01/2015 & 2015-01-01 08:02:13 & NA & 60\\\\\n",
       "\t3 & 01/01/2015 & 2015-01-01 08:05:30 & 54 & NA\\\\\n",
       "\t4 & 01/01/2015 & 2015-01-01 08:09:12 & NA & 60\\\\\n",
       "\t5 & 01/01/2015 & 2015-01-01 08:16:12 & NA & 60\\\\\n",
       "\t6 & 01/01/2015 & 2015-01-01 08:22:16 & 55 & NA\\\\\n",
       "\\end{tabular}\n"
      ],
      "text/markdown": [
       "\n",
       "A data.frame: 6 x 4\n",
       "\n",
       "| <!--/--> | date &lt;fct&gt; | datetime &lt;fct&gt; | SACTMIN &lt;int&gt; | SPOSTMIN &lt;int&gt; |\n",
       "|---|---|---|---|---|\n",
       "| 1 | 01/01/2015 | 2015-01-01 07:51:12 | NA | 45 |\n",
       "| 2 | 01/01/2015 | 2015-01-01 08:02:13 | NA | 60 |\n",
       "| 3 | 01/01/2015 | 2015-01-01 08:05:30 | 54 | NA |\n",
       "| 4 | 01/01/2015 | 2015-01-01 08:09:12 | NA | 60 |\n",
       "| 5 | 01/01/2015 | 2015-01-01 08:16:12 | NA | 60 |\n",
       "| 6 | 01/01/2015 | 2015-01-01 08:22:16 | 55 | NA |\n",
       "\n"
      ],
      "text/plain": [
       "  date       datetime            SACTMIN SPOSTMIN\n",
       "1 01/01/2015 2015-01-01 07:51:12 NA      45      \n",
       "2 01/01/2015 2015-01-01 08:02:13 NA      60      \n",
       "3 01/01/2015 2015-01-01 08:05:30 54      NA      \n",
       "4 01/01/2015 2015-01-01 08:09:12 NA      60      \n",
       "5 01/01/2015 2015-01-01 08:16:12 NA      60      \n",
       "6 01/01/2015 2015-01-01 08:22:16 55      NA      "
      ]
     },
     "metadata": {},
     "output_type": "display_data"
    }
   ],
   "source": [
    "head(myDF)"
   ]
  },
  {
   "cell_type": "code",
   "execution_count": 78,
   "id": "df23dba0-f26b-4ec1-b1bf-a52415bb5e1e",
   "metadata": {},
   "outputs": [
    {
     "data": {
      "text/html": [
       "91.578313253012"
      ],
      "text/latex": [
       "91.578313253012"
      ],
      "text/markdown": [
       "91.578313253012"
      ],
      "text/plain": [
       "[1] 91.57831"
      ]
     },
     "metadata": {},
     "output_type": "display_data"
    },
    {
     "data": {
      "text/html": [
       "63.5409663865546"
      ],
      "text/latex": [
       "63.5409663865546"
      ],
      "text/markdown": [
       "63.5409663865546"
      ],
      "text/plain": [
       "[1] 63.54097"
      ]
     },
     "metadata": {},
     "output_type": "display_data"
    },
    {
     "data": {
      "text/html": [
       "76.1353754940711"
      ],
      "text/latex": [
       "76.1353754940711"
      ],
      "text/markdown": [
       "76.1353754940711"
      ],
      "text/plain": [
       "[1] 76.13538"
      ]
     },
     "metadata": {},
     "output_type": "display_data"
    }
   ],
   "source": [
    "jul4DF <- myDF$SPOSTMIN[substr(myDF$date, 0, 5) == \"07/04\" & myDF$SPOSTMIN != -999]\n",
    "nyDF <- myDF$SPOSTMIN[substr(myDF$date, 0, 5) == \"01/01\"]\n",
    "christmasDF <- myDF$SPOSTMIN[substr(myDF$date, 0, 5) == \"12/25\"]\n",
    "\n",
    "mean(na.omit(jul4DF))\n",
    "mean(na.omit(nyDF))\n",
    "mean(na.omit(christmasDF))"
   ]
  },
  {
   "cell_type": "code",
   "execution_count": 7,
   "id": "10c9fbae-7aad-48ae-8279-01c4481f4f2f",
   "metadata": {},
   "outputs": [
    {
     "data": {
      "text/html": [
       "<style>\n",
       ".dl-inline {width: auto; margin:0; padding: 0}\n",
       ".dl-inline>dt, .dl-inline>dd {float: none; width: auto; display: inline-block}\n",
       ".dl-inline>dt::after {content: \":\\0020\"; padding-right: .5ex}\n",
       ".dl-inline>dt:not(:first-of-type) {padding-left: .5ex}\n",
       "</style><dl class=dl-inline><dt>11/08/2021</dt><dd>363</dd><dt>10/01/2021</dt><dd>359</dd><dt>11/09/2021</dt><dd>344</dd><dt>10/29/2021</dt><dd>333</dd><dt>10/15/2021</dt><dd>332</dd><dt>10/10/2021</dt><dd>330</dd><dt>10/05/2021</dt><dd>329</dd><dt>10/17/2021</dt><dd>327</dd><dt>10/20/2021</dt><dd>327</dd><dt>10/08/2021</dt><dd>323</dd><dt>10/31/2021</dt><dd>323</dd><dt>10/12/2021</dt><dd>321</dd><dt>10/24/2021</dt><dd>320</dd><dt>11/03/2021</dt><dd>320</dd><dt>10/03/2021</dt><dd>318</dd><dt>10/19/2021</dt><dd>318</dd><dt>10/27/2021</dt><dd>318</dd><dt>10/02/2021</dt><dd>317</dd><dt>11/10/2021</dt><dd>314</dd><dt>10/04/2021</dt><dd>312</dd><dt>10/06/2021</dt><dd>309</dd><dt>10/13/2021</dt><dd>302</dd><dt>10/09/2021</dt><dd>301</dd><dt>10/22/2021</dt><dd>301</dd><dt>10/18/2021</dt><dd>298</dd><dt>11/06/2021</dt><dd>296</dd><dt>09/29/2021</dt><dd>294</dd><dt>10/30/2021</dt><dd>293</dd><dt>10/16/2021</dt><dd>290</dd><dt>10/23/2021</dt><dd>284</dd><dt>10/14/2021</dt><dd>283</dd><dt>10/11/2021</dt><dd>280</dd><dt>11/04/2021</dt><dd>279</dd><dt>09/28/2021</dt><dd>278</dd><dt>09/26/2021</dt><dd>276</dd><dt>10/07/2021</dt><dd>276</dd><dt>10/28/2021</dt><dd>276</dd><dt>11/07/2021</dt><dd>273</dd><dt>10/21/2021</dt><dd>272</dd><dt>11/01/2021</dt><dd>271</dd><dt>11/02/2021</dt><dd>270</dd><dt>10/25/2021</dt><dd>269</dd><dt>09/27/2021</dt><dd>267</dd><dt>09/30/2021</dt><dd>244</dd><dt>05/22/2015</dt><dd>228</dd><dt>11/05/2021</dt><dd>226</dd><dt>12/24/2017</dt><dd>225</dd><dt>02/21/2015</dt><dd>223</dd><dt>03/17/2015</dt><dd>219</dd><dt>01/18/2015</dt><dd>217</dd><dt>11/03/2020</dt><dd>216</dd><dt>02/07/2015</dt><dd>206</dd><dt>02/16/2015</dt><dd>206</dd><dt>03/12/2015</dt><dd>206</dd><dt>03/14/2015</dt><dd>206</dd><dt>04/05/2015</dt><dd>205</dd><dt>01/24/2015</dt><dd>204</dd><dt>04/08/2015</dt><dd>203</dd><dt>12/14/2021</dt><dd>203</dd><dt>01/17/2015</dt><dd>202</dd><dt>02/27/2015</dt><dd>202</dd><dt>03/21/2015</dt><dd>202</dd><dt>03/08/2015</dt><dd>201</dd><dt>06/04/2015</dt><dd>201</dd><dt>02/15/2015</dt><dd>200</dd><dt>04/10/2015</dt><dd>200</dd><dt>05/07/2015</dt><dd>200</dd><dt>05/30/2015</dt><dd>200</dd><dt>06/08/2015</dt><dd>199</dd><dt>03/20/2015</dt><dd>198</dd><dt>06/06/2015</dt><dd>198</dd><dt>07/03/2015</dt><dd>198</dd><dt>03/19/2015</dt><dd>197</dd><dt>12/30/2018</dt><dd>197</dd><dt>03/13/2015</dt><dd>196</dd><dt>01/11/2015</dt><dd>195</dd><dt>02/14/2015</dt><dd>195</dd><dt>05/02/2015</dt><dd>195</dd><dt>02/08/2015</dt><dd>194</dd><dt>06/11/2015</dt><dd>194</dd><dt>07/09/2015</dt><dd>194</dd><dt>03/09/2015</dt><dd>193</dd><dt>03/16/2015</dt><dd>193</dd><dt>06/13/2015</dt><dd>193</dd><dt>06/25/2015</dt><dd>193</dd><dt>07/20/2015</dt><dd>193</dd><dt>07/23/2015</dt><dd>193</dd><dt>12/07/2018</dt><dd>193</dd><dt>01/30/2015</dt><dd>192</dd><dt>02/06/2015</dt><dd>192</dd><dt>06/01/2015</dt><dd>192</dd><dt>01/10/2015</dt><dd>191</dd><dt>04/07/2015</dt><dd>191</dd><dt>05/29/2015</dt><dd>191</dd><dt>08/17/2018</dt><dd>191</dd><dt>12/30/2017</dt><dd>191</dd><dt>01/31/2015</dt><dd>190</dd><dt>03/01/2015</dt><dd>190</dd><dt>05/09/2015</dt><dd>190</dd><dt>(Other)</dt><dd>297298</dd></dl>\n"
      ],
      "text/latex": [
       "\\begin{description*}\n",
       "\\item[11/08/2021] 363\n",
       "\\item[10/01/2021] 359\n",
       "\\item[11/09/2021] 344\n",
       "\\item[10/29/2021] 333\n",
       "\\item[10/15/2021] 332\n",
       "\\item[10/10/2021] 330\n",
       "\\item[10/05/2021] 329\n",
       "\\item[10/17/2021] 327\n",
       "\\item[10/20/2021] 327\n",
       "\\item[10/08/2021] 323\n",
       "\\item[10/31/2021] 323\n",
       "\\item[10/12/2021] 321\n",
       "\\item[10/24/2021] 320\n",
       "\\item[11/03/2021] 320\n",
       "\\item[10/03/2021] 318\n",
       "\\item[10/19/2021] 318\n",
       "\\item[10/27/2021] 318\n",
       "\\item[10/02/2021] 317\n",
       "\\item[11/10/2021] 314\n",
       "\\item[10/04/2021] 312\n",
       "\\item[10/06/2021] 309\n",
       "\\item[10/13/2021] 302\n",
       "\\item[10/09/2021] 301\n",
       "\\item[10/22/2021] 301\n",
       "\\item[10/18/2021] 298\n",
       "\\item[11/06/2021] 296\n",
       "\\item[09/29/2021] 294\n",
       "\\item[10/30/2021] 293\n",
       "\\item[10/16/2021] 290\n",
       "\\item[10/23/2021] 284\n",
       "\\item[10/14/2021] 283\n",
       "\\item[10/11/2021] 280\n",
       "\\item[11/04/2021] 279\n",
       "\\item[09/28/2021] 278\n",
       "\\item[09/26/2021] 276\n",
       "\\item[10/07/2021] 276\n",
       "\\item[10/28/2021] 276\n",
       "\\item[11/07/2021] 273\n",
       "\\item[10/21/2021] 272\n",
       "\\item[11/01/2021] 271\n",
       "\\item[11/02/2021] 270\n",
       "\\item[10/25/2021] 269\n",
       "\\item[09/27/2021] 267\n",
       "\\item[09/30/2021] 244\n",
       "\\item[05/22/2015] 228\n",
       "\\item[11/05/2021] 226\n",
       "\\item[12/24/2017] 225\n",
       "\\item[02/21/2015] 223\n",
       "\\item[03/17/2015] 219\n",
       "\\item[01/18/2015] 217\n",
       "\\item[11/03/2020] 216\n",
       "\\item[02/07/2015] 206\n",
       "\\item[02/16/2015] 206\n",
       "\\item[03/12/2015] 206\n",
       "\\item[03/14/2015] 206\n",
       "\\item[04/05/2015] 205\n",
       "\\item[01/24/2015] 204\n",
       "\\item[04/08/2015] 203\n",
       "\\item[12/14/2021] 203\n",
       "\\item[01/17/2015] 202\n",
       "\\item[02/27/2015] 202\n",
       "\\item[03/21/2015] 202\n",
       "\\item[03/08/2015] 201\n",
       "\\item[06/04/2015] 201\n",
       "\\item[02/15/2015] 200\n",
       "\\item[04/10/2015] 200\n",
       "\\item[05/07/2015] 200\n",
       "\\item[05/30/2015] 200\n",
       "\\item[06/08/2015] 199\n",
       "\\item[03/20/2015] 198\n",
       "\\item[06/06/2015] 198\n",
       "\\item[07/03/2015] 198\n",
       "\\item[03/19/2015] 197\n",
       "\\item[12/30/2018] 197\n",
       "\\item[03/13/2015] 196\n",
       "\\item[01/11/2015] 195\n",
       "\\item[02/14/2015] 195\n",
       "\\item[05/02/2015] 195\n",
       "\\item[02/08/2015] 194\n",
       "\\item[06/11/2015] 194\n",
       "\\item[07/09/2015] 194\n",
       "\\item[03/09/2015] 193\n",
       "\\item[03/16/2015] 193\n",
       "\\item[06/13/2015] 193\n",
       "\\item[06/25/2015] 193\n",
       "\\item[07/20/2015] 193\n",
       "\\item[07/23/2015] 193\n",
       "\\item[12/07/2018] 193\n",
       "\\item[01/30/2015] 192\n",
       "\\item[02/06/2015] 192\n",
       "\\item[06/01/2015] 192\n",
       "\\item[01/10/2015] 191\n",
       "\\item[04/07/2015] 191\n",
       "\\item[05/29/2015] 191\n",
       "\\item[08/17/2018] 191\n",
       "\\item[12/30/2017] 191\n",
       "\\item[01/31/2015] 190\n",
       "\\item[03/01/2015] 190\n",
       "\\item[05/09/2015] 190\n",
       "\\item[(Other)] 297298\n",
       "\\end{description*}\n"
      ],
      "text/markdown": [
       "11/08/2021\n",
       ":   36310/01/2021\n",
       ":   35911/09/2021\n",
       ":   34410/29/2021\n",
       ":   33310/15/2021\n",
       ":   33210/10/2021\n",
       ":   33010/05/2021\n",
       ":   32910/17/2021\n",
       ":   32710/20/2021\n",
       ":   32710/08/2021\n",
       ":   32310/31/2021\n",
       ":   32310/12/2021\n",
       ":   32110/24/2021\n",
       ":   32011/03/2021\n",
       ":   32010/03/2021\n",
       ":   31810/19/2021\n",
       ":   31810/27/2021\n",
       ":   31810/02/2021\n",
       ":   31711/10/2021\n",
       ":   31410/04/2021\n",
       ":   31210/06/2021\n",
       ":   30910/13/2021\n",
       ":   30210/09/2021\n",
       ":   30110/22/2021\n",
       ":   30110/18/2021\n",
       ":   29811/06/2021\n",
       ":   29609/29/2021\n",
       ":   29410/30/2021\n",
       ":   29310/16/2021\n",
       ":   29010/23/2021\n",
       ":   28410/14/2021\n",
       ":   28310/11/2021\n",
       ":   28011/04/2021\n",
       ":   27909/28/2021\n",
       ":   27809/26/2021\n",
       ":   27610/07/2021\n",
       ":   27610/28/2021\n",
       ":   27611/07/2021\n",
       ":   27310/21/2021\n",
       ":   27211/01/2021\n",
       ":   27111/02/2021\n",
       ":   27010/25/2021\n",
       ":   26909/27/2021\n",
       ":   26709/30/2021\n",
       ":   24405/22/2015\n",
       ":   22811/05/2021\n",
       ":   22612/24/2017\n",
       ":   22502/21/2015\n",
       ":   22303/17/2015\n",
       ":   21901/18/2015\n",
       ":   21711/03/2020\n",
       ":   21602/07/2015\n",
       ":   20602/16/2015\n",
       ":   20603/12/2015\n",
       ":   20603/14/2015\n",
       ":   20604/05/2015\n",
       ":   20501/24/2015\n",
       ":   20404/08/2015\n",
       ":   20312/14/2021\n",
       ":   20301/17/2015\n",
       ":   20202/27/2015\n",
       ":   20203/21/2015\n",
       ":   20203/08/2015\n",
       ":   20106/04/2015\n",
       ":   20102/15/2015\n",
       ":   20004/10/2015\n",
       ":   20005/07/2015\n",
       ":   20005/30/2015\n",
       ":   20006/08/2015\n",
       ":   19903/20/2015\n",
       ":   19806/06/2015\n",
       ":   19807/03/2015\n",
       ":   19803/19/2015\n",
       ":   19712/30/2018\n",
       ":   19703/13/2015\n",
       ":   19601/11/2015\n",
       ":   19502/14/2015\n",
       ":   19505/02/2015\n",
       ":   19502/08/2015\n",
       ":   19406/11/2015\n",
       ":   19407/09/2015\n",
       ":   19403/09/2015\n",
       ":   19303/16/2015\n",
       ":   19306/13/2015\n",
       ":   19306/25/2015\n",
       ":   19307/20/2015\n",
       ":   19307/23/2015\n",
       ":   19312/07/2018\n",
       ":   19301/30/2015\n",
       ":   19202/06/2015\n",
       ":   19206/01/2015\n",
       ":   19201/10/2015\n",
       ":   19104/07/2015\n",
       ":   19105/29/2015\n",
       ":   19108/17/2018\n",
       ":   19112/30/2017\n",
       ":   19101/31/2015\n",
       ":   19003/01/2015\n",
       ":   19005/09/2015\n",
       ":   190(Other)\n",
       ":   297298\n",
       "\n"
      ],
      "text/plain": [
       "11/08/2021 10/01/2021 11/09/2021 10/29/2021 10/15/2021 10/10/2021 10/05/2021 \n",
       "       363        359        344        333        332        330        329 \n",
       "10/17/2021 10/20/2021 10/08/2021 10/31/2021 10/12/2021 10/24/2021 11/03/2021 \n",
       "       327        327        323        323        321        320        320 \n",
       "10/03/2021 10/19/2021 10/27/2021 10/02/2021 11/10/2021 10/04/2021 10/06/2021 \n",
       "       318        318        318        317        314        312        309 \n",
       "10/13/2021 10/09/2021 10/22/2021 10/18/2021 11/06/2021 09/29/2021 10/30/2021 \n",
       "       302        301        301        298        296        294        293 \n",
       "10/16/2021 10/23/2021 10/14/2021 10/11/2021 11/04/2021 09/28/2021 09/26/2021 \n",
       "       290        284        283        280        279        278        276 \n",
       "10/07/2021 10/28/2021 11/07/2021 10/21/2021 11/01/2021 11/02/2021 10/25/2021 \n",
       "       276        276        273        272        271        270        269 \n",
       "09/27/2021 09/30/2021 05/22/2015 11/05/2021 12/24/2017 02/21/2015 03/17/2015 \n",
       "       267        244        228        226        225        223        219 \n",
       "01/18/2015 11/03/2020 02/07/2015 02/16/2015 03/12/2015 03/14/2015 04/05/2015 \n",
       "       217        216        206        206        206        206        205 \n",
       "01/24/2015 04/08/2015 12/14/2021 01/17/2015 02/27/2015 03/21/2015 03/08/2015 \n",
       "       204        203        203        202        202        202        201 \n",
       "06/04/2015 02/15/2015 04/10/2015 05/07/2015 05/30/2015 06/08/2015 03/20/2015 \n",
       "       201        200        200        200        200        199        198 \n",
       "06/06/2015 07/03/2015 03/19/2015 12/30/2018 03/13/2015 01/11/2015 02/14/2015 \n",
       "       198        198        197        197        196        195        195 \n",
       "05/02/2015 02/08/2015 06/11/2015 07/09/2015 03/09/2015 03/16/2015 06/13/2015 \n",
       "       195        194        194        194        193        193        193 \n",
       "06/25/2015 07/20/2015 07/23/2015 12/07/2018 01/30/2015 02/06/2015 06/01/2015 \n",
       "       193        193        193        193        192        192        192 \n",
       "01/10/2015 04/07/2015 05/29/2015 08/17/2018 12/30/2017 01/31/2015 03/01/2015 \n",
       "       191        191        191        191        191        190        190 \n",
       "05/09/2015    (Other) \n",
       "       190     297298 "
      ]
     },
     "metadata": {},
     "output_type": "display_data"
    }
   ],
   "source": [
    "summary(myDF$date)"
   ]
  },
  {
   "cell_type": "markdown",
   "id": "47c6229f-35f7-400c-8366-c442baa5cf47",
   "metadata": {},
   "source": [
    "a. On christmas day, the average wait time was 48. On July 26th, the average wait time was 30.\n",
    "\n",
    "b. Yes, there is a difference between summer and holiday wait times.\n",
    "\n",
    "c. The most entries occur on 11/08/2021."
   ]
  },
  {
   "cell_type": "markdown",
   "id": "da22f29c-d245-4d2b-9fc1-ca14cb6087d9",
   "metadata": {},
   "source": [
    "## Question 4"
   ]
  },
  {
   "cell_type": "code",
   "execution_count": 8,
   "id": "8cffc767-d1c8-4d64-b7dc-f0d2ee8a80d1",
   "metadata": {},
   "outputs": [
    {
     "data": {
      "text/html": [
       "321631"
      ],
      "text/latex": [
       "321631"
      ],
      "text/markdown": [
       "321631"
      ],
      "text/plain": [
       "[1] 321631"
      ]
     },
     "metadata": {},
     "output_type": "display_data"
    },
    {
     "data": {
      "text/html": [
       "313996"
      ],
      "text/latex": [
       "313996"
      ],
      "text/markdown": [
       "313996"
      ],
      "text/plain": [
       "[1] 313996"
      ]
     },
     "metadata": {},
     "output_type": "display_data"
    }
   ],
   "source": [
    "length(myDF$SPOSTMIN)\n",
    "length(newDF$SPOSTMIN)"
   ]
  },
  {
   "cell_type": "code",
   "execution_count": 9,
   "id": "7e94468b-b30d-4b87-b7f0-a36dc0dce4ea",
   "metadata": {},
   "outputs": [
    {
     "name": "stderr",
     "output_type": "stream",
     "text": [
      "Warning message in myDF$SPOSTMIN + newDF$SPOSTMIN:\n",
      "\"longer object length is not a multiple of shorter object length\"\n"
     ]
    },
    {
     "data": {
      "text/html": [
       "<style>\n",
       ".list-inline {list-style: none; margin:0; padding: 0}\n",
       ".list-inline>li {display: inline-block}\n",
       ".list-inline>li:not(:last-child)::after {content: \"\\00b7\"; padding: 0 .5ex}\n",
       "</style>\n",
       "<ol class=list-inline><li>1.5</li><li>2</li><li>&lt;NA&gt;</li><li>2</li><li>2</li><li>&lt;NA&gt;</li></ol>\n"
      ],
      "text/latex": [
       "\\begin{enumerate*}\n",
       "\\item 1.5\n",
       "\\item 2\n",
       "\\item <NA>\n",
       "\\item 2\n",
       "\\item 2\n",
       "\\item <NA>\n",
       "\\end{enumerate*}\n"
      ],
      "text/markdown": [
       "1. 1.5\n",
       "2. 2\n",
       "3. &lt;NA&gt;\n",
       "4. 2\n",
       "5. 2\n",
       "6. &lt;NA&gt;\n",
       "\n",
       "\n"
      ],
      "text/plain": [
       "[1] 1.5 2.0  NA 2.0 2.0  NA"
      ]
     },
     "metadata": {},
     "output_type": "display_data"
    },
    {
     "data": {
      "text/html": [
       "321631"
      ],
      "text/latex": [
       "321631"
      ],
      "text/markdown": [
       "321631"
      ],
      "text/plain": [
       "[1] 321631"
      ]
     },
     "metadata": {},
     "output_type": "display_data"
    }
   ],
   "source": [
    "myhours <- (myDF$SPOSTMIN + newDF$SPOSTMIN)/60\n",
    "head(myhours)\n",
    "length(myhours)"
   ]
  },
  {
   "cell_type": "code",
   "execution_count": 10,
   "id": "819f5d58-565a-40a6-8b58-577f1d0c7e86",
   "metadata": {},
   "outputs": [
    {
     "data": {
      "text/html": [
       "0.75"
      ],
      "text/latex": [
       "0.75"
      ],
      "text/markdown": [
       "0.75"
      ],
      "text/plain": [
       "[1] 0.75"
      ]
     },
     "metadata": {},
     "output_type": "display_data"
    },
    {
     "data": {
      "text/html": [
       "0.25"
      ],
      "text/latex": [
       "0.25"
      ],
      "text/markdown": [
       "0.25"
      ],
      "text/plain": [
       "[1] 0.25"
      ]
     },
     "metadata": {},
     "output_type": "display_data"
    },
    {
     "data": {
      "text/html": [
       "1"
      ],
      "text/latex": [
       "1"
      ],
      "text/markdown": [
       "1"
      ],
      "text/plain": [
       "[1] 1"
      ]
     },
     "metadata": {},
     "output_type": "display_data"
    }
   ],
   "source": [
    "newDF$SPOSTMIN[1]/60\n",
    "myDF$SPOSTMIN[313997]/60\n",
    "myhours[313997]"
   ]
  },
  {
   "cell_type": "markdown",
   "id": "0d552245-b4d6-474a-9cc9-fa7b8e674d55",
   "metadata": {},
   "source": [
    "a. The length of the SPOSTMIN column is 321,631 for myDF and 313,993 for newDF.\n",
    "\n",
    "b. The length of the myhours vector is 321,631.\n",
    "\n",
    "c. The newDF vector does not have information in the 313,997th row, so it recycled back to the first SPOSTMIN row of newDF, which has a value of 45. The sum of the newDF and myDF SPOSTMIN values at 313997 divided by 60 gives us 1, which is what we observed in myhours."
   ]
  },
  {
   "cell_type": "markdown",
   "id": "88c9cdac-3e92-498f-83fa-e089bfc44ac8",
   "metadata": {},
   "source": [
    "## Question 5"
   ]
  },
  {
   "cell_type": "code",
   "execution_count": 11,
   "id": "d370d7c9-06db-42b9-b75f-240481a5c491",
   "metadata": {},
   "outputs": [
    {
     "name": "stderr",
     "output_type": "stream",
     "text": [
      "Warning message in system(\"timedatectl\", intern = TRUE):\n",
      "\"running command 'timedatectl' had status 1\"\n",
      "\n",
      "Attaching package: 'lubridate'\n",
      "\n",
      "\n",
      "The following objects are masked from 'package:base':\n",
      "\n",
      "    date, intersect, setdiff, union\n",
      "\n",
      "\n",
      "Warning message:\n",
      "\"tz(): Don't know how to compute timezone for object of class factor; returning \"UTC\". This warning will become an error in the next major version of lubridate.\"\n"
     ]
    },
    {
     "data": {
      "text/html": [
       "<style>\n",
       ".list-inline {list-style: none; margin:0; padding: 0}\n",
       ".list-inline>li {display: inline-block}\n",
       ".list-inline>li:not(:last-child)::after {content: \"\\00b7\"; padding: 0 .5ex}\n",
       "</style>\n",
       "<ol class=list-inline><li>-92918</li><li>0</li><li>0</li><li>0</li><li>0</li><li>0</li></ol>\n"
      ],
      "text/latex": [
       "\\begin{enumerate*}\n",
       "\\item -92918\n",
       "\\item 0\n",
       "\\item 0\n",
       "\\item 0\n",
       "\\item 0\n",
       "\\item 0\n",
       "\\end{enumerate*}\n"
      ],
      "text/markdown": [
       "1. -92918\n",
       "2. 0\n",
       "3. 0\n",
       "4. 0\n",
       "5. 0\n",
       "6. 0\n",
       "\n",
       "\n"
      ],
      "text/plain": [
       "[1] -92918      0      0      0      0      0"
      ]
     },
     "metadata": {},
     "output_type": "display_data"
    },
    {
     "data": {
      "text/html": [
       "37.9295942720764"
      ],
      "text/latex": [
       "37.9295942720764"
      ],
      "text/markdown": [
       "37.9295942720764"
      ],
      "text/plain": [
       "[1] 37.92959"
      ]
     },
     "metadata": {},
     "output_type": "display_data"
    },
    {
     "data": {
      "text/html": [
       "34.5550193050193"
      ],
      "text/latex": [
       "34.5550193050193"
      ],
      "text/markdown": [
       "34.5550193050193"
      ],
      "text/plain": [
       "[1] 34.55502"
      ]
     },
     "metadata": {},
     "output_type": "display_data"
    },
    {
     "data": {
      "text/html": [
       "36.4405328258801"
      ],
      "text/latex": [
       "36.4405328258801"
      ],
      "text/markdown": [
       "36.4405328258801"
      ],
      "text/plain": [
       "[1] 36.44053"
      ]
     },
     "metadata": {},
     "output_type": "display_data"
    },
    {
     "data": {
      "text/html": [
       "36.1721518987342"
      ],
      "text/latex": [
       "36.1721518987342"
      ],
      "text/markdown": [
       "36.1721518987342"
      ],
      "text/plain": [
       "[1] 36.17215"
      ]
     },
     "metadata": {},
     "output_type": "display_data"
    },
    {
     "data": {
      "text/html": [
       "36.1249053747161"
      ],
      "text/latex": [
       "36.1249053747161"
      ],
      "text/markdown": [
       "36.1249053747161"
      ],
      "text/plain": [
       "[1] 36.12491"
      ]
     },
     "metadata": {},
     "output_type": "display_data"
    },
    {
     "data": {
      "text/html": [
       "37.7321613236815"
      ],
      "text/latex": [
       "37.7321613236815"
      ],
      "text/markdown": [
       "37.7321613236815"
      ],
      "text/plain": [
       "[1] 37.73216"
      ]
     },
     "metadata": {},
     "output_type": "display_data"
    },
    {
     "data": {
      "text/html": [
       "34.9037216828479"
      ],
      "text/latex": [
       "34.9037216828479"
      ],
      "text/markdown": [
       "34.9037216828479"
      ],
      "text/plain": [
       "[1] 34.90372"
      ]
     },
     "metadata": {},
     "output_type": "display_data"
    }
   ],
   "source": [
    "library(lubridate)\n",
    "myDF$weekday <- wday(myDF$datetime, label=TRUE)\n",
    "head(sort(myDF$SACTMIN))\n",
    "mean(myDF$SACTMIN[myDF$weekday==\"Mon\" & myDF$SACTMIN!=-92918], na.rm=TRUE)\n",
    "mean(myDF$SACTMIN[myDF$weekday==\"Tue\" & myDF$SACTMIN!=-92918], na.rm=TRUE)\n",
    "mean(myDF$SACTMIN[myDF$weekday==\"Wed\" & myDF$SACTMIN!=-92918], na.rm=TRUE)\n",
    "mean(myDF$SACTMIN[myDF$weekday==\"Thu\" & myDF$SACTMIN!=-92918], na.rm=TRUE)\n",
    "mean(myDF$SACTMIN[myDF$weekday==\"Fri\" & myDF$SACTMIN!=-92918], na.rm=TRUE)\n",
    "mean(myDF$SACTMIN[myDF$weekday==\"Sat\" & myDF$SACTMIN!=-92918], na.rm=TRUE)\n",
    "mean(myDF$SACTMIN[myDF$weekday==\"Sun\" & myDF$SACTMIN!=-92918], na.rm=TRUE)"
   ]
  },
  {
   "cell_type": "code",
   "execution_count": 12,
   "id": "3256980c-3114-46f3-a582-b54201a41415",
   "metadata": {},
   "outputs": [
    {
     "data": {
      "text/html": [
       "<style>\n",
       ".dl-inline {width: auto; margin:0; padding: 0}\n",
       ".dl-inline>dt, .dl-inline>dd {float: none; width: auto; display: inline-block}\n",
       ".dl-inline>dt::after {content: \":\\0020\"; padding-right: .5ex}\n",
       ".dl-inline>dt:not(:first-of-type) {padding-left: .5ex}\n",
       "</style><dl class=dl-inline><dt>Sun</dt><dd>47096</dd><dt>Mon</dt><dd>44336</dd><dt>Tue</dt><dd>45633</dd><dt>Wed</dt><dd>45502</dd><dt>Thu</dt><dd>45063</dd><dt>Fri</dt><dd>47815</dd><dt>Sat</dt><dd>46186</dd></dl>\n"
      ],
      "text/latex": [
       "\\begin{description*}\n",
       "\\item[Sun] 47096\n",
       "\\item[Mon] 44336\n",
       "\\item[Tue] 45633\n",
       "\\item[Wed] 45502\n",
       "\\item[Thu] 45063\n",
       "\\item[Fri] 47815\n",
       "\\item[Sat] 46186\n",
       "\\end{description*}\n"
      ],
      "text/markdown": [
       "Sun\n",
       ":   47096Mon\n",
       ":   44336Tue\n",
       ":   45633Wed\n",
       ":   45502Thu\n",
       ":   45063Fri\n",
       ":   47815Sat\n",
       ":   46186\n",
       "\n"
      ],
      "text/plain": [
       "  Sun   Mon   Tue   Wed   Thu   Fri   Sat \n",
       "47096 44336 45633 45502 45063 47815 46186 "
      ]
     },
     "metadata": {},
     "output_type": "display_data"
    }
   ],
   "source": [
    "summary((myDF$weekday))"
   ]
  },
  {
   "cell_type": "code",
   "execution_count": 13,
   "id": "6f7657e3-7137-4029-b622-45d41c87024a",
   "metadata": {},
   "outputs": [
    {
     "data": {
      "text/html": [
       "<style>\n",
       ".dl-inline {width: auto; margin:0; padding: 0}\n",
       ".dl-inline>dt, .dl-inline>dd {float: none; width: auto; display: inline-block}\n",
       ".dl-inline>dt::after {content: \":\\0020\"; padding-right: .5ex}\n",
       ".dl-inline>dt:not(:first-of-type) {padding-left: .5ex}\n",
       "</style><dl class=dl-inline><dt>Sun</dt><dd>34.9037216828479</dd><dt>Mon</dt><dd>37.9295942720764</dd><dt>Tue</dt><dd>34.5550193050193</dd><dt>Wed</dt><dd>36.4405328258801</dd><dt>Thu</dt><dd>36.1721518987342</dd><dt>Fri</dt><dd>36.1249053747161</dd><dt>Sat</dt><dd>37.7321613236815</dd></dl>\n"
      ],
      "text/latex": [
       "\\begin{description*}\n",
       "\\item[Sun] 34.9037216828479\n",
       "\\item[Mon] 37.9295942720764\n",
       "\\item[Tue] 34.5550193050193\n",
       "\\item[Wed] 36.4405328258801\n",
       "\\item[Thu] 36.1721518987342\n",
       "\\item[Fri] 36.1249053747161\n",
       "\\item[Sat] 37.7321613236815\n",
       "\\end{description*}\n"
      ],
      "text/markdown": [
       "Sun\n",
       ":   34.9037216828479Mon\n",
       ":   37.9295942720764Tue\n",
       ":   34.5550193050193Wed\n",
       ":   36.4405328258801Thu\n",
       ":   36.1721518987342Fri\n",
       ":   36.1249053747161Sat\n",
       ":   37.7321613236815\n",
       "\n"
      ],
      "text/plain": [
       "     Sun      Mon      Tue      Wed      Thu      Fri      Sat \n",
       "34.90372 37.92959 34.55502 36.44053 36.17215 36.12491 37.73216 "
      ]
     },
     "metadata": {},
     "output_type": "display_data"
    }
   ],
   "source": [
    "chartvals <- tapply(myDF$SACTMIN[myDF$SACTMIN != -92918], myDF$weekday[myDF$SACTMIN != -92918], mean, na.rm=TRUE)\n",
    "chartvals"
   ]
  },
  {
   "cell_type": "code",
   "execution_count": 14,
   "id": "5d595ddb-dbd5-49e6-938e-e38601c914da",
   "metadata": {},
   "outputs": [
    {
     "name": "stderr",
     "output_type": "stream",
     "text": [
      "Warning message in dotchart(chartvals):\n",
      "\"'x' is neither a vector nor a matrix: using as.numeric(x)\"\n"
     ]
    },
    {
     "data": {
      "image/png": "[encoded data removed]",
      "text/plain": [
       "plot without title"
      ]
     },
     "metadata": {
      "image/png": {
       "height": 420,
       "width": 420
      }
     },
     "output_type": "display_data"
    },
    {
     "data": {
      "image/png": "[encoded data removed]",
      "text/plain": [
       "plot without title"
      ]
     },
     "metadata": {
      "image/png": {
       "height": 420,
       "width": 420
      }
     },
     "output_type": "display_data"
    }
   ],
   "source": [
    "dotchart(chartvals)\n",
    "plot(chartvals)"
   ]
  },
  {
   "cell_type": "markdown",
   "id": "9fbf00fb-2418-460f-ae94-2a32b0c28952",
   "metadata": {},
   "source": [
    "a. MyDF has the longest wait times on Monday.\n",
    "\n",
    "b. Both plot and dotchart convey similar information, but the plot has the average wait times on the x-axis while the dotchart displays them on the y-axis and has the days substituted by the number of their order. In this case, the dotchart conveys information better because the data we are looking at (wait time) can be compared vertically."
   ]
  },
  {
   "cell_type": "markdown",
   "id": "f76442d6-d02e-4f26-b9d6-c3183e1d6929",
   "metadata": {
    "tags": []
   },
   "source": [
    "## Pledge\n",
    "\n",
    "By submitting this work I hereby pledge that this is my own, personal work. I've acknowledged in the designated place at the top of this file all sources that I used to complete said work, including but not limited to: online resources, books, and electronic communications. I've noted all collaboration with fellow students and/or TA's. I did not copy or plagiarize another's work.\n",
    "\n",
    "> As a Boilermaker pursuing academic excellence, I pledge to be honest and true in all that I do. Accountable together – We are Purdue."
   ]
  },
  {
   "cell_type": "code",
   "execution_count": null,
   "id": "2a6325ff-0a66-493e-8494-bb1de323e52e",
   "metadata": {},
   "outputs": [],
   "source": []
  }
 ],
 "metadata": {
  "kernelspec": {
   "display_name": "f2022-s2023-r",
   "language": "R",
   "name": "f2022-s2023-r"
  },
  "language_info": {
   "codemirror_mode": "r",
   "file_extension": ".r",
   "mimetype": "text/x-r-source",
   "name": "R",
   "pygments_lexer": "r",
   "version": "4.1.3"
  }
 },
 "nbformat": 4,
 "nbformat_minor": 5
}
