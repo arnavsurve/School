{
 "cells": [
  {
   "cell_type": "markdown",
   "id": "be02a957-7133-4d02-818e-fedeb3cecb05",
   "metadata": {},
   "source": [
    "# Project 10 -- Arnav Surve"
   ]
  },
  {
   "cell_type": "markdown",
   "id": "a1228853-dd19-4ab2-89e0-0394d7d72de3",
   "metadata": {},
   "source": [
    "**TA Help:** N/A\n",
    "    \n",
    "**Collaboration:** N/A"
   ]
  },
  {
   "cell_type": "markdown",
   "id": "6180e742-8e39-4698-98ff-5b00c8cf8ea0",
   "metadata": {},
   "source": [
    "## Question 1"
   ]
  },
  {
   "cell_type": "code",
   "execution_count": 3,
   "id": "49445606-d363-41b4-b479-e319a9a84c01",
   "metadata": {
    "vscode": {
     "languageId": "r"
    }
   },
   "outputs": [],
   "source": [
    "options(jupyter.rich_display = F)\n",
    "options(repr.matrix.max.cols=100, repr.matrix.max.rows=200)"
   ]
  },
  {
   "cell_type": "code",
   "execution_count": 4,
   "id": "3c89c214-e58d-45a1-a05d-4db867b010aa",
   "metadata": {
    "vscode": {
     "languageId": "r"
    }
   },
   "outputs": [],
   "source": [
    "library(data.table)"
   ]
  },
  {
   "cell_type": "code",
   "execution_count": 7,
   "id": "46e878ff-5917-4318-9116-dbcc8a6a1afe",
   "metadata": {
    "vscode": {
     "languageId": "r"
    }
   },
   "outputs": [],
   "source": [
    "county <- fread(\"/anvil/projects/tdm/data/zillow/County_time_series.csv\")"
   ]
  },
  {
   "cell_type": "code",
   "execution_count": 8,
   "id": "9b91f244-bd7f-491f-b91f-dbf52b0886ba",
   "metadata": {
    "vscode": {
     "languageId": "r"
    }
   },
   "outputs": [
    {
     "data": {
      "text/plain": [
       "[1] 518791     82"
      ]
     },
     "metadata": {},
     "output_type": "display_data"
    }
   ],
   "source": [
    "dim(county)"
   ]
  },
  {
   "cell_type": "code",
   "execution_count": 9,
   "id": "370c7c7d-6e23-4b08-a11d-7bbd43551684",
   "metadata": {
    "vscode": {
     "languageId": "r"
    }
   },
   "outputs": [
    {
     "name": "stderr",
     "output_type": "stream",
     "text": [
      "Warning message in system(\"timedatectl\", intern = TRUE):\n",
      "\"running command 'timedatectl' had status 1\"\n",
      "\n",
      "Attaching package: 'lubridate'\n",
      "\n",
      "\n",
      "The following objects are masked from 'package:data.table':\n",
      "\n",
      "    hour, isoweek, mday, minute, month, quarter, second, wday, week,\n",
      "    yday, year\n",
      "\n",
      "\n",
      "The following objects are masked from 'package:base':\n",
      "\n",
      "    date, intersect, setdiff, union\n",
      "\n",
      "\n"
     ]
    }
   ],
   "source": [
    "library(lubridate)"
   ]
  },
  {
   "cell_type": "code",
   "execution_count": 11,
   "id": "32b7f751-dd74-42cb-b77c-3a347f027e22",
   "metadata": {
    "vscode": {
     "languageId": "r"
    }
   },
   "outputs": [
    {
     "data": {
      "text/plain": [
       "[1] 4 4 4 4 4 4"
      ]
     },
     "metadata": {},
     "output_type": "display_data"
    }
   ],
   "source": [
    "month(head(county$Date))"
   ]
  },
  {
   "cell_type": "code",
   "execution_count": 12,
   "id": "f738df14-6bc0-4d9f-9ef1-d90fd6f3b481",
   "metadata": {
    "vscode": {
     "languageId": "r"
    }
   },
   "outputs": [
    {
     "data": {
      "text/plain": [
       "[1] 30 30 30 30 30 30"
      ]
     },
     "metadata": {},
     "output_type": "display_data"
    }
   ],
   "source": [
    "day(head(county$Date))"
   ]
  },
  {
   "cell_type": "code",
   "execution_count": 13,
   "id": "9234fc57-5467-428e-895a-8c445221129c",
   "metadata": {
    "vscode": {
     "languageId": "r"
    }
   },
   "outputs": [
    {
     "data": {
      "text/plain": [
       "[1] 1996 1996 1996 1996 1996 1996"
      ]
     },
     "metadata": {},
     "output_type": "display_data"
    }
   ],
   "source": [
    "year(head(county$Date))"
   ]
  },
  {
   "cell_type": "code",
   "execution_count": 14,
   "id": "aea4ff1d-ad19-40d7-bf17-1b63f6613ef7",
   "metadata": {
    "vscode": {
     "languageId": "r"
    }
   },
   "outputs": [],
   "source": [
    "county$month <- month(county$Date)"
   ]
  },
  {
   "cell_type": "code",
   "execution_count": 15,
   "id": "4be36c0d-9a65-4a5f-b42b-811a4174afde",
   "metadata": {
    "vscode": {
     "languageId": "r"
    }
   },
   "outputs": [],
   "source": [
    "county$day <- day(county$Date)"
   ]
  },
  {
   "cell_type": "code",
   "execution_count": 16,
   "id": "631599f7-0b21-4cc2-91f4-d51e7322ec05",
   "metadata": {
    "vscode": {
     "languageId": "r"
    }
   },
   "outputs": [],
   "source": [
    "county$year <- year(county$Date)"
   ]
  },
  {
   "cell_type": "code",
   "execution_count": 17,
   "id": "f4efd106-3a17-428f-9651-e0232dff900d",
   "metadata": {
    "vscode": {
     "languageId": "r"
    }
   },
   "outputs": [
    {
     "data": {
      "text/plain": [
       "  Date       RegionName DaysOnZillow_AllHomes\n",
       "1 1996-04-30 10001      NA                   \n",
       "2 1996-04-30 10003      NA                   \n",
       "3 1996-04-30  1003      NA                   \n",
       "4 1996-04-30  1009      NA                   \n",
       "5 1996-04-30  1017      NA                   \n",
       "6 1996-04-30  1051      NA                   \n",
       "  InventorySeasonallyAdjusted_AllHomes InventoryRaw_AllHomes\n",
       "1 NA                                   NA                   \n",
       "2 NA                                   NA                   \n",
       "3 NA                                   NA                   \n",
       "4 NA                                   NA                   \n",
       "5 NA                                   NA                   \n",
       "6 NA                                   NA                   \n",
       "  MedianListingPricePerSqft_1Bedroom MedianListingPricePerSqft_2Bedroom\n",
       "1 NA                                 NA                                \n",
       "2 NA                                 NA                                \n",
       "3 NA                                 NA                                \n",
       "4 NA                                 NA                                \n",
       "5 NA                                 NA                                \n",
       "6 NA                                 NA                                \n",
       "  MedianListingPricePerSqft_3Bedroom MedianListingPricePerSqft_4Bedroom\n",
       "1 NA                                 NA                                \n",
       "2 NA                                 NA                                \n",
       "3 NA                                 NA                                \n",
       "4 NA                                 NA                                \n",
       "5 NA                                 NA                                \n",
       "6 NA                                 NA                                \n",
       "  MedianListingPricePerSqft_5BedroomOrMore MedianListingPricePerSqft_AllHomes\n",
       "1 NA                                       NA                                \n",
       "2 NA                                       NA                                \n",
       "3 NA                                       NA                                \n",
       "4 NA                                       NA                                \n",
       "5 NA                                       NA                                \n",
       "6 NA                                       NA                                \n",
       "  MedianListingPricePerSqft_CondoCoop MedianListingPricePerSqft_DuplexTriplex\n",
       "1 NA                                  NA                                     \n",
       "2 NA                                  NA                                     \n",
       "3 NA                                  NA                                     \n",
       "4 NA                                  NA                                     \n",
       "5 NA                                  NA                                     \n",
       "6 NA                                  NA                                     \n",
       "  MedianListingPricePerSqft_SingleFamilyResidence MedianListingPrice_1Bedroom\n",
       "1 NA                                              NA                         \n",
       "2 NA                                              NA                         \n",
       "3 NA                                              NA                         \n",
       "4 NA                                              NA                         \n",
       "5 NA                                              NA                         \n",
       "6 NA                                              NA                         \n",
       "  MedianListingPrice_2Bedroom MedianListingPrice_3Bedroom\n",
       "1 NA                          NA                         \n",
       "2 NA                          NA                         \n",
       "3 NA                          NA                         \n",
       "4 NA                          NA                         \n",
       "5 NA                          NA                         \n",
       "6 NA                          NA                         \n",
       "  MedianListingPrice_4Bedroom MedianListingPrice_5BedroomOrMore\n",
       "1 NA                          NA                               \n",
       "2 NA                          NA                               \n",
       "3 NA                          NA                               \n",
       "4 NA                          NA                               \n",
       "5 NA                          NA                               \n",
       "6 NA                          NA                               \n",
       "  MedianListingPrice_AllHomes MedianListingPrice_CondoCoop\n",
       "1 NA                          NA                          \n",
       "2 NA                          NA                          \n",
       "3 NA                          NA                          \n",
       "4 NA                          NA                          \n",
       "5 NA                          NA                          \n",
       "6 NA                          NA                          \n",
       "  MedianListingPrice_DuplexTriplex MedianListingPrice_SingleFamilyResidence\n",
       "1 NA                               NA                                      \n",
       "2 NA                               NA                                      \n",
       "3 NA                               NA                                      \n",
       "4 NA                               NA                                      \n",
       "5 NA                               NA                                      \n",
       "6 NA                               NA                                      \n",
       "  MedianPctOfPriceReduction_AllHomes MedianPctOfPriceReduction_CondoCoop\n",
       "1 NA                                 NA                                 \n",
       "2 NA                                 NA                                 \n",
       "3 NA                                 NA                                 \n",
       "4 NA                                 NA                                 \n",
       "5 NA                                 NA                                 \n",
       "6 NA                                 NA                                 \n",
       "  MedianPctOfPriceReduction_SingleFamilyResidence MedianPriceCutDollar_AllHomes\n",
       "1 NA                                              NA                           \n",
       "2 NA                                              NA                           \n",
       "3 NA                                              NA                           \n",
       "4 NA                                              NA                           \n",
       "5 NA                                              NA                           \n",
       "6 NA                                              NA                           \n",
       "  MedianPriceCutDollar_CondoCoop MedianPriceCutDollar_SingleFamilyResidence\n",
       "1 NA                             NA                                        \n",
       "2 NA                             NA                                        \n",
       "3 NA                             NA                                        \n",
       "4 NA                             NA                                        \n",
       "5 NA                             NA                                        \n",
       "6 NA                             NA                                        \n",
       "  MedianRentalPricePerSqft_1Bedroom MedianRentalPricePerSqft_2Bedroom\n",
       "1 NA                                NA                               \n",
       "2 NA                                NA                               \n",
       "3 NA                                NA                               \n",
       "4 NA                                NA                               \n",
       "5 NA                                NA                               \n",
       "6 NA                                NA                               \n",
       "  MedianRentalPricePerSqft_3Bedroom MedianRentalPricePerSqft_4Bedroom\n",
       "1 NA                                NA                               \n",
       "2 NA                                NA                               \n",
       "3 NA                                NA                               \n",
       "4 NA                                NA                               \n",
       "5 NA                                NA                               \n",
       "6 NA                                NA                               \n",
       "  MedianRentalPricePerSqft_5BedroomOrMore MedianRentalPricePerSqft_AllHomes\n",
       "1 NA                                      NA                               \n",
       "2 NA                                      NA                               \n",
       "3 NA                                      NA                               \n",
       "4 NA                                      NA                               \n",
       "5 NA                                      NA                               \n",
       "6 NA                                      NA                               \n",
       "  MedianRentalPricePerSqft_CondoCoop MedianRentalPricePerSqft_DuplexTriplex\n",
       "1 NA                                 NA                                    \n",
       "2 NA                                 NA                                    \n",
       "3 NA                                 NA                                    \n",
       "4 NA                                 NA                                    \n",
       "5 NA                                 NA                                    \n",
       "6 NA                                 NA                                    \n",
       "  MedianRentalPricePerSqft_MultiFamilyResidence5PlusUnits\n",
       "1 NA                                                     \n",
       "2 NA                                                     \n",
       "3 NA                                                     \n",
       "4 NA                                                     \n",
       "5 NA                                                     \n",
       "6 NA                                                     \n",
       "  MedianRentalPricePerSqft_SingleFamilyResidence\n",
       "1 NA                                            \n",
       "2 NA                                            \n",
       "3 NA                                            \n",
       "4 NA                                            \n",
       "5 NA                                            \n",
       "6 NA                                            \n",
       "  MedianRentalPricePerSqft_Studio MedianRentalPrice_1Bedroom\n",
       "1 NA                              NA                        \n",
       "2 NA                              NA                        \n",
       "3 NA                              NA                        \n",
       "4 NA                              NA                        \n",
       "5 NA                              NA                        \n",
       "6 NA                              NA                        \n",
       "  MedianRentalPrice_2Bedroom MedianRentalPrice_3Bedroom\n",
       "1 NA                         NA                        \n",
       "2 NA                         NA                        \n",
       "3 NA                         NA                        \n",
       "4 NA                         NA                        \n",
       "5 NA                         NA                        \n",
       "6 NA                         NA                        \n",
       "  MedianRentalPrice_4Bedroom MedianRentalPrice_5BedroomOrMore\n",
       "1 NA                         NA                              \n",
       "2 NA                         NA                              \n",
       "3 NA                         NA                              \n",
       "4 NA                         NA                              \n",
       "5 NA                         NA                              \n",
       "6 NA                         NA                              \n",
       "  MedianRentalPrice_AllHomes MedianRentalPrice_CondoCoop\n",
       "1 NA                         NA                         \n",
       "2 NA                         NA                         \n",
       "3 NA                         NA                         \n",
       "4 NA                         NA                         \n",
       "5 NA                         NA                         \n",
       "6 NA                         NA                         \n",
       "  MedianRentalPrice_DuplexTriplex\n",
       "1 NA                             \n",
       "2 NA                             \n",
       "3 NA                             \n",
       "4 NA                             \n",
       "5 NA                             \n",
       "6 NA                             \n",
       "  MedianRentalPrice_MultiFamilyResidence5PlusUnits\n",
       "1 NA                                              \n",
       "2 NA                                              \n",
       "3 NA                                              \n",
       "4 NA                                              \n",
       "5 NA                                              \n",
       "6 NA                                              \n",
       "  MedianRentalPrice_SingleFamilyResidence MedianRentalPrice_Studio\n",
       "1 NA                                      NA                      \n",
       "2 NA                                      NA                      \n",
       "3 NA                                      NA                      \n",
       "4 NA                                      NA                      \n",
       "5 NA                                      NA                      \n",
       "6 NA                                      NA                      \n",
       "  ZHVIPerSqft_AllHomes PctOfHomesDecreasingInValues_AllHomes\n",
       "1 58                   NA                                   \n",
       "2 76                   NA                                   \n",
       "3 62                   NA                                   \n",
       "4 44                   NA                                   \n",
       "5 49                   NA                                   \n",
       "6 63                   NA                                   \n",
       "  PctOfHomesIncreasingInValues_AllHomes PctOfHomesSellingForGain_AllHomes\n",
       "1 NA                                    NA                               \n",
       "2 NA                                    NA                               \n",
       "3 NA                                    NA                               \n",
       "4 NA                                    NA                               \n",
       "5 NA                                    NA                               \n",
       "6 NA                                    NA                               \n",
       "  PctOfHomesSellingForLoss_AllHomes\n",
       "1 NA                               \n",
       "2 NA                               \n",
       "3 NA                               \n",
       "4 NA                               \n",
       "5 NA                               \n",
       "6 NA                               \n",
       "  PctOfListingsWithPriceReductionsSeasAdj_AllHomes\n",
       "1 NA                                              \n",
       "2 NA                                              \n",
       "3 NA                                              \n",
       "4 NA                                              \n",
       "5 NA                                              \n",
       "6 NA                                              \n",
       "  PctOfListingsWithPriceReductionsSeasAdj_CondoCoop\n",
       "1 NA                                               \n",
       "2 NA                                               \n",
       "3 NA                                               \n",
       "4 NA                                               \n",
       "5 NA                                               \n",
       "6 NA                                               \n",
       "  PctOfListingsWithPriceReductionsSeasAdj_SingleFamilyResidence\n",
       "1 NA                                                           \n",
       "2 NA                                                           \n",
       "3 NA                                                           \n",
       "4 NA                                                           \n",
       "5 NA                                                           \n",
       "6 NA                                                           \n",
       "  PctOfListingsWithPriceReductions_AllHomes\n",
       "1 NA                                       \n",
       "2 NA                                       \n",
       "3 NA                                       \n",
       "4 NA                                       \n",
       "5 NA                                       \n",
       "6 NA                                       \n",
       "  PctOfListingsWithPriceReductions_CondoCoop\n",
       "1 NA                                        \n",
       "2 NA                                        \n",
       "3 NA                                        \n",
       "4 NA                                        \n",
       "5 NA                                        \n",
       "6 NA                                        \n",
       "  PctOfListingsWithPriceReductions_SingleFamilyResidence\n",
       "1 NA                                                    \n",
       "2 NA                                                    \n",
       "3 NA                                                    \n",
       "4 NA                                                    \n",
       "5 NA                                                    \n",
       "6 NA                                                    \n",
       "  PriceToRentRatio_AllHomes Sale_Counts Sale_Counts_Seas_Adj Sale_Prices\n",
       "1 NA                        NA          NA                   NA         \n",
       "2 NA                        NA          NA                   NA         \n",
       "3 NA                        NA          NA                   NA         \n",
       "4 NA                        NA          NA                   NA         \n",
       "5 NA                        NA          NA                   NA         \n",
       "6 NA                        NA          NA                   NA         \n",
       "  ZHVI_1bedroom ZHVI_2bedroom ZHVI_3bedroom ZHVI_4bedroom ZHVI_5BedroomOrMore\n",
       "1    NA         69200          88700        125900        135600             \n",
       "2 96700         93000         106300        167400            NA             \n",
       "3    NA         97700         103100        162400            NA             \n",
       "4    NA            NA             NA            NA            NA             \n",
       "5    NA            NA             NA            NA            NA             \n",
       "6    NA            NA         100600        167200            NA             \n",
       "  ZHVI_AllHomes ZHVI_BottomTier ZHVI_CondoCoop ZHVI_MiddleTier\n",
       "1  85700        65600           NA              85700         \n",
       "2 116800        81900           NA             116800         \n",
       "3 110600        70600           NA             110600         \n",
       "4  70000           NA           NA              70000         \n",
       "5     NA           NA           NA                 NA         \n",
       "6     NA           NA           NA                 NA         \n",
       "  ZHVI_SingleFamilyResidence ZHVI_TopTier ZRI_AllHomes\n",
       "1  86000                     129700       NA          \n",
       "2 116900                     181400       NA          \n",
       "3 106800                     192300       NA          \n",
       "4  70000                     123500       NA          \n",
       "5     NA                         NA       NA          \n",
       "6  89400                         NA       NA          \n",
       "  ZRI_AllHomesPlusMultifamily ZriPerSqft_AllHomes\n",
       "1 NA                          NA                 \n",
       "2 NA                          NA                 \n",
       "3 NA                          NA                 \n",
       "4 NA                          NA                 \n",
       "5 NA                          NA                 \n",
       "6 NA                          NA                 \n",
       "  Zri_MultiFamilyResidenceRental Zri_SingleFamilyResidenceRental month day year\n",
       "1 NA                             NA                              4     30  1996\n",
       "2 NA                             NA                              4     30  1996\n",
       "3 NA                             NA                              4     30  1996\n",
       "4 NA                             NA                              4     30  1996\n",
       "5 NA                             NA                              4     30  1996\n",
       "6 NA                             NA                              4     30  1996"
      ]
     },
     "metadata": {},
     "output_type": "display_data"
    }
   ],
   "source": [
    "head(county)"
   ]
  },
  {
   "cell_type": "code",
   "execution_count": 18,
   "id": "d4a0942a-976c-4f9c-8332-b26b07c953cf",
   "metadata": {
    "vscode": {
     "languageId": "r"
    }
   },
   "outputs": [],
   "source": [
    "county$mdy <- paste0(county$month, \"/\", county$day, \"/\", county$year, \"/\")"
   ]
  },
  {
   "cell_type": "code",
   "execution_count": 20,
   "id": "cbd4a998-d51b-46c3-8f2f-e267e5ae514a",
   "metadata": {
    "vscode": {
     "languageId": "r"
    }
   },
   "outputs": [
    {
     "data": {
      "text/plain": [
       "[1] 22"
      ]
     },
     "metadata": {},
     "output_type": "display_data"
    }
   ],
   "source": [
    "length(table(county$year))"
   ]
  },
  {
   "cell_type": "code",
   "execution_count": 24,
   "id": "564b7452-e5eb-4ccf-8ef2-3710b91af6af",
   "metadata": {
    "vscode": {
     "languageId": "r"
    }
   },
   "outputs": [],
   "source": [
    "v <- tapply(county$MedianListingPricePerSqft_3Bedroom, county$year, mean, na.rm=TRUE)"
   ]
  },
  {
   "cell_type": "code",
   "execution_count": 25,
   "id": "db6f22cf-85c8-4705-830e-4564b9ac3096",
   "metadata": {
    "vscode": {
     "languageId": "r"
    }
   },
   "outputs": [],
   "source": [
    "w <- tapply(county$MedianListingPricePerSqft_1Bedroom, county$year, mean, na.rm=TRUE)"
   ]
  },
  {
   "cell_type": "code",
   "execution_count": 28,
   "id": "a37d9120-2aed-4040-86fb-830efed13293",
   "metadata": {
    "vscode": {
     "languageId": "r"
    }
   },
   "outputs": [
    {
     "data": {
      "image/png": "[encoded data removed]",
      "text/plain": [
       "plot without title"
      ]
     },
     "metadata": {
      "image/png": {
       "height": 420,
       "width": 420
      }
     },
     "output_type": "display_data"
    }
   ],
   "source": [
    "plot(names(v), v, type=\"l\", ylim=c(0,300))\n",
    "lines(names(w), w, type=\"l\")"
   ]
  },
  {
   "cell_type": "markdown",
   "id": "b456e57c-4a12-464b-999a-ef2df5af80c1",
   "metadata": {},
   "source": [
    "a. Cell 18\n",
    "\n",
    "b. There are a total of 22 years in the dataframe.\n",
    "\n",
    "c. Cell 28\n",
    "\n",
    "d. The graph of the median listing price for 3 bedrooms is 200 - 250 dollars more than it is for a 1 bedroom space."
   ]
  },
  {
   "cell_type": "markdown",
   "id": "fc601975-35ed-4680-a4e1-0273ee3cc047",
   "metadata": {},
   "source": [
    "## Question 2"
   ]
  },
  {
   "cell_type": "code",
   "execution_count": 30,
   "id": "a16336a1-1ef0-41e8-bc7c-49387db27497",
   "metadata": {
    "vscode": {
     "languageId": "r"
    }
   },
   "outputs": [
    {
     "data": {
      "text/plain": [
       "[1] 518791     86"
      ]
     },
     "metadata": {},
     "output_type": "display_data"
    }
   ],
   "source": [
    "dim(county)"
   ]
  },
  {
   "cell_type": "code",
   "execution_count": 31,
   "id": "5194542d-ffdc-4765-8f7c-6ab6e9393e0d",
   "metadata": {
    "vscode": {
     "languageId": "r"
    }
   },
   "outputs": [
    {
     "data": {
      "text/plain": [
       "[1] \"ZHVI_BottomTier\" \"ZHVI_MiddleTier\" \"ZHVI_TopTier\"   "
      ]
     },
     "metadata": {},
     "output_type": "display_data"
    }
   ],
   "source": [
    "names(county)[grep(\"ier\", names(county))]"
   ]
  },
  {
   "cell_type": "code",
   "execution_count": 32,
   "id": "ae7a18bd-458d-414a-babb-480c338262cd",
   "metadata": {
    "vscode": {
     "languageId": "r"
    }
   },
   "outputs": [
    {
     "data": {
      "text/plain": [
       "[1] 65600 81900 70600    NA    NA    NA"
      ]
     },
     "metadata": {},
     "output_type": "display_data"
    }
   ],
   "source": [
    "head(county$ZHVI_BottomTier)"
   ]
  },
  {
   "cell_type": "code",
   "execution_count": 33,
   "id": "f56cd25d-b6a6-47cb-9342-c0d9edb9eeb9",
   "metadata": {
    "vscode": {
     "languageId": "r"
    }
   },
   "outputs": [
    {
     "data": {
      "text/plain": [
       "[1]  85700 116800 110600  70000     NA     NA"
      ]
     },
     "metadata": {},
     "output_type": "display_data"
    }
   ],
   "source": [
    "head(county$ZHVI_MiddleTier)"
   ]
  },
  {
   "cell_type": "code",
   "execution_count": 34,
   "id": "634aeb3b-b404-419f-aed1-829b7edd8792",
   "metadata": {
    "vscode": {
     "languageId": "r"
    }
   },
   "outputs": [
    {
     "data": {
      "text/plain": [
       "[1] 129700 181400 192300 123500     NA     NA"
      ]
     },
     "metadata": {},
     "output_type": "display_data"
    }
   ],
   "source": [
    "head(county$ZHVI_TopTier)"
   ]
  },
  {
   "cell_type": "code",
   "execution_count": 35,
   "id": "6837c981-4251-4331-abe4-b00c388470bc",
   "metadata": {
    "vscode": {
     "languageId": "r"
    }
   },
   "outputs": [
    {
     "data": {
      "text/plain": [
       "    1996     1997     1998     1999     2000     2001     2002     2003 \n",
       "149657.1 153220.3 160847.4 170195.2 182168.7 193997.8 204287.7 217986.8 \n",
       "    2004     2005     2006     2007     2008     2009     2010     2011 \n",
       "237117.5 262079.6 276630.7 277911.1 268666.4 257466.4 237383.0 228135.3 \n",
       "    2012     2013     2014     2015     2016     2017 \n",
       "228593.1 235660.7 245301.8 254253.5 263219.7 275637.1 "
      ]
     },
     "metadata": {},
     "output_type": "display_data"
    }
   ],
   "source": [
    "tapply(county$ZHVI_TopTier, county$year, mean, na.rm=TRUE)"
   ]
  },
  {
   "cell_type": "code",
   "execution_count": 36,
   "id": "e6a7bfa5-50ab-43ce-bc0f-6f2f36cf86fa",
   "metadata": {
    "vscode": {
     "languageId": "r"
    }
   },
   "outputs": [],
   "source": [
    "v <- tapply(county$ZHVI_TopTier, county$year, mean, na.rm=TRUE)"
   ]
  },
  {
   "cell_type": "code",
   "execution_count": 37,
   "id": "e0291c93-4098-443a-bc3a-3f1d9ab94279",
   "metadata": {
    "vscode": {
     "languageId": "r"
    }
   },
   "outputs": [
    {
     "data": {
      "image/png": "[encoded data removed]",
      "text/plain": [
       "plot without title"
      ]
     },
     "metadata": {
      "image/png": {
       "height": 420,
       "width": 420
      }
     },
     "output_type": "display_data"
    }
   ],
   "source": [
    "plot(names(v), v, type=\"l\")"
   ]
  },
  {
   "cell_type": "code",
   "execution_count": 38,
   "id": "663c50aa-99c0-4fcf-acdc-53f39acb9907",
   "metadata": {
    "vscode": {
     "languageId": "r"
    }
   },
   "outputs": [
    {
     "data": {
      "text/plain": [
       "    2014 \n",
       "98515.35 "
      ]
     },
     "metadata": {},
     "output_type": "display_data"
    }
   ],
   "source": [
    "tapply(county$ZHVI_BottomTier, county$year, mean, na.rm=TRUE)[\"2014\"]"
   ]
  },
  {
   "cell_type": "code",
   "execution_count": 40,
   "id": "b39c9ad1-2b11-4057-9816-ad433988a965",
   "metadata": {
    "vscode": {
     "languageId": "r"
    }
   },
   "outputs": [
    {
     "data": {
      "text/plain": [
       "[1] 98515.35"
      ]
     },
     "metadata": {},
     "output_type": "display_data"
    }
   ],
   "source": [
    "mean(county$ZHVI_BottomTier[county$year == \"2014\"], na.rm=TRUE)"
   ]
  },
  {
   "cell_type": "code",
   "execution_count": 42,
   "id": "5dde30da-d9b4-4cb6-ad84-9be35c612242",
   "metadata": {
    "vscode": {
     "languageId": "r"
    }
   },
   "outputs": [
    {
     "data": {
      "text/plain": [
       "    2010 \n",
       "144725.4 "
      ]
     },
     "metadata": {},
     "output_type": "display_data"
    }
   ],
   "source": [
    "tapply(county$ZHVI_MiddleTier, county$year, mean, na.rm=TRUE)[\"2010\"]"
   ]
  },
  {
   "cell_type": "code",
   "execution_count": 43,
   "id": "e255d577-bf9f-4f14-9b3b-09eee4bd4320",
   "metadata": {
    "vscode": {
     "languageId": "r"
    }
   },
   "outputs": [
    {
     "data": {
      "text/plain": [
       "[1] 144725.4"
      ]
     },
     "metadata": {},
     "output_type": "display_data"
    }
   ],
   "source": [
    "mean(county$ZHVI_MiddleTier[county$year == \"2010\"], na.rm=TRUE)"
   ]
  },
  {
   "cell_type": "markdown",
   "id": "14dc22d4-ddc3-41cc-a91a-cb0025bc0c80",
   "metadata": {},
   "source": [
    "a. The average median price for top tier homes is around 150,000 to 275,000 from 1996 to 2017.\n",
    "\n",
    "b. In 2014, the average value of median bottom tier homes was 98,515.35.\n",
    "\n",
    "c. In 2010, the average value of median middle tier homes was 144,725.40."
   ]
  },
  {
   "cell_type": "markdown",
   "id": "8e586edd-ff26-4ce2-8f6b-2424b26f2929",
   "metadata": {},
   "source": [
    "## Question 3"
   ]
  },
  {
   "cell_type": "code",
   "execution_count": 47,
   "id": "bbe0f40d-9655-4653-9ca8-886bdb61cb91",
   "metadata": {
    "vscode": {
     "languageId": "r"
    }
   },
   "outputs": [],
   "source": [
    "v <- tapply(county$ZHVI_TopTier, county$year, mean, na.rm=TRUE)"
   ]
  },
  {
   "cell_type": "code",
   "execution_count": 48,
   "id": "9f813fb7-2715-47de-bdf5-ade49c7dbd69",
   "metadata": {
    "vscode": {
     "languageId": "r"
    }
   },
   "outputs": [
    {
     "data": {
      "text/plain": [
       "    1996     1997     1998     1999     2000     2001     2002     2003 \n",
       "149657.1 153220.3 160847.4 170195.2 182168.7 193997.8 204287.7 217986.8 \n",
       "    2004     2005     2006     2007     2008     2009     2010     2011 \n",
       "237117.5 262079.6 276630.7 277911.1 268666.4 257466.4 237383.0 228135.3 \n",
       "    2012     2013     2014     2015     2016     2017 \n",
       "228593.1 235660.7 245301.8 254253.5 263219.7 275637.1 "
      ]
     },
     "metadata": {},
     "output_type": "display_data"
    }
   ],
   "source": [
    "v"
   ]
  },
  {
   "cell_type": "code",
   "execution_count": 50,
   "id": "f73308cf-8c18-4794-9338-93ea564aced7",
   "metadata": {
    "vscode": {
     "languageId": "r"
    }
   },
   "outputs": [],
   "source": [
    "w <- tapply(county$ZHVI_MiddleTier, county$year, mean, na.rm=TRUE)"
   ]
  },
  {
   "cell_type": "code",
   "execution_count": 52,
   "id": "9b1a759d-99c6-4a6f-a528-b19e7f97c9bd",
   "metadata": {
    "vscode": {
     "languageId": "r"
    }
   },
   "outputs": [
    {
     "data": {
      "text/plain": [
       "     1996      1997      1998      1999      2000      2001      2002      2003 \n",
       " 96498.43  98422.62 102068.37 107461.44 114059.06 121324.76 128138.82 136994.10 \n",
       "     2004      2005      2006      2007      2008      2009      2010      2011 \n",
       "149029.88 164915.91 173707.55 173018.17 165196.71 156687.23 144725.43 137878.30 \n",
       "     2012      2013      2014      2015      2016      2017 \n",
       "136482.30 141333.70 146389.76 152357.83 159839.23 169282.88 "
      ]
     },
     "metadata": {},
     "output_type": "display_data"
    }
   ],
   "source": [
    "w"
   ]
  },
  {
   "cell_type": "code",
   "execution_count": 51,
   "id": "e8f6998a-4312-4bdf-b73a-e7f101cf59f5",
   "metadata": {
    "vscode": {
     "languageId": "r"
    }
   },
   "outputs": [],
   "source": [
    "x <- tapply(county$ZHVI_BottomTier, county$year, mean, na.rm=TRUE)"
   ]
  },
  {
   "cell_type": "code",
   "execution_count": 53,
   "id": "e333c511-b7b7-4588-8786-fe986b02128b",
   "metadata": {
    "vscode": {
     "languageId": "r"
    }
   },
   "outputs": [
    {
     "data": {
      "text/plain": [
       "     1996      1997      1998      1999      2000      2001      2002      2003 \n",
       " 70103.58  70972.25  73359.88  76783.98  81212.09  86265.79  91326.15  98142.64 \n",
       "     2004      2005      2006      2007      2008      2009      2010      2011 \n",
       "107430.56 119010.28 125644.02 125330.50 118547.15 110504.53 101618.24  95133.68 \n",
       "     2012      2013      2014      2015      2016      2017 \n",
       " 92742.05  95140.22  98515.35 102933.27 109040.48 116971.91 "
      ]
     },
     "metadata": {},
     "output_type": "display_data"
    }
   ],
   "source": [
    "x"
   ]
  },
  {
   "cell_type": "code",
   "execution_count": 55,
   "id": "4e1628b1-c0a1-4f6f-8214-62d6684d7a7b",
   "metadata": {
    "vscode": {
     "languageId": "r"
    }
   },
   "outputs": [
    {
     "data": {
      "image/png": "[encoded data removed]",
      "text/plain": [
       "plot without title"
      ]
     },
     "metadata": {
      "image/png": {
       "height": 420,
       "width": 420
      }
     },
     "output_type": "display_data"
    }
   ],
   "source": [
    "plot(names(v), v, type=\"l\", ylim=c(0,300000))\n",
    "lines(names(w), w, type=\"l\")\n",
    "lines(names(x), x, type=\"l\")"
   ]
  },
  {
   "cell_type": "markdown",
   "id": "da22f29c-d245-4d2b-9fc1-ca14cb6087d9",
   "metadata": {},
   "source": [
    "## Question 4"
   ]
  },
  {
   "cell_type": "code",
   "execution_count": 56,
   "id": "8cffc767-d1c8-4d64-b7dc-f0d2ee8a80d1",
   "metadata": {
    "vscode": {
     "languageId": "r"
    }
   },
   "outputs": [],
   "source": [
    "v <- tapply(county$ZHVI_TopTier, county$month, mean, na.rm=TRUE)"
   ]
  },
  {
   "cell_type": "code",
   "execution_count": 58,
   "id": "aa1c434a-8562-4594-9179-f564c1917a52",
   "metadata": {
    "vscode": {
     "languageId": "r"
    }
   },
   "outputs": [],
   "source": [
    "w <- tapply(county$ZHVI_MiddleTier, county$month, mean, na.rm=TRUE)"
   ]
  },
  {
   "cell_type": "code",
   "execution_count": 57,
   "id": "3d2808f7-6684-4ce5-bda1-54442c1a6f9d",
   "metadata": {
    "vscode": {
     "languageId": "r"
    }
   },
   "outputs": [],
   "source": [
    "x <- tapply(county$ZHVI_BottomTier, county$month, mean, na.rm=TRUE)"
   ]
  },
  {
   "cell_type": "code",
   "execution_count": 60,
   "id": "c299365d-b52e-433c-a0b8-bac1a27e39df",
   "metadata": {
    "vscode": {
     "languageId": "r"
    }
   },
   "outputs": [
    {
     "data": {
      "image/png": "[encoded data removed]",
      "text/plain": [
       "plot without title"
      ]
     },
     "metadata": {
      "image/png": {
       "height": 420,
       "width": 420
      }
     },
     "output_type": "display_data"
    }
   ],
   "source": [
    "plot(names(v), v, type=\"l\", ylim=c(0,250000))\n",
    "lines(names(w), w, type=\"l\")\n",
    "lines(names(x), x, type=\"l\")"
   ]
  },
  {
   "cell_type": "markdown",
   "id": "0d552245-b4d6-474a-9cc9-fa7b8e674d55",
   "metadata": {},
   "source": [
    "I chose to look at the mean price for top, middle, and bottom tier homes on a monthly basis, as I thought it could give some insight into how the price fluctuates from month to month. I found that they did not deviate very significantly in their price between months."
   ]
  },
  {
   "cell_type": "markdown",
   "id": "f76442d6-d02e-4f26-b9d6-c3183e1d6929",
   "metadata": {},
   "source": [
    "## Pledge\n",
    "\n",
    "By submitting this work I hereby pledge that this is my own, personal work. I've acknowledged in the designated place at the top of this file all sources that I used to complete said work, including but not limited to: online resources, books, and electronic communications. I've noted all collaboration with fellow students and/or TA's. I did not copy or plagiarize another's work.\n",
    "\n",
    "> As a Boilermaker pursuing academic excellence, I pledge to be honest and true in all that I do. Accountable together – We are Purdue."
   ]
  }
 ],
 "metadata": {
  "kernelspec": {
   "display_name": "f2022-s2023-r",
   "language": "R",
   "name": "f2022-s2023-r"
  },
  "language_info": {
   "codemirror_mode": "r",
   "file_extension": ".r",
   "mimetype": "text/x-r-source",
   "name": "R",
   "pygments_lexer": "r",
   "version": "4.2.1"
  }
 },
 "nbformat": 4,
 "nbformat_minor": 5
}
