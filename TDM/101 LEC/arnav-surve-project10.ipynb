{
 "cells": [
  {
   "cell_type": "markdown",
   "id": "be02a957-7133-4d02-818e-fedeb3cecb05",
   "metadata": {},
   "source": [
    "# Project 10 -- Arnav Surve"
   ]
  },
  {
   "cell_type": "markdown",
   "id": "a1228853-dd19-4ab2-89e0-0394d7d72de3",
   "metadata": {},
   "source": [
    "**TA Help:** N/A\n",
    "    \n",
    "**Collaboration:** N/A"
   ]
  },
  {
   "cell_type": "markdown",
   "id": "6180e742-8e39-4698-98ff-5b00c8cf8ea0",
   "metadata": {},
   "source": [
    "## Question 1"
   ]
  },
  {
   "cell_type": "code",
   "execution_count": 1,
   "id": "49445606-d363-41b4-b479-e319a9a84c01",
   "metadata": {
    "vscode": {
     "languageId": "r"
    }
   },
   "outputs": [],
   "source": [
    "options(jupyter.rich_display = F)"
   ]
  },
  {
   "cell_type": "code",
   "execution_count": 2,
   "id": "1781165a-9f1c-447b-986c-8bfcf7bec351",
   "metadata": {
    "vscode": {
     "languageId": "r"
    }
   },
   "outputs": [],
   "source": [
    "options(repr.matrix.max.cols=25, repr.matrix.max.rows=200)"
   ]
  },
  {
   "cell_type": "code",
   "execution_count": 3,
   "id": "90037d1d-d9d5-4661-b450-4caf69685b07",
   "metadata": {
    "vscode": {
     "languageId": "r"
    }
   },
   "outputs": [],
   "source": [
    "library(data.table)"
   ]
  },
  {
   "cell_type": "code",
   "execution_count": 4,
   "id": "75c6dd04-e4aa-4d1c-997b-49f06a5a1664",
   "metadata": {
    "vscode": {
     "languageId": "r"
    }
   },
   "outputs": [],
   "source": [
    "users <- fread(\"/anvil/projects/tdm/data/okcupid/filtered/users.csv\")"
   ]
  },
  {
   "cell_type": "code",
   "execution_count": 5,
   "id": "25fc0f00-3ff8-4645-988b-e60f7ea84752",
   "metadata": {
    "vscode": {
     "languageId": "r"
    }
   },
   "outputs": [],
   "source": [
    "questions <- fread(\"/anvil/projects/tdm/data/okcupid/filtered/questions.csv\")"
   ]
  },
  {
   "cell_type": "code",
   "execution_count": 8,
   "id": "d0f3592f-b97e-430b-b127-404454f8efa6",
   "metadata": {
    "vscode": {
     "languageId": "r"
    }
   },
   "outputs": [
    {
     "data": {
      "text/plain": [
       "[1] 68371  2284"
      ]
     },
     "metadata": {},
     "output_type": "display_data"
    }
   ],
   "source": [
    "dim(users)"
   ]
  },
  {
   "cell_type": "code",
   "execution_count": 6,
   "id": "895e6664-7c68-4b61-a5d4-c5f6c990d875",
   "metadata": {
    "vscode": {
     "languageId": "r"
    }
   },
   "outputs": [
    {
     "data": {
      "text/plain": [
       "  q41                  q42 q43 q45 q46         q48   q49      q50 q55 q56 ...\n",
       "1 NA                   NA  NA  NA  NA          NA    Carefree NA  No  No  ...\n",
       "2 NA                   NA  NA  NA  NA          NA    NA       NA  NA  NA  ...\n",
       "3 Extremely important  NA  NA  NA  Good        NA    Carefree NA  No  NA  ...\n",
       "4 NA                   NA  NA  NA  NA          NA    NA       NA  NA  NA  ...\n",
       "5 Not at all important NA  NA  NA  Interesting Weird Intense  NA  NA  NA  ...\n",
       "6 Not at all important NA  NA  NA  Good        Weird NA       NA  NA  No  ...\n",
       "  q86397 q86462 q86699 q363047 CA        gender_orientation race  gender2\n",
       "1 NA     NA     NA     NA      0.7630798 Hetero_female      White Woman  \n",
       "2 NA     NA     NA     NA             NA Hetero_male        NA    Man    \n",
       "3 NA     NA     NA     NA      0.6613091 Hetero_female      NA    Woman  \n",
       "4 NA     NA     NA     NA             NA Hetero_female      White Woman  \n",
       "5 NA     NA     NA     NA      0.8754240 Bisexual_female    NA    Woman  \n",
       "6 NA     NA     NA     NA      1.5153514 Hetero_male        White Man    \n",
       "  gender2_num CA_items\n",
       "1 0           4       \n",
       "2 1           0       \n",
       "3 0           7       \n",
       "4 0           0       \n",
       "5 0           3       \n",
       "6 1           7       "
      ]
     },
     "metadata": {},
     "output_type": "display_data"
    }
   ],
   "source": [
    "head(users)"
   ]
  },
  {
   "cell_type": "code",
   "execution_count": 9,
   "id": "cf03cdc4-4872-4993-bd72-1287468fbc2e",
   "metadata": {
    "vscode": {
     "languageId": "r"
    }
   },
   "outputs": [
    {
     "data": {
      "text/plain": [
       "[1] 2281   10"
      ]
     },
     "metadata": {},
     "output_type": "display_data"
    }
   ],
   "source": [
    "dim(questions)"
   ]
  },
  {
   "cell_type": "code",
   "execution_count": 7,
   "id": "a0773cff-3388-4e7a-a519-922d7481f3e0",
   "metadata": {
    "vscode": {
     "languageId": "r"
    }
   },
   "outputs": [
    {
     "data": {
      "text/plain": [
       "  X  \n",
       "1 q41\n",
       "2 q42\n",
       "3 q43\n",
       "4 q44\n",
       "5 q45\n",
       "6 q46\n",
       "  text                                                                                               \n",
       "1 How important is religion/God in your life?                                                        \n",
       "2 Is your duty to religion/God the most important thing in your life?                                \n",
       "3 Do you believe in some kind of a spiritual, cosmic force outside the realm of most modern religion?\n",
       "4 Some religions are more correct than others.                                                       \n",
       "5 Do you believe in ghosts?                                                                          \n",
       "6 Would you prefer good things happened, or interesting things?                                      \n",
       "  option_1            option_2           option_3          \n",
       "1 Extremely important Somewhat important Not very important\n",
       "2 Yes                 No                                   \n",
       "3 Yes                 No                                   \n",
       "4 True                False                                \n",
       "5 Yes                 No                                   \n",
       "6 Good                Interesting                          \n",
       "  option_4             N     Type Order Keywords             \n",
       "1 Not at all important 54140 O          religion/superstition\n",
       "2                      16024 O          religion/superstition\n",
       "3                      6595  O          religion/superstition\n",
       "4                      29109 O          religion/superstition\n",
       "5                      21619 O          religion/superstition\n",
       "6                      52112 N          preference           "
      ]
     },
     "metadata": {},
     "output_type": "display_data"
    }
   ],
   "source": [
    "head(questions)"
   ]
  },
  {
   "cell_type": "markdown",
   "id": "b456e57c-4a12-464b-999a-ef2df5af80c1",
   "metadata": {},
   "source": [
    "The users dataframe stores each user's answers to questions, and the questions dataframe contains each question and its answer choices."
   ]
  },
  {
   "cell_type": "markdown",
   "id": "fc601975-35ed-4680-a4e1-0273ee3cc047",
   "metadata": {},
   "source": [
    "## Question 2"
   ]
  },
  {
   "cell_type": "code",
   "execution_count": 11,
   "id": "a16336a1-1ef0-41e8-bc7c-49387db27497",
   "metadata": {
    "vscode": {
     "languageId": "r"
    }
   },
   "outputs": [
    {
     "data": {
      "text/plain": [
       "[1] 2281   10"
      ]
     },
     "metadata": {},
     "output_type": "display_data"
    }
   ],
   "source": [
    "dim(questions)"
   ]
  },
  {
   "cell_type": "code",
   "execution_count": 12,
   "id": "9fdae885-0faf-4b5b-8e6c-9b97b562282c",
   "metadata": {
    "vscode": {
     "languageId": "r"
    }
   },
   "outputs": [
    {
     "data": {
      "text/plain": [
       "  X  \n",
       "1 q41\n",
       "2 q42\n",
       "3 q43\n",
       "4 q44\n",
       "5 q45\n",
       "6 q46\n",
       "  text                                                                                               \n",
       "1 How important is religion/God in your life?                                                        \n",
       "2 Is your duty to religion/God the most important thing in your life?                                \n",
       "3 Do you believe in some kind of a spiritual, cosmic force outside the realm of most modern religion?\n",
       "4 Some religions are more correct than others.                                                       \n",
       "5 Do you believe in ghosts?                                                                          \n",
       "6 Would you prefer good things happened, or interesting things?                                      \n",
       "  option_1            option_2           option_3          \n",
       "1 Extremely important Somewhat important Not very important\n",
       "2 Yes                 No                                   \n",
       "3 Yes                 No                                   \n",
       "4 True                False                                \n",
       "5 Yes                 No                                   \n",
       "6 Good                Interesting                          \n",
       "  option_4             N     Type Order Keywords             \n",
       "1 Not at all important 54140 O          religion/superstition\n",
       "2                      16024 O          religion/superstition\n",
       "3                      6595  O          religion/superstition\n",
       "4                      29109 O          religion/superstition\n",
       "5                      21619 O          religion/superstition\n",
       "6                      52112 N          preference           "
      ]
     },
     "metadata": {},
     "output_type": "display_data"
    }
   ],
   "source": [
    "head(questions)"
   ]
  },
  {
   "cell_type": "code",
   "execution_count": 14,
   "id": "afa1b26f-5e7e-4943-b8a6-bc44b8f9ad2c",
   "metadata": {
    "vscode": {
     "languageId": "r"
    }
   },
   "outputs": [
    {
     "data": {
      "text/plain": [
       "[1] 2172"
      ]
     },
     "metadata": {},
     "output_type": "display_data"
    }
   ],
   "source": [
    "grep(\"Google\", questions$text)"
   ]
  },
  {
   "cell_type": "code",
   "execution_count": 15,
   "id": "4563a9d1-81ba-4f7a-bbbc-83fffc0f1a03",
   "metadata": {
    "vscode": {
     "languageId": "r"
    }
   },
   "outputs": [
    {
     "data": {
      "text/plain": [
       "  X       text                                       option_1                \n",
       "1 q170849 Do you Google someone before a first date? Yes. Knowledge is power!\n",
       "  option_2                   option_3 option_4 N     Type Order\n",
       "1 No. Why spoil the mystery?                   39621 O         \n",
       "  Keywords               \n",
       "1 descriptive; technology"
      ]
     },
     "metadata": {},
     "output_type": "display_data"
    }
   ],
   "source": [
    "questions[2172, ]"
   ]
  },
  {
   "cell_type": "code",
   "execution_count": 19,
   "id": "28e639f1-f991-42cc-8b35-f7d1a0e9bfc7",
   "metadata": {
    "vscode": {
     "languageId": "r"
    }
   },
   "outputs": [
    {
     "data": {
      "text/plain": [
       "[1] \"Do you Google someone before a first date?\""
      ]
     },
     "metadata": {},
     "output_type": "display_data"
    }
   ],
   "source": [
    "questions$text[grepl(\"Google\", questions$text)]"
   ]
  },
  {
   "cell_type": "markdown",
   "id": "14dc22d4-ddc3-41cc-a91a-cb0025bc0c80",
   "metadata": {},
   "source": [
    "a. The function returns the line number(s) that the keyword is found on.\n",
    "\n",
    "b. The word \"Google\" can be found at row 2,172 in the question \"Do you Google someone before a first date?\"."
   ]
  },
  {
   "cell_type": "markdown",
   "id": "8e586edd-ff26-4ce2-8f6b-2424b26f2929",
   "metadata": {},
   "source": [
    "## Question 3"
   ]
  },
  {
   "cell_type": "code",
   "execution_count": 20,
   "id": "bbe0f40d-9655-4653-9ca8-886bdb61cb91",
   "metadata": {
    "vscode": {
     "languageId": "r"
    }
   },
   "outputs": [
    {
     "data": {
      "text/plain": [
       "[1] 68371  2284"
      ]
     },
     "metadata": {},
     "output_type": "display_data"
    }
   ],
   "source": [
    "dim(users)"
   ]
  },
  {
   "cell_type": "code",
   "execution_count": 21,
   "id": "61c61b30-690a-452a-8460-3e32ac7b5248",
   "metadata": {
    "vscode": {
     "languageId": "r"
    }
   },
   "outputs": [
    {
     "data": {
      "text/plain": [
       "  q41                  q42 q43 q45 q46         q48   q49      q50 q55 q56 ...\n",
       "1 NA                   NA  NA  NA  NA          NA    Carefree NA  No  No  ...\n",
       "2 NA                   NA  NA  NA  NA          NA    NA       NA  NA  NA  ...\n",
       "3 Extremely important  NA  NA  NA  Good        NA    Carefree NA  No  NA  ...\n",
       "4 NA                   NA  NA  NA  NA          NA    NA       NA  NA  NA  ...\n",
       "5 Not at all important NA  NA  NA  Interesting Weird Intense  NA  NA  NA  ...\n",
       "6 Not at all important NA  NA  NA  Good        Weird NA       NA  NA  No  ...\n",
       "  q86397 q86462 q86699 q363047 CA        gender_orientation race  gender2\n",
       "1 NA     NA     NA     NA      0.7630798 Hetero_female      White Woman  \n",
       "2 NA     NA     NA     NA             NA Hetero_male        NA    Man    \n",
       "3 NA     NA     NA     NA      0.6613091 Hetero_female      NA    Woman  \n",
       "4 NA     NA     NA     NA             NA Hetero_female      White Woman  \n",
       "5 NA     NA     NA     NA      0.8754240 Bisexual_female    NA    Woman  \n",
       "6 NA     NA     NA     NA      1.5153514 Hetero_male        White Man    \n",
       "  gender2_num CA_items\n",
       "1 0           4       \n",
       "2 1           0       \n",
       "3 0           7       \n",
       "4 0           0       \n",
       "5 0           3       \n",
       "6 1           7       "
      ]
     },
     "metadata": {},
     "output_type": "display_data"
    }
   ],
   "source": [
    "head(users)"
   ]
  },
  {
   "cell_type": "code",
   "execution_count": 24,
   "id": "a4a09c93-aad0-40c8-9f48-8e332cf762b3",
   "metadata": {
    "vscode": {
     "languageId": "r"
    }
   },
   "outputs": [
    {
     "data": {
      "text/plain": [
       "[1] 1193"
      ]
     },
     "metadata": {},
     "output_type": "display_data"
    }
   ],
   "source": [
    "which(names(users) == \"q170849\")"
   ]
  },
  {
   "cell_type": "code",
   "execution_count": 25,
   "id": "cbaeca7d-2a31-4266-a3b7-fdc5a1ba6f06",
   "metadata": {
    "vscode": {
     "languageId": "r"
    }
   },
   "outputs": [
    {
     "data": {
      "text/plain": [
       "      q170849                   \n",
       "1     No. Why spoil the mystery?\n",
       "2     NA                        \n",
       "3     No. Why spoil the mystery?\n",
       "4     NA                        \n",
       "5     NA                        \n",
       "6     Yes. Knowledge is power!  \n",
       "7     Yes. Knowledge is power!  \n",
       "8     NA                        \n",
       "9     NA                        \n",
       "10    NA                        \n",
       "11    No. Why spoil the mystery?\n",
       "12    NA                        \n",
       "13    Yes. Knowledge is power!  \n",
       "14    NA                        \n",
       "15    No. Why spoil the mystery?\n",
       "16    NA                        \n",
       "17    NA                        \n",
       "18    NA                        \n",
       "19    No. Why spoil the mystery?\n",
       "20    NA                        \n",
       "21    NA                        \n",
       "22    No. Why spoil the mystery?\n",
       "23    Yes. Knowledge is power!  \n",
       "24    Yes. Knowledge is power!  \n",
       "25    NA                        \n",
       "26    No. Why spoil the mystery?\n",
       "27    NA                        \n",
       "28    NA                        \n",
       "29    NA                        \n",
       "30    No. Why spoil the mystery?\n",
       "31    Yes. Knowledge is power!  \n",
       "32    NA                        \n",
       "33    No. Why spoil the mystery?\n",
       "34    Yes. Knowledge is power!  \n",
       "35    NA                        \n",
       "36    Yes. Knowledge is power!  \n",
       "37    NA                        \n",
       "38    Yes. Knowledge is power!  \n",
       "39    No. Why spoil the mystery?\n",
       "40    No. Why spoil the mystery?\n",
       "41    Yes. Knowledge is power!  \n",
       "42    NA                        \n",
       "43    NA                        \n",
       "44    NA                        \n",
       "45    Yes. Knowledge is power!  \n",
       "46    NA                        \n",
       "47    NA                        \n",
       "48    NA                        \n",
       "49    No. Why spoil the mystery?\n",
       "50    NA                        \n",
       "51    No. Why spoil the mystery?\n",
       "52    NA                        \n",
       "53    NA                        \n",
       "54    NA                        \n",
       "55    NA                        \n",
       "56    No. Why spoil the mystery?\n",
       "57    NA                        \n",
       "58    Yes. Knowledge is power!  \n",
       "59    NA                        \n",
       "60    NA                        \n",
       "61    Yes. Knowledge is power!  \n",
       "62    NA                        \n",
       "63    NA                        \n",
       "64    NA                        \n",
       "65    NA                        \n",
       "66    Yes. Knowledge is power!  \n",
       "67    NA                        \n",
       "68    NA                        \n",
       "69    NA                        \n",
       "70    NA                        \n",
       "71    No. Why spoil the mystery?\n",
       "72    NA                        \n",
       "73    No. Why spoil the mystery?\n",
       "74    NA                        \n",
       "75    NA                        \n",
       "76    NA                        \n",
       "77    NA                        \n",
       "78    No. Why spoil the mystery?\n",
       "79    NA                        \n",
       "80    NA                        \n",
       "81    No. Why spoil the mystery?\n",
       "82    Yes. Knowledge is power!  \n",
       "83    NA                        \n",
       "84    No. Why spoil the mystery?\n",
       "85    NA                        \n",
       "86    No. Why spoil the mystery?\n",
       "87    NA                        \n",
       "88    NA                        \n",
       "89    NA                        \n",
       "90    NA                        \n",
       "91    NA                        \n",
       "92    NA                        \n",
       "93    Yes. Knowledge is power!  \n",
       "94    Yes. Knowledge is power!  \n",
       "95    NA                        \n",
       "96    NA                        \n",
       "97    Yes. Knowledge is power!  \n",
       "98    No. Why spoil the mystery?\n",
       "99    NA                        \n",
       "100   NA                        \n",
       "...   ...                       \n",
       "68272 NA                        \n",
       "68273 NA                        \n",
       "68274 NA                        \n",
       "68275 NA                        \n",
       "68276 NA                        \n",
       "68277 NA                        \n",
       "68278 NA                        \n",
       "68279 NA                        \n",
       "68280 NA                        \n",
       "68281 No. Why spoil the mystery?\n",
       "68282 NA                        \n",
       "68283 NA                        \n",
       "68284 No. Why spoil the mystery?\n",
       "68285 NA                        \n",
       "68286 NA                        \n",
       "68287 NA                        \n",
       "68288 NA                        \n",
       "68289 No. Why spoil the mystery?\n",
       "68290 NA                        \n",
       "68291 NA                        \n",
       "68292 NA                        \n",
       "68293 NA                        \n",
       "68294 NA                        \n",
       "68295 NA                        \n",
       "68296 NA                        \n",
       "68297 No. Why spoil the mystery?\n",
       "68298 NA                        \n",
       "68299 NA                        \n",
       "68300 NA                        \n",
       "68301 NA                        \n",
       "68302 NA                        \n",
       "68303 NA                        \n",
       "68304 NA                        \n",
       "68305 NA                        \n",
       "68306 Yes. Knowledge is power!  \n",
       "68307 Yes. Knowledge is power!  \n",
       "68308 NA                        \n",
       "68309 NA                        \n",
       "68310 NA                        \n",
       "68311 NA                        \n",
       "68312 NA                        \n",
       "68313 NA                        \n",
       "68314 NA                        \n",
       "68315 NA                        \n",
       "68316 No. Why spoil the mystery?\n",
       "68317 NA                        \n",
       "68318 No. Why spoil the mystery?\n",
       "68319 NA                        \n",
       "68320 NA                        \n",
       "68321 NA                        \n",
       "68322 NA                        \n",
       "68323 NA                        \n",
       "68324 NA                        \n",
       "68325 NA                        \n",
       "68326 NA                        \n",
       "68327 No. Why spoil the mystery?\n",
       "68328 NA                        \n",
       "68329 NA                        \n",
       "68330 NA                        \n",
       "68331 NA                        \n",
       "68332 NA                        \n",
       "68333 NA                        \n",
       "68334 NA                        \n",
       "68335 NA                        \n",
       "68336 NA                        \n",
       "68337 NA                        \n",
       "68338 NA                        \n",
       "68339 NA                        \n",
       "68340 NA                        \n",
       "68341 NA                        \n",
       "68342 NA                        \n",
       "68343 NA                        \n",
       "68344 NA                        \n",
       "68345 NA                        \n",
       "68346 NA                        \n",
       "68347 NA                        \n",
       "68348 NA                        \n",
       "68349 NA                        \n",
       "68350 NA                        \n",
       "68351 NA                        \n",
       "68352 NA                        \n",
       "68353 NA                        \n",
       "68354 NA                        \n",
       "68355 NA                        \n",
       "68356 NA                        \n",
       "68357 NA                        \n",
       "68358 NA                        \n",
       "68359 NA                        \n",
       "68360 NA                        \n",
       "68361 NA                        \n",
       "68362 NA                        \n",
       "68363 NA                        \n",
       "68364 NA                        \n",
       "68365 NA                        \n",
       "68366 NA                        \n",
       "68367 NA                        \n",
       "68368 NA                        \n",
       "68369 NA                        \n",
       "68370 NA                        \n",
       "68371 NA                        "
      ]
     },
     "metadata": {},
     "output_type": "display_data"
    }
   ],
   "source": [
    "users[ , 1193]"
   ]
  },
  {
   "cell_type": "code",
   "execution_count": 27,
   "id": "09db6f13-37fb-4954-8381-17d74e8fb0ec",
   "metadata": {
    "vscode": {
     "languageId": "r"
    }
   },
   "outputs": [
    {
     "data": {
      "text/plain": [
       "\n",
       "No. Why spoil the mystery?   Yes. Knowledge is power! \n",
       "                 0.3774115                  0.2020886 \n",
       "                      <NA> \n",
       "                 0.4204999 "
      ]
     },
     "metadata": {},
     "output_type": "display_data"
    }
   ],
   "source": [
    "prop.table(table(users[[1193]], useNA=\"always\"))"
   ]
  },
  {
   "cell_type": "markdown",
   "id": "47c6229f-35f7-400c-8366-c442baa5cf47",
   "metadata": {},
   "source": [
    "a. This corresponds with the questions variable in the users dataframe, specifically q170849.\n",
    "\n",
    "b. Approximately 37.7% of users do not google someone before the first date."
   ]
  },
  {
   "cell_type": "markdown",
   "id": "da22f29c-d245-4d2b-9fc1-ca14cb6087d9",
   "metadata": {},
   "source": [
    "## Question 4"
   ]
  },
  {
   "cell_type": "code",
   "execution_count": 29,
   "id": "021bc654-a1f5-4c24-b037-a4d33a512838",
   "metadata": {
    "vscode": {
     "languageId": "r"
    }
   },
   "outputs": [
    {
     "data": {
      "text/plain": [
       "[1] \"Woman\" \"Man\"   \"Woman\" \"Woman\" \"Woman\" \"Man\"  "
      ]
     },
     "metadata": {},
     "output_type": "display_data"
    }
   ],
   "source": [
    "head(users[[2282]])"
   ]
  },
  {
   "cell_type": "code",
   "execution_count": 31,
   "id": "8cffc767-d1c8-4d64-b7dc-f0d2ee8a80d1",
   "metadata": {
    "vscode": {
     "languageId": "r"
    }
   },
   "outputs": [
    {
     "data": {
      "text/plain": [
       "$Man\n",
       "\n",
       "No. Why spoil the mystery?   Yes. Knowledge is power! \n",
       "                     17294                       7549 \n",
       "\n",
       "$Woman\n",
       "\n",
       "No. Why spoil the mystery?   Yes. Knowledge is power! \n",
       "                      7987                       5660 \n"
      ]
     },
     "metadata": {},
     "output_type": "display_data"
    }
   ],
   "source": [
    "tapply(users[[1193]], users[[2282]], table)"
   ]
  },
  {
   "cell_type": "code",
   "execution_count": 36,
   "id": "ffe89388-8c94-472f-a747-b05f5d43e4d5",
   "metadata": {
    "vscode": {
     "languageId": "r"
    }
   },
   "outputs": [
    {
     "data": {
      "text/plain": [
       "$Man\n",
       "x\n",
       "No. Why spoil the mystery?   Yes. Knowledge is power! \n",
       "                 0.4300385                  0.1877160 \n",
       "                      <NA> \n",
       "                 0.3822454 \n",
       "\n",
       "$Woman\n",
       "x\n",
       "No. Why spoil the mystery?   Yes. Knowledge is power! \n",
       "                 0.3077605                  0.2180949 \n",
       "                      <NA> \n",
       "                 0.4741446 \n"
      ]
     },
     "metadata": {},
     "output_type": "display_data"
    }
   ],
   "source": [
    "tapply(users[[1193]], users[[2282]], function(x) {prop.table(table(x, useNA=\"always\"))})"
   ]
  },
  {
   "cell_type": "markdown",
   "id": "88c9cdac-3e92-498f-83fa-e089bfc44ac8",
   "metadata": {},
   "source": [
    "## Question 5"
   ]
  },
  {
   "cell_type": "code",
   "execution_count": 40,
   "id": "d370d7c9-06db-42b9-b75f-240481a5c491",
   "metadata": {
    "vscode": {
     "languageId": "r"
    }
   },
   "outputs": [
    {
     "data": {
      "text/plain": [
       "\n",
       "Bisexual      Gay   Hetero \n",
       "    4743     3392    57747 "
      ]
     },
     "metadata": {},
     "output_type": "display_data"
    }
   ],
   "source": [
    "table(gsub(\"_[A-Va-z]*\", \"\", users$gender_orientation))"
   ]
  },
  {
   "cell_type": "markdown",
   "id": "9fbf00fb-2418-460f-ae94-2a32b0c28952",
   "metadata": {},
   "source": [
    "Markdown notes and sentences and analysis written here."
   ]
  },
  {
   "cell_type": "markdown",
   "id": "f76442d6-d02e-4f26-b9d6-c3183e1d6929",
   "metadata": {},
   "source": [
    "## Pledge\n",
    "\n",
    "By submitting this work I hereby pledge that this is my own, personal work. I've acknowledged in the designated place at the top of this file all sources that I used to complete said work, including but not limited to: online resources, books, and electronic communications. I've noted all collaboration with fellow students and/or TA's. I did not copy or plagiarize another's work.\n",
    "\n",
    "> As a Boilermaker pursuing academic excellence, I pledge to be honest and true in all that I do. Accountable together – We are Purdue."
   ]
  }
 ],
 "metadata": {
  "kernelspec": {
   "display_name": "f2022-s2023-r",
   "language": "R",
   "name": "f2022-s2023-r"
  },
  "language_info": {
   "codemirror_mode": "r",
   "file_extension": ".r",
   "mimetype": "text/x-r-source",
   "name": "R",
   "pygments_lexer": "r",
   "version": "4.2.1"
  }
 },
 "nbformat": 4,
 "nbformat_minor": 5
}
