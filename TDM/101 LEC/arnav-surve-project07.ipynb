{
 "cells": [
  {
   "cell_type": "markdown",
   "id": "be02a957-7133-4d02-818e-fedeb3cecb05",
   "metadata": {},
   "source": [
    "# Project 7 -- Arnav Surve"
   ]
  },
  {
   "cell_type": "markdown",
   "id": "a1228853-dd19-4ab2-89e0-0394d7d72de3",
   "metadata": {},
   "source": [
    "**TA Help:** n/a\n",
    "    \n",
    "**Collaboration:** n/a"
   ]
  },
  {
   "cell_type": "markdown",
   "id": "6180e742-8e39-4698-98ff-5b00c8cf8ea0",
   "metadata": {},
   "source": [
    "## Question 1"
   ]
  },
  {
   "cell_type": "code",
   "execution_count": 2,
   "id": "49445606-d363-41b4-b479-e319a9a84c01",
   "metadata": {},
   "outputs": [],
   "source": [
    "library(data.table)\n",
    "\n",
    "titles <- data.frame(fread(\"/anvil/projects/tdm/data/movies_and_tv/titles.csv\"))\n",
    "episodes <- data.frame(fread(\"/anvil/projects/tdm/data/movies_and_tv/episodes.csv\"))\n",
    "people <- data.frame(fread(\"/anvil/projects/tdm/data/movies_and_tv/people.csv\"))\n",
    "ratings <- data.frame(fread(\"/anvil/projects/tdm/data/movies_and_tv/ratings.csv\"))"
   ]
  },
  {
   "cell_type": "code",
   "execution_count": 7,
   "id": "2f967950-9630-4edf-aa54-247d1cb279ce",
   "metadata": {},
   "outputs": [],
   "source": [
    "options(jupyter.rich_display = F)"
   ]
  },
  {
   "cell_type": "code",
   "execution_count": 8,
   "id": "0898f5a9-2e1f-41f4-9264-5569c4a8e4b9",
   "metadata": {},
   "outputs": [
    {
     "data": {
      "text/plain": [
       "  title_id  type  primary_title          original_title         is_adult\n",
       "1 tt0000001 short Carmencita             Carmencita             0       \n",
       "2 tt0000002 short Le clown et ses chiens Le clown et ses chiens 0       \n",
       "3 tt0000003 short Pauvre Pierrot         Pauvre Pierrot         0       \n",
       "4 tt0000004 short Un bon bock            Un bon bock            0       \n",
       "5 tt0000005 short Blacksmith Scene       Blacksmith Scene       0       \n",
       "6 tt0000006 short Chinese Opium Den      Chinese Opium Den      0       \n",
       "  premiered ended runtime_minutes genres                  \n",
       "1 1894      NA     1              Documentary,Short       \n",
       "2 1892      NA     5              Animation,Short         \n",
       "3 1892      NA     4              Animation,Comedy,Romance\n",
       "4 1892      NA    12              Animation,Short         \n",
       "5 1893      NA     1              Comedy,Short            \n",
       "6 1894      NA     1              Short                   "
      ]
     },
     "metadata": {},
     "output_type": "display_data"
    }
   ],
   "source": [
    "head(titles)"
   ]
  },
  {
   "cell_type": "code",
   "execution_count": 9,
   "id": "f89d2984-9f27-438b-af41-134577db5527",
   "metadata": {},
   "outputs": [
    {
     "data": {
      "text/plain": [
       "  episode_title_id show_title_id season_number episode_number\n",
       "1 tt0041951        tt0041038      1            9             \n",
       "2 tt0042816        tt0989125      1            17            \n",
       "3 tt0042889        tt0989125     NA            \\\\N           \n",
       "4 tt0043426        tt0040051      3            42            \n",
       "5 tt0043631        tt0989125      2            16            \n",
       "6 tt0043693        tt0989125      2            8             "
      ]
     },
     "metadata": {},
     "output_type": "display_data"
    }
   ],
   "source": [
    "head(episodes)"
   ]
  },
  {
   "cell_type": "code",
   "execution_count": 10,
   "id": "036efdec-695e-4081-b9d7-28b7a6e30110",
   "metadata": {},
   "outputs": [
    {
     "data": {
      "text/plain": [
       "  person_id name            born died\n",
       "1 nm0000001 Fred Astaire    1899 1987\n",
       "2 nm0000002 Lauren Bacall   1924 2014\n",
       "3 nm0000003 Brigitte Bardot 1934   NA\n",
       "4 nm0000004 John Belushi    1949 1982\n",
       "5 nm0000005 Ingmar Bergman  1918 2007\n",
       "6 nm0000006 Ingrid Bergman  1915 1982"
      ]
     },
     "metadata": {},
     "output_type": "display_data"
    }
   ],
   "source": [
    "head(people)"
   ]
  },
  {
   "cell_type": "code",
   "execution_count": 11,
   "id": "16e9d835-b6e9-4811-887d-47056bb7bb74",
   "metadata": {},
   "outputs": [
    {
     "data": {
      "text/plain": [
       "  title_id  rating votes\n",
       "1 tt0000001 5.7    1718 \n",
       "2 tt0000002 6.0     211 \n",
       "3 tt0000003 6.5    1480 \n",
       "4 tt0000004 6.1     124 \n",
       "5 tt0000005 6.2    2283 \n",
       "6 tt0000006 5.1     127 "
      ]
     },
     "metadata": {},
     "output_type": "display_data"
    }
   ],
   "source": [
    "head(ratings)"
   ]
  },
  {
   "cell_type": "code",
   "execution_count": 26,
   "id": "f7d7484d-4b6d-4298-92b4-aaaf34cf02fa",
   "metadata": {},
   "outputs": [
    {
     "data": {
      "text/plain": [
       " [1] \"Documentary\" \"Short\"       \"Animation\"   \"Comedy\"      \"Romance\"    \n",
       " [6] \"Sport\"       \"News\"        \"Drama\"       \"Fantasy\"     \"Horror\"     \n",
       "[11] \"Biography\"   \"Music\"       \"War\"         \"Crime\"       \"Western\"    \n",
       "[16] \"Family\"      \"Adventure\"   \"Action\"      \"History\"     \"Mystery\"    \n",
       "[21] \"\\\\N\"         \"Sci-Fi\"      \"Musical\"     \"Thriller\"    \"Film-Noir\"  \n",
       "[26] \"Talk-Show\"   \"Game-Show\"   \"Reality-TV\"  \"Adult\"      "
      ]
     },
     "metadata": {},
     "output_type": "display_data"
    }
   ],
   "source": [
    "unique(unlist(strsplit(unique(titles$genres), \",\")))"
   ]
  },
  {
   "cell_type": "code",
   "execution_count": 27,
   "id": "ef775525-dea3-4dc1-b39a-9ca910134e61",
   "metadata": {},
   "outputs": [
    {
     "data": {
      "text/plain": [
       "\n",
       " 2016  2017  2015  2018  2014  2013  2019  2012  2020  2011  2010  2009  2008 \n",
       "84227 83916 80199 78393 77034 71963 70457 65305 61237 57892 48825 43095 39734 \n",
       " 2007  2006  2005  2021  2004  2003  2002  2001  1998  1999  2000  1997  1996 \n",
       "37103 34078 28952 28693 26087 23804 21090 19903 18826 18500 18195 17180 15480 \n",
       " 1995  1994  1993  1991  1992  1989  1990  1987  1988  1986  1973  1982  1975 \n",
       "14673 12423 11570 11346 10933  9180  8903  8151  7597  6858  6748  6533  6245 \n",
       " 1980  1974  1983  1985  1976  1972  1984  1977  1971  1969  1970  1981  1979 \n",
       " 6173  6156  6115  6070  6043  6035  6017  5936  5752  5572  5543  5521  5408 \n",
       " 1978  1967  1965  1968  1966  1964  1963  1962  1961  1960  1955  1959  1958 \n",
       " 5402  5111  4963  4895  4777  4356  4337  3957  3953  3680  3321  3204  3196 \n",
       " 1956  1957  1914  1913  1954  1915  1912  1953  1916  1911  1952  1951  1917 \n",
       " 3083  3074  3043  3005  2959  2745  2639  2412  2238  1961  1883  1882  1709 \n",
       " 1910  1950  1909  1920  1918  1919  1908  1949  1927  1921  1926  1925  1928 \n",
       " 1622  1510  1360  1325  1232  1102  1090  1051  1036   997   993   943   917 \n",
       " 1922  1938  1929  1937  1936  1931  1930  1924  1934  1933  1923  1935  2022 \n",
       "  912   883   876   871   852   845   808   801   797   773   766   766   753 \n",
       " 1932  1907  1939  1948  1941  1940  1947  1942  1946  1943  1944  1903  1945 \n",
       "  739   736   716   714   691   663   653   635   566   561   466   429   420 \n",
       " 1906  1905  1904  1900  1902  1899  1898  1901  1897  1896  2023  2024  1895 \n",
       "  407   366   344   239   229   201   192   165   112    42    39    11     8 \n",
       " 1894  2026  1892  1893  2025 \n",
       "    5     3     1     1     1 "
      ]
     },
     "metadata": {},
     "output_type": "display_data"
    }
   ],
   "source": [
    "sort(table(titles[grepl(\"Comedy\", titles$genres), ]$premiered), decreasing=TRUE)"
   ]
  },
  {
   "cell_type": "markdown",
   "id": "b456e57c-4a12-464b-999a-ef2df5af80c1",
   "metadata": {},
   "source": [
    "The different genres are listed in cell 26.\n",
    "\n",
    "The most comedies debuted in the year 2016."
   ]
  },
  {
   "cell_type": "markdown",
   "id": "fc601975-35ed-4680-a4e1-0273ee3cc047",
   "metadata": {},
   "source": [
    "## Question 2"
   ]
  },
  {
   "cell_type": "code",
   "execution_count": 29,
   "id": "104bbaaf-8312-4127-b0e6-8529c26630c5",
   "metadata": {},
   "outputs": [],
   "source": [
    "resultDF <- merge(episodes, titles, by.x = \"episode_title_id\", by.y = \"title_id\")"
   ]
  },
  {
   "cell_type": "code",
   "execution_count": 30,
   "id": "41ffbd02-6405-47ae-a082-e157bbf6b8c6",
   "metadata": {},
   "outputs": [
    {
     "data": {
      "text/plain": [
       "  episode_title_id show_title_id season_number episode_number type     \n",
       "1 tt0041951        tt0041038      1            9              tvEpisode\n",
       "2 tt0042816        tt0989125      1            17             tvEpisode\n",
       "3 tt0042889        tt0989125     NA            \\\\N            tvEpisode\n",
       "4 tt0043426        tt0040051      3            42             tvEpisode\n",
       "5 tt0043631        tt0989125      2            16             tvEpisode\n",
       "6 tt0043693        tt0989125      2            8              tvEpisode\n",
       "  primary_title                     original_title                    is_adult\n",
       "1 The Tenderfeet                    The Tenderfeet                    0       \n",
       "2 Othello                           Othello                           0       \n",
       "3 The Tragedy of King Richard II/II The Tragedy of King Richard II/II 0       \n",
       "4 Coriolanus                        Coriolanus                        0       \n",
       "5 The Life of King Henry V          The Life of King Henry V          0       \n",
       "6 Julius Caesar                     Julius Caesar                     0       \n",
       "  premiered ended runtime_minutes genres \n",
       "1 1949      NA     30             Western\n",
       "2 1950      NA    135             Drama  \n",
       "3 1950      NA    145             Drama  \n",
       "4 1951      NA     60             Drama  \n",
       "5 1951      NA    133             Drama  \n",
       "6 1951      NA     NA             Drama  "
      ]
     },
     "metadata": {},
     "output_type": "display_data"
    }
   ],
   "source": [
    "head(resultDF)"
   ]
  },
  {
   "cell_type": "code",
   "execution_count": 31,
   "id": "a16336a1-1ef0-41e8-bc7c-49387db27497",
   "metadata": {},
   "outputs": [
    {
     "data": {
      "text/plain": [
       "[1] 235  12"
      ]
     },
     "metadata": {},
     "output_type": "display_data"
    }
   ],
   "source": [
    "dim(resultDF[resultDF$show_title_id == \"tt0108778\", ])"
   ]
  },
  {
   "cell_type": "markdown",
   "id": "8e586edd-ff26-4ce2-8f6b-2424b26f2929",
   "metadata": {},
   "source": [
    "## Question 3"
   ]
  },
  {
   "cell_type": "code",
   "execution_count": 33,
   "id": "bbe0f40d-9655-4653-9ca8-886bdb61cb91",
   "metadata": {},
   "outputs": [],
   "source": [
    "tempDF <- resultDF[resultDF$show_title_id == \"tt0108778\", ]"
   ]
  },
  {
   "cell_type": "code",
   "execution_count": 34,
   "id": "984001f0-b38f-4e4c-b514-057b5eecaec2",
   "metadata": {},
   "outputs": [
    {
     "data": {
      "text/plain": [
       "      episode_title_id show_title_id season_number episode_number type     \n",
       "93207 tt0583431        tt0108778      7            8              tvEpisode\n",
       "93208 tt0583432        tt0108778     10            9              tvEpisode\n",
       "93209 tt0583433        tt0108778     10            17             tvEpisode\n",
       "93210 tt0583435        tt0108778      8            1              tvEpisode\n",
       "93211 tt0583436        tt0108778     10            1              tvEpisode\n",
       "93212 tt0583437        tt0108778      5            1              tvEpisode\n",
       "      primary_title                           \n",
       "93207 The One Where Chandler Doesn't Like Dogs\n",
       "93208 The One with the Birth Mother           \n",
       "93209 The Last One                            \n",
       "93210 The One After I Do                      \n",
       "93211 The One After Joey and Rachel Kiss      \n",
       "93212 The One After Ross Says Rachel          \n",
       "      original_title                           is_adult premiered ended\n",
       "93207 The One Where Chandler Doesn't Like Dogs 0        2000      NA   \n",
       "93208 The One with the Birth Mother            0        2004      NA   \n",
       "93209 The Last One                             0        2004      NA   \n",
       "93210 The One After I Do                       0        2001      NA   \n",
       "93211 The One After Joey and Rachel Kiss       0        2003      NA   \n",
       "93212 The One After Ross Says Rachel           0        1998      NA   \n",
       "      runtime_minutes genres        \n",
       "93207 22              Comedy,Romance\n",
       "93208 22              Comedy,Romance\n",
       "93209 30              Comedy,Romance\n",
       "93210 22              Comedy,Romance\n",
       "93211 22              Comedy,Romance\n",
       "93212 22              Comedy,Romance"
      ]
     },
     "metadata": {},
     "output_type": "display_data"
    }
   ],
   "source": [
    "head(tempDF)"
   ]
  },
  {
   "cell_type": "code",
   "execution_count": 38,
   "id": "bcd4fbc5-19ea-467e-b4cd-666d23ec3925",
   "metadata": {},
   "outputs": [],
   "source": [
    "anotherDF <- head(merge(tempDF, titles, by.x = \"show_title_id\", by.y = \"title_id\"))"
   ]
  },
  {
   "cell_type": "code",
   "execution_count": 41,
   "id": "c1c1a281-7435-495a-823f-23dbce0ac81a",
   "metadata": {},
   "outputs": [],
   "source": [
    "yetanotherDF <- merge(anotherDF, ratings, by.x = \"episode_title_id\", by.y = \"title_id\")"
   ]
  },
  {
   "cell_type": "code",
   "execution_count": 57,
   "id": "f3b14dcf-9fa5-4bc4-adf1-12d59337e2ec",
   "metadata": {
    "tags": []
   },
   "outputs": [],
   "source": [
    "friendsDF <- merge(yetanotherDF, ratings, by.x = \"show_title_id\", by.y = \"title_id\")[ , c(\"primary_title.x\", \"primary_title.y\", \"rating.x\", \"rating.y\")]"
   ]
  },
  {
   "cell_type": "code",
   "execution_count": 46,
   "id": "30fef120-8ea9-435c-9ca0-debc08659675",
   "metadata": {},
   "outputs": [
    {
     "data": {
      "text/plain": [
       "  primary_title.x                          primary_title.y rating.x rating.y\n",
       "1 The One Where Chandler Doesn't Like Dogs Friends         8.2      8.9     \n",
       "2 The One with the Birth Mother            Friends         8.6      8.9     \n",
       "3 The Last One                             Friends         9.7      8.9     \n",
       "4 The One After I Do                       Friends         8.7      8.9     \n",
       "5 The One After Joey and Rachel Kiss       Friends         8.5      8.9     \n",
       "6 The One After Ross Says Rachel           Friends         8.9      8.9     "
      ]
     },
     "metadata": {},
     "output_type": "display_data"
    }
   ],
   "source": [
    "head(friendsDF)"
   ]
  },
  {
   "cell_type": "code",
   "execution_count": 75,
   "id": "97af797d-5e2d-4855-b182-588f7415f5c8",
   "metadata": {},
   "outputs": [],
   "source": [
    "names(friendsDF) <- c(\"episode_title\", \"show_title\", \"episode_rating\", \"show_rating\")"
   ]
  },
  {
   "cell_type": "code",
   "execution_count": 58,
   "id": "d4741dc4-2a70-4586-8f19-6edd8752d63a",
   "metadata": {},
   "outputs": [
    {
     "data": {
      "text/plain": [
       "  primary_title.x                          primary_title.y rating.x rating.y\n",
       "1 The One Where Chandler Doesn't Like Dogs Friends         8.2      8.9     \n",
       "2 The One with the Birth Mother            Friends         8.6      8.9     \n",
       "3 The Last One                             Friends         9.7      8.9     \n",
       "4 The One After I Do                       Friends         8.7      8.9     \n",
       "5 The One After Joey and Rachel Kiss       Friends         8.5      8.9     \n",
       "6 The One After Ross Says Rachel           Friends         8.9      8.9     "
      ]
     },
     "metadata": {},
     "output_type": "display_data"
    }
   ],
   "source": [
    "head(friendsDF)"
   ]
  },
  {
   "cell_type": "code",
   "execution_count": 55,
   "id": "5959e8b6-0c32-49ae-8854-259de016c08b",
   "metadata": {},
   "outputs": [
    {
     "data": {
      "text/plain": [
       "  episode_title                            show_title episode_rating\n",
       "1 The One Where Chandler Doesn't Like Dogs Friends    8.2           \n",
       "5 The One After Joey and Rachel Kiss       Friends    8.5           \n",
       "2 The One with the Birth Mother            Friends    8.6           \n",
       "4 The One After I Do                       Friends    8.7           \n",
       "6 The One After Ross Says Rachel           Friends    8.9           \n",
       "3 The Last One                             Friends    9.7           \n",
       "  show_rating\n",
       "1 8.9        \n",
       "5 8.9        \n",
       "2 8.9        \n",
       "4 8.9        \n",
       "6 8.9        \n",
       "3 8.9        "
      ]
     },
     "metadata": {},
     "output_type": "display_data"
    }
   ],
   "source": [
    "tail(friendsDF[order(friendsDF$episode_rating), ], n=7)"
   ]
  },
  {
   "cell_type": "markdown",
   "id": "da22f29c-d245-4d2b-9fc1-ca14cb6087d9",
   "metadata": {},
   "source": [
    "## Question 4"
   ]
  },
  {
   "cell_type": "code",
   "execution_count": 73,
   "id": "e6567049-dadf-432b-8d65-90fecdb6d5b0",
   "metadata": {},
   "outputs": [],
   "source": [
    "names(friendsDF) <- c(\"episode_title\", \"show_title\", \"episode_rating\", \"show_rating\")"
   ]
  },
  {
   "cell_type": "code",
   "execution_count": 69,
   "id": "8cffc767-d1c8-4d64-b7dc-f0d2ee8a80d1",
   "metadata": {},
   "outputs": [
    {
     "data": {
      "text/plain": [
       "  episode_title                            show_title episode_rating\n",
       "1 The One Where Chandler Doesn't Like Dogs Friends    8.2           \n",
       "2 The One with the Birth Mother            Friends    8.6           \n",
       "3 The Last One                             Friends    9.7           \n",
       "4 The One After I Do                       Friends    8.7           \n",
       "5 The One After Joey and Rachel Kiss       Friends    8.5           \n",
       "6 The One After Ross Says Rachel           Friends    8.9           \n",
       "  show_rating\n",
       "1 8.9        \n",
       "2 8.9        \n",
       "3 8.9        \n",
       "4 8.9        \n",
       "5 8.9        \n",
       "6 8.9        "
      ]
     },
     "metadata": {},
     "output_type": "display_data"
    }
   ],
   "source": [
    "head(friendsDF)"
   ]
  },
  {
   "cell_type": "code",
   "execution_count": 76,
   "id": "ad1720fa-4a9d-451e-94e7-a7b4fb3c6049",
   "metadata": {},
   "outputs": [],
   "source": [
    "season_number = 5"
   ]
  },
  {
   "cell_type": "code",
   "execution_count": 77,
   "id": "a1cadfe1-e2ea-4f9d-bac3-0b1a8c292377",
   "metadata": {},
   "outputs": [
    {
     "data": {
      "text/plain": [
       "     episode_title show_title episode_rating show_rating"
      ]
     },
     "metadata": {},
     "output_type": "display_data"
    }
   ],
   "source": [
    "friendsDF[ (friendsDF$episode_rating > 9) & (friendsDF$season_number == 5), ]"
   ]
  },
  {
   "cell_type": "code",
   "execution_count": 78,
   "id": "72e020b3-8581-43ae-aa3c-86f0d4b89fd1",
   "metadata": {},
   "outputs": [
    {
     "data": {
      "text/plain": [
       "     episode_title show_title episode_rating show_rating"
      ]
     },
     "metadata": {},
     "output_type": "display_data"
    }
   ],
   "source": [
    "subset(friendsDF, (friendsDF$episode_rating > 9) & (friendsDF$season_number == 5))"
   ]
  },
  {
   "cell_type": "markdown",
   "id": "88c9cdac-3e92-498f-83fa-e089bfc44ac8",
   "metadata": {},
   "source": [
    "## Question 5"
   ]
  },
  {
   "cell_type": "markdown",
   "id": "9fbf00fb-2418-460f-ae94-2a32b0c28952",
   "metadata": {},
   "source": [
    "Subset receives a different result than our regular indexing example because the greater or less than expressions are evaluated in the secified dataframe, rather than the global environment. It captures an argument's expression rather than its result, so we only need to evaluate the expression."
   ]
  },
  {
   "cell_type": "markdown",
   "id": "f76442d6-d02e-4f26-b9d6-c3183e1d6929",
   "metadata": {},
   "source": [
    "## Pledge\n",
    "\n",
    "By submitting this work I hereby pledge that this is my own, personal work. I've acknowledged in the designated place at the top of this file all sources that I used to complete said work, including but not limited to: online resources, books, and electronic communications. I've noted all collaboration with fellow students and/or TA's. I did not copy or plagiarize another's work.\n",
    "\n",
    "> As a Boilermaker pursuing academic excellence, I pledge to be honest and true in all that I do. Accountable together – We are Purdue."
   ]
  }
 ],
 "metadata": {
  "kernelspec": {
   "display_name": "f2022-s2023-r",
   "language": "R",
   "name": "f2022-s2023-r"
  },
  "language_info": {
   "codemirror_mode": "r",
   "file_extension": ".r",
   "mimetype": "text/x-r-source",
   "name": "R",
   "pygments_lexer": "r",
   "version": "4.2.1"
  }
 },
 "nbformat": 4,
 "nbformat_minor": 5
}
