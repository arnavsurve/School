{
 "cells": [
  {
   "cell_type": "markdown",
   "id": "be02a957-7133-4d02-818e-fedeb3cecb05",
   "metadata": {},
   "source": [
    "# Project 1 -- Arnav Surve"
   ]
  },
  {
   "cell_type": "markdown",
   "id": "a1228853-dd19-4ab2-89e0-0394d7d72de3",
   "metadata": {},
   "source": [
    "**TA Help:** NA\n",
    "    \n",
    "**Collaboration:** NA"
   ]
  },
  {
   "cell_type": "markdown",
   "id": "6180e742-8e39-4698-98ff-5b00c8cf8ea0",
   "metadata": {},
   "source": [
    "## Question 1"
   ]
  },
  {
   "cell_type": "markdown",
   "id": "b456e57c-4a12-464b-999a-ef2df5af80c1",
   "metadata": {
    "tags": []
   },
   "source": [
    "Across all nodes: sub-cluster A contains 256TB of memory, sub-cluster B contains 32TB of memory, and sub-cluster G contains 8.192TB of memory.\n",
    "\n",
    "My computer has 2 cores with 8GB of memory."
   ]
  },
  {
   "cell_type": "markdown",
   "id": "fc601975-35ed-4680-a4e1-0273ee3cc047",
   "metadata": {},
   "source": [
    "## Question 2"
   ]
  },
  {
   "cell_type": "code",
   "execution_count": 6,
   "id": "a16336a1-1ef0-41e8-bc7c-49387db27497",
   "metadata": {},
   "outputs": [
    {
     "name": "stdout",
     "output_type": "stream",
     "text": [
      "[1] \"a242.anvil.rcac.purdue.edu\"\n"
     ]
    }
   ],
   "source": [
    "%%R\n",
    "\n",
    "system(\"hostname\", intern=TRUE)"
   ]
  },
  {
   "cell_type": "markdown",
   "id": "8e586edd-ff26-4ce2-8f6b-2424b26f2929",
   "metadata": {},
   "source": [
    "## Question 3"
   ]
  },
  {
   "cell_type": "code",
   "execution_count": 2,
   "id": "bbe0f40d-9655-4653-9ca8-886bdb61cb91",
   "metadata": {},
   "outputs": [
    {
     "name": "stdout",
     "output_type": "stream",
     "text": [
      "My list is: [1, 2, 3]\n"
     ]
    }
   ],
   "source": [
    "my_list = [1, 2, 3]\n",
    "print(f'My list is: {my_list}')"
   ]
  },
  {
   "cell_type": "code",
   "execution_count": 1,
   "id": "ea064b25-2515-457e-8bb6-1a302698f04a",
   "metadata": {},
   "outputs": [
    {
     "name": "stdout",
     "output_type": "stream",
     "text": [
      "Done.\n"
     ]
    },
    {
     "data": {
      "text/html": [
       "<table>\n",
       "    <tr>\n",
       "        <th>title_id</th>\n",
       "        <th>type</th>\n",
       "        <th>primary_title</th>\n",
       "        <th>original_title</th>\n",
       "        <th>is_adult</th>\n",
       "        <th>premiered</th>\n",
       "        <th>ended</th>\n",
       "        <th>runtime_minutes</th>\n",
       "        <th>genres</th>\n",
       "    </tr>\n",
       "    <tr>\n",
       "        <td>tt0000001</td>\n",
       "        <td>short</td>\n",
       "        <td>Carmencita</td>\n",
       "        <td>Carmencita</td>\n",
       "        <td>0</td>\n",
       "        <td>1894</td>\n",
       "        <td>None</td>\n",
       "        <td>1</td>\n",
       "        <td>Documentary,Short</td>\n",
       "    </tr>\n",
       "    <tr>\n",
       "        <td>tt0000002</td>\n",
       "        <td>short</td>\n",
       "        <td>Le clown et ses chiens</td>\n",
       "        <td>Le clown et ses chiens</td>\n",
       "        <td>0</td>\n",
       "        <td>1892</td>\n",
       "        <td>None</td>\n",
       "        <td>5</td>\n",
       "        <td>Animation,Short</td>\n",
       "    </tr>\n",
       "    <tr>\n",
       "        <td>tt0000003</td>\n",
       "        <td>short</td>\n",
       "        <td>Pauvre Pierrot</td>\n",
       "        <td>Pauvre Pierrot</td>\n",
       "        <td>0</td>\n",
       "        <td>1892</td>\n",
       "        <td>None</td>\n",
       "        <td>4</td>\n",
       "        <td>Animation,Comedy,Romance</td>\n",
       "    </tr>\n",
       "    <tr>\n",
       "        <td>tt0000004</td>\n",
       "        <td>short</td>\n",
       "        <td>Un bon bock</td>\n",
       "        <td>Un bon bock</td>\n",
       "        <td>0</td>\n",
       "        <td>1892</td>\n",
       "        <td>None</td>\n",
       "        <td>12</td>\n",
       "        <td>Animation,Short</td>\n",
       "    </tr>\n",
       "    <tr>\n",
       "        <td>tt0000005</td>\n",
       "        <td>short</td>\n",
       "        <td>Blacksmith Scene</td>\n",
       "        <td>Blacksmith Scene</td>\n",
       "        <td>0</td>\n",
       "        <td>1893</td>\n",
       "        <td>None</td>\n",
       "        <td>1</td>\n",
       "        <td>Comedy,Short</td>\n",
       "    </tr>\n",
       "</table>"
      ],
      "text/plain": [
       "[('tt0000001', 'short', 'Carmencita', 'Carmencita', 0, 1894, None, 1, 'Documentary,Short'),\n",
       " ('tt0000002', 'short', 'Le clown et ses chiens', 'Le clown et ses chiens', 0, 1892, None, 5, 'Animation,Short'),\n",
       " ('tt0000003', 'short', 'Pauvre Pierrot', 'Pauvre Pierrot', 0, 1892, None, 4, 'Animation,Comedy,Romance'),\n",
       " ('tt0000004', 'short', 'Un bon bock', 'Un bon bock', 0, 1892, None, 12, 'Animation,Short'),\n",
       " ('tt0000005', 'short', 'Blacksmith Scene', 'Blacksmith Scene', 0, 1893, None, 1, 'Comedy,Short')]"
      ]
     },
     "execution_count": 1,
     "metadata": {},
     "output_type": "execute_result"
    }
   ],
   "source": [
    "%%sql\n",
    "\n",
    "sqlite:////anvil/projects/tdm/data/movies_and_tv/imdb.db\n",
    "SELECT * FROM titles LIMIT 5;"
   ]
  },
  {
   "cell_type": "code",
   "execution_count": 5,
   "id": "b0bf445e-7915-4d97-adac-4c7ede7b6f9d",
   "metadata": {},
   "outputs": [
    {
     "name": "stdout",
     "output_type": "stream",
     "text": [
      "Miles: 3263678656 \n",
      "Kilometers:5.25238e+09\n"
     ]
    }
   ],
   "source": [
    "%%bash\n",
    "\n",
    "awk -F, '{miles=miles+$19}END{print \"Miles: \" miles, \"\\nKilometers:\" miles*1.609344}' /anvil/projects/tdm/data/flights/subset/1991.csv"
   ]
  },
  {
   "cell_type": "markdown",
   "id": "da22f29c-d245-4d2b-9fc1-ca14cb6087d9",
   "metadata": {},
   "source": [
    "## Question 4"
   ]
  },
  {
   "cell_type": "markdown",
   "id": "0d552245-b4d6-474a-9cc9-fa7b8e674d55",
   "metadata": {},
   "source": [
    "In total, there are 13 markdown cells and 5 code cells in the default template."
   ]
  },
  {
   "cell_type": "markdown",
   "id": "f8f52534-d2a6-431b-914a-93afe4914a84",
   "metadata": {
    "tags": []
   },
   "source": [
    "## Question 5"
   ]
  },
  {
   "cell_type": "code",
   "execution_count": 23,
   "id": "75a63d6e-3132-490e-b8d8-e5d3aacf3c30",
   "metadata": {},
   "outputs": [],
   "source": [
    "# R code"
   ]
  },
  {
   "cell_type": "code",
   "execution_count": 10,
   "id": "d370d7c9-06db-42b9-b75f-240481a5c491",
   "metadata": {},
   "outputs": [
    {
     "name": "stdout",
     "output_type": "stream",
     "text": [
      "[1] 128000\n"
     ]
    }
   ],
   "source": [
    "%%R\n",
    "\n",
    "1000 * 128"
   ]
  },
  {
   "cell_type": "code",
   "execution_count": 9,
   "id": "3f7a562a-5fc2-49cd-b9f0-a017dd268e82",
   "metadata": {},
   "outputs": [
    {
     "name": "stdout",
     "output_type": "stream",
     "text": [
      "[1] 256000\n"
     ]
    }
   ],
   "source": [
    "%%R\n",
    "\n",
    "1000 * 256"
   ]
  },
  {
   "cell_type": "code",
   "execution_count": 24,
   "id": "bc979415-c718-4f58-bfc1-d2e54c1d8c12",
   "metadata": {},
   "outputs": [],
   "source": [
    "# Python code"
   ]
  },
  {
   "cell_type": "code",
   "execution_count": 11,
   "id": "c6006276-05ba-4823-ac65-ce641f0e9fa8",
   "metadata": {
    "tags": []
   },
   "outputs": [
    {
     "data": {
      "text/plain": [
       "128000"
      ]
     },
     "execution_count": 11,
     "metadata": {},
     "output_type": "execute_result"
    }
   ],
   "source": [
    "1000 * 128"
   ]
  },
  {
   "cell_type": "code",
   "execution_count": 12,
   "id": "3a805a3c-408b-4d59-99f7-a5dd9c3eff4f",
   "metadata": {
    "tags": []
   },
   "outputs": [
    {
     "data": {
      "text/plain": [
       "256000"
      ]
     },
     "execution_count": 12,
     "metadata": {},
     "output_type": "execute_result"
    }
   ],
   "source": [
    "1000 * 256"
   ]
  },
  {
   "cell_type": "markdown",
   "id": "88c9cdac-3e92-498f-83fa-e089bfc44ac8",
   "metadata": {
    "tags": []
   },
   "source": [
    "## Question 6"
   ]
  },
  {
   "cell_type": "code",
   "execution_count": null,
   "id": "884c1aca-a755-4774-8121-cddef03fbcc2",
   "metadata": {},
   "outputs": [],
   "source": [
    "%%R\n",
    "\n",
    "dat <- read.csv(\"/anvil/projects/tdm/data/disney/flight_of_passage.csv\")"
   ]
  },
  {
   "cell_type": "code",
   "execution_count": null,
   "id": "a47e0a6c-ac38-413a-b5e2-4a8ace937ca2",
   "metadata": {},
   "outputs": [
    {
     "name": "stdout",
     "output_type": "stream",
     "text": [
      "        date            datetime SACTMIN SPOSTMIN\n",
      "1 05/26/2017 2017-05-26 09:06:38      NA     -999\n",
      "2 05/26/2017 2017-05-26 09:10:11      47       NA\n",
      "3 05/26/2017 2017-05-26 09:10:12      NA        5\n",
      "4 05/26/2017 2017-05-26 09:17:09      NA       60\n",
      "5 05/26/2017 2017-05-26 09:24:07      NA       60\n",
      "6 05/26/2017 2017-05-26 09:30:10      NA       60\n"
     ]
    }
   ],
   "source": [
    "%%R\n",
    "\n",
    "head(dat)"
   ]
  },
  {
   "cell_type": "code",
   "execution_count": null,
   "id": "e8867eb5-cb9a-4b6c-b92d-e2995a87df12",
   "metadata": {
    "tags": []
   },
   "outputs": [
    {
     "name": "stdout",
     "output_type": "stream",
     "text": [
      "        date            datetime SACTMIN SPOSTMIN\n",
      "1 05/26/2017 2017-05-26 09:06:38      NA     -999\n",
      "2 05/26/2017 2017-05-26 09:10:11      47       NA\n",
      "3 05/26/2017 2017-05-26 09:10:12      NA        5\n",
      "4 05/26/2017 2017-05-26 09:17:09      NA       60\n",
      "5 05/26/2017 2017-05-26 09:24:07      NA       60\n",
      "6 05/26/2017 2017-05-26 09:30:10      NA       60\n"
     ]
    }
   ],
   "source": [
    "%%R\n",
    "\n",
    "flight_of_passage <- read.csv(\"/anvil/projects/tdm/data/disney/flight_of_passage.csv\")\n",
    "head(flight_of_passage)"
   ]
  },
  {
   "cell_type": "markdown",
   "id": "f76442d6-d02e-4f26-b9d6-c3183e1d6929",
   "metadata": {
    "tags": []
   },
   "source": [
    "## Pledge\n",
    "\n",
    "By submitting this work I hereby pledge that this is my own, personal work. I've acknowledged in the designated place at the top of this file all sources that I used to complete said work, including but not limited to: online resources, books, and electronic communications. I've noted all collaboration with fellow students and/or TA's. I did not copy or plagiarize another's work.\n",
    "\n",
    "> As a Boilermaker pursuing academic excellence, I pledge to be honest and true in all that I do. Accountable together – We are Purdue."
   ]
  }
 ],
 "metadata": {
  "kernelspec": {
   "display_name": "f2022-s2023",
   "language": "python",
   "name": "f2022-s2023"
  },
  "language_info": {
   "codemirror_mode": {
    "name": "ipython",
    "version": 3
   },
   "file_extension": ".py",
   "mimetype": "text/x-python",
   "name": "python",
   "nbconvert_exporter": "python",
   "pygments_lexer": "ipython3",
   "version": "3.10.5"
  }
 },
 "nbformat": 4,
 "nbformat_minor": 5
}
