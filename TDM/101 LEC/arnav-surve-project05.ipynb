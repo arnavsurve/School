{
 "cells": [
  {
   "cell_type": "markdown",
   "id": "be02a957-7133-4d02-818e-fedeb3cecb05",
   "metadata": {},
   "source": [
    "# Project 5 -- Arnav Surve"
   ]
  },
  {
   "cell_type": "markdown",
   "id": "a1228853-dd19-4ab2-89e0-0394d7d72de3",
   "metadata": {},
   "source": [
    "**TA Help:** NA\n",
    "    \n",
    "**Collaboration:** NA"
   ]
  },
  {
   "cell_type": "markdown",
   "id": "6180e742-8e39-4698-98ff-5b00c8cf8ea0",
   "metadata": {},
   "source": [
    "## Question 1"
   ]
  },
  {
   "cell_type": "code",
   "execution_count": 4,
   "id": "49445606-d363-41b4-b479-e319a9a84c01",
   "metadata": {},
   "outputs": [
    {
     "data": {
      "text/html": [
       "<table class=\"dataframe\">\n",
       "<caption>A data.frame: 6 x 21</caption>\n",
       "<thead>\n",
       "\t<tr><th></th><th scope=col>CMTE_ID</th><th scope=col>AMNDT_IND</th><th scope=col>RPT_TP</th><th scope=col>TRANSACTION_PGI</th><th scope=col>IMAGE_NUM</th><th scope=col>TRANSACTION_TP</th><th scope=col>ENTITY_TP</th><th scope=col>NAME</th><th scope=col>CITY</th><th scope=col>STATE</th><th scope=col>...</th><th scope=col>EMPLOYER</th><th scope=col>OCCUPATION</th><th scope=col>TRANSACTION_DT</th><th scope=col>TRANSACTION_AMT</th><th scope=col>OTHER_ID</th><th scope=col>TRAN_ID</th><th scope=col>FILE_NUM</th><th scope=col>MEMO_CD</th><th scope=col>MEMO_TEXT</th><th scope=col>SUB_ID</th></tr>\n",
       "\t<tr><th></th><th scope=col>&lt;chr&gt;</th><th scope=col>&lt;chr&gt;</th><th scope=col>&lt;chr&gt;</th><th scope=col>&lt;chr&gt;</th><th scope=col>&lt;dbl&gt;</th><th scope=col>&lt;chr&gt;</th><th scope=col>&lt;chr&gt;</th><th scope=col>&lt;chr&gt;</th><th scope=col>&lt;chr&gt;</th><th scope=col>&lt;chr&gt;</th><th scope=col>...</th><th scope=col>&lt;chr&gt;</th><th scope=col>&lt;chr&gt;</th><th scope=col>&lt;int&gt;</th><th scope=col>&lt;int&gt;</th><th scope=col>&lt;chr&gt;</th><th scope=col>&lt;chr&gt;</th><th scope=col>&lt;int&gt;</th><th scope=col>&lt;chr&gt;</th><th scope=col>&lt;chr&gt;</th><th scope=col>&lt;dbl&gt;</th></tr>\n",
       "</thead>\n",
       "<tbody>\n",
       "\t<tr><th scope=row>1</th><td>C00401224</td><td>N</td><td>YE</td><td> </td><td>2.020013e+17</td><td>24T</td><td>IND</td><td>SOLOMON, VICTOR </td><td>CAPE CORAL  </td><td>FL</td><td>...</td><td>RETIRED     </td><td>NOT EMPLOYED       </td><td> 7112019</td><td>15</td><td>C00042366</td><td>SA11AI_165851302</td><td>1378435</td><td></td><td>EARMARKED FOR DSCC (C00042366)                                                         </td><td>4.03022e+18</td></tr>\n",
       "\t<tr><th scope=row>2</th><td>C00401224</td><td>N</td><td>M4</td><td>P</td><td>2.020042e+17</td><td>24T</td><td>IND</td><td>MYERS, ELIZABETH</td><td>SCOTTSVILLE </td><td>NY</td><td>...</td><td>NOT EMPLOYED</td><td>NOT EMPLOYED       </td><td> 3042020</td><td>39</td><td>C00696948</td><td>SA11AI_216676150</td><td>1402724</td><td></td><td>EARMARKED FOR BERNIE 2020 (C00696948)                                                  </td><td>4.05142e+18</td></tr>\n",
       "\t<tr><th scope=row>3</th><td>C00193433</td><td>N</td><td>YE</td><td>P</td><td>2.020012e+17</td><td>15 </td><td>IND</td><td>HASKINS, GEORGE </td><td>HARTSDALE   </td><td>NY</td><td>...</td><td>NOT EMPLOYED</td><td>NOT EMPLOYED       </td><td>12182019</td><td>15</td><td>         </td><td>6260719         </td><td>1371576</td><td></td><td>                                                                                       </td><td>4.01222e+18</td></tr>\n",
       "\t<tr><th scope=row>4</th><td>C00401224</td><td>N</td><td>YE</td><td> </td><td>2.020013e+17</td><td>24T</td><td>IND</td><td>KOLBE, NINA     </td><td>WASHINGTON  </td><td>DC</td><td>...</td><td>SELF        </td><td>HEALTH PROFESSIONAL</td><td> 8302019</td><td>10</td><td>C00637074</td><td>SA11AI_174544101</td><td>1378435</td><td></td><td>EARMARKED FOR FINKENAUER FOR CONGRESS (C00637074)                                      </td><td>4.03022e+18</td></tr>\n",
       "\t<tr><th scope=row>5</th><td>C00401224</td><td>N</td><td>MY</td><td> </td><td>2.019073e+17</td><td>24T</td><td>IND</td><td>ESSENBERG, PENNY</td><td>GRAND RAPIDS</td><td>MI</td><td>...</td><td>            </td><td>                   </td><td> 3212019</td><td>16</td><td>C00580068</td><td>SB28A_145393165 </td><td>1344765</td><td></td><td>REFUND OF CONTRIBUTION, INITIALLY EARMARKED FOR PROGRESSIVE TURNOUT PROJECT (C00580068)</td><td>4.08282e+18</td></tr>\n",
       "\t<tr><th scope=row>6</th><td>C00618371</td><td>N</td><td>Q3</td><td>P</td><td>2.019102e+17</td><td>15 </td><td>IND</td><td>GIEBEL, BETTY   </td><td>KISSIMMEE   </td><td>FL</td><td>...</td><td>HOMEMAKER   </td><td>HOMEMAKER          </td><td> 7112019</td><td>42</td><td>         </td><td>SA11AI.178611   </td><td>1358506</td><td></td><td>                                                                                       </td><td>4.10182e+18</td></tr>\n",
       "</tbody>\n",
       "</table>\n"
      ],
      "text/latex": [
       "A data.frame: 6 x 21\n",
       "\\begin{tabular}{r|lllllllllllllllllllll}\n",
       "  & CMTE\\_ID & AMNDT\\_IND & RPT\\_TP & TRANSACTION\\_PGI & IMAGE\\_NUM & TRANSACTION\\_TP & ENTITY\\_TP & NAME & CITY & STATE & ... & EMPLOYER & OCCUPATION & TRANSACTION\\_DT & TRANSACTION\\_AMT & OTHER\\_ID & TRAN\\_ID & FILE\\_NUM & MEMO\\_CD & MEMO\\_TEXT & SUB\\_ID\\\\\n",
       "  & <chr> & <chr> & <chr> & <chr> & <dbl> & <chr> & <chr> & <chr> & <chr> & <chr> & ... & <chr> & <chr> & <int> & <int> & <chr> & <chr> & <int> & <chr> & <chr> & <dbl>\\\\\n",
       "\\hline\n",
       "\t1 & C00401224 & N & YE &   & 2.020013e+17 & 24T & IND & SOLOMON, VICTOR  & CAPE CORAL   & FL & ... & RETIRED      & NOT EMPLOYED        &  7112019 & 15 & C00042366 & SA11AI\\_165851302 & 1378435 &  & EARMARKED FOR DSCC (C00042366)                                                          & 4.03022e+18\\\\\n",
       "\t2 & C00401224 & N & M4 & P & 2.020042e+17 & 24T & IND & MYERS, ELIZABETH & SCOTTSVILLE  & NY & ... & NOT EMPLOYED & NOT EMPLOYED        &  3042020 & 39 & C00696948 & SA11AI\\_216676150 & 1402724 &  & EARMARKED FOR BERNIE 2020 (C00696948)                                                   & 4.05142e+18\\\\\n",
       "\t3 & C00193433 & N & YE & P & 2.020012e+17 & 15  & IND & HASKINS, GEORGE  & HARTSDALE    & NY & ... & NOT EMPLOYED & NOT EMPLOYED        & 12182019 & 15 &           & 6260719          & 1371576 &  &                                                                                         & 4.01222e+18\\\\\n",
       "\t4 & C00401224 & N & YE &   & 2.020013e+17 & 24T & IND & KOLBE, NINA      & WASHINGTON   & DC & ... & SELF         & HEALTH PROFESSIONAL &  8302019 & 10 & C00637074 & SA11AI\\_174544101 & 1378435 &  & EARMARKED FOR FINKENAUER FOR CONGRESS (C00637074)                                       & 4.03022e+18\\\\\n",
       "\t5 & C00401224 & N & MY &   & 2.019073e+17 & 24T & IND & ESSENBERG, PENNY & GRAND RAPIDS & MI & ... &              &                     &  3212019 & 16 & C00580068 & SB28A\\_145393165  & 1344765 &  & REFUND OF CONTRIBUTION, INITIALLY EARMARKED FOR PROGRESSIVE TURNOUT PROJECT (C00580068) & 4.08282e+18\\\\\n",
       "\t6 & C00618371 & N & Q3 & P & 2.019102e+17 & 15  & IND & GIEBEL, BETTY    & KISSIMMEE    & FL & ... & HOMEMAKER    & HOMEMAKER           &  7112019 & 42 &           & SA11AI.178611    & 1358506 &  &                                                                                         & 4.10182e+18\\\\\n",
       "\\end{tabular}\n"
      ],
      "text/markdown": [
       "\n",
       "A data.frame: 6 x 21\n",
       "\n",
       "| <!--/--> | CMTE_ID &lt;chr&gt; | AMNDT_IND &lt;chr&gt; | RPT_TP &lt;chr&gt; | TRANSACTION_PGI &lt;chr&gt; | IMAGE_NUM &lt;dbl&gt; | TRANSACTION_TP &lt;chr&gt; | ENTITY_TP &lt;chr&gt; | NAME &lt;chr&gt; | CITY &lt;chr&gt; | STATE &lt;chr&gt; | ... ... | EMPLOYER &lt;chr&gt; | OCCUPATION &lt;chr&gt; | TRANSACTION_DT &lt;int&gt; | TRANSACTION_AMT &lt;int&gt; | OTHER_ID &lt;chr&gt; | TRAN_ID &lt;chr&gt; | FILE_NUM &lt;int&gt; | MEMO_CD &lt;chr&gt; | MEMO_TEXT &lt;chr&gt; | SUB_ID &lt;dbl&gt; |\n",
       "|---|---|---|---|---|---|---|---|---|---|---|---|---|---|---|---|---|---|---|---|---|---|\n",
       "| 1 | C00401224 | N | YE | <!----> | 2.020013e+17 | 24T | IND | SOLOMON, VICTOR  | CAPE CORAL   | FL | ... | RETIRED      | NOT EMPLOYED        |  7112019 | 15 | C00042366 | SA11AI_165851302 | 1378435 | <!----> | EARMARKED FOR DSCC (C00042366)                                                          | 4.03022e+18 |\n",
       "| 2 | C00401224 | N | M4 | P | 2.020042e+17 | 24T | IND | MYERS, ELIZABETH | SCOTTSVILLE  | NY | ... | NOT EMPLOYED | NOT EMPLOYED        |  3042020 | 39 | C00696948 | SA11AI_216676150 | 1402724 | <!----> | EARMARKED FOR BERNIE 2020 (C00696948)                                                   | 4.05142e+18 |\n",
       "| 3 | C00193433 | N | YE | P | 2.020012e+17 | 15  | IND | HASKINS, GEORGE  | HARTSDALE    | NY | ... | NOT EMPLOYED | NOT EMPLOYED        | 12182019 | 15 | <!----> | 6260719          | 1371576 | <!----> | <!----> | 4.01222e+18 |\n",
       "| 4 | C00401224 | N | YE | <!----> | 2.020013e+17 | 24T | IND | KOLBE, NINA      | WASHINGTON   | DC | ... | SELF         | HEALTH PROFESSIONAL |  8302019 | 10 | C00637074 | SA11AI_174544101 | 1378435 | <!----> | EARMARKED FOR FINKENAUER FOR CONGRESS (C00637074)                                       | 4.03022e+18 |\n",
       "| 5 | C00401224 | N | MY | <!----> | 2.019073e+17 | 24T | IND | ESSENBERG, PENNY | GRAND RAPIDS | MI | ... | <!----> | <!----> |  3212019 | 16 | C00580068 | SB28A_145393165  | 1344765 | <!----> | REFUND OF CONTRIBUTION, INITIALLY EARMARKED FOR PROGRESSIVE TURNOUT PROJECT (C00580068) | 4.08282e+18 |\n",
       "| 6 | C00618371 | N | Q3 | P | 2.019102e+17 | 15  | IND | GIEBEL, BETTY    | KISSIMMEE    | FL | ... | HOMEMAKER    | HOMEMAKER           |  7112019 | 42 | <!----> | SA11AI.178611    | 1358506 | <!----> | <!----> | 4.10182e+18 |\n",
       "\n"
      ],
      "text/plain": [
       "  CMTE_ID   AMNDT_IND RPT_TP TRANSACTION_PGI IMAGE_NUM    TRANSACTION_TP\n",
       "1 C00401224 N         YE                     2.020013e+17 24T           \n",
       "2 C00401224 N         M4     P               2.020042e+17 24T           \n",
       "3 C00193433 N         YE     P               2.020012e+17 15            \n",
       "4 C00401224 N         YE                     2.020013e+17 24T           \n",
       "5 C00401224 N         MY                     2.019073e+17 24T           \n",
       "6 C00618371 N         Q3     P               2.019102e+17 15            \n",
       "  ENTITY_TP NAME             CITY         STATE ... EMPLOYER    \n",
       "1 IND       SOLOMON, VICTOR  CAPE CORAL   FL    ... RETIRED     \n",
       "2 IND       MYERS, ELIZABETH SCOTTSVILLE  NY    ... NOT EMPLOYED\n",
       "3 IND       HASKINS, GEORGE  HARTSDALE    NY    ... NOT EMPLOYED\n",
       "4 IND       KOLBE, NINA      WASHINGTON   DC    ... SELF        \n",
       "5 IND       ESSENBERG, PENNY GRAND RAPIDS MI    ...             \n",
       "6 IND       GIEBEL, BETTY    KISSIMMEE    FL    ... HOMEMAKER   \n",
       "  OCCUPATION          TRANSACTION_DT TRANSACTION_AMT OTHER_ID  TRAN_ID         \n",
       "1 NOT EMPLOYED         7112019       15              C00042366 SA11AI_165851302\n",
       "2 NOT EMPLOYED         3042020       39              C00696948 SA11AI_216676150\n",
       "3 NOT EMPLOYED        12182019       15                        6260719         \n",
       "4 HEALTH PROFESSIONAL  8302019       10              C00637074 SA11AI_174544101\n",
       "5                      3212019       16              C00580068 SB28A_145393165 \n",
       "6 HOMEMAKER            7112019       42                        SA11AI.178611   \n",
       "  FILE_NUM MEMO_CD\n",
       "1 1378435         \n",
       "2 1402724         \n",
       "3 1371576         \n",
       "4 1378435         \n",
       "5 1344765         \n",
       "6 1358506         \n",
       "  MEMO_TEXT                                                                              \n",
       "1 EARMARKED FOR DSCC (C00042366)                                                         \n",
       "2 EARMARKED FOR BERNIE 2020 (C00696948)                                                  \n",
       "3                                                                                        \n",
       "4 EARMARKED FOR FINKENAUER FOR CONGRESS (C00637074)                                      \n",
       "5 REFUND OF CONTRIBUTION, INITIALLY EARMARKED FOR PROGRESSIVE TURNOUT PROJECT (C00580068)\n",
       "6                                                                                        \n",
       "  SUB_ID     \n",
       "1 4.03022e+18\n",
       "2 4.05142e+18\n",
       "3 4.01222e+18\n",
       "4 4.03022e+18\n",
       "5 4.08282e+18\n",
       "6 4.10182e+18"
      ]
     },
     "metadata": {},
     "output_type": "display_data"
    }
   ],
   "source": [
    "myDF <- read.csv(\"/anvil/projects/tdm/data/election/escaped/itcont2020sample.txt\", sep=\"|\")\n",
    "head(myDF)"
   ]
  },
  {
   "cell_type": "code",
   "execution_count": 5,
   "id": "7cb94b1a-c01d-4af0-bbd1-a1fd7eda975f",
   "metadata": {},
   "outputs": [
    {
     "data": {
      "text/html": [
       "'integer'"
      ],
      "text/latex": [
       "'integer'"
      ],
      "text/markdown": [
       "'integer'"
      ],
      "text/plain": [
       "[1] \"integer\""
      ]
     },
     "metadata": {},
     "output_type": "display_data"
    }
   ],
   "source": [
    "class(myDF$TRANSACTION_DT)"
   ]
  },
  {
   "cell_type": "code",
   "execution_count": 6,
   "id": "69fdacb6-adc0-4c91-be7f-3bb12bb36217",
   "metadata": {},
   "outputs": [
    {
     "name": "stderr",
     "output_type": "stream",
     "text": [
      "Warning message in system(\"timedatectl\", intern = TRUE):\n",
      "\"running command 'timedatectl' had status 1\"\n"
     ]
    }
   ],
   "source": [
    "library(lubridate, warn.conflicts=FALSE)"
   ]
  },
  {
   "cell_type": "code",
   "execution_count": 7,
   "id": "004f2203-91f1-4769-9954-69c165d2a4c6",
   "metadata": {},
   "outputs": [],
   "source": [
    "myDF$newdates <- mdy(myDF$TRANSACTION_DT)"
   ]
  },
  {
   "cell_type": "code",
   "execution_count": 8,
   "id": "fc987538-4b16-4f92-9895-522a41ac58f1",
   "metadata": {},
   "outputs": [
    {
     "data": {
      "text/html": [
       "<style>\n",
       ".list-inline {list-style: none; margin:0; padding: 0}\n",
       ".list-inline>li {display: inline-block}\n",
       ".list-inline>li:not(:last-child)::after {content: \"\\00b7\"; padding: 0 .5ex}\n",
       "</style>\n",
       "<ol class=list-inline><li><time datetime=\"2019-07-11\">2019-07-11</time></li><li><time datetime=\"2020-03-04\">2020-03-04</time></li><li><time datetime=\"2019-12-18\">2019-12-18</time></li><li><time datetime=\"2019-08-30\">2019-08-30</time></li><li><time datetime=\"2019-03-21\">2019-03-21</time></li><li><time datetime=\"2019-07-11\">2019-07-11</time></li></ol>\n"
      ],
      "text/latex": [
       "\\begin{enumerate*}\n",
       "\\item 2019-07-11\n",
       "\\item 2020-03-04\n",
       "\\item 2019-12-18\n",
       "\\item 2019-08-30\n",
       "\\item 2019-03-21\n",
       "\\item 2019-07-11\n",
       "\\end{enumerate*}\n"
      ],
      "text/markdown": [
       "1. 2019-07-11\n",
       "2. 2020-03-04\n",
       "3. 2019-12-18\n",
       "4. 2019-08-30\n",
       "5. 2019-03-21\n",
       "6. 2019-07-11\n",
       "\n",
       "\n"
      ],
      "text/plain": [
       "[1] \"2019-07-11\" \"2020-03-04\" \"2019-12-18\" \"2019-08-30\" \"2019-03-21\"\n",
       "[6] \"2019-07-11\""
      ]
     },
     "metadata": {},
     "output_type": "display_data"
    }
   ],
   "source": [
    "head(myDF$newdates)"
   ]
  },
  {
   "cell_type": "code",
   "execution_count": 9,
   "id": "4ceeb7a7-5c65-4818-9441-c4f71d7d813d",
   "metadata": {},
   "outputs": [],
   "source": [
    "myresults <- tapply(myDF$TRANSACTION_DT, myDF$newdates, sum)"
   ]
  },
  {
   "cell_type": "code",
   "execution_count": 10,
   "id": "6ad616e2-4fff-4c4c-8a9d-802b47662177",
   "metadata": {},
   "outputs": [
    {
     "data": {
      "text/html": [
       "<style>\n",
       ".dl-inline {width: auto; margin:0; padding: 0}\n",
       ".dl-inline>dt, .dl-inline>dd {float: none; width: auto; display: inline-block}\n",
       ".dl-inline>dt::after {content: \":\\0020\"; padding-right: .5ex}\n",
       ".dl-inline>dt:not(:first-of-type) {padding-left: .5ex}\n",
       "</style><dl class=dl-inline><dt>2002-02-13</dt><dd>2132002</dd><dt>2010-08-08</dt><dd>8082010</dd><dt>2015-06-28</dt><dd>6282015</dd><dt>2015-06-29</dt><dd>12584030</dd><dt>2016-06-03</dt><dd>6032016</dd><dt>2016-06-04</dt><dd>6042016</dd></dl>\n"
      ],
      "text/latex": [
       "\\begin{description*}\n",
       "\\item[2002-02-13] 2132002\n",
       "\\item[2010-08-08] 8082010\n",
       "\\item[2015-06-28] 6282015\n",
       "\\item[2015-06-29] 12584030\n",
       "\\item[2016-06-03] 6032016\n",
       "\\item[2016-06-04] 6042016\n",
       "\\end{description*}\n"
      ],
      "text/markdown": [
       "2002-02-13\n",
       ":   21320022010-08-08\n",
       ":   80820102015-06-28\n",
       ":   62820152015-06-29\n",
       ":   125840302016-06-03\n",
       ":   60320162016-06-04\n",
       ":   6042016\n",
       "\n"
      ],
      "text/plain": [
       "2002-02-13 2010-08-08 2015-06-28 2015-06-29 2016-06-03 2016-06-04 \n",
       "   2132002    8082010    6282015   12584030    6032016    6042016 "
      ]
     },
     "metadata": {},
     "output_type": "display_data"
    }
   ],
   "source": [
    "head(myresults)"
   ]
  },
  {
   "cell_type": "code",
   "execution_count": 11,
   "id": "59da166e-e23e-4de6-b7ce-221b63e9b575",
   "metadata": {},
   "outputs": [
    {
     "data": {
      "image/png": "[encoded data removed]",
      "text/plain": [
       "plot without title"
      ]
     },
     "metadata": {
      "image/png": {
       "height": 420,
       "width": 420
      }
     },
     "output_type": "display_data"
    }
   ],
   "source": [
    "plot(sort(unique(myDF$newdates)), myresults)"
   ]
  },
  {
   "cell_type": "markdown",
   "id": "fc601975-35ed-4680-a4e1-0273ee3cc047",
   "metadata": {},
   "source": [
    "## Question 2"
   ]
  },
  {
   "cell_type": "code",
   "execution_count": 12,
   "id": "a16336a1-1ef0-41e8-bc7c-49387db27497",
   "metadata": {},
   "outputs": [],
   "source": [
    "newDF <- subset(myDF, (newdates >= mdy(\"01/01/2019\")) & (newdates <= mdy(\"05/15/2019\")))"
   ]
  },
  {
   "cell_type": "code",
   "execution_count": 13,
   "id": "7c8d6ed6-62cc-4fc5-91f5-838401a016c9",
   "metadata": {},
   "outputs": [
    {
     "data": {
      "text/html": [
       "<style>\n",
       ".list-inline {list-style: none; margin:0; padding: 0}\n",
       ".list-inline>li {display: inline-block}\n",
       ".list-inline>li:not(:last-child)::after {content: \"\\00b7\"; padding: 0 .5ex}\n",
       "</style>\n",
       "<ol class=list-inline><li>4678762</li><li>22</li></ol>\n"
      ],
      "text/latex": [
       "\\begin{enumerate*}\n",
       "\\item 4678762\n",
       "\\item 22\n",
       "\\end{enumerate*}\n"
      ],
      "text/markdown": [
       "1. 4678762\n",
       "2. 22\n",
       "\n",
       "\n"
      ],
      "text/plain": [
       "[1] 4678762      22"
      ]
     },
     "metadata": {},
     "output_type": "display_data"
    },
    {
     "data": {
      "text/html": [
       "<style>\n",
       ".list-inline {list-style: none; margin:0; padding: 0}\n",
       ".list-inline>li {display: inline-block}\n",
       ".list-inline>li:not(:last-child)::after {content: \"\\00b7\"; padding: 0 .5ex}\n",
       "</style>\n",
       "<ol class=list-inline><li>495435</li><li>22</li></ol>\n"
      ],
      "text/latex": [
       "\\begin{enumerate*}\n",
       "\\item 495435\n",
       "\\item 22\n",
       "\\end{enumerate*}\n"
      ],
      "text/markdown": [
       "1. 495435\n",
       "2. 22\n",
       "\n",
       "\n"
      ],
      "text/plain": [
       "[1] 495435     22"
      ]
     },
     "metadata": {},
     "output_type": "display_data"
    }
   ],
   "source": [
    "dim(myDF)\n",
    "dim(newDF)"
   ]
  },
  {
   "cell_type": "code",
   "execution_count": 14,
   "id": "d79c68eb-9fbc-4c1e-8e86-16a0387c1238",
   "metadata": {},
   "outputs": [],
   "source": [
    "mynewresults <- tapply(newDF$TRANSACTION_DT, newDF$newdates, sum)"
   ]
  },
  {
   "cell_type": "code",
   "execution_count": 15,
   "id": "02e378f0-3371-48d3-b147-ae23ccfae081",
   "metadata": {},
   "outputs": [
    {
     "data": {
      "image/png": "[encoded data removed]",
      "text/plain": [
       "plot without title"
      ]
     },
     "metadata": {
      "image/png": {
       "height": 420,
       "width": 420
      }
     },
     "output_type": "display_data"
    }
   ],
   "source": [
    "plot(sort(unique(newDF$newdates)), mynewresults)"
   ]
  },
  {
   "cell_type": "markdown",
   "id": "14dc22d4-ddc3-41cc-a91a-cb0025bc0c80",
   "metadata": {},
   "source": [
    "c. I notice the data has increased variation as the plot progresses closer to May from January. The data is also trending upwards. This matches what we see in the prior plot, as data varies and increases more around 2019 to 2020."
   ]
  },
  {
   "cell_type": "markdown",
   "id": "8e586edd-ff26-4ce2-8f6b-2424b26f2929",
   "metadata": {},
   "source": [
    "## Question 3"
   ]
  },
  {
   "cell_type": "code",
   "execution_count": 16,
   "id": "bbe0f40d-9655-4653-9ca8-886bdb61cb91",
   "metadata": {},
   "outputs": [
    {
     "data": {
      "text/html": [
       "<style>\n",
       ".dl-inline {width: auto; margin:0; padding: 0}\n",
       ".dl-inline>dt, .dl-inline>dd {float: none; width: auto; display: inline-block}\n",
       ".dl-inline>dt::after {content: \":\\0020\"; padding-right: .5ex}\n",
       ".dl-inline>dt:not(:first-of-type) {padding-left: .5ex}\n",
       "</style><dl class=dl-inline><dt>SP</dt><dd>2</dd><dt>NT</dt><dd>9</dd><dt>UK</dt><dd>25</dd><dt>PE</dt><dd>50</dd><dt>SK</dt><dd>66</dd><dt>YT</dt><dd>162</dd><dt>MB</dt><dd>213</dd><dt>NB</dt><dd>417</dd><dt>NS</dt><dd>678</dd><dt>NL</dt><dd>909</dd><dt>AB</dt><dd>1474</dd><dt>FM</dt><dd>2250</dd><dt>AS</dt><dd>2908</dd><dt>QC</dt><dd>4347</dd><dt>MH</dt><dd>5000</dd><dt>PW</dt><dd>5000</dd><dt>MP</dt><dd>10098</dd><dt>BC</dt><dd>12083</dd><dt>ON</dt><dd>17743</dd><dt>AA</dt><dd>32243</dd><dt>AP</dt><dd>49240</dd><dt>GU</dt><dd>78087</dd><dt>VI</dt><dd>86549</dd><dt>AE</dt><dd>87137</dd><dt>25</dt><dd>431548</dd><dt>PR</dt><dd>457693</dd><dt>ZZ</dt><dd>823468</dd><dt>WV</dt><dd>1181879</dd><dt>SD</dt><dd>1212866</dd><dt>VT</dt><dd>1492795</dd><dt>ID</dt><dd>1626126</dd><dt>AK</dt><dd>1627993</dd><dt>RI</dt><dd>1636246</dd><dt>ND</dt><dd>1665152</dd><dt>HI</dt><dd>1730014</dd><dt>MS</dt><dd>1844410</dd><dt>DE</dt><dd>2120061</dd><dt>MT</dt><dd>2389091</dd><dt>NE</dt><dd>2418525</dd><dt>NH</dt><dd>2970383</dd><dt>ME</dt><dd>3393310</dd><dt>UT</dt><dd>3517485</dd><dt>WY</dt><dd>3554048</dd><dt>NM</dt><dd>4137547</dd><dt>IA</dt><dd>4291247</dd><dt>KS</dt><dd>4311170</dd><dt>KY</dt><dd>4440149</dd><dt>OK</dt><dd>5402240</dd><dt>SC</dt><dd>5586743</dd><dt>AR</dt><dd>5690116</dd><dt>WI</dt><dd>5911445</dd><dt>LA</dt><dd>6202190</dd><dt>OR</dt><dd>7088869</dd><dt>MO</dt><dd>7123990</dd><dt>AL</dt><dd>7195054</dd><dt>IN</dt><dd>8906170</dd><dt>TN</dt><dd>9043359</dd><dt>NV</dt><dd>9346089</dd><dt>MN</dt><dd>9990430</dd><dt>AZ</dt><dd>11750510</dd><dt>CT</dt><dd>12065158</dd><dt>NC</dt><dd>13368140</dd><dt>MD</dt><dd>14940848</dd><dt>OH</dt><dd>15076354</dd><dt>MI</dt><dd>15933204</dd><dt>NJ</dt><dd>16327791</dd><dt>GA</dt><dd>17026567</dd><dt>CO</dt><dd>18025653</dd><dt>WA</dt><dd>19736146</dd><dt>VA</dt><dd>24995172</dd><dt>PA</dt><dd>25093386</dd><dt>IL</dt><dd>27940911</dd><dt>MA</dt><dd>32308431</dd><dt>DC</dt><dd>37280905</dd><dt>FL</dt><dd>44118779</dd><dt>TX</dt><dd>63719103</dd><dt>CA</dt><dd>151842431</dd><dt>NY</dt><dd>364883860</dd></dl>\n"
      ],
      "text/latex": [
       "\\begin{description*}\n",
       "\\item[SP] 2\n",
       "\\item[NT] 9\n",
       "\\item[UK] 25\n",
       "\\item[PE] 50\n",
       "\\item[SK] 66\n",
       "\\item[YT] 162\n",
       "\\item[MB] 213\n",
       "\\item[NB] 417\n",
       "\\item[NS] 678\n",
       "\\item[NL] 909\n",
       "\\item[AB] 1474\n",
       "\\item[FM] 2250\n",
       "\\item[AS] 2908\n",
       "\\item[QC] 4347\n",
       "\\item[MH] 5000\n",
       "\\item[PW] 5000\n",
       "\\item[MP] 10098\n",
       "\\item[BC] 12083\n",
       "\\item[ON] 17743\n",
       "\\item[AA] 32243\n",
       "\\item[AP] 49240\n",
       "\\item[GU] 78087\n",
       "\\item[VI] 86549\n",
       "\\item[AE] 87137\n",
       "\\item[25] 431548\n",
       "\\item[PR] 457693\n",
       "\\item[ZZ] 823468\n",
       "\\item[WV] 1181879\n",
       "\\item[SD] 1212866\n",
       "\\item[VT] 1492795\n",
       "\\item[ID] 1626126\n",
       "\\item[AK] 1627993\n",
       "\\item[RI] 1636246\n",
       "\\item[ND] 1665152\n",
       "\\item[HI] 1730014\n",
       "\\item[MS] 1844410\n",
       "\\item[DE] 2120061\n",
       "\\item[MT] 2389091\n",
       "\\item[NE] 2418525\n",
       "\\item[NH] 2970383\n",
       "\\item[ME] 3393310\n",
       "\\item[UT] 3517485\n",
       "\\item[WY] 3554048\n",
       "\\item[NM] 4137547\n",
       "\\item[IA] 4291247\n",
       "\\item[KS] 4311170\n",
       "\\item[KY] 4440149\n",
       "\\item[OK] 5402240\n",
       "\\item[SC] 5586743\n",
       "\\item[AR] 5690116\n",
       "\\item[WI] 5911445\n",
       "\\item[LA] 6202190\n",
       "\\item[OR] 7088869\n",
       "\\item[MO] 7123990\n",
       "\\item[AL] 7195054\n",
       "\\item[IN] 8906170\n",
       "\\item[TN] 9043359\n",
       "\\item[NV] 9346089\n",
       "\\item[MN] 9990430\n",
       "\\item[AZ] 11750510\n",
       "\\item[CT] 12065158\n",
       "\\item[NC] 13368140\n",
       "\\item[MD] 14940848\n",
       "\\item[OH] 15076354\n",
       "\\item[MI] 15933204\n",
       "\\item[NJ] 16327791\n",
       "\\item[GA] 17026567\n",
       "\\item[CO] 18025653\n",
       "\\item[WA] 19736146\n",
       "\\item[VA] 24995172\n",
       "\\item[PA] 25093386\n",
       "\\item[IL] 27940911\n",
       "\\item[MA] 32308431\n",
       "\\item[DC] 37280905\n",
       "\\item[FL] 44118779\n",
       "\\item[TX] 63719103\n",
       "\\item[CA] 151842431\n",
       "\\item[NY] 364883860\n",
       "\\end{description*}\n"
      ],
      "text/markdown": [
       "SP\n",
       ":   2NT\n",
       ":   9UK\n",
       ":   25PE\n",
       ":   50SK\n",
       ":   66YT\n",
       ":   162MB\n",
       ":   213NB\n",
       ":   417NS\n",
       ":   678NL\n",
       ":   909AB\n",
       ":   1474FM\n",
       ":   2250AS\n",
       ":   2908QC\n",
       ":   4347MH\n",
       ":   5000PW\n",
       ":   5000MP\n",
       ":   10098BC\n",
       ":   12083ON\n",
       ":   17743AA\n",
       ":   32243AP\n",
       ":   49240GU\n",
       ":   78087VI\n",
       ":   86549AE\n",
       ":   8713725\n",
       ":   431548PR\n",
       ":   457693ZZ\n",
       ":   823468WV\n",
       ":   1181879SD\n",
       ":   1212866VT\n",
       ":   1492795ID\n",
       ":   1626126AK\n",
       ":   1627993RI\n",
       ":   1636246ND\n",
       ":   1665152HI\n",
       ":   1730014MS\n",
       ":   1844410DE\n",
       ":   2120061MT\n",
       ":   2389091NE\n",
       ":   2418525NH\n",
       ":   2970383ME\n",
       ":   3393310UT\n",
       ":   3517485WY\n",
       ":   3554048NM\n",
       ":   4137547IA\n",
       ":   4291247KS\n",
       ":   4311170KY\n",
       ":   4440149OK\n",
       ":   5402240SC\n",
       ":   5586743AR\n",
       ":   5690116WI\n",
       ":   5911445LA\n",
       ":   6202190OR\n",
       ":   7088869MO\n",
       ":   7123990AL\n",
       ":   7195054IN\n",
       ":   8906170TN\n",
       ":   9043359NV\n",
       ":   9346089MN\n",
       ":   9990430AZ\n",
       ":   11750510CT\n",
       ":   12065158NC\n",
       ":   13368140MD\n",
       ":   14940848OH\n",
       ":   15076354MI\n",
       ":   15933204NJ\n",
       ":   16327791GA\n",
       ":   17026567CO\n",
       ":   18025653WA\n",
       ":   19736146VA\n",
       ":   24995172PA\n",
       ":   25093386IL\n",
       ":   27940911MA\n",
       ":   32308431DC\n",
       ":   37280905FL\n",
       ":   44118779TX\n",
       ":   63719103CA\n",
       ":   151842431NY\n",
       ":   364883860\n",
       "\n"
      ],
      "text/plain": [
       "       SP        NT        UK        PE        SK        YT        MB        NB \n",
       "        2         9        25        50        66       162       213       417 \n",
       "       NS        NL        AB        FM        AS        QC        MH        PW \n",
       "      678       909      1474      2250      2908      4347      5000      5000 \n",
       "       MP        BC        ON        AA        AP        GU        VI        AE \n",
       "    10098     12083     17743     32243     49240     78087     86549     87137 \n",
       "                 PR        ZZ        WV        SD        VT        ID        AK \n",
       "   431548    457693    823468   1181879   1212866   1492795   1626126   1627993 \n",
       "       RI        ND        HI        MS        DE        MT        NE        NH \n",
       "  1636246   1665152   1730014   1844410   2120061   2389091   2418525   2970383 \n",
       "       ME        UT        WY        NM        IA        KS        KY        OK \n",
       "  3393310   3517485   3554048   4137547   4291247   4311170   4440149   5402240 \n",
       "       SC        AR        WI        LA        OR        MO        AL        IN \n",
       "  5586743   5690116   5911445   6202190   7088869   7123990   7195054   8906170 \n",
       "       TN        NV        MN        AZ        CT        NC        MD        OH \n",
       "  9043359   9346089   9990430  11750510  12065158  13368140  14940848  15076354 \n",
       "       MI        NJ        GA        CO        WA        VA        PA        IL \n",
       " 15933204  16327791  17026567  18025653  19736146  24995172  25093386  27940911 \n",
       "       MA        DC        FL        TX        CA        NY \n",
       " 32308431  37280905  44118779  63719103 151842431 364883860 "
      ]
     },
     "metadata": {},
     "output_type": "display_data"
    }
   ],
   "source": [
    "v <- tapply(myDF$TRANSACTION_AMT, myDF$STATE, sum)\n",
    "sort(v)"
   ]
  },
  {
   "cell_type": "code",
   "execution_count": 17,
   "id": "6e880733-1c43-4700-8876-60a91d25ba35",
   "metadata": {},
   "outputs": [],
   "source": [
    "myDF$citystatepair <- paste(myDF$CITY, myDF$STATE, sep=',')"
   ]
  },
  {
   "cell_type": "code",
   "execution_count": 18,
   "id": "9afbcb0b-1102-40aa-8910-5a9157c4c667",
   "metadata": {},
   "outputs": [
    {
     "data": {
      "text/html": [
       "<style>\n",
       ".list-inline {list-style: none; margin:0; padding: 0}\n",
       ".list-inline>li {display: inline-block}\n",
       ".list-inline>li:not(:last-child)::after {content: \"\\00b7\"; padding: 0 .5ex}\n",
       "</style>\n",
       "<ol class=list-inline><li>'CAPE CORAL,FL'</li><li>'SCOTTSVILLE,NY'</li><li>'HARTSDALE,NY'</li><li>'WASHINGTON,DC'</li><li>'GRAND RAPIDS,MI'</li><li>'KISSIMMEE,FL'</li></ol>\n"
      ],
      "text/latex": [
       "\\begin{enumerate*}\n",
       "\\item 'CAPE CORAL,FL'\n",
       "\\item 'SCOTTSVILLE,NY'\n",
       "\\item 'HARTSDALE,NY'\n",
       "\\item 'WASHINGTON,DC'\n",
       "\\item 'GRAND RAPIDS,MI'\n",
       "\\item 'KISSIMMEE,FL'\n",
       "\\end{enumerate*}\n"
      ],
      "text/markdown": [
       "1. 'CAPE CORAL,FL'\n",
       "2. 'SCOTTSVILLE,NY'\n",
       "3. 'HARTSDALE,NY'\n",
       "4. 'WASHINGTON,DC'\n",
       "5. 'GRAND RAPIDS,MI'\n",
       "6. 'KISSIMMEE,FL'\n",
       "\n",
       "\n"
      ],
      "text/plain": [
       "[1] \"CAPE CORAL,FL\"   \"SCOTTSVILLE,NY\"  \"HARTSDALE,NY\"    \"WASHINGTON,DC\"  \n",
       "[5] \"GRAND RAPIDS,MI\" \"KISSIMMEE,FL\"   "
      ]
     },
     "metadata": {},
     "output_type": "display_data"
    }
   ],
   "source": [
    "head(myDF$citystatepair)"
   ]
  },
  {
   "cell_type": "code",
   "execution_count": 19,
   "id": "be7a3640-3c4a-4a7f-a786-6ae4bf26bfb9",
   "metadata": {},
   "outputs": [],
   "source": [
    "w <- tapply(myDF$TRANSACTION_AMT, myDF$citystatepair, sum)"
   ]
  },
  {
   "cell_type": "code",
   "execution_count": 20,
   "id": "0f11b55a-bb21-4851-a702-83dfe2a02e8d",
   "metadata": {},
   "outputs": [
    {
     "data": {
      "text/html": [
       "<style>\n",
       ".dl-inline {width: auto; margin:0; padding: 0}\n",
       ".dl-inline>dt, .dl-inline>dd {float: none; width: auto; display: inline-block}\n",
       ".dl-inline>dt::after {content: \":\\0020\"; padding-right: .5ex}\n",
       ".dl-inline>dt:not(:first-of-type) {padding-left: .5ex}\n",
       "</style><dl class=dl-inline><dt>LAKE HAMILTON,FL</dt><dd>-500</dd><dt>LINCOLN CITY,,OR</dt><dd>-500</dd><dt>LITTLSTOWN,PA</dt><dd>-500</dd><dt><span style=white-space:pre-wrap>NORTH READING,  MA,MA</span></dt><dd>-500</dd><dt>OBRIEN,OR</dt><dd>-500</dd><dt>REGINA,ZZ</dt><dd>-500</dd><dt>VAB,VA</dt><dd>-500</dd><dt>YORK,MD</dt><dd>-500</dd><dt>CLERMONT,GA</dt><dd>-549</dd><dt>RIDGE MANOR,FL</dt><dd>-563</dd><dt>ALPINE,AL</dt><dd>-646</dd><dt>GPP,MI</dt><dd>-700</dd><dt>YORKTOWN,NY</dt><dd>-706</dd><dt>HARFORD,PA</dt><dd>-743</dd><dt>RICHLAND,IN</dt><dd>-845</dd><dt>BLUEWATER,NM</dt><dd>-869</dd><dt>YORKTOWN HGTS,NY</dt><dd>-910</dd><dt>PRAIRIE VILLAGE, K,KS</dt><dd>-945</dd><dt>BIRCHWOOD,TN</dt><dd>-955</dd><dt>MERIDIAN CHARTER T,MI</dt><dd>-964</dd><dt>ARMADA,MI</dt><dd>-969</dd><dt>FORDYCE,AR</dt><dd>-980</dd><dt><span style=white-space:pre-wrap>NEW  CASTLE,DE</span></dt><dd>-990</dd><dt>CERES,NY</dt><dd>-995</dd><dt>OSLO,</dt><dd>-1000</dd><dt>PANAMA,FL</dt><dd>-1000</dd><dt>SCOTTOWN,OH</dt><dd>-1000</dd><dt>W TOLUCA LAKE,CA</dt><dd>-1000</dd><dt>SAINT ALBANS,MO</dt><dd>-1128</dd><dt>MOUNTAIN VIEW,HI</dt><dd>-1224</dd><dt>EXETER,PA</dt><dd>-1357</dd><dt>EASTERO,FL</dt><dd>-1500</dd><dt>COOL,CA</dt><dd>-1681</dd><dt>CORTEX,FL</dt><dd>-1800</dd><dt>SUMPTER TWP,MI</dt><dd>-1850</dd><dt>FREEMANSBURG,PA</dt><dd>-2003</dd><dt>WELLBORN,FL</dt><dd>-2056</dd><dt>CAMERON,TX</dt><dd>-2157</dd><dt>WILMINTON,NC</dt><dd>-2300</dd><dt>GORDON,TX</dt><dd>-2338</dd><dt>LOOKOUT MTN,GA</dt><dd>-2373</dd><dt>E. AMHERST,NY</dt><dd>-2700</dd><dt>BLVD,OR</dt><dd>-2800</dd><dt>BROOKVILLE,KS</dt><dd>-2800</dd><dt>DARIEN,NY</dt><dd>-2800</dd><dt>GARDEN CITY,NJ</dt><dd>-2800</dd><dt>WILSON,AR</dt><dd>-2800</dd><dt>PLEASANT HILL,TN</dt><dd>-4295</dd><dt>HOXIE,KS</dt><dd>-8150</dd><dt>HEFLIN,AL</dt><dd>-9983</dd></dl>\n"
      ],
      "text/latex": [
       "\\begin{description*}\n",
       "\\item[LAKE HAMILTON,FL] -500\n",
       "\\item[LINCOLN CITY,,OR] -500\n",
       "\\item[LITTLSTOWN,PA] -500\n",
       "\\item[NORTH READING,  MA,MA] -500\n",
       "\\item[OBRIEN,OR] -500\n",
       "\\item[REGINA,ZZ] -500\n",
       "\\item[VAB,VA] -500\n",
       "\\item[YORK,MD] -500\n",
       "\\item[CLERMONT,GA] -549\n",
       "\\item[RIDGE MANOR,FL] -563\n",
       "\\item[ALPINE,AL] -646\n",
       "\\item[GPP,MI] -700\n",
       "\\item[YORKTOWN,NY] -706\n",
       "\\item[HARFORD,PA] -743\n",
       "\\item[RICHLAND,IN] -845\n",
       "\\item[BLUEWATER,NM] -869\n",
       "\\item[YORKTOWN HGTS,NY] -910\n",
       "\\item[PRAIRIE VILLAGE, K,KS] -945\n",
       "\\item[BIRCHWOOD,TN] -955\n",
       "\\item[MERIDIAN CHARTER T,MI] -964\n",
       "\\item[ARMADA,MI] -969\n",
       "\\item[FORDYCE,AR] -980\n",
       "\\item[NEW  CASTLE,DE] -990\n",
       "\\item[CERES,NY] -995\n",
       "\\item[OSLO,] -1000\n",
       "\\item[PANAMA,FL] -1000\n",
       "\\item[SCOTTOWN,OH] -1000\n",
       "\\item[W TOLUCA LAKE,CA] -1000\n",
       "\\item[SAINT ALBANS,MO] -1128\n",
       "\\item[MOUNTAIN VIEW,HI] -1224\n",
       "\\item[EXETER,PA] -1357\n",
       "\\item[EASTERO,FL] -1500\n",
       "\\item[COOL,CA] -1681\n",
       "\\item[CORTEX,FL] -1800\n",
       "\\item[SUMPTER TWP,MI] -1850\n",
       "\\item[FREEMANSBURG,PA] -2003\n",
       "\\item[WELLBORN,FL] -2056\n",
       "\\item[CAMERON,TX] -2157\n",
       "\\item[WILMINTON,NC] -2300\n",
       "\\item[GORDON,TX] -2338\n",
       "\\item[LOOKOUT MTN,GA] -2373\n",
       "\\item[E. AMHERST,NY] -2700\n",
       "\\item[BLVD,OR] -2800\n",
       "\\item[BROOKVILLE,KS] -2800\n",
       "\\item[DARIEN,NY] -2800\n",
       "\\item[GARDEN CITY,NJ] -2800\n",
       "\\item[WILSON,AR] -2800\n",
       "\\item[PLEASANT HILL,TN] -4295\n",
       "\\item[HOXIE,KS] -8150\n",
       "\\item[HEFLIN,AL] -9983\n",
       "\\end{description*}\n"
      ],
      "text/markdown": [
       "LAKE HAMILTON,FL\n",
       ":   -500LINCOLN CITY,,OR\n",
       ":   -500LITTLSTOWN,PA\n",
       ":   -500<span style=white-space:pre-wrap>NORTH READING,  MA,MA</span>\n",
       ":   -500OBRIEN,OR\n",
       ":   -500REGINA,ZZ\n",
       ":   -500VAB,VA\n",
       ":   -500YORK,MD\n",
       ":   -500CLERMONT,GA\n",
       ":   -549RIDGE MANOR,FL\n",
       ":   -563ALPINE,AL\n",
       ":   -646GPP,MI\n",
       ":   -700YORKTOWN,NY\n",
       ":   -706HARFORD,PA\n",
       ":   -743RICHLAND,IN\n",
       ":   -845BLUEWATER,NM\n",
       ":   -869YORKTOWN HGTS,NY\n",
       ":   -910PRAIRIE VILLAGE, K,KS\n",
       ":   -945BIRCHWOOD,TN\n",
       ":   -955MERIDIAN CHARTER T,MI\n",
       ":   -964ARMADA,MI\n",
       ":   -969FORDYCE,AR\n",
       ":   -980<span style=white-space:pre-wrap>NEW  CASTLE,DE</span>\n",
       ":   -990CERES,NY\n",
       ":   -995OSLO,\n",
       ":   -1000PANAMA,FL\n",
       ":   -1000SCOTTOWN,OH\n",
       ":   -1000W TOLUCA LAKE,CA\n",
       ":   -1000SAINT ALBANS,MO\n",
       ":   -1128MOUNTAIN VIEW,HI\n",
       ":   -1224EXETER,PA\n",
       ":   -1357EASTERO,FL\n",
       ":   -1500COOL,CA\n",
       ":   -1681CORTEX,FL\n",
       ":   -1800SUMPTER TWP,MI\n",
       ":   -1850FREEMANSBURG,PA\n",
       ":   -2003WELLBORN,FL\n",
       ":   -2056CAMERON,TX\n",
       ":   -2157WILMINTON,NC\n",
       ":   -2300GORDON,TX\n",
       ":   -2338LOOKOUT MTN,GA\n",
       ":   -2373E. AMHERST,NY\n",
       ":   -2700BLVD,OR\n",
       ":   -2800BROOKVILLE,KS\n",
       ":   -2800DARIEN,NY\n",
       ":   -2800GARDEN CITY,NJ\n",
       ":   -2800WILSON,AR\n",
       ":   -2800PLEASANT HILL,TN\n",
       ":   -4295HOXIE,KS\n",
       ":   -8150HEFLIN,AL\n",
       ":   -9983\n",
       "\n"
      ],
      "text/plain": [
       "     LAKE HAMILTON,FL      LINCOLN CITY,,OR         LITTLSTOWN,PA \n",
       "                 -500                  -500                  -500 \n",
       "NORTH READING,  MA,MA             OBRIEN,OR             REGINA,ZZ \n",
       "                 -500                  -500                  -500 \n",
       "               VAB,VA               YORK,MD           CLERMONT,GA \n",
       "                 -500                  -500                  -549 \n",
       "       RIDGE MANOR,FL             ALPINE,AL                GPP,MI \n",
       "                 -563                  -646                  -700 \n",
       "          YORKTOWN,NY            HARFORD,PA           RICHLAND,IN \n",
       "                 -706                  -743                  -845 \n",
       "         BLUEWATER,NM      YORKTOWN HGTS,NY PRAIRIE VILLAGE, K,KS \n",
       "                 -869                  -910                  -945 \n",
       "         BIRCHWOOD,TN MERIDIAN CHARTER T,MI             ARMADA,MI \n",
       "                 -955                  -964                  -969 \n",
       "           FORDYCE,AR        NEW  CASTLE,DE              CERES,NY \n",
       "                 -980                  -990                  -995 \n",
       "                OSLO,             PANAMA,FL           SCOTTOWN,OH \n",
       "                -1000                 -1000                 -1000 \n",
       "     W TOLUCA LAKE,CA       SAINT ALBANS,MO      MOUNTAIN VIEW,HI \n",
       "                -1000                 -1128                 -1224 \n",
       "            EXETER,PA            EASTERO,FL               COOL,CA \n",
       "                -1357                 -1500                 -1681 \n",
       "            CORTEX,FL        SUMPTER TWP,MI       FREEMANSBURG,PA \n",
       "                -1800                 -1850                 -2003 \n",
       "          WELLBORN,FL            CAMERON,TX          WILMINTON,NC \n",
       "                -2056                 -2157                 -2300 \n",
       "            GORDON,TX        LOOKOUT MTN,GA         E. AMHERST,NY \n",
       "                -2338                 -2373                 -2700 \n",
       "              BLVD,OR         BROOKVILLE,KS             DARIEN,NY \n",
       "                -2800                 -2800                 -2800 \n",
       "       GARDEN CITY,NJ             WILSON,AR      PLEASANT HILL,TN \n",
       "                -2800                 -2800                 -4295 \n",
       "             HOXIE,KS             HEFLIN,AL \n",
       "                -8150                 -9983 "
      ]
     },
     "metadata": {},
     "output_type": "display_data"
    }
   ],
   "source": [
    "tail(sort(w, decreasing=TRUE), n=50)"
   ]
  },
  {
   "cell_type": "markdown",
   "id": "47c6229f-35f7-400c-8366-c442baa5cf47",
   "metadata": {},
   "source": [
    "c. In the tail end of the result, I see that there are city state pairs with negative donation amounts. This happened because there are missing values in the city/state dataset."
   ]
  },
  {
   "cell_type": "markdown",
   "id": "da22f29c-d245-4d2b-9fc1-ca14cb6087d9",
   "metadata": {},
   "source": [
    "## Question 4"
   ]
  },
  {
   "cell_type": "code",
   "execution_count": 21,
   "id": "8cffc767-d1c8-4d64-b7dc-f0d2ee8a80d1",
   "metadata": {},
   "outputs": [
    {
     "data": {
      "text/html": [
       "'character'"
      ],
      "text/latex": [
       "'character'"
      ],
      "text/markdown": [
       "'character'"
      ],
      "text/plain": [
       "[1] \"character\""
      ]
     },
     "metadata": {},
     "output_type": "display_data"
    }
   ],
   "source": [
    "class(myDF$NAME)"
   ]
  },
  {
   "cell_type": "code",
   "execution_count": 23,
   "id": "17bf4b25-7d98-4d83-9365-2f112a98d134",
   "metadata": {},
   "outputs": [
    {
     "data": {
      "text/html": [
       "7111474"
      ],
      "text/latex": [
       "7111474"
      ],
      "text/markdown": [
       "7111474"
      ],
      "text/plain": [
       "[1] 7111474"
      ]
     },
     "metadata": {},
     "output_type": "display_data"
    }
   ],
   "source": [
    "sum(myDF$TRANSACTION_AMT[grepl(\", MARY\", myDF$NAME)])"
   ]
  },
  {
   "cell_type": "markdown",
   "id": "0d552245-b4d6-474a-9cc9-fa7b8e674d55",
   "metadata": {},
   "source": [
    "a. The type of data is character.\n",
    "\n",
    "b. \n",
    "\n",
    "c. $7,111,474 has been donated in total by people named Mary."
   ]
  },
  {
   "cell_type": "markdown",
   "id": "88c9cdac-3e92-498f-83fa-e089bfc44ac8",
   "metadata": {},
   "source": [
    "## Question 5"
   ]
  },
  {
   "cell_type": "code",
   "execution_count": 27,
   "id": "d370d7c9-06db-42b9-b75f-240481a5c491",
   "metadata": {},
   "outputs": [],
   "source": [
    "notemployed <- sum(myDF$TRANSACTION_AMT[myDF$EMPLOYER == \"NOT EMPLOYED\"], na.rm=TRUE)"
   ]
  },
  {
   "cell_type": "code",
   "execution_count": 29,
   "id": "60d05613-decd-47a6-a3fd-64cfda7b935c",
   "metadata": {},
   "outputs": [],
   "source": [
    "employed <- sum(myDF$TRANSACTION_AMT[myDF$EMPLOYER == \"EMPLOYED\"], na.rm=TRUE)"
   ]
  },
  {
   "cell_type": "code",
   "execution_count": 31,
   "id": "b5896023-9d08-46d8-927d-ad32dd7155fc",
   "metadata": {},
   "outputs": [],
   "source": [
    "v <- c(employed, notemployed)\n",
    "names(v) <- c(\"EMPLOYED\", \"NOT EMPLOYED\")"
   ]
  },
  {
   "cell_type": "code",
   "execution_count": 33,
   "id": "bafb136b-b37c-40fa-a063-530b139982ce",
   "metadata": {},
   "outputs": [
    {
     "data": {
      "text/html": [
       "<style>\n",
       ".dl-inline {width: auto; margin:0; padding: 0}\n",
       ".dl-inline>dt, .dl-inline>dd {float: none; width: auto; display: inline-block}\n",
       ".dl-inline>dt::after {content: \":\\0020\"; padding-right: .5ex}\n",
       ".dl-inline>dt:not(:first-of-type) {padding-left: .5ex}\n",
       "</style><dl class=dl-inline><dt>EMPLOYED</dt><dd>12418</dd><dt>NOT EMPLOYED</dt><dd>79250204</dd></dl>\n"
      ],
      "text/latex": [
       "\\begin{description*}\n",
       "\\item[EMPLOYED] 12418\n",
       "\\item[NOT EMPLOYED] 79250204\n",
       "\\end{description*}\n"
      ],
      "text/markdown": [
       "EMPLOYED\n",
       ":   12418NOT EMPLOYED\n",
       ":   79250204\n",
       "\n"
      ],
      "text/plain": [
       "    EMPLOYED NOT EMPLOYED \n",
       "       12418     79250204 "
      ]
     },
     "metadata": {},
     "output_type": "display_data"
    },
    {
     "data": {
      "image/png": "[encoded data removed]",
      "text/plain": [
       "plot without title"
      ]
     },
     "metadata": {
      "image/png": {
       "height": 420,
       "width": 420
      }
     },
     "output_type": "display_data"
    }
   ],
   "source": [
    "barplot(v)\n",
    "v"
   ]
  },
  {
   "cell_type": "code",
   "execution_count": 38,
   "id": "50fcd764-52b9-44d9-8723-149c6f273673",
   "metadata": {},
   "outputs": [
    {
     "data": {
      "text/html": [
       "<style>\n",
       ".dl-inline {width: auto; margin:0; padding: 0}\n",
       ".dl-inline>dt, .dl-inline>dd {float: none; width: auto; display: inline-block}\n",
       ".dl-inline>dt::after {content: \":\\0020\"; padding-right: .5ex}\n",
       ".dl-inline>dt:not(:first-of-type) {padding-left: .5ex}\n",
       "</style><dl class=dl-inline><dt>FOUNDER</dt><dd>279442327</dd><dt>RETIRED</dt><dd>98774206</dd><dt>NOT EMPLOYED</dt><dd>84855951</dd><dt>4</dt><dd>77364020</dd><dt>ATTORNEY</dt><dd>31326953</dd><dt>CEO</dt><dd>25055647</dd></dl>\n"
      ],
      "text/latex": [
       "\\begin{description*}\n",
       "\\item[FOUNDER] 279442327\n",
       "\\item[RETIRED] 98774206\n",
       "\\item[NOT EMPLOYED] 84855951\n",
       "\\item[4] 77364020\n",
       "\\item[ATTORNEY] 31326953\n",
       "\\item[CEO] 25055647\n",
       "\\end{description*}\n"
      ],
      "text/markdown": [
       "FOUNDER\n",
       ":   279442327RETIRED\n",
       ":   98774206NOT EMPLOYED\n",
       ":   848559514\n",
       ":   77364020ATTORNEY\n",
       ":   31326953CEO\n",
       ":   25055647\n",
       "\n"
      ],
      "text/plain": [
       "     FOUNDER      RETIRED NOT EMPLOYED                  ATTORNEY          CEO \n",
       "   279442327     98774206     84855951     77364020     31326953     25055647 "
      ]
     },
     "metadata": {},
     "output_type": "display_data"
    }
   ],
   "source": [
    "head(sort(tapply(myDF$TRANSACTION_AMT, myDF$OCCUPATION, sum), decreasing=TRUE))"
   ]
  },
  {
   "cell_type": "code",
   "execution_count": 40,
   "id": "1fa1e013-1839-447d-97bf-23e9149807f2",
   "metadata": {},
   "outputs": [],
   "source": [
    "ceo <- subset(myDF, myDF$OCCUPATION == \"CEO\")"
   ]
  },
  {
   "cell_type": "code",
   "execution_count": 41,
   "id": "372a1a14-12f2-44a3-bb37-1baddf54fb90",
   "metadata": {},
   "outputs": [
    {
     "data": {
      "image/png": "[encoded data removed]",
      "text/plain": [
       "plot without title"
      ]
     },
     "metadata": {
      "image/png": {
       "height": 420,
       "width": 420
      }
     },
     "output_type": "display_data"
    }
   ],
   "source": [
    "plot(ceo$TRANSACTION_AMT)"
   ]
  },
  {
   "cell_type": "markdown",
   "id": "9fbf00fb-2418-460f-ae94-2a32b0c28952",
   "metadata": {},
   "source": [
    "b. The category of occupation that donates the most money is 'Founder'.\n",
    "\n",
    "c. I chose to plot how much money CEOs donated. This is because they may have ulterior motives to donate to certain politicians."
   ]
  },
  {
   "cell_type": "markdown",
   "id": "f76442d6-d02e-4f26-b9d6-c3183e1d6929",
   "metadata": {},
   "source": [
    "## Pledge\n",
    "\n",
    "By submitting this work I hereby pledge that this is my own, personal work. I've acknowledged in the designated place at the top of this file all sources that I used to complete said work, including but not limited to: online resources, books, and electronic communications. I've noted all collaboration with fellow students and/or TA's. I did not copy or plagiarize another's work.\n",
    "\n",
    "> As a Boilermaker pursuing academic excellence, I pledge to be honest and true in all that I do. Accountable together – We are Purdue."
   ]
  }
 ],
 "metadata": {
  "kernelspec": {
   "display_name": "f2022-s2023-r",
   "language": "R",
   "name": "f2022-s2023-r"
  },
  "language_info": {
   "codemirror_mode": "r",
   "file_extension": ".r",
   "mimetype": "text/x-r-source",
   "name": "R",
   "pygments_lexer": "r",
   "version": "4.2.1"
  }
 },
 "nbformat": 4,
 "nbformat_minor": 5
}
