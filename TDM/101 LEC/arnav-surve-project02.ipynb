{
 "cells": [
  {
   "cell_type": "markdown",
   "id": "be02a957-7133-4d02-818e-fedeb3cecb05",
   "metadata": {},
   "source": [
    "# Project 2 -- Arnav Surve"
   ]
  },
  {
   "cell_type": "markdown",
   "id": "a1228853-dd19-4ab2-89e0-0394d7d72de3",
   "metadata": {},
   "source": [
    "**TA Help:** NA\n",
    "    \n",
    "**Collaboration:** Gaurav Singh for question 2A; we found that factors store both strings and integers."
   ]
  },
  {
   "cell_type": "markdown",
   "id": "6180e742-8e39-4698-98ff-5b00c8cf8ea0",
   "metadata": {},
   "source": [
    "## Question 1"
   ]
  },
  {
   "cell_type": "code",
   "execution_count": 3,
   "id": "49445606-d363-41b4-b479-e319a9a84c01",
   "metadata": {},
   "outputs": [],
   "source": [
    "%%R\n",
    "\n",
    "myDF <- read.csv(\"/anvil/projects/tdm/data/flights/subset/1995.csv\", stringsAsFactors = TRUE)"
   ]
  },
  {
   "cell_type": "code",
   "execution_count": 3,
   "id": "2b61cbaa-c743-48f4-93cb-7b4680690835",
   "metadata": {},
   "outputs": [
    {
     "name": "stdout",
     "output_type": "stream",
     "text": [
      "[1] 5327435      29\n"
     ]
    }
   ],
   "source": [
    "%%R\n",
    "\n",
    "dim(myDF)"
   ]
  },
  {
   "cell_type": "code",
   "execution_count": 43,
   "id": "aeb95ca3-b630-4e85-849d-80b145ca84b0",
   "metadata": {},
   "outputs": [
    {
     "name": "stdout",
     "output_type": "stream",
     "text": [
      "  Year Month DayofMonth DayOfWeek DepTime CRSDepTime ArrTime CRSArrTime\n",
      "1 1995     1          6         5     657        645     952        937\n",
      "2 1995     1          7         6     648        645     938        937\n",
      "3 1995     1          8         7     649        645     932        937\n",
      "4 1995     1          9         1     645        645     928        937\n",
      "5 1995     1         10         2     645        645     931        937\n",
      "6 1995     1         11         3     646        645     929        937\n",
      "  UniqueCarrier FlightNum TailNum ActualElapsedTime CRSElapsedTime AirTime\n",
      "1            UA       482  N7298U               115            112      83\n",
      "2            UA       482  N7449U               110            112      88\n",
      "3            UA       482  N7453U               103            112      83\n",
      "4            UA       482  N7288U               103            112      84\n",
      "5            UA       482  N7275U               106            112      82\n",
      "6            UA       482  N7281U               103            112      85\n",
      "  ArrDelay DepDelay Origin Dest Distance TaxiIn TaxiOut Cancelled\n",
      "1       15       12    ORD  PHL      678      7      25         0\n",
      "2        1        3    ORD  PHL      678      5      17         0\n",
      "3       -5        4    ORD  PHL      678      3      17         0\n",
      "4       -9        0    ORD  PHL      678      3      16         0\n",
      "5       -6        0    ORD  PHL      678      6      18         0\n",
      "6       -8        1    ORD  PHL      678      5      13         0\n",
      "  CancellationCode Diverted CarrierDelay WeatherDelay NASDelay SecurityDelay\n",
      "1               NA        0           NA           NA       NA            NA\n",
      "2               NA        0           NA           NA       NA            NA\n",
      "3               NA        0           NA           NA       NA            NA\n",
      "4               NA        0           NA           NA       NA            NA\n",
      "5               NA        0           NA           NA       NA            NA\n",
      "6               NA        0           NA           NA       NA            NA\n",
      "  LateAircraftDelay\n",
      "1                NA\n",
      "2                NA\n",
      "3                NA\n",
      "4                NA\n",
      "5                NA\n",
      "6                NA\n"
     ]
    }
   ],
   "source": [
    "%%R\n",
    "\n",
    "head(myDF)"
   ]
  },
  {
   "cell_type": "code",
   "execution_count": 42,
   "id": "fa6254d8-ec3d-40b6-ac18-64e7549bb296",
   "metadata": {},
   "outputs": [
    {
     "name": "stdout",
     "output_type": "stream",
     "text": [
      "'data.frame':\t5327435 obs. of  29 variables:\n",
      " $ Year             : int  1995 1995 1995 1995 1995 1995 1995 1995 1995 1995 ...\n",
      " $ Month            : int  1 1 1 1 1 1 1 1 1 1 ...\n",
      " $ DayofMonth       : int  6 7 8 9 10 11 12 13 14 15 ...\n",
      " $ DayOfWeek        : int  5 6 7 1 2 3 4 5 6 7 ...\n",
      " $ DepTime          : int  657 648 649 645 645 646 NA 644 644 643 ...\n",
      " $ CRSDepTime       : int  645 645 645 645 645 645 645 645 645 645 ...\n",
      " $ ArrTime          : int  952 938 932 928 931 929 NA 953 938 940 ...\n",
      " $ CRSArrTime       : int  937 937 937 937 937 937 937 937 937 937 ...\n",
      " $ UniqueCarrier    : Factor w/ 10 levels \"AA\",\"AS\",\"CO\",..: 8 8 8 8 8 8 8 8 8 8 ...\n",
      " $ FlightNum        : int  482 482 482 482 482 482 482 482 482 482 ...\n",
      " $ TailNum          : Factor w/ 3508 levels \"112\",\"EI-BOM\",..: 2526 2561 2566 2511 2489 2498 3508 2467 2504 2484 ...\n",
      " $ ActualElapsedTime: int  115 110 103 103 106 103 NA 129 114 117 ...\n",
      " $ CRSElapsedTime   : int  112 112 112 112 112 112 112 112 112 112 ...\n",
      " $ AirTime          : int  83 88 83 84 82 85 45 110 94 99 ...\n",
      " $ ArrDelay         : int  15 1 -5 -9 -6 -8 NA 16 1 3 ...\n",
      " $ DepDelay         : int  12 3 4 0 0 1 NA -1 -1 -2 ...\n",
      " $ Origin           : Factor w/ 218 levels \"ABE\",\"ABQ\",\"ACK\",..: 157 157 157 157 157 157 157 157 157 157 ...\n",
      " $ Dest             : Factor w/ 218 levels \"ABE\",\"ABQ\",\"ACK\",..: 165 165 165 165 165 165 165 165 165 165 ...\n",
      " $ Distance         : int  678 678 678 678 678 678 678 678 678 678 ...\n",
      " $ TaxiIn           : int  7 5 3 3 6 5 6 5 5 3 ...\n",
      " $ TaxiOut          : int  25 17 17 16 18 13 10 14 15 15 ...\n",
      " $ Cancelled        : int  0 0 0 0 0 0 1 0 0 0 ...\n",
      " $ CancellationCode : logi  NA NA NA NA NA NA ...\n",
      " $ Diverted         : int  0 0 0 0 0 0 0 0 0 0 ...\n",
      " $ CarrierDelay     : logi  NA NA NA NA NA NA ...\n",
      " $ WeatherDelay     : logi  NA NA NA NA NA NA ...\n",
      " $ NASDelay         : logi  NA NA NA NA NA NA ...\n",
      " $ SecurityDelay    : logi  NA NA NA NA NA NA ...\n",
      " $ LateAircraftDelay: logi  NA NA NA NA NA NA ...\n"
     ]
    }
   ],
   "source": [
    "%%R\n",
    "\n",
    "str(myDF)"
   ]
  },
  {
   "cell_type": "markdown",
   "id": "b456e57c-4a12-464b-999a-ef2df5af80c1",
   "metadata": {},
   "source": [
    "A. 29 columns\n",
    "\n",
    "B. 5,237,435 rows\n",
    "\n",
    "C. Dataframe consists of numerical values and strings."
   ]
  },
  {
   "cell_type": "markdown",
   "id": "fc601975-35ed-4680-a4e1-0273ee3cc047",
   "metadata": {},
   "source": [
    "## Question 2"
   ]
  },
  {
   "cell_type": "code",
   "execution_count": 10,
   "id": "a16336a1-1ef0-41e8-bc7c-49387db27497",
   "metadata": {},
   "outputs": [
    {
     "name": "stdout",
     "output_type": "stream",
     "text": [
      "    ORD     DFW     ATL     LAX     STL     PHX     DTW     MSP     CLT     DEN \n",
      " 293422  268127  230470  179909  174847  157155  147610  136436  131417  130327 \n",
      "    SFO     PIT     IAH     LAS     EWR     LGA     BOS     SEA     PHL     DCA \n",
      " 129137  126190  121029  112181  109592   99225   92852   92016   91577   86266 \n",
      "    SLC     CVG     MIA     MCO     CLE     BWI     SAN     OAK     HOU     MCI \n",
      "  84056   76629   70581   67900   66888   66154   65731   65541   57492   56727 \n",
      "    MEM     MSY     PDX     MDW     DAL     JFK     TPA     BNA     ONT     SJC \n",
      "  53388   49179   48049   47985   46570   46187   45782   43382   40062   39283 \n",
      "    CMH     SAT     IND     ABQ     AUS     SNA     SMF     FLL     IAD     GSO \n",
      "  38271   38060   37092   36871   36474   36159   36051   33641   33053   32676 \n",
      "    BUR     ELP     RDU     BDL     SDF     PBI     OKC     SJU     TUL     RNO \n",
      "  31472   28728   27642   25771   24094   22558   22077   21458   20795   20727 \n",
      "    BUF     ANC     TUS     OMA     ORF     JAX     BHM     MKE     LIT     ROC \n",
      "  19932   19040   18549   18215   18198   18184   18118   17172   16652   16130 \n",
      "    RIC     RSW     DAY     SYR     HNL     PVD     GEG     COS     ALB     BOI \n",
      "  15990   14990   14524   12592   12537   12530   12230   12077   11997   10174 \n",
      "    TYS     CHS     DSM     GRR     GSP     MDT     MAF     ABE     ICT     HSV \n",
      "   9509    9228    9177    9171    8835    8648    7512    7198    7051    6957 \n",
      "    SRQ     PNS     LBB     HPN     SAV     HRL     CAE     PWM     MOB (Other) \n",
      "   6863    6621    6338    6228    5763    5752    5714    5451    5378  229189 \n"
     ]
    }
   ],
   "source": [
    "%%R\n",
    "\n",
    "#takes the selected information from the dataframe and puts it into a new vector called `myairports`\n",
    "myairports <- myDF$Origin\n",
    "summary(myairports)"
   ]
  },
  {
   "cell_type": "code",
   "execution_count": 36,
   "id": "dd9e3d8e-9c6a-4a8c-85da-a5314e437ca2",
   "metadata": {},
   "outputs": [
    {
     "name": "stdout",
     "output_type": "stream",
     "text": [
      "  [1] ORD ORD ORD ORD ORD ORD ORD ORD ORD ORD ORD ORD ORD ORD ORD ORD ORD ORD\n",
      " [19] ORD ORD ORD ORD ORD ORD ORD ORD ORD ORD ORD ORD ORD ORD ORD ORD ORD ORD\n",
      " [37] ORD ORD ORD ORD ORD ORD ORD ORD ORD ORD ORD ORD ORD ORD ORD ORD ORD ORD\n",
      " [55] ORD ORD ORD ORD ORD ORD ORD ORD ORD ORD ORD ORD ORD ORD ORD ORD ORD ORD\n",
      " [73] ORD ORD ORD ORD ORD ORD ORD ORD ORD ORD ORD ORD ORD ORD ORD ORD ORD ORD\n",
      " [91] ORD ORD ORD ORD ORD ORD ORD ORD ORD ORD ORD ORD ORD ORD ORD ORD ORD ORD\n",
      "[109] ORD ORD ORD ORD ORD ORD ORD ORD ORD ORD ORD ORD ORD ORD ORD ORD ORD ORD\n",
      "[127] ORD ORD ORD ORD ORD ORD ORD ORD ORD ORD ORD ORD ORD ORD ORD ORD ORD ORD\n",
      "[145] ORD ORD ORD ORD ORD ORD ORD ORD ORD ORD ORD ORD ORD ORD ORD ORD ORD ORD\n",
      "[163] ORD ORD ORD ORD ORD ORD ORD ORD ORD ORD ORD ORD ORD ORD ORD ORD ORD ORD\n",
      "[181] ORD ORD ORD ORD ORD ORD ORD ORD ORD ORD ORD ORD ORD ORD ORD ORD ORD ORD\n",
      "[199] ORD ORD ORD ORD ORD ORD ORD ORD ORD ORD ORD ORD ORD ORD ORD ORD ORD ORD\n",
      "[217] ORD ORD ORD ORD ORD ORD ORD ORD ORD ORD ORD ORD ORD ORD ORD ORD ORD ORD\n",
      "[235] ORD ORD ORD ORF ORF ORF ORF ORF ORF ORF ORF ORF ORF ORF ORF ORF\n",
      "218 Levels: ABE ABQ ACK ADQ AGS AKN ALB AMA ANC ANI ATL AUS AVL AVP AZO ... YAK\n"
     ]
    }
   ],
   "source": [
    "%%R\n",
    "\n",
    "departs <- myDF$Origin\n",
    "head(departs, n=250)"
   ]
  },
  {
   "cell_type": "markdown",
   "id": "14dc22d4-ddc3-41cc-a91a-cb0025bc0c80",
   "metadata": {},
   "source": [
    "A. The vector contains factors (strings and integers).\n",
    "\n",
    "B. The first 237 out of 250 flights departed from O'Hare.\n",
    "\n",
    "C. 293,422 flights departed from O'Hare in total in 1995."
   ]
  },
  {
   "cell_type": "markdown",
   "id": "8e586edd-ff26-4ce2-8f6b-2424b26f2929",
   "metadata": {},
   "source": [
    "## Question 3"
   ]
  },
  {
   "cell_type": "code",
   "execution_count": 41,
   "id": "bbe0f40d-9655-4653-9ca8-886bdb61cb91",
   "metadata": {},
   "outputs": [
    {
     "name": "stdout",
     "output_type": "stream",
     "text": [
      "    ORD     DFW     ATL     LAX     STL     PHX     DTW     MSP     CLT     DEN \n",
      " 293422  268127  230470  179909  174847  157155  147610  136436  131417  130327 \n",
      "    SFO     PIT     IAH     LAS     EWR     LGA     BOS     SEA     PHL     DCA \n",
      " 129137  126190  121029  112181  109592   99225   92852   92016   91577   86266 \n",
      "    SLC     CVG     MIA     MCO     CLE     BWI     SAN     OAK     HOU     MCI \n",
      "  84056   76629   70581   67900   66888   66154   65731   65541   57492   56727 \n",
      "    MEM     MSY     PDX     MDW     DAL     JFK     TPA     BNA     ONT     SJC \n",
      "  53388   49179   48049   47985   46570   46187   45782   43382   40062   39283 \n",
      "    CMH     SAT     IND     ABQ     AUS     SNA     SMF     FLL     IAD     GSO \n",
      "  38271   38060   37092   36871   36474   36159   36051   33641   33053   32676 \n",
      "    BUR     ELP     RDU     BDL     SDF     PBI     OKC     SJU     TUL     RNO \n",
      "  31472   28728   27642   25771   24094   22558   22077   21458   20795   20727 \n",
      "    BUF     ANC     TUS     OMA     ORF     JAX     BHM     MKE     LIT     ROC \n",
      "  19932   19040   18549   18215   18198   18184   18118   17172   16652   16130 \n",
      "    RIC     RSW     DAY     SYR     HNL     PVD     GEG     COS     ALB     BOI \n",
      "  15990   14990   14524   12592   12537   12530   12230   12077   11997   10174 \n",
      "    TYS     CHS     DSM     GRR     GSP     MDT     MAF     ABE     ICT     HSV \n",
      "   9509    9228    9177    9171    8835    8648    7512    7198    7051    6957 \n",
      "    SRQ     PNS     LBB     HPN     SAV     HRL     CAE     PWM     MOB (Other) \n",
      "   6863    6621    6338    6228    5763    5752    5714    5451    5378  229189 \n"
     ]
    }
   ],
   "source": [
    "%%R\n",
    "\n",
    "summary(departs)"
   ]
  },
  {
   "cell_type": "code",
   "execution_count": 40,
   "id": "d54dcae2-21e5-416f-a741-1827d246dc45",
   "metadata": {},
   "outputs": [
    {
     "name": "stdout",
     "output_type": "stream",
     "text": [
      "    ORD     DFW     ATL     LAX     STL     PHX     DTW     MSP     CLT     DEN \n",
      " 293472  268159  230485  179950  174846  157158  147570  136419  131420  130322 \n",
      "    SFO     PIT     IAH     LAS     EWR     LGA     BOS     SEA     PHL     DCA \n",
      " 129158  126225  121026  112200  109570   99229   92738   92016   91700   86239 \n",
      "    SLC     CVG     MIA     MCO     CLE     BWI     SAN     OAK     HOU     MCI \n",
      "  84064   76605   70609   67915   66874   66443   65724   65538   57483   56733 \n",
      "    MEM     MSY     PDX     MDW     DAL     JFK     TPA     BNA     ONT     SJC \n",
      "  53402   49170   48042   47976   46570   46194   45760   43374   40057   39276 \n",
      "    CMH     SAT     IND     ABQ     AUS     SNA     SMF     FLL     IAD     GSO \n",
      "  38283   38056   37103   36865   36462   36158   36056   33632   33053   32671 \n",
      "    BUR     ELP     RDU     BDL     SDF     PBI     OKC     SJU     TUL     RNO \n",
      "  31471   28724   27646   25766   24098   22543   22064   21082   20805   20723 \n",
      "    BUF     ANC     TUS     OMA     ORF     JAX     BHM     MKE     LIT     ROC \n",
      "  19931   19047   18546   18217   18200   18183   18121   17176   16651   16105 \n",
      "    RIC     RSW     DAY     SYR     HNL     PVD     GEG     COS     ALB     BOI \n",
      "  15991   14997   14524   12590   12539   12536   12234   12081   11992   10176 \n",
      "    TYS     CHS     DSM     GRR     GSP     MDT     MAF     ABE     ICT     HSV \n",
      "   9512    9226    9174    9168    8833    8652    7513    7192    7050    6957 \n",
      "    SRQ     PNS     LBB     HPN     SAV     HRL     CAE     PWM     MOB (Other) \n",
      "   6860    6621    6339    6228    5762    5752    5712    5452    5373  229250 \n"
     ]
    }
   ],
   "source": [
    "%%R\n",
    "\n",
    "arrivals <- myDF$Dest\n",
    "summary(arrivals)"
   ]
  },
  {
   "cell_type": "code",
   "execution_count": 39,
   "id": "d9b28e05-b0b6-48c3-9ebb-50c348306f15",
   "metadata": {},
   "outputs": [
    {
     "name": "stdout",
     "output_type": "stream",
     "text": [
      "[1] PVD\n",
      "218 Levels: ABE ABQ ACK ADQ AGS AKN ALB AMA ANC ANI ATL AUS AVL AVP AZO ... YAK\n"
     ]
    }
   ],
   "source": [
    "%%R\n",
    "\n",
    "head(departs[894])"
   ]
  },
  {
   "cell_type": "code",
   "execution_count": 38,
   "id": "8e806413-34a4-4bdb-b475-2c1be96d839c",
   "metadata": {},
   "outputs": [
    {
     "name": "stdout",
     "output_type": "stream",
     "text": [
      "[1] PHL\n",
      "218 Levels: ABE ABQ ACK ADQ AGS AKN ALB AMA ANC ANI ATL ATW AUS AVL AVP ... YAK\n"
     ]
    }
   ],
   "source": [
    "%%R\n",
    "\n",
    "head(arrivals[894])"
   ]
  },
  {
   "cell_type": "code",
   "execution_count": 56,
   "id": "18a2b20c-c3d5-4cad-82ea-6c822f2d2395",
   "metadata": {},
   "outputs": [
    {
     "name": "stdout",
     "output_type": "stream",
     "text": [
      "[1] 475141\n"
     ]
    }
   ],
   "source": [
    "%%R\n",
    "\n",
    "dist <- myDF$Distance[myDF$Distance < 200]\n",
    "length(dist)"
   ]
  },
  {
   "cell_type": "markdown",
   "id": "47c6229f-35f7-400c-8366-c442baa5cf47",
   "metadata": {},
   "source": [
    "A. 37,092 flights departed from IND in 1995, and 37,103 flights landed there. \n",
    "\n",
    "B. The flight departed from PVD and arrived at PHL. \n",
    "\n",
    "C. 475,141 flights have a distance less than 200 miles."
   ]
  },
  {
   "cell_type": "markdown",
   "id": "da22f29c-d245-4d2b-9fc1-ca14cb6087d9",
   "metadata": {},
   "source": [
    "## Question 4"
   ]
  },
  {
   "cell_type": "code",
   "execution_count": 7,
   "id": "8cffc767-d1c8-4d64-b7dc-f0d2ee8a80d1",
   "metadata": {},
   "outputs": [
    {
     "name": "stdout",
     "output_type": "stream",
     "text": [
      "\n",
      "    AS     HP     TW     CO     NW     AA     WN     UA     US     DL \n",
      "135124 194508 272452 434425 521693 688471 693101 724807 778835 884019 \n"
     ]
    }
   ],
   "source": [
    "%%R\n",
    "\n",
    "sort(table(myDF$UniqueCarrier))"
   ]
  },
  {
   "cell_type": "code",
   "execution_count": 16,
   "id": "cec3e12a-4e56-4f85-9319-f755757f402e",
   "metadata": {},
   "outputs": [
    {
     "name": "stdout",
     "output_type": "stream",
     "text": [
      "\n",
      "   N64    N59   N102    N91    N68   N103    N71    N83    N89    N67 UNKNOW \n",
      "  3434   3447   3448   3448   3458   3463   3474   3476   3479   3485  65072 \n"
     ]
    }
   ],
   "source": [
    "%%R\n",
    "\n",
    "tail(sort(table(myDF$TailNum)), n=11)"
   ]
  },
  {
   "cell_type": "markdown",
   "id": "0d552245-b4d6-474a-9cc9-fa7b8e674d55",
   "metadata": {},
   "source": [
    "A. From most popular to least popular: DL, US, UA, WN, AA, NW, CO, TW, HP, AS\n",
    "\n",
    "B. The three most popular airlines from 1995 are DL, US, and UA.\n",
    "\n",
    "C. The ten airplanes with the most flights in 1995 were N67, N89, N83, N71, N103, N68, N91, N102, N59, and N64. It is unusual that there are 65,072 flights with unknown airplanes."
   ]
  },
  {
   "cell_type": "markdown",
   "id": "88c9cdac-3e92-498f-83fa-e089bfc44ac8",
   "metadata": {},
   "source": [
    "## Question 5"
   ]
  },
  {
   "cell_type": "code",
   "execution_count": 55,
   "id": "d370d7c9-06db-42b9-b75f-240481a5c491",
   "metadata": {},
   "outputs": [
    {
     "data": {
      "image/png": "[encoded data removed]"
     },
     "metadata": {},
     "output_type": "display_data"
    }
   ],
   "source": [
    "%%R\n",
    "\n",
    "deptimes <- head(myDF$DepTime, n=350)\n",
    "plot(deptimes, cex=1.3)"
   ]
  },
  {
   "cell_type": "markdown",
   "id": "9fbf00fb-2418-460f-ae94-2a32b0c28952",
   "metadata": {},
   "source": [
    "There seem to be no patterns in the data."
   ]
  },
  {
   "cell_type": "markdown",
   "id": "f76442d6-d02e-4f26-b9d6-c3183e1d6929",
   "metadata": {},
   "source": [
    "## Pledge\n",
    "\n",
    "By submitting this work I hereby pledge that this is my own, personal work. I've acknowledged in the designated place at the top of this file all sources that I used to complete said work, including but not limited to: online resources, books, and electronic communications. I've noted all collaboration with fellow students and/or TA's. I did not copy or plagiarize another's work.\n",
    "\n",
    "> As a Boilermaker pursuing academic excellence, I pledge to be honest and true in all that I do. Accountable together – We are Purdue."
   ]
  }
 ],
 "metadata": {
  "kernelspec": {
   "display_name": "f2022-s2023",
   "language": "python",
   "name": "f2022-s2023"
  },
  "language_info": {
   "codemirror_mode": {
    "name": "ipython",
    "version": 3
   },
   "file_extension": ".py",
   "mimetype": "text/x-python",
   "name": "python",
   "nbconvert_exporter": "python",
   "pygments_lexer": "ipython3",
   "version": "3.10.5"
  }
 },
 "nbformat": 4,
 "nbformat_minor": 5
}
