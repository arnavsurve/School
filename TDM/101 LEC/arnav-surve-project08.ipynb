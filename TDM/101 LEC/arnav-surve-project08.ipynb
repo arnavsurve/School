{
 "cells": [
  {
   "cell_type": "markdown",
   "id": "be02a957-7133-4d02-818e-fedeb3cecb05",
   "metadata": {},
   "source": [
    "# Project 8 -- Arnav Surve"
   ]
  },
  {
   "cell_type": "markdown",
   "id": "a1228853-dd19-4ab2-89e0-0394d7d72de3",
   "metadata": {},
   "source": [
    "**TA Help:** N/A\n",
    "    \n",
    "**Collaboration:** N/A"
   ]
  },
  {
   "cell_type": "markdown",
   "id": "6180e742-8e39-4698-98ff-5b00c8cf8ea0",
   "metadata": {},
   "source": [
    "## Question 1"
   ]
  },
  {
   "cell_type": "code",
   "execution_count": 14,
   "id": "b222ce88-f52c-4283-9f50-45b1ade99925",
   "metadata": {
    "vscode": {
     "languageId": "r"
    }
   },
   "outputs": [],
   "source": [
    "library(data.table)"
   ]
  },
  {
   "cell_type": "code",
   "execution_count": 15,
   "id": "49445606-d363-41b4-b479-e319a9a84c01",
   "metadata": {
    "vscode": {
     "languageId": "r"
    }
   },
   "outputs": [],
   "source": [
    "titles <- data.frame(fread(\"/anvil/projects/tdm/data/movies_and_tv/titles.csv\"))"
   ]
  },
  {
   "cell_type": "code",
   "execution_count": 16,
   "id": "9df64ac3-aa27-4724-9d84-4bab7059248d",
   "metadata": {
    "vscode": {
     "languageId": "r"
    }
   },
   "outputs": [],
   "source": [
    "episodes <- data.frame(fread(\"/anvil/projects/tdm/data/movies_and_tv/episodes.csv\"))"
   ]
  },
  {
   "cell_type": "code",
   "execution_count": 17,
   "id": "1582090a-79a7-41b6-ab0e-8c55a4e7ed1a",
   "metadata": {
    "vscode": {
     "languageId": "r"
    }
   },
   "outputs": [],
   "source": [
    "people <- data.frame(fread(\"/anvil/projects/tdm/data/movies_and_tv/people.csv\"))"
   ]
  },
  {
   "cell_type": "code",
   "execution_count": 18,
   "id": "e69ab97a-b19b-4bd8-88f4-7360fd0de2fa",
   "metadata": {
    "vscode": {
     "languageId": "r"
    }
   },
   "outputs": [],
   "source": [
    "ratings <- data.frame(fread(\"/anvil/projects/tdm/data/movies_and_tv/ratings.csv\"))"
   ]
  },
  {
   "cell_type": "code",
   "execution_count": 28,
   "id": "ad3b6273-ba01-4e7b-b597-13c6bc0f3032",
   "metadata": {
    "vscode": {
     "languageId": "r"
    }
   },
   "outputs": [
    {
     "data": {
      "text/plain": [
       "\n",
       "      0       1 \n",
       "7819057  245202 "
      ]
     },
     "metadata": {},
     "output_type": "display_data"
    }
   ],
   "source": [
    "table(titles$is_adult)"
   ]
  },
  {
   "cell_type": "code",
   "execution_count": 47,
   "id": "457c7d69-cce0-4c00-be6b-190b40b10a1e",
   "metadata": {
    "vscode": {
     "languageId": "r"
    }
   },
   "outputs": [
    {
     "data": {
      "text/html": [
       "<table class=\"dataframe\">\n",
       "<caption>A data.frame: 6 x 9</caption>\n",
       "<thead>\n",
       "\t<tr><th></th><th scope=col>title_id</th><th scope=col>type</th><th scope=col>primary_title</th><th scope=col>original_title</th><th scope=col>is_adult</th><th scope=col>premiered</th><th scope=col>ended</th><th scope=col>runtime_minutes</th><th scope=col>genres</th></tr>\n",
       "\t<tr><th></th><th scope=col>&lt;chr&gt;</th><th scope=col>&lt;chr&gt;</th><th scope=col>&lt;chr&gt;</th><th scope=col>&lt;chr&gt;</th><th scope=col>&lt;int&gt;</th><th scope=col>&lt;int&gt;</th><th scope=col>&lt;int&gt;</th><th scope=col>&lt;int&gt;</th><th scope=col>&lt;chr&gt;</th></tr>\n",
       "</thead>\n",
       "<tbody>\n",
       "\t<tr><th scope=row>1</th><td>tt0000001</td><td>short</td><td>Carmencita            </td><td>Carmencita            </td><td>0</td><td>1894</td><td>NA</td><td> 1</td><td>Documentary,Short       </td></tr>\n",
       "\t<tr><th scope=row>2</th><td>tt0000002</td><td>short</td><td>Le clown et ses chiens</td><td>Le clown et ses chiens</td><td>0</td><td>1892</td><td>NA</td><td> 5</td><td>Animation,Short         </td></tr>\n",
       "\t<tr><th scope=row>3</th><td>tt0000003</td><td>short</td><td>Pauvre Pierrot        </td><td>Pauvre Pierrot        </td><td>0</td><td>1892</td><td>NA</td><td> 4</td><td>Animation,Comedy,Romance</td></tr>\n",
       "\t<tr><th scope=row>4</th><td>tt0000004</td><td>short</td><td>Un bon bock           </td><td>Un bon bock           </td><td>0</td><td>1892</td><td>NA</td><td>12</td><td>Animation,Short         </td></tr>\n",
       "\t<tr><th scope=row>5</th><td>tt0000005</td><td>short</td><td>Blacksmith Scene      </td><td>Blacksmith Scene      </td><td>0</td><td>1893</td><td>NA</td><td> 1</td><td>Comedy,Short            </td></tr>\n",
       "\t<tr><th scope=row>6</th><td>tt0000006</td><td>short</td><td>Chinese Opium Den     </td><td>Chinese Opium Den     </td><td>0</td><td>1894</td><td>NA</td><td> 1</td><td>Short                   </td></tr>\n",
       "</tbody>\n",
       "</table>\n"
      ],
      "text/latex": [
       "A data.frame: 6 x 9\n",
       "\\begin{tabular}{r|lllllllll}\n",
       "  & title\\_id & type & primary\\_title & original\\_title & is\\_adult & premiered & ended & runtime\\_minutes & genres\\\\\n",
       "  & <chr> & <chr> & <chr> & <chr> & <int> & <int> & <int> & <int> & <chr>\\\\\n",
       "\\hline\n",
       "\t1 & tt0000001 & short & Carmencita             & Carmencita             & 0 & 1894 & NA &  1 & Documentary,Short       \\\\\n",
       "\t2 & tt0000002 & short & Le clown et ses chiens & Le clown et ses chiens & 0 & 1892 & NA &  5 & Animation,Short         \\\\\n",
       "\t3 & tt0000003 & short & Pauvre Pierrot         & Pauvre Pierrot         & 0 & 1892 & NA &  4 & Animation,Comedy,Romance\\\\\n",
       "\t4 & tt0000004 & short & Un bon bock            & Un bon bock            & 0 & 1892 & NA & 12 & Animation,Short         \\\\\n",
       "\t5 & tt0000005 & short & Blacksmith Scene       & Blacksmith Scene       & 0 & 1893 & NA &  1 & Comedy,Short            \\\\\n",
       "\t6 & tt0000006 & short & Chinese Opium Den      & Chinese Opium Den      & 0 & 1894 & NA &  1 & Short                   \\\\\n",
       "\\end{tabular}\n"
      ],
      "text/markdown": [
       "\n",
       "A data.frame: 6 x 9\n",
       "\n",
       "| <!--/--> | title_id &lt;chr&gt; | type &lt;chr&gt; | primary_title &lt;chr&gt; | original_title &lt;chr&gt; | is_adult &lt;int&gt; | premiered &lt;int&gt; | ended &lt;int&gt; | runtime_minutes &lt;int&gt; | genres &lt;chr&gt; |\n",
       "|---|---|---|---|---|---|---|---|---|---|\n",
       "| 1 | tt0000001 | short | Carmencita             | Carmencita             | 0 | 1894 | NA |  1 | Documentary,Short        |\n",
       "| 2 | tt0000002 | short | Le clown et ses chiens | Le clown et ses chiens | 0 | 1892 | NA |  5 | Animation,Short          |\n",
       "| 3 | tt0000003 | short | Pauvre Pierrot         | Pauvre Pierrot         | 0 | 1892 | NA |  4 | Animation,Comedy,Romance |\n",
       "| 4 | tt0000004 | short | Un bon bock            | Un bon bock            | 0 | 1892 | NA | 12 | Animation,Short          |\n",
       "| 5 | tt0000005 | short | Blacksmith Scene       | Blacksmith Scene       | 0 | 1893 | NA |  1 | Comedy,Short             |\n",
       "| 6 | tt0000006 | short | Chinese Opium Den      | Chinese Opium Den      | 0 | 1894 | NA |  1 | Short                    |\n",
       "\n"
      ],
      "text/plain": [
       "  title_id  type  primary_title          original_title         is_adult\n",
       "1 tt0000001 short Carmencita             Carmencita             0       \n",
       "2 tt0000002 short Le clown et ses chiens Le clown et ses chiens 0       \n",
       "3 tt0000003 short Pauvre Pierrot         Pauvre Pierrot         0       \n",
       "4 tt0000004 short Un bon bock            Un bon bock            0       \n",
       "5 tt0000005 short Blacksmith Scene       Blacksmith Scene       0       \n",
       "6 tt0000006 short Chinese Opium Den      Chinese Opium Den      0       \n",
       "  premiered ended runtime_minutes genres                  \n",
       "1 1894      NA     1              Documentary,Short       \n",
       "2 1892      NA     5              Animation,Short         \n",
       "3 1892      NA     4              Animation,Comedy,Romance\n",
       "4 1892      NA    12              Animation,Short         \n",
       "5 1893      NA     1              Comedy,Short            \n",
       "6 1894      NA     1              Short                   "
      ]
     },
     "metadata": {},
     "output_type": "display_data"
    }
   ],
   "source": [
    "head(titles)"
   ]
  },
  {
   "cell_type": "code",
   "execution_count": 48,
   "id": "8d812100-5891-40c6-9100-bca53cfb44ab",
   "metadata": {
    "vscode": {
     "languageId": "r"
    }
   },
   "outputs": [],
   "source": [
    "counts <- table(titles$is_adult, titles$type)"
   ]
  },
  {
   "cell_type": "code",
   "execution_count": 49,
   "id": "35e86ef3-7be2-4860-a022-376d7d4a6793",
   "metadata": {
    "vscode": {
     "languageId": "r"
    }
   },
   "outputs": [
    {
     "data": {
      "text/plain": [
       "   \n",
       "      movie radioEpisode radioSeries   short tvEpisode tvMiniSeries tvMovie\n",
       "  0  572720            1           1  818056   5756012        38006  131910\n",
       "  1    9011            0           0    1462    141373          179      92\n",
       "   \n",
       "    tvSeries tvShort tvSpecial   video videoGame\n",
       "  0   208622   10133     33238  222005     28353\n",
       "  1     1651       3        17   91265       149"
      ]
     },
     "metadata": {},
     "output_type": "display_data"
    }
   ],
   "source": [
    "head(counts)"
   ]
  },
  {
   "cell_type": "code",
   "execution_count": 54,
   "id": "d5bf99a7-5ae5-4db5-ad33-b9c995669563",
   "metadata": {
    "vscode": {
     "languageId": "r"
    }
   },
   "outputs": [
    {
     "data": {
      "image/png": "[encoded data removed]",
      "text/plain": [
       "Plot with title \"Title Distribution by Adult Rating and Type of Media\""
      ]
     },
     "metadata": {
      "image/png": {
       "height": 420,
       "width": 420
      }
     },
     "output_type": "display_data"
    }
   ],
   "source": [
    "barplot(counts, main=\"Title Distribution by Adult Rating and Type of Media\",\n",
    "  xlab=\"Type of Movie\", col=c(\"darkblue\",\"red\"),\n",
    "  legend = rownames(counts), beside=TRUE)"
   ]
  },
  {
   "cell_type": "code",
   "execution_count": 51,
   "id": "f0c0feaf-ac5b-44d2-bd1c-93446e270a03",
   "metadata": {
    "vscode": {
     "languageId": "r"
    }
   },
   "outputs": [
    {
     "data": {
      "image/png": "[encoded data removed]",
      "text/plain": [
       "plot without title"
      ]
     },
     "metadata": {
      "image/png": {
       "height": 420,
       "width": 420
      }
     },
     "output_type": "display_data"
    }
   ],
   "source": [
    "plot(table(titles$premiered))"
   ]
  },
  {
   "cell_type": "markdown",
   "id": "b456e57c-4a12-464b-999a-ef2df5af80c1",
   "metadata": {},
   "source": [
    "a. Grouped bar chart in cell 50.\n",
    "\n",
    "b. Line plot in cell 51.\n",
    "\n",
    "c. From the grouped bar chart, we can observe that TV episodes have the most adult rated content in the dataset with videos having the second most. The line plot shows us that the number of movies premiered from 1874 to current have increased exponentially. "
   ]
  },
  {
   "cell_type": "markdown",
   "id": "fc601975-35ed-4680-a4e1-0273ee3cc047",
   "metadata": {},
   "source": [
    "## Question 2"
   ]
  },
  {
   "cell_type": "code",
   "execution_count": 55,
   "id": "a16336a1-1ef0-41e8-bc7c-49387db27497",
   "metadata": {
    "vscode": {
     "languageId": "r"
    }
   },
   "outputs": [],
   "source": [
    "find_movie_with_at_least_rating <- function(titles_df, ratings_df, ratings_of_at_least) {\n",
    "    results <- merge(ratings_df, titles_df, by.x = \"title_id\", by.y = \"title_id\")\n",
    "    popular_movie_results <- results[results$type == \"movie\" & results$rating >= ratings_of_at_least, ]\n",
    "    return(popular_movie_results)\n",
    "}"
   ]
  },
  {
   "cell_type": "markdown",
   "id": "8e586edd-ff26-4ce2-8f6b-2424b26f2929",
   "metadata": {},
   "source": [
    "## Question 3"
   ]
  },
  {
   "cell_type": "code",
   "execution_count": 58,
   "id": "a6b0fe3b-f487-42cf-9e9f-b0309c7f21fc",
   "metadata": {
    "vscode": {
     "languageId": "r"
    }
   },
   "outputs": [],
   "source": [
    "find_movie_with_at_least_rating <- function(titles_df, ratings_df, ratings_of_at_least) { # Create a function that takes titles_df, ratings_df, and ratings_of_at_least as parameters\n",
    "    results <- merge(ratings_df, titles_df, by.x = \"title_id\", by.y = \"title_id\") # Merge ratings_df and titles_df rows where their title IDs match\n",
    "    popular_movie_results <- results[results$type == \"movie\" & results$rating >= ratings_of_at_least, ] # Assign movies with a minimum rating to popular_movie_results\n",
    "    return(popular_movie_results) # Return popular movie results as output of function\n",
    "}"
   ]
  },
  {
   "cell_type": "markdown",
   "id": "da22f29c-d245-4d2b-9fc1-ca14cb6087d9",
   "metadata": {},
   "source": [
    "## Question 4"
   ]
  },
  {
   "cell_type": "code",
   "execution_count": 60,
   "id": "8cffc767-d1c8-4d64-b7dc-f0d2ee8a80d1",
   "metadata": {
    "vscode": {
     "languageId": "r"
    }
   },
   "outputs": [],
   "source": [
    "my_selection <- find_movie_with_at_least_rating(titles, ratings, 7.6)"
   ]
  },
  {
   "cell_type": "code",
   "execution_count": 64,
   "id": "86a722ec-aa90-4181-bb6c-73345861e812",
   "metadata": {
    "vscode": {
     "languageId": "r"
    }
   },
   "outputs": [
    {
     "data": {
      "text/html": [
       "<style>\n",
       ".list-inline {list-style: none; margin:0; padding: 0}\n",
       ".list-inline>li {display: inline-block}\n",
       ".list-inline>li:not(:last-child)::after {content: \"\\00b7\"; padding: 0 .5ex}\n",
       "</style>\n",
       "<ol class=list-inline><li>34340</li><li>11</li></ol>\n"
      ],
      "text/latex": [
       "\\begin{enumerate*}\n",
       "\\item 34340\n",
       "\\item 11\n",
       "\\end{enumerate*}\n"
      ],
      "text/markdown": [
       "1. 34340\n",
       "2. 11\n",
       "\n",
       "\n"
      ],
      "text/plain": [
       "[1] 34340    11"
      ]
     },
     "metadata": {},
     "output_type": "display_data"
    }
   ],
   "source": [
    "dim(my_selection)"
   ]
  },
  {
   "cell_type": "code",
   "execution_count": 71,
   "id": "36a3744b-e932-4bb8-a4ac-332bd7371675",
   "metadata": {
    "vscode": {
     "languageId": "r"
    }
   },
   "outputs": [],
   "source": [
    "find_movie_with_max_rating <- function(titles_df, ratings_df, ratings_max) {\n",
    "    results <- merge(ratings_df, titles_df, by.x = \"title_id\", by.y = \"title_id\")\n",
    "    popular_movie_results <- results[results$type == \"movie\" & results$rating < ratings_max, ]\n",
    "    return(popular_movie_results)\n",
    "}"
   ]
  },
  {
   "cell_type": "code",
   "execution_count": 72,
   "id": "c8bdaec6-3a31-45f0-9f1f-63bf176c84f3",
   "metadata": {
    "vscode": {
     "languageId": "r"
    }
   },
   "outputs": [],
   "source": [
    "max_selection <- find_movie_with_max_rating(titles, ratings, 5.0)"
   ]
  },
  {
   "cell_type": "code",
   "execution_count": 73,
   "id": "c391007c-1499-45d7-b898-5c3a26e11284",
   "metadata": {
    "vscode": {
     "languageId": "r"
    }
   },
   "outputs": [
    {
     "data": {
      "text/html": [
       "<style>\n",
       ".list-inline {list-style: none; margin:0; padding: 0}\n",
       ".list-inline>li {display: inline-block}\n",
       ".list-inline>li:not(:last-child)::after {content: \"\\00b7\"; padding: 0 .5ex}\n",
       "</style>\n",
       "<ol class=list-inline><li>47203</li><li>11</li></ol>\n"
      ],
      "text/latex": [
       "\\begin{enumerate*}\n",
       "\\item 47203\n",
       "\\item 11\n",
       "\\end{enumerate*}\n"
      ],
      "text/markdown": [
       "1. 47203\n",
       "2. 11\n",
       "\n",
       "\n"
      ],
      "text/plain": [
       "[1] 47203    11"
      ]
     },
     "metadata": {},
     "output_type": "display_data"
    }
   ],
   "source": [
    "dim(max_selection)"
   ]
  },
  {
   "cell_type": "markdown",
   "id": "0d552245-b4d6-474a-9cc9-fa7b8e674d55",
   "metadata": {},
   "source": [
    "a. In total, there are 34,340 movies with a rating of at least 7.6.\n",
    "\n",
    "b. Refer to cells 67 & 69.\n",
    "\n",
    "c. There are 47,203 movies with a rating lower than 5.0"
   ]
  },
  {
   "cell_type": "markdown",
   "id": "88c9cdac-3e92-498f-83fa-e089bfc44ac8",
   "metadata": {},
   "source": [
    "## Question 5"
   ]
  },
  {
   "cell_type": "code",
   "execution_count": 105,
   "id": "d370d7c9-06db-42b9-b75f-240481a5c491",
   "metadata": {
    "vscode": {
     "languageId": "r"
    }
   },
   "outputs": [],
   "source": [
    "find_highest_rating <- function(titles, ratings, genre) {\n",
    "    results <- merge(ratings, titles, by.x = \"title_id\", by.y = \"title_id\")\n",
    "    popular_movie_results <- results[results$type == \"movie\" & results$genres == genre, ]\n",
    "    most_popular <- popular_movie_results[popular_movie_results$rating == max(popular_movie_results$rating), ]\n",
    "    return(most_popular)\n",
    "}"
   ]
  },
  {
   "cell_type": "code",
   "execution_count": 106,
   "id": "5cdede13-f008-466d-a9c0-117d5a51a0b2",
   "metadata": {
    "vscode": {
     "languageId": "r"
    }
   },
   "outputs": [],
   "source": [
    "comedyDF <- find_highest_rating(titles, ratings, \"Comedy\")"
   ]
  },
  {
   "cell_type": "code",
   "execution_count": 107,
   "id": "30e0684c-d3be-4976-b951-92b43bb1b38d",
   "metadata": {
    "vscode": {
     "languageId": "r"
    }
   },
   "outputs": [
    {
     "data": {
      "text/html": [
       "<table class=\"dataframe\">\n",
       "<caption>A data.frame: 1 x 11</caption>\n",
       "<thead>\n",
       "\t<tr><th></th><th scope=col>title_id</th><th scope=col>rating</th><th scope=col>votes</th><th scope=col>type</th><th scope=col>primary_title</th><th scope=col>original_title</th><th scope=col>is_adult</th><th scope=col>premiered</th><th scope=col>ended</th><th scope=col>runtime_minutes</th><th scope=col>genres</th></tr>\n",
       "\t<tr><th></th><th scope=col>&lt;chr&gt;</th><th scope=col>&lt;dbl&gt;</th><th scope=col>&lt;int&gt;</th><th scope=col>&lt;chr&gt;</th><th scope=col>&lt;chr&gt;</th><th scope=col>&lt;chr&gt;</th><th scope=col>&lt;int&gt;</th><th scope=col>&lt;int&gt;</th><th scope=col>&lt;int&gt;</th><th scope=col>&lt;int&gt;</th><th scope=col>&lt;chr&gt;</th></tr>\n",
       "</thead>\n",
       "<tbody>\n",
       "\t<tr><th scope=row>135262</th><td>tt0211363</td><td>9.4</td><td>5</td><td>movie</td><td>The Feather</td><td>The Feather</td><td>0</td><td>1929</td><td>NA</td><td>88</td><td>Romance</td></tr>\n",
       "</tbody>\n",
       "</table>\n"
      ],
      "text/latex": [
       "A data.frame: 1 x 11\n",
       "\\begin{tabular}{r|lllllllllll}\n",
       "  & title\\_id & rating & votes & type & primary\\_title & original\\_title & is\\_adult & premiered & ended & runtime\\_minutes & genres\\\\\n",
       "  & <chr> & <dbl> & <int> & <chr> & <chr> & <chr> & <int> & <int> & <int> & <int> & <chr>\\\\\n",
       "\\hline\n",
       "\t135262 & tt0211363 & 9.4 & 5 & movie & The Feather & The Feather & 0 & 1929 & NA & 88 & Romance\\\\\n",
       "\\end{tabular}\n"
      ],
      "text/markdown": [
       "\n",
       "A data.frame: 1 x 11\n",
       "\n",
       "| <!--/--> | title_id &lt;chr&gt; | rating &lt;dbl&gt; | votes &lt;int&gt; | type &lt;chr&gt; | primary_title &lt;chr&gt; | original_title &lt;chr&gt; | is_adult &lt;int&gt; | premiered &lt;int&gt; | ended &lt;int&gt; | runtime_minutes &lt;int&gt; | genres &lt;chr&gt; |\n",
       "|---|---|---|---|---|---|---|---|---|---|---|---|\n",
       "| 135262 | tt0211363 | 9.4 | 5 | movie | The Feather | The Feather | 0 | 1929 | NA | 88 | Romance |\n",
       "\n"
      ],
      "text/plain": [
       "       title_id  rating votes type  primary_title original_title is_adult\n",
       "135262 tt0211363 9.4    5     movie The Feather   The Feather    0       \n",
       "       premiered ended runtime_minutes genres \n",
       "135262 1929      NA    88              Romance"
      ]
     },
     "metadata": {},
     "output_type": "display_data"
    }
   ],
   "source": [
    "comedyDF"
   ]
  },
  {
   "cell_type": "markdown",
   "id": "f76442d6-d02e-4f26-b9d6-c3183e1d6929",
   "metadata": {},
   "source": [
    "## Pledge\n",
    "\n",
    "By submitting this work I hereby pledge that this is my own, personal work. I've acknowledged in the designated place at the top of this file all sources that I used to complete said work, including but not limited to: online resources, books, and electronic communications. I've noted all collaboration with fellow students and/or TA's. I did not copy or plagiarize another's work.\n",
    "\n",
    "> As a Boilermaker pursuing academic excellence, I pledge to be honest and true in all that I do. Accountable together – We are Purdue."
   ]
  }
 ],
 "metadata": {
  "kernelspec": {
   "display_name": "f2022-s2023-r",
   "language": "R",
   "name": "f2022-s2023-r"
  },
  "language_info": {
   "codemirror_mode": "r",
   "file_extension": ".r",
   "mimetype": "text/x-r-source",
   "name": "R",
   "pygments_lexer": "r",
   "version": "4.2.1"
  }
 },
 "nbformat": 4,
 "nbformat_minor": 5
}
