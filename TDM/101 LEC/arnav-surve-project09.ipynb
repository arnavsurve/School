{
 "cells": [
  {
   "cell_type": "markdown",
   "id": "be02a957-7133-4d02-818e-fedeb3cecb05",
   "metadata": {},
   "source": [
    "# Project 9 -- Arnav Surve"
   ]
  },
  {
   "cell_type": "markdown",
   "id": "a1228853-dd19-4ab2-89e0-0394d7d72de3",
   "metadata": {},
   "source": [
    "**TA Help:** N/A\n",
    "    \n",
    "**Collaboration:** N/A\n"
   ]
  },
  {
   "cell_type": "markdown",
   "id": "6180e742-8e39-4698-98ff-5b00c8cf8ea0",
   "metadata": {},
   "source": [
    "## Question 1"
   ]
  },
  {
   "cell_type": "code",
   "execution_count": 1,
   "id": "49445606-d363-41b4-b479-e319a9a84c01",
   "metadata": {},
   "outputs": [],
   "source": [
    "library(data.table)"
   ]
  },
  {
   "cell_type": "code",
   "execution_count": 2,
   "id": "6f58b4f0-ee13-4e48-bc66-7a52fcab1fd6",
   "metadata": {},
   "outputs": [],
   "source": [
    "myDF <- fread(\"/anvil/projects/tdm/data/election/escaped/itcont2020sample.txt\")"
   ]
  },
  {
   "cell_type": "code",
   "execution_count": 3,
   "id": "bbab8e49-3f81-4573-9cf8-df85316b46dc",
   "metadata": {},
   "outputs": [
    {
     "data": {
      "text/html": [
       "<table class=\"dataframe\">\n",
       "<caption>A data.table: 6 x 21</caption>\n",
       "<thead>\n",
       "\t<tr><th scope=col>CMTE_ID</th><th scope=col>AMNDT_IND</th><th scope=col>RPT_TP</th><th scope=col>TRANSACTION_PGI</th><th scope=col>IMAGE_NUM</th><th scope=col>TRANSACTION_TP</th><th scope=col>ENTITY_TP</th><th scope=col>NAME</th><th scope=col>CITY</th><th scope=col>STATE</th><th scope=col>...</th><th scope=col>EMPLOYER</th><th scope=col>OCCUPATION</th><th scope=col>TRANSACTION_DT</th><th scope=col>TRANSACTION_AMT</th><th scope=col>OTHER_ID</th><th scope=col>TRAN_ID</th><th scope=col>FILE_NUM</th><th scope=col>MEMO_CD</th><th scope=col>MEMO_TEXT</th><th scope=col>SUB_ID</th></tr>\n",
       "\t<tr><th scope=col>&lt;chr&gt;</th><th scope=col>&lt;chr&gt;</th><th scope=col>&lt;chr&gt;</th><th scope=col>&lt;chr&gt;</th><th scope=col>&lt;int64&gt;</th><th scope=col>&lt;chr&gt;</th><th scope=col>&lt;chr&gt;</th><th scope=col>&lt;chr&gt;</th><th scope=col>&lt;chr&gt;</th><th scope=col>&lt;chr&gt;</th><th scope=col>...</th><th scope=col>&lt;chr&gt;</th><th scope=col>&lt;chr&gt;</th><th scope=col>&lt;int&gt;</th><th scope=col>&lt;int&gt;</th><th scope=col>&lt;chr&gt;</th><th scope=col>&lt;chr&gt;</th><th scope=col>&lt;int&gt;</th><th scope=col>&lt;chr&gt;</th><th scope=col>&lt;chr&gt;</th><th scope=col>&lt;int64&gt;</th></tr>\n",
       "</thead>\n",
       "<tbody>\n",
       "\t<tr><td>C00401224</td><td>N</td><td>YE</td><td> </td><td>202001299174394423</td><td>24T</td><td>IND</td><td>SOLOMON, VICTOR </td><td>CAPE CORAL  </td><td>FL</td><td>...</td><td>RETIRED     </td><td>NOT EMPLOYED       </td><td> 7112019</td><td>15</td><td>C00042366</td><td>SA11AI_165851302</td><td>1378435</td><td></td><td>EARMARKED FOR DSCC (C00042366)                                                         </td><td>4030220201233264164</td></tr>\n",
       "\t<tr><td>C00401224</td><td>N</td><td>M4</td><td>P</td><td>202004219229686792</td><td>24T</td><td>IND</td><td>MYERS, ELIZABETH</td><td>SCOTTSVILLE </td><td>NY</td><td>...</td><td>NOT EMPLOYED</td><td>NOT EMPLOYED       </td><td> 3042020</td><td>39</td><td>C00696948</td><td>SA11AI_216676150</td><td>1402724</td><td></td><td>EARMARKED FOR BERNIE 2020 (C00696948)                                                  </td><td>4051420201750154629</td></tr>\n",
       "\t<tr><td>C00193433</td><td>N</td><td>YE</td><td>P</td><td>202001219167282616</td><td>15 </td><td>IND</td><td>HASKINS, GEORGE </td><td>HARTSDALE   </td><td>NY</td><td>...</td><td>NOT EMPLOYED</td><td>NOT EMPLOYED       </td><td>12182019</td><td>15</td><td>         </td><td>6260719         </td><td>1371576</td><td></td><td>                                                                                       </td><td>4012220201685443186</td></tr>\n",
       "\t<tr><td>C00401224</td><td>N</td><td>YE</td><td> </td><td>202001299171436527</td><td>24T</td><td>IND</td><td>KOLBE, NINA     </td><td>WASHINGTON  </td><td>DC</td><td>...</td><td>SELF        </td><td>HEALTH PROFESSIONAL</td><td> 8302019</td><td>10</td><td>C00637074</td><td>SA11AI_174544101</td><td>1378435</td><td></td><td>EARMARKED FOR FINKENAUER FOR CONGRESS (C00637074)                                      </td><td>4030220201214307726</td></tr>\n",
       "\t<tr><td>C00401224</td><td>N</td><td>MY</td><td> </td><td>201907299161204221</td><td>24T</td><td>IND</td><td>ESSENBERG, PENNY</td><td>GRAND RAPIDS</td><td>MI</td><td>...</td><td>            </td><td>                   </td><td> 3212019</td><td>16</td><td>C00580068</td><td>SB28A_145393165 </td><td>1344765</td><td></td><td>REFUND OF CONTRIBUTION, INITIALLY EARMARKED FOR PROGRESSIVE TURNOUT PROJECT (C00580068)</td><td>4082820191108588209</td></tr>\n",
       "\t<tr><td>C00618371</td><td>N</td><td>Q3</td><td>P</td><td>201910159164412175</td><td>15 </td><td>IND</td><td>GIEBEL, BETTY   </td><td>KISSIMMEE   </td><td>FL</td><td>...</td><td>HOMEMAKER   </td><td>HOMEMAKER          </td><td> 7112019</td><td>42</td><td>         </td><td>SA11AI.178611   </td><td>1358506</td><td></td><td>                                                                                       </td><td>4101820191674758801</td></tr>\n",
       "</tbody>\n",
       "</table>\n"
      ],
      "text/latex": [
       "A data.table: 6 x 21\n",
       "\\begin{tabular}{lllllllllllllllllllll}\n",
       " CMTE\\_ID & AMNDT\\_IND & RPT\\_TP & TRANSACTION\\_PGI & IMAGE\\_NUM & TRANSACTION\\_TP & ENTITY\\_TP & NAME & CITY & STATE & ... & EMPLOYER & OCCUPATION & TRANSACTION\\_DT & TRANSACTION\\_AMT & OTHER\\_ID & TRAN\\_ID & FILE\\_NUM & MEMO\\_CD & MEMO\\_TEXT & SUB\\_ID\\\\\n",
       " <chr> & <chr> & <chr> & <chr> & <int64> & <chr> & <chr> & <chr> & <chr> & <chr> & ... & <chr> & <chr> & <int> & <int> & <chr> & <chr> & <int> & <chr> & <chr> & <int64>\\\\\n",
       "\\hline\n",
       "\t C00401224 & N & YE &   & 202001299174394423 & 24T & IND & SOLOMON, VICTOR  & CAPE CORAL   & FL & ... & RETIRED      & NOT EMPLOYED        &  7112019 & 15 & C00042366 & SA11AI\\_165851302 & 1378435 &  & EARMARKED FOR DSCC (C00042366)                                                          & 4030220201233264164\\\\\n",
       "\t C00401224 & N & M4 & P & 202004219229686792 & 24T & IND & MYERS, ELIZABETH & SCOTTSVILLE  & NY & ... & NOT EMPLOYED & NOT EMPLOYED        &  3042020 & 39 & C00696948 & SA11AI\\_216676150 & 1402724 &  & EARMARKED FOR BERNIE 2020 (C00696948)                                                   & 4051420201750154629\\\\\n",
       "\t C00193433 & N & YE & P & 202001219167282616 & 15  & IND & HASKINS, GEORGE  & HARTSDALE    & NY & ... & NOT EMPLOYED & NOT EMPLOYED        & 12182019 & 15 &           & 6260719          & 1371576 &  &                                                                                         & 4012220201685443186\\\\\n",
       "\t C00401224 & N & YE &   & 202001299171436527 & 24T & IND & KOLBE, NINA      & WASHINGTON   & DC & ... & SELF         & HEALTH PROFESSIONAL &  8302019 & 10 & C00637074 & SA11AI\\_174544101 & 1378435 &  & EARMARKED FOR FINKENAUER FOR CONGRESS (C00637074)                                       & 4030220201214307726\\\\\n",
       "\t C00401224 & N & MY &   & 201907299161204221 & 24T & IND & ESSENBERG, PENNY & GRAND RAPIDS & MI & ... &              &                     &  3212019 & 16 & C00580068 & SB28A\\_145393165  & 1344765 &  & REFUND OF CONTRIBUTION, INITIALLY EARMARKED FOR PROGRESSIVE TURNOUT PROJECT (C00580068) & 4082820191108588209\\\\\n",
       "\t C00618371 & N & Q3 & P & 201910159164412175 & 15  & IND & GIEBEL, BETTY    & KISSIMMEE    & FL & ... & HOMEMAKER    & HOMEMAKER           &  7112019 & 42 &           & SA11AI.178611    & 1358506 &  &                                                                                         & 4101820191674758801\\\\\n",
       "\\end{tabular}\n"
      ],
      "text/markdown": [
       "\n",
       "A data.table: 6 x 21\n",
       "\n",
       "| CMTE_ID &lt;chr&gt; | AMNDT_IND &lt;chr&gt; | RPT_TP &lt;chr&gt; | TRANSACTION_PGI &lt;chr&gt; | IMAGE_NUM &lt;int64&gt; | TRANSACTION_TP &lt;chr&gt; | ENTITY_TP &lt;chr&gt; | NAME &lt;chr&gt; | CITY &lt;chr&gt; | STATE &lt;chr&gt; | ... ... | EMPLOYER &lt;chr&gt; | OCCUPATION &lt;chr&gt; | TRANSACTION_DT &lt;int&gt; | TRANSACTION_AMT &lt;int&gt; | OTHER_ID &lt;chr&gt; | TRAN_ID &lt;chr&gt; | FILE_NUM &lt;int&gt; | MEMO_CD &lt;chr&gt; | MEMO_TEXT &lt;chr&gt; | SUB_ID &lt;int64&gt; |\n",
       "|---|---|---|---|---|---|---|---|---|---|---|---|---|---|---|---|---|---|---|---|---|\n",
       "| C00401224 | N | YE | <!----> | 202001299174394423 | 24T | IND | SOLOMON, VICTOR  | CAPE CORAL   | FL | ... | RETIRED      | NOT EMPLOYED        |  7112019 | 15 | C00042366 | SA11AI_165851302 | 1378435 | <!----> | EARMARKED FOR DSCC (C00042366)                                                          | 4030220201233264164 |\n",
       "| C00401224 | N | M4 | P | 202004219229686792 | 24T | IND | MYERS, ELIZABETH | SCOTTSVILLE  | NY | ... | NOT EMPLOYED | NOT EMPLOYED        |  3042020 | 39 | C00696948 | SA11AI_216676150 | 1402724 | <!----> | EARMARKED FOR BERNIE 2020 (C00696948)                                                   | 4051420201750154629 |\n",
       "| C00193433 | N | YE | P | 202001219167282616 | 15  | IND | HASKINS, GEORGE  | HARTSDALE    | NY | ... | NOT EMPLOYED | NOT EMPLOYED        | 12182019 | 15 | <!----> | 6260719          | 1371576 | <!----> | <!----> | 4012220201685443186 |\n",
       "| C00401224 | N | YE | <!----> | 202001299171436527 | 24T | IND | KOLBE, NINA      | WASHINGTON   | DC | ... | SELF         | HEALTH PROFESSIONAL |  8302019 | 10 | C00637074 | SA11AI_174544101 | 1378435 | <!----> | EARMARKED FOR FINKENAUER FOR CONGRESS (C00637074)                                       | 4030220201214307726 |\n",
       "| C00401224 | N | MY | <!----> | 201907299161204221 | 24T | IND | ESSENBERG, PENNY | GRAND RAPIDS | MI | ... | <!----> | <!----> |  3212019 | 16 | C00580068 | SB28A_145393165  | 1344765 | <!----> | REFUND OF CONTRIBUTION, INITIALLY EARMARKED FOR PROGRESSIVE TURNOUT PROJECT (C00580068) | 4082820191108588209 |\n",
       "| C00618371 | N | Q3 | P | 201910159164412175 | 15  | IND | GIEBEL, BETTY    | KISSIMMEE    | FL | ... | HOMEMAKER    | HOMEMAKER           |  7112019 | 42 | <!----> | SA11AI.178611    | 1358506 | <!----> | <!----> | 4101820191674758801 |\n",
       "\n"
      ],
      "text/plain": [
       "  CMTE_ID   AMNDT_IND RPT_TP TRANSACTION_PGI IMAGE_NUM          TRANSACTION_TP\n",
       "1 C00401224 N         YE                     202001299174394423 24T           \n",
       "2 C00401224 N         M4     P               202004219229686792 24T           \n",
       "3 C00193433 N         YE     P               202001219167282616 15            \n",
       "4 C00401224 N         YE                     202001299171436527 24T           \n",
       "5 C00401224 N         MY                     201907299161204221 24T           \n",
       "6 C00618371 N         Q3     P               201910159164412175 15            \n",
       "  ENTITY_TP NAME             CITY         STATE ... EMPLOYER    \n",
       "1 IND       SOLOMON, VICTOR  CAPE CORAL   FL    ... RETIRED     \n",
       "2 IND       MYERS, ELIZABETH SCOTTSVILLE  NY    ... NOT EMPLOYED\n",
       "3 IND       HASKINS, GEORGE  HARTSDALE    NY    ... NOT EMPLOYED\n",
       "4 IND       KOLBE, NINA      WASHINGTON   DC    ... SELF        \n",
       "5 IND       ESSENBERG, PENNY GRAND RAPIDS MI    ...             \n",
       "6 IND       GIEBEL, BETTY    KISSIMMEE    FL    ... HOMEMAKER   \n",
       "  OCCUPATION          TRANSACTION_DT TRANSACTION_AMT OTHER_ID  TRAN_ID         \n",
       "1 NOT EMPLOYED         7112019       15              C00042366 SA11AI_165851302\n",
       "2 NOT EMPLOYED         3042020       39              C00696948 SA11AI_216676150\n",
       "3 NOT EMPLOYED        12182019       15                        6260719         \n",
       "4 HEALTH PROFESSIONAL  8302019       10              C00637074 SA11AI_174544101\n",
       "5                      3212019       16              C00580068 SB28A_145393165 \n",
       "6 HOMEMAKER            7112019       42                        SA11AI.178611   \n",
       "  FILE_NUM MEMO_CD\n",
       "1 1378435         \n",
       "2 1402724         \n",
       "3 1371576         \n",
       "4 1378435         \n",
       "5 1344765         \n",
       "6 1358506         \n",
       "  MEMO_TEXT                                                                              \n",
       "1 EARMARKED FOR DSCC (C00042366)                                                         \n",
       "2 EARMARKED FOR BERNIE 2020 (C00696948)                                                  \n",
       "3                                                                                        \n",
       "4 EARMARKED FOR FINKENAUER FOR CONGRESS (C00637074)                                      \n",
       "5 REFUND OF CONTRIBUTION, INITIALLY EARMARKED FOR PROGRESSIVE TURNOUT PROJECT (C00580068)\n",
       "6                                                                                        \n",
       "  SUB_ID             \n",
       "1 4030220201233264164\n",
       "2 4051420201750154629\n",
       "3 4012220201685443186\n",
       "4 4030220201214307726\n",
       "5 4082820191108588209\n",
       "6 4101820191674758801"
      ]
     },
     "metadata": {},
     "output_type": "display_data"
    }
   ],
   "source": [
    "head(myDF)"
   ]
  },
  {
   "cell_type": "code",
   "execution_count": 4,
   "id": "95df3a17-15e8-42bd-88c6-4024acef949b",
   "metadata": {},
   "outputs": [],
   "source": [
    "benfords_law <- function(digit) { log((digit+1)/digit)/log(10) }"
   ]
  },
  {
   "cell_type": "code",
   "execution_count": 5,
   "id": "31476fe3-d813-47f1-b83a-17d2ecc4b7da",
   "metadata": {},
   "outputs": [
    {
     "data": {
      "text/html": [
       "0.301029995663981"
      ],
      "text/latex": [
       "0.301029995663981"
      ],
      "text/markdown": [
       "0.301029995663981"
      ],
      "text/plain": [
       "[1] 0.30103"
      ]
     },
     "metadata": {},
     "output_type": "display_data"
    }
   ],
   "source": [
    "benfords_law(1)"
   ]
  },
  {
   "cell_type": "code",
   "execution_count": 6,
   "id": "b9154d26-b654-4b7b-900b-8089d8d624f0",
   "metadata": {},
   "outputs": [],
   "source": [
    "digits <- 1:9"
   ]
  },
  {
   "cell_type": "code",
   "execution_count": 7,
   "id": "282c3385-36ce-447a-9ef4-1054b5d35ab7",
   "metadata": {},
   "outputs": [
    {
     "data": {
      "text/html": [
       "<style>\n",
       ".list-inline {list-style: none; margin:0; padding: 0}\n",
       ".list-inline>li {display: inline-block}\n",
       ".list-inline>li:not(:last-child)::after {content: \"\\00b7\"; padding: 0 .5ex}\n",
       "</style>\n",
       "<ol class=list-inline><li>1</li><li>2</li><li>3</li><li>4</li><li>5</li><li>6</li><li>7</li><li>8</li><li>9</li></ol>\n"
      ],
      "text/latex": [
       "\\begin{enumerate*}\n",
       "\\item 1\n",
       "\\item 2\n",
       "\\item 3\n",
       "\\item 4\n",
       "\\item 5\n",
       "\\item 6\n",
       "\\item 7\n",
       "\\item 8\n",
       "\\item 9\n",
       "\\end{enumerate*}\n"
      ],
      "text/markdown": [
       "1. 1\n",
       "2. 2\n",
       "3. 3\n",
       "4. 4\n",
       "5. 5\n",
       "6. 6\n",
       "7. 7\n",
       "8. 8\n",
       "9. 9\n",
       "\n",
       "\n"
      ],
      "text/plain": [
       "[1] 1 2 3 4 5 6 7 8 9"
      ]
     },
     "metadata": {},
     "output_type": "display_data"
    }
   ],
   "source": [
    "digits"
   ]
  },
  {
   "cell_type": "code",
   "execution_count": 8,
   "id": "25bb7031-67a3-4e87-90c0-038f8b691794",
   "metadata": {},
   "outputs": [
    {
     "data": {
      "image/png": "[encoded data removed]",
      "text/plain": [
       "plot without title"
      ]
     },
     "metadata": {
      "image/png": {
       "height": 420,
       "width": 420
      }
     },
     "output_type": "display_data"
    }
   ],
   "source": [
    "plot(sapply(digits, benfords_law))"
   ]
  },
  {
   "cell_type": "markdown",
   "id": "b456e57c-4a12-464b-999a-ef2df5af80c1",
   "metadata": {},
   "source": [
    "a. Cell 15\n",
    "\n",
    "b. Cell 17\n",
    "\n",
    "c. Cell 19"
   ]
  },
  {
   "cell_type": "markdown",
   "id": "fc601975-35ed-4680-a4e1-0273ee3cc047",
   "metadata": {},
   "source": [
    "## Question 2"
   ]
  },
  {
   "cell_type": "code",
   "execution_count": 9,
   "id": "a16336a1-1ef0-41e8-bc7c-49387db27497",
   "metadata": {},
   "outputs": [],
   "source": [
    "options(jupyter.rich_display = F)"
   ]
  },
  {
   "cell_type": "code",
   "execution_count": 10,
   "id": "150df346-ff89-4fb4-8c4a-e6c7dfef39b0",
   "metadata": {},
   "outputs": [],
   "source": [
    "options(repr.matrix.max.cols=25, repr.matrix.max.rows=200)"
   ]
  },
  {
   "cell_type": "code",
   "execution_count": 11,
   "id": "8a30cac4-57a5-42dc-975f-a44bedc2dce2",
   "metadata": {},
   "outputs": [
    {
     "data": {
      "text/plain": [
       "  CMTE_ID   AMNDT_IND RPT_TP TRANSACTION_PGI IMAGE_NUM          TRANSACTION_TP\n",
       "1 C00401224 N         YE                     202001299174394423 24T           \n",
       "2 C00401224 N         M4     P               202004219229686792 24T           \n",
       "3 C00193433 N         YE     P               202001219167282616 15            \n",
       "4 C00401224 N         YE                     202001299171436527 24T           \n",
       "5 C00401224 N         MY                     201907299161204221 24T           \n",
       "6 C00618371 N         Q3     P               201910159164412175 15            \n",
       "  ENTITY_TP NAME             CITY         STATE ZIP_CODE EMPLOYER    \n",
       "1 IND       SOLOMON, VICTOR  CAPE CORAL   FL    33904    RETIRED     \n",
       "2 IND       MYERS, ELIZABETH SCOTTSVILLE  NY    14546    NOT EMPLOYED\n",
       "3 IND       HASKINS, GEORGE  HARTSDALE    NY    10530    NOT EMPLOYED\n",
       "4 IND       KOLBE, NINA      WASHINGTON   DC    20003    SELF        \n",
       "5 IND       ESSENBERG, PENNY GRAND RAPIDS MI    49534                \n",
       "6 IND       GIEBEL, BETTY    KISSIMMEE    FL    34744    HOMEMAKER   \n",
       "  OCCUPATION          TRANSACTION_DT TRANSACTION_AMT OTHER_ID  TRAN_ID         \n",
       "1 NOT EMPLOYED         7112019       15              C00042366 SA11AI_165851302\n",
       "2 NOT EMPLOYED         3042020       39              C00696948 SA11AI_216676150\n",
       "3 NOT EMPLOYED        12182019       15                        6260719         \n",
       "4 HEALTH PROFESSIONAL  8302019       10              C00637074 SA11AI_174544101\n",
       "5                      3212019       16              C00580068 SB28A_145393165 \n",
       "6 HOMEMAKER            7112019       42                        SA11AI.178611   \n",
       "  FILE_NUM MEMO_CD\n",
       "1 1378435         \n",
       "2 1402724         \n",
       "3 1371576         \n",
       "4 1378435         \n",
       "5 1344765         \n",
       "6 1358506         \n",
       "  MEMO_TEXT                                                                              \n",
       "1 EARMARKED FOR DSCC (C00042366)                                                         \n",
       "2 EARMARKED FOR BERNIE 2020 (C00696948)                                                  \n",
       "3                                                                                        \n",
       "4 EARMARKED FOR FINKENAUER FOR CONGRESS (C00637074)                                      \n",
       "5 REFUND OF CONTRIBUTION, INITIALLY EARMARKED FOR PROGRESSIVE TURNOUT PROJECT (C00580068)\n",
       "6                                                                                        \n",
       "  SUB_ID             \n",
       "1 4030220201233264164\n",
       "2 4051420201750154629\n",
       "3 4012220201685443186\n",
       "4 4030220201214307726\n",
       "5 4082820191108588209\n",
       "6 4101820191674758801"
      ]
     },
     "metadata": {},
     "output_type": "display_data"
    }
   ],
   "source": [
    "head(myDF)"
   ]
  },
  {
   "cell_type": "code",
   "execution_count": 12,
   "id": "1524b90b-a926-4ba1-add2-286729903284",
   "metadata": {},
   "outputs": [],
   "source": [
    "firstdigit <- table(substr(myDF$TRANSACTION_AMT, 1, 1))[3:11]"
   ]
  },
  {
   "cell_type": "code",
   "execution_count": 13,
   "id": "0e61d0ad-dd59-455d-9333-3eae28f7697d",
   "metadata": {},
   "outputs": [
    {
     "data": {
      "image/png": "[encoded data removed]",
      "text/plain": [
       "plot without title"
      ]
     },
     "metadata": {
      "image/png": {
       "height": 420,
       "width": 420
      }
     },
     "output_type": "display_data"
    }
   ],
   "source": [
    "plot(firstdigit)"
   ]
  },
  {
   "cell_type": "markdown",
   "id": "14dc22d4-ddc3-41cc-a91a-cb0025bc0c80",
   "metadata": {},
   "source": [
    "a. Cell 2\n",
    "\n",
    "b. Cell 28\n",
    "\n",
    "c. For the most part, the plot seems to roughly be following Bedford's law as the values for most of the digits seem to be decreasing similarly to how we saw in the elections data, excluding 2 and 5."
   ]
  },
  {
   "cell_type": "markdown",
   "id": "8e586edd-ff26-4ce2-8f6b-2424b26f2929",
   "metadata": {},
   "source": [
    "## Question 3"
   ]
  },
  {
   "cell_type": "code",
   "execution_count": 14,
   "id": "0abd8eb1-af13-48d1-b5a7-6c4e7e736f70",
   "metadata": {},
   "outputs": [],
   "source": [
    "myDF$Employed <- TRUE"
   ]
  },
  {
   "cell_type": "code",
   "execution_count": 15,
   "id": "a35d3f25-4f74-45b5-b961-dcc9aa40632c",
   "metadata": {},
   "outputs": [],
   "source": [
    "myDF$Employed[myDF$EMPLOYER == \"NOT EMPLOYED\"] <- FALSE"
   ]
  },
  {
   "cell_type": "code",
   "execution_count": 16,
   "id": "a827c70f-6663-42bd-8199-ce0429b66e13",
   "metadata": {},
   "outputs": [],
   "source": [
    "myDF$Employed[myDF$OCCUPATION == \"NOT EMPLOYED\"] <- FALSE"
   ]
  },
  {
   "cell_type": "code",
   "execution_count": 17,
   "id": "ee9ab587-7665-4987-8f98-1eb298d1e9c8",
   "metadata": {},
   "outputs": [
    {
     "data": {
      "text/plain": [
       "\n",
       "  FALSE    TRUE \n",
       "1136507 3542255 "
      ]
     },
     "metadata": {},
     "output_type": "display_data"
    }
   ],
   "source": [
    "table(myDF$Employed)"
   ]
  },
  {
   "cell_type": "code",
   "execution_count": 18,
   "id": "bbe0f40d-9655-4653-9ca8-886bdb61cb91",
   "metadata": {},
   "outputs": [],
   "source": [
    "myemployerfunction <- function(tempDF) {\n",
    "    tempDF$Employed <- TRUE\n",
    "    tempDF$Employed[myDF$EMPLOYER == \"NOT EMPLOYED\"] <- FALSE\n",
    "    tempDF$Employed[myDF$OCCUPATION == \"NOT EMPLOYED\"] <- FALSE\n",
    "    return(tempDF)\n",
    "}"
   ]
  },
  {
   "cell_type": "code",
   "execution_count": 19,
   "id": "2085b833-b3ab-45eb-a3b0-ba774f2dea1c",
   "metadata": {},
   "outputs": [
    {
     "data": {
      "text/plain": [
       "  CMTE_ID   AMNDT_IND RPT_TP TRANSACTION_PGI IMAGE_NUM          TRANSACTION_TP\n",
       "1 C00401224 N         YE                     202001299174394423 24T           \n",
       "2 C00401224 N         M4     P               202004219229686792 24T           \n",
       "3 C00193433 N         YE     P               202001219167282616 15            \n",
       "4 C00401224 N         YE                     202001299171436527 24T           \n",
       "5 C00401224 N         MY                     201907299161204221 24T           \n",
       "6 C00618371 N         Q3     P               201910159164412175 15            \n",
       "  ENTITY_TP NAME             CITY         STATE ZIP_CODE EMPLOYER    \n",
       "1 IND       SOLOMON, VICTOR  CAPE CORAL   FL    33904    RETIRED     \n",
       "2 IND       MYERS, ELIZABETH SCOTTSVILLE  NY    14546    NOT EMPLOYED\n",
       "3 IND       HASKINS, GEORGE  HARTSDALE    NY    10530    NOT EMPLOYED\n",
       "4 IND       KOLBE, NINA      WASHINGTON   DC    20003    SELF        \n",
       "5 IND       ESSENBERG, PENNY GRAND RAPIDS MI    49534                \n",
       "6 IND       GIEBEL, BETTY    KISSIMMEE    FL    34744    HOMEMAKER   \n",
       "  OCCUPATION          TRANSACTION_DT TRANSACTION_AMT OTHER_ID  TRAN_ID         \n",
       "1 NOT EMPLOYED         7112019       15              C00042366 SA11AI_165851302\n",
       "2 NOT EMPLOYED         3042020       39              C00696948 SA11AI_216676150\n",
       "3 NOT EMPLOYED        12182019       15                        6260719         \n",
       "4 HEALTH PROFESSIONAL  8302019       10              C00637074 SA11AI_174544101\n",
       "5                      3212019       16              C00580068 SB28A_145393165 \n",
       "6 HOMEMAKER            7112019       42                        SA11AI.178611   \n",
       "  FILE_NUM MEMO_CD\n",
       "1 1378435         \n",
       "2 1402724         \n",
       "3 1371576         \n",
       "4 1378435         \n",
       "5 1344765         \n",
       "6 1358506         \n",
       "  MEMO_TEXT                                                                              \n",
       "1 EARMARKED FOR DSCC (C00042366)                                                         \n",
       "2 EARMARKED FOR BERNIE 2020 (C00696948)                                                  \n",
       "3                                                                                        \n",
       "4 EARMARKED FOR FINKENAUER FOR CONGRESS (C00637074)                                      \n",
       "5 REFUND OF CONTRIBUTION, INITIALLY EARMARKED FOR PROGRESSIVE TURNOUT PROJECT (C00580068)\n",
       "6                                                                                        \n",
       "  SUB_ID              Employed\n",
       "1 4030220201233264164 FALSE   \n",
       "2 4051420201750154629 FALSE   \n",
       "3 4012220201685443186 FALSE   \n",
       "4 4030220201214307726  TRUE   \n",
       "5 4082820191108588209  TRUE   \n",
       "6 4101820191674758801  TRUE   "
      ]
     },
     "metadata": {},
     "output_type": "display_data"
    }
   ],
   "source": [
    "head(myemployerfunction(myDF))"
   ]
  },
  {
   "cell_type": "code",
   "execution_count": 20,
   "id": "b68bc90c-0caa-4354-8b5b-2a658a0abb5e",
   "metadata": {},
   "outputs": [
    {
     "data": {
      "text/plain": [
       "\n",
       "  FALSE    TRUE \n",
       "1136507 3542255 "
      ]
     },
     "metadata": {},
     "output_type": "display_data"
    }
   ],
   "source": [
    "table(myemployerfunction(myDF)$Employed)"
   ]
  },
  {
   "cell_type": "markdown",
   "id": "da22f29c-d245-4d2b-9fc1-ca14cb6087d9",
   "metadata": {},
   "source": [
    "## Question 4"
   ]
  },
  {
   "cell_type": "code",
   "execution_count": 21,
   "id": "8cffc767-d1c8-4d64-b7dc-f0d2ee8a80d1",
   "metadata": {},
   "outputs": [],
   "source": [
    "myemployerfunction <- function(tempDF) { # Function has 1 argument\n",
    "    tempDF$Employed <- TRUE # Set Employed column with default values true\n",
    "    tempDF$Employed[myDF$EMPLOYER == \"NOT EMPLOYED\"] <- FALSE # If employer was not employed, set index to false\n",
    "    tempDF$Employed[myDF$OCCUPATION == \"NOT EMPLOYED\"] <- FALSE # If occupation was not employed, set index to false\n",
    "    return(tempDF)\n",
    "}"
   ]
  },
  {
   "cell_type": "code",
   "execution_count": 22,
   "id": "bcea176a-0777-4ed1-a90f-8abdbd864848",
   "metadata": {},
   "outputs": [
    {
     "data": {
      "image/png": "[encoded data removed]",
      "text/plain": [
       "plot without title"
      ]
     },
     "metadata": {
      "image/png": {
       "height": 420,
       "width": 420
      }
     },
     "output_type": "display_data"
    }
   ],
   "source": [
    "plot(table(myemployerfunction(myDF)$Employed))"
   ]
  },
  {
   "cell_type": "markdown",
   "id": "88c9cdac-3e92-498f-83fa-e089bfc44ac8",
   "metadata": {},
   "source": [
    "## Question 5"
   ]
  },
  {
   "cell_type": "code",
   "execution_count": 23,
   "id": "d64585ca-1641-497d-b185-b05f4baec474",
   "metadata": {},
   "outputs": [
    {
     "data": {
      "text/plain": [
       "  CMTE_ID   AMNDT_IND RPT_TP TRANSACTION_PGI IMAGE_NUM          TRANSACTION_TP\n",
       "1 C00401224 N         YE                     202001299174394423 24T           \n",
       "2 C00401224 N         M4     P               202004219229686792 24T           \n",
       "3 C00193433 N         YE     P               202001219167282616 15            \n",
       "4 C00401224 N         YE                     202001299171436527 24T           \n",
       "5 C00401224 N         MY                     201907299161204221 24T           \n",
       "6 C00618371 N         Q3     P               201910159164412175 15            \n",
       "  ENTITY_TP NAME             CITY         STATE ZIP_CODE EMPLOYER    \n",
       "1 IND       SOLOMON, VICTOR  CAPE CORAL   FL    33904    RETIRED     \n",
       "2 IND       MYERS, ELIZABETH SCOTTSVILLE  NY    14546    NOT EMPLOYED\n",
       "3 IND       HASKINS, GEORGE  HARTSDALE    NY    10530    NOT EMPLOYED\n",
       "4 IND       KOLBE, NINA      WASHINGTON   DC    20003    SELF        \n",
       "5 IND       ESSENBERG, PENNY GRAND RAPIDS MI    49534                \n",
       "6 IND       GIEBEL, BETTY    KISSIMMEE    FL    34744    HOMEMAKER   \n",
       "  OCCUPATION          TRANSACTION_DT TRANSACTION_AMT OTHER_ID  TRAN_ID         \n",
       "1 NOT EMPLOYED         7112019       15              C00042366 SA11AI_165851302\n",
       "2 NOT EMPLOYED         3042020       39              C00696948 SA11AI_216676150\n",
       "3 NOT EMPLOYED        12182019       15                        6260719         \n",
       "4 HEALTH PROFESSIONAL  8302019       10              C00637074 SA11AI_174544101\n",
       "5                      3212019       16              C00580068 SB28A_145393165 \n",
       "6 HOMEMAKER            7112019       42                        SA11AI.178611   \n",
       "  FILE_NUM MEMO_CD\n",
       "1 1378435         \n",
       "2 1402724         \n",
       "3 1371576         \n",
       "4 1378435         \n",
       "5 1344765         \n",
       "6 1358506         \n",
       "  MEMO_TEXT                                                                              \n",
       "1 EARMARKED FOR DSCC (C00042366)                                                         \n",
       "2 EARMARKED FOR BERNIE 2020 (C00696948)                                                  \n",
       "3                                                                                        \n",
       "4 EARMARKED FOR FINKENAUER FOR CONGRESS (C00637074)                                      \n",
       "5 REFUND OF CONTRIBUTION, INITIALLY EARMARKED FOR PROGRESSIVE TURNOUT PROJECT (C00580068)\n",
       "6                                                                                        \n",
       "  SUB_ID              Employed\n",
       "1 4030220201233264164 FALSE   \n",
       "2 4051420201750154629 FALSE   \n",
       "3 4012220201685443186 FALSE   \n",
       "4 4030220201214307726  TRUE   \n",
       "5 4082820191108588209  TRUE   \n",
       "6 4101820191674758801  TRUE   "
      ]
     },
     "metadata": {},
     "output_type": "display_data"
    }
   ],
   "source": [
    "head(myDF)"
   ]
  },
  {
   "cell_type": "code",
   "execution_count": 24,
   "id": "00506fa4-ac2d-4851-b1d4-6d9b3b98f5b8",
   "metadata": {},
   "outputs": [
    {
     "data": {
      "text/plain": [
       " [1] \"FL\" \"NY\" \"NY\" \"DC\" \"MI\" \"FL\" \"IA\" \"WI\" \"NJ\" \"TX\" \"TX\" \"NY\" \"IL\" \"WA\" \"DC\"\n",
       "[16] \"DC\" \"OK\" \"WI\" \"CT\" \"MA\" \"NY\" \"CT\" \"VA\" \"PA\" \"SC\" \"SC\" \"NE\" \"KY\" \"PA\" \"VT\"\n",
       "[31] \"MA\" \"MA\" \"CA\" \"IA\" \"IN\" \"WI\" \"MT\" \"NY\" \"MO\" \"CA\" \"IL\" \"CA\" \"VA\" \"CO\" \"FL\"\n",
       "[46] \"TN\" \"MI\" \"MA\" \"CA\" \"MA\""
      ]
     },
     "metadata": {},
     "output_type": "display_data"
    }
   ],
   "source": [
    "head(myDF$STATE, n=50)"
   ]
  },
  {
   "cell_type": "code",
   "execution_count": 37,
   "id": "d370d7c9-06db-42b9-b75f-240481a5c491",
   "metadata": {},
   "outputs": [],
   "source": [
    "caRatio <- function(tempDF, includes) {\n",
    "    tempDF$state <- FALSE\n",
    "    tempDF$state[myDF$STATE == 'CA'] <- includes\n",
    "    return(tempDF)\n",
    "}"
   ]
  },
  {
   "cell_type": "code",
   "execution_count": 38,
   "id": "80027186-29ce-4575-8af3-7bbc8d43d4dd",
   "metadata": {},
   "outputs": [
    {
     "ename": "ERROR",
     "evalue": "Error in table(caRatio(myDF, TRUE)): attempt to make a table with >= 2^31 elements\n",
     "output_type": "error",
     "traceback": [
      "Error in table(caRatio(myDF, TRUE)): attempt to make a table with >= 2^31 elements\nTraceback:\n",
      "1. table(caRatio(myDF, TRUE))",
      "2. stop(\"attempt to make a table with >= 2^31 elements\")"
     ]
    }
   ],
   "source": [
    "table(caRatio(myDF, TRUE))"
   ]
  },
  {
   "cell_type": "markdown",
   "id": "9fbf00fb-2418-460f-ae94-2a32b0c28952",
   "metadata": {},
   "source": [
    "Markdown notes and sentences and analysis written here."
   ]
  },
  {
   "cell_type": "markdown",
   "id": "f76442d6-d02e-4f26-b9d6-c3183e1d6929",
   "metadata": {},
   "source": [
    "## Pledge\n",
    "\n",
    "By submitting this work I hereby pledge that this is my own, personal work. I've acknowledged in the designated place at the top of this file all sources that I used to complete said work, including but not limited to: online resources, books, and electronic communications. I've noted all collaboration with fellow students and/or TA's. I did not copy or plagiarize another's work.\n",
    "\n",
    "> As a Boilermaker pursuing academic excellence, I pledge to be honest and true in all that I do. Accountable together – We are Purdue."
   ]
  }
 ],
 "metadata": {
  "kernelspec": {
   "display_name": "f2022-s2023-r",
   "language": "R",
   "name": "f2022-s2023-r"
  },
  "language_info": {
   "codemirror_mode": "r",
   "file_extension": ".r",
   "mimetype": "text/x-r-source",
   "name": "R",
   "pygments_lexer": "r",
   "version": "4.2.1"
  }
 },
 "nbformat": 4,
 "nbformat_minor": 5
}
