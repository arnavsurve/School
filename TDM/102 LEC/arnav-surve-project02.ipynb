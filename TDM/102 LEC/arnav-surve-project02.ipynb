{
 "cells": [
  {
   "cell_type": "markdown",
   "id": "be02a957-7133-4d02-818e-fedeb3cecb05",
   "metadata": {},
   "source": [
    "# Project 2 -- Arnav Surve"
   ]
  },
  {
   "cell_type": "markdown",
   "id": "a1228853-dd19-4ab2-89e0-0394d7d72de3",
   "metadata": {},
   "source": [
    "**TA Help:** N/A\n",
    "    \n",
    "**Collaboration:** N/A"
   ]
  },
  {
   "cell_type": "markdown",
   "id": "6180e742-8e39-4698-98ff-5b00c8cf8ea0",
   "metadata": {},
   "source": [
    "## Question 1"
   ]
  },
  {
   "cell_type": "code",
   "execution_count": 1,
   "id": "49445606-d363-41b4-b479-e319a9a84c01",
   "metadata": {},
   "outputs": [],
   "source": [
    "data = {\n",
    "    'shoes':['red', 'purple', 'red', 'purple', 'red', 'red', 'red'],\n",
    "    'hats': ['blue', 'blue', 'blue', 'white', 'white', 'blue', 'blue']\n",
    "}"
   ]
  },
  {
   "cell_type": "code",
   "execution_count": 2,
   "id": "5427328b-ac72-4ad9-92c7-b169abf3cdc6",
   "metadata": {},
   "outputs": [
    {
     "data": {
      "text/plain": [
       "{'shoes': ['red', 'purple', 'red', 'purple', 'red', 'red', 'red'],\n",
       " 'hats': ['blue', 'blue', 'blue', 'white', 'white', 'blue', 'blue']}"
      ]
     },
     "execution_count": 2,
     "metadata": {},
     "output_type": "execute_result"
    }
   ],
   "source": [
    "data"
   ]
  },
  {
   "cell_type": "code",
   "execution_count": 3,
   "id": "fdaebea9-347b-4238-a06d-36099d094a16",
   "metadata": {},
   "outputs": [],
   "source": [
    "import pandas as pd"
   ]
  },
  {
   "cell_type": "code",
   "execution_count": 6,
   "id": "944aa7bc-c795-401c-8aa3-2d72cb858d37",
   "metadata": {},
   "outputs": [],
   "source": [
    "store = pd.DataFrame(data, index=['Jay', 'Mary', 'Bill', 'Chris', 'Martha', 'Karen', 'Rob'])"
   ]
  },
  {
   "cell_type": "code",
   "execution_count": 7,
   "id": "fe261620-04d3-4a1f-96bf-999caa17aafb",
   "metadata": {},
   "outputs": [
    {
     "data": {
      "text/html": [
       "<div>\n",
       "<style scoped>\n",
       "    .dataframe tbody tr th:only-of-type {\n",
       "        vertical-align: middle;\n",
       "    }\n",
       "\n",
       "    .dataframe tbody tr th {\n",
       "        vertical-align: top;\n",
       "    }\n",
       "\n",
       "    .dataframe thead th {\n",
       "        text-align: right;\n",
       "    }\n",
       "</style>\n",
       "<table border=\"1\" class=\"dataframe\">\n",
       "  <thead>\n",
       "    <tr style=\"text-align: right;\">\n",
       "      <th></th>\n",
       "      <th>shoes</th>\n",
       "      <th>hats</th>\n",
       "    </tr>\n",
       "  </thead>\n",
       "  <tbody>\n",
       "    <tr>\n",
       "      <th>Jay</th>\n",
       "      <td>red</td>\n",
       "      <td>blue</td>\n",
       "    </tr>\n",
       "    <tr>\n",
       "      <th>Mary</th>\n",
       "      <td>purple</td>\n",
       "      <td>blue</td>\n",
       "    </tr>\n",
       "    <tr>\n",
       "      <th>Bill</th>\n",
       "      <td>red</td>\n",
       "      <td>blue</td>\n",
       "    </tr>\n",
       "    <tr>\n",
       "      <th>Chris</th>\n",
       "      <td>purple</td>\n",
       "      <td>white</td>\n",
       "    </tr>\n",
       "    <tr>\n",
       "      <th>Martha</th>\n",
       "      <td>red</td>\n",
       "      <td>white</td>\n",
       "    </tr>\n",
       "    <tr>\n",
       "      <th>Karen</th>\n",
       "      <td>red</td>\n",
       "      <td>blue</td>\n",
       "    </tr>\n",
       "    <tr>\n",
       "      <th>Rob</th>\n",
       "      <td>red</td>\n",
       "      <td>blue</td>\n",
       "    </tr>\n",
       "  </tbody>\n",
       "</table>\n",
       "</div>"
      ],
      "text/plain": [
       "         shoes   hats\n",
       "Jay        red   blue\n",
       "Mary    purple   blue\n",
       "Bill       red   blue\n",
       "Chris   purple  white\n",
       "Martha     red  white\n",
       "Karen      red   blue\n",
       "Rob        red   blue"
      ]
     },
     "execution_count": 7,
     "metadata": {},
     "output_type": "execute_result"
    }
   ],
   "source": [
    "store"
   ]
  },
  {
   "cell_type": "markdown",
   "id": "fc601975-35ed-4680-a4e1-0273ee3cc047",
   "metadata": {},
   "source": [
    "## Question 2"
   ]
  },
  {
   "cell_type": "code",
   "execution_count": 8,
   "id": "a16336a1-1ef0-41e8-bc7c-49387db27497",
   "metadata": {},
   "outputs": [],
   "source": [
    "myDF = pd.read_csv(\"/anvil/projects/tdm/data/death_records/DeathRecords.csv\")"
   ]
  },
  {
   "cell_type": "code",
   "execution_count": 10,
   "id": "e7dedb1f-2437-42c6-a7f7-60050a2077bb",
   "metadata": {},
   "outputs": [],
   "source": [
    "pd.options.display.max_columns = None"
   ]
  },
  {
   "cell_type": "code",
   "execution_count": 11,
   "id": "767242ec-754b-44de-b03f-f03a07c695c3",
   "metadata": {},
   "outputs": [
    {
     "data": {
      "text/html": [
       "<div>\n",
       "<style scoped>\n",
       "    .dataframe tbody tr th:only-of-type {\n",
       "        vertical-align: middle;\n",
       "    }\n",
       "\n",
       "    .dataframe tbody tr th {\n",
       "        vertical-align: top;\n",
       "    }\n",
       "\n",
       "    .dataframe thead th {\n",
       "        text-align: right;\n",
       "    }\n",
       "</style>\n",
       "<table border=\"1\" class=\"dataframe\">\n",
       "  <thead>\n",
       "    <tr style=\"text-align: right;\">\n",
       "      <th></th>\n",
       "      <th>Id</th>\n",
       "      <th>ResidentStatus</th>\n",
       "      <th>Education1989Revision</th>\n",
       "      <th>Education2003Revision</th>\n",
       "      <th>EducationReportingFlag</th>\n",
       "      <th>MonthOfDeath</th>\n",
       "      <th>Sex</th>\n",
       "      <th>AgeType</th>\n",
       "      <th>Age</th>\n",
       "      <th>AgeSubstitutionFlag</th>\n",
       "      <th>AgeRecode52</th>\n",
       "      <th>AgeRecode27</th>\n",
       "      <th>AgeRecode12</th>\n",
       "      <th>InfantAgeRecode22</th>\n",
       "      <th>PlaceOfDeathAndDecedentsStatus</th>\n",
       "      <th>MaritalStatus</th>\n",
       "      <th>DayOfWeekOfDeath</th>\n",
       "      <th>CurrentDataYear</th>\n",
       "      <th>InjuryAtWork</th>\n",
       "      <th>MannerOfDeath</th>\n",
       "      <th>MethodOfDisposition</th>\n",
       "      <th>Autopsy</th>\n",
       "      <th>ActivityCode</th>\n",
       "      <th>PlaceOfInjury</th>\n",
       "      <th>Icd10Code</th>\n",
       "      <th>CauseRecode358</th>\n",
       "      <th>CauseRecode113</th>\n",
       "      <th>InfantCauseRecode130</th>\n",
       "      <th>CauseRecode39</th>\n",
       "      <th>NumberOfEntityAxisConditions</th>\n",
       "      <th>NumberOfRecordAxisConditions</th>\n",
       "      <th>Race</th>\n",
       "      <th>BridgedRaceFlag</th>\n",
       "      <th>RaceImputationFlag</th>\n",
       "      <th>RaceRecode3</th>\n",
       "      <th>RaceRecode5</th>\n",
       "      <th>HispanicOrigin</th>\n",
       "      <th>HispanicOriginRaceRecode</th>\n",
       "    </tr>\n",
       "  </thead>\n",
       "  <tbody>\n",
       "    <tr>\n",
       "      <th>0</th>\n",
       "      <td>1</td>\n",
       "      <td>1</td>\n",
       "      <td>0</td>\n",
       "      <td>2</td>\n",
       "      <td>1</td>\n",
       "      <td>1</td>\n",
       "      <td>M</td>\n",
       "      <td>1</td>\n",
       "      <td>87</td>\n",
       "      <td>0</td>\n",
       "      <td>43</td>\n",
       "      <td>23</td>\n",
       "      <td>11</td>\n",
       "      <td>0</td>\n",
       "      <td>4</td>\n",
       "      <td>M</td>\n",
       "      <td>4</td>\n",
       "      <td>2014</td>\n",
       "      <td>U</td>\n",
       "      <td>7</td>\n",
       "      <td>C</td>\n",
       "      <td>N</td>\n",
       "      <td>99</td>\n",
       "      <td>99</td>\n",
       "      <td>I64</td>\n",
       "      <td>238</td>\n",
       "      <td>70</td>\n",
       "      <td>0</td>\n",
       "      <td>24</td>\n",
       "      <td>1</td>\n",
       "      <td>1</td>\n",
       "      <td>1</td>\n",
       "      <td>0</td>\n",
       "      <td>0</td>\n",
       "      <td>1</td>\n",
       "      <td>1</td>\n",
       "      <td>100</td>\n",
       "      <td>6</td>\n",
       "    </tr>\n",
       "    <tr>\n",
       "      <th>1</th>\n",
       "      <td>2</td>\n",
       "      <td>1</td>\n",
       "      <td>0</td>\n",
       "      <td>2</td>\n",
       "      <td>1</td>\n",
       "      <td>1</td>\n",
       "      <td>M</td>\n",
       "      <td>1</td>\n",
       "      <td>58</td>\n",
       "      <td>0</td>\n",
       "      <td>37</td>\n",
       "      <td>17</td>\n",
       "      <td>8</td>\n",
       "      <td>0</td>\n",
       "      <td>4</td>\n",
       "      <td>D</td>\n",
       "      <td>3</td>\n",
       "      <td>2014</td>\n",
       "      <td>U</td>\n",
       "      <td>7</td>\n",
       "      <td>C</td>\n",
       "      <td>N</td>\n",
       "      <td>99</td>\n",
       "      <td>99</td>\n",
       "      <td>I250</td>\n",
       "      <td>214</td>\n",
       "      <td>62</td>\n",
       "      <td>0</td>\n",
       "      <td>21</td>\n",
       "      <td>3</td>\n",
       "      <td>3</td>\n",
       "      <td>1</td>\n",
       "      <td>0</td>\n",
       "      <td>0</td>\n",
       "      <td>1</td>\n",
       "      <td>1</td>\n",
       "      <td>100</td>\n",
       "      <td>6</td>\n",
       "    </tr>\n",
       "    <tr>\n",
       "      <th>2</th>\n",
       "      <td>3</td>\n",
       "      <td>1</td>\n",
       "      <td>0</td>\n",
       "      <td>7</td>\n",
       "      <td>1</td>\n",
       "      <td>1</td>\n",
       "      <td>F</td>\n",
       "      <td>1</td>\n",
       "      <td>75</td>\n",
       "      <td>0</td>\n",
       "      <td>41</td>\n",
       "      <td>21</td>\n",
       "      <td>10</td>\n",
       "      <td>0</td>\n",
       "      <td>4</td>\n",
       "      <td>W</td>\n",
       "      <td>2</td>\n",
       "      <td>2014</td>\n",
       "      <td>U</td>\n",
       "      <td>7</td>\n",
       "      <td>C</td>\n",
       "      <td>N</td>\n",
       "      <td>99</td>\n",
       "      <td>99</td>\n",
       "      <td>J449</td>\n",
       "      <td>267</td>\n",
       "      <td>86</td>\n",
       "      <td>0</td>\n",
       "      <td>28</td>\n",
       "      <td>2</td>\n",
       "      <td>2</td>\n",
       "      <td>1</td>\n",
       "      <td>0</td>\n",
       "      <td>0</td>\n",
       "      <td>1</td>\n",
       "      <td>1</td>\n",
       "      <td>100</td>\n",
       "      <td>6</td>\n",
       "    </tr>\n",
       "    <tr>\n",
       "      <th>3</th>\n",
       "      <td>4</td>\n",
       "      <td>1</td>\n",
       "      <td>0</td>\n",
       "      <td>6</td>\n",
       "      <td>1</td>\n",
       "      <td>1</td>\n",
       "      <td>M</td>\n",
       "      <td>1</td>\n",
       "      <td>74</td>\n",
       "      <td>0</td>\n",
       "      <td>40</td>\n",
       "      <td>20</td>\n",
       "      <td>9</td>\n",
       "      <td>0</td>\n",
       "      <td>6</td>\n",
       "      <td>D</td>\n",
       "      <td>1</td>\n",
       "      <td>2014</td>\n",
       "      <td>U</td>\n",
       "      <td>7</td>\n",
       "      <td>C</td>\n",
       "      <td>N</td>\n",
       "      <td>99</td>\n",
       "      <td>99</td>\n",
       "      <td>I48</td>\n",
       "      <td>228</td>\n",
       "      <td>68</td>\n",
       "      <td>0</td>\n",
       "      <td>22</td>\n",
       "      <td>3</td>\n",
       "      <td>3</td>\n",
       "      <td>1</td>\n",
       "      <td>0</td>\n",
       "      <td>0</td>\n",
       "      <td>1</td>\n",
       "      <td>1</td>\n",
       "      <td>100</td>\n",
       "      <td>6</td>\n",
       "    </tr>\n",
       "    <tr>\n",
       "      <th>4</th>\n",
       "      <td>5</td>\n",
       "      <td>1</td>\n",
       "      <td>0</td>\n",
       "      <td>3</td>\n",
       "      <td>1</td>\n",
       "      <td>1</td>\n",
       "      <td>M</td>\n",
       "      <td>1</td>\n",
       "      <td>64</td>\n",
       "      <td>0</td>\n",
       "      <td>38</td>\n",
       "      <td>18</td>\n",
       "      <td>8</td>\n",
       "      <td>0</td>\n",
       "      <td>4</td>\n",
       "      <td>D</td>\n",
       "      <td>2</td>\n",
       "      <td>2014</td>\n",
       "      <td>U</td>\n",
       "      <td>7</td>\n",
       "      <td>C</td>\n",
       "      <td>N</td>\n",
       "      <td>99</td>\n",
       "      <td>99</td>\n",
       "      <td>I250</td>\n",
       "      <td>214</td>\n",
       "      <td>62</td>\n",
       "      <td>0</td>\n",
       "      <td>21</td>\n",
       "      <td>1</td>\n",
       "      <td>1</td>\n",
       "      <td>1</td>\n",
       "      <td>0</td>\n",
       "      <td>0</td>\n",
       "      <td>1</td>\n",
       "      <td>1</td>\n",
       "      <td>100</td>\n",
       "      <td>6</td>\n",
       "    </tr>\n",
       "  </tbody>\n",
       "</table>\n",
       "</div>"
      ],
      "text/plain": [
       "   Id  ResidentStatus  Education1989Revision  Education2003Revision  \\\n",
       "0   1               1                      0                      2   \n",
       "1   2               1                      0                      2   \n",
       "2   3               1                      0                      7   \n",
       "3   4               1                      0                      6   \n",
       "4   5               1                      0                      3   \n",
       "\n",
       "   EducationReportingFlag  MonthOfDeath Sex  AgeType  Age  \\\n",
       "0                       1             1   M        1   87   \n",
       "1                       1             1   M        1   58   \n",
       "2                       1             1   F        1   75   \n",
       "3                       1             1   M        1   74   \n",
       "4                       1             1   M        1   64   \n",
       "\n",
       "   AgeSubstitutionFlag  AgeRecode52  AgeRecode27  AgeRecode12  \\\n",
       "0                    0           43           23           11   \n",
       "1                    0           37           17            8   \n",
       "2                    0           41           21           10   \n",
       "3                    0           40           20            9   \n",
       "4                    0           38           18            8   \n",
       "\n",
       "   InfantAgeRecode22  PlaceOfDeathAndDecedentsStatus MaritalStatus  \\\n",
       "0                  0                               4             M   \n",
       "1                  0                               4             D   \n",
       "2                  0                               4             W   \n",
       "3                  0                               6             D   \n",
       "4                  0                               4             D   \n",
       "\n",
       "   DayOfWeekOfDeath  CurrentDataYear InjuryAtWork  MannerOfDeath  \\\n",
       "0                 4             2014            U              7   \n",
       "1                 3             2014            U              7   \n",
       "2                 2             2014            U              7   \n",
       "3                 1             2014            U              7   \n",
       "4                 2             2014            U              7   \n",
       "\n",
       "  MethodOfDisposition Autopsy  ActivityCode  PlaceOfInjury Icd10Code  \\\n",
       "0                   C       N            99             99       I64   \n",
       "1                   C       N            99             99      I250   \n",
       "2                   C       N            99             99      J449   \n",
       "3                   C       N            99             99       I48   \n",
       "4                   C       N            99             99      I250   \n",
       "\n",
       "   CauseRecode358  CauseRecode113  InfantCauseRecode130  CauseRecode39  \\\n",
       "0             238              70                     0             24   \n",
       "1             214              62                     0             21   \n",
       "2             267              86                     0             28   \n",
       "3             228              68                     0             22   \n",
       "4             214              62                     0             21   \n",
       "\n",
       "   NumberOfEntityAxisConditions  NumberOfRecordAxisConditions  Race  \\\n",
       "0                             1                             1     1   \n",
       "1                             3                             3     1   \n",
       "2                             2                             2     1   \n",
       "3                             3                             3     1   \n",
       "4                             1                             1     1   \n",
       "\n",
       "   BridgedRaceFlag  RaceImputationFlag  RaceRecode3  RaceRecode5  \\\n",
       "0                0                   0            1            1   \n",
       "1                0                   0            1            1   \n",
       "2                0                   0            1            1   \n",
       "3                0                   0            1            1   \n",
       "4                0                   0            1            1   \n",
       "\n",
       "   HispanicOrigin  HispanicOriginRaceRecode  \n",
       "0             100                         6  \n",
       "1             100                         6  \n",
       "2             100                         6  \n",
       "3             100                         6  \n",
       "4             100                         6  "
      ]
     },
     "execution_count": 11,
     "metadata": {},
     "output_type": "execute_result"
    }
   ],
   "source": [
    "myDF.head()"
   ]
  },
  {
   "cell_type": "code",
   "execution_count": 12,
   "id": "36e07158-e394-49ec-a383-a38dc514c184",
   "metadata": {},
   "outputs": [
    {
     "data": {
      "text/plain": [
       "Id                                  11\n",
       "ResidentStatus                       1\n",
       "Education1989Revision                0\n",
       "Education2003Revision                3\n",
       "EducationReportingFlag               1\n",
       "MonthOfDeath                         1\n",
       "Sex                                  F\n",
       "AgeType                              1\n",
       "Age                                 79\n",
       "AgeSubstitutionFlag                  0\n",
       "AgeRecode52                         41\n",
       "AgeRecode27                         21\n",
       "AgeRecode12                         10\n",
       "InfantAgeRecode22                    0\n",
       "PlaceOfDeathAndDecedentsStatus       6\n",
       "MaritalStatus                        W\n",
       "DayOfWeekOfDeath                     2\n",
       "CurrentDataYear                   2014\n",
       "InjuryAtWork                         U\n",
       "MannerOfDeath                        7\n",
       "MethodOfDisposition                  C\n",
       "Autopsy                              N\n",
       "ActivityCode                        99\n",
       "PlaceOfInjury                       99\n",
       "Icd10Code                         I350\n",
       "CauseRecode358                     225\n",
       "CauseRecode113                      68\n",
       "InfantCauseRecode130                 0\n",
       "CauseRecode39                       22\n",
       "NumberOfEntityAxisConditions         2\n",
       "NumberOfRecordAxisConditions         2\n",
       "Race                                 1\n",
       "BridgedRaceFlag                      0\n",
       "RaceImputationFlag                   0\n",
       "RaceRecode3                          1\n",
       "RaceRecode5                          1\n",
       "HispanicOrigin                     100\n",
       "HispanicOriginRaceRecode             6\n",
       "Name: 10, dtype: object"
      ]
     },
     "execution_count": 12,
     "metadata": {},
     "output_type": "execute_result"
    }
   ],
   "source": [
    "myDF.iloc[10,]"
   ]
  },
  {
   "cell_type": "code",
   "execution_count": 13,
   "id": "c26d7c78-9683-485b-87d8-3bf45951a9e0",
   "metadata": {},
   "outputs": [
    {
     "data": {
      "text/html": [
       "<div>\n",
       "<style scoped>\n",
       "    .dataframe tbody tr th:only-of-type {\n",
       "        vertical-align: middle;\n",
       "    }\n",
       "\n",
       "    .dataframe tbody tr th {\n",
       "        vertical-align: top;\n",
       "    }\n",
       "\n",
       "    .dataframe thead th {\n",
       "        text-align: right;\n",
       "    }\n",
       "</style>\n",
       "<table border=\"1\" class=\"dataframe\">\n",
       "  <thead>\n",
       "    <tr style=\"text-align: right;\">\n",
       "      <th></th>\n",
       "      <th>Id</th>\n",
       "      <th>ResidentStatus</th>\n",
       "      <th>Education1989Revision</th>\n",
       "      <th>Education2003Revision</th>\n",
       "      <th>EducationReportingFlag</th>\n",
       "      <th>MonthOfDeath</th>\n",
       "      <th>Sex</th>\n",
       "      <th>AgeType</th>\n",
       "      <th>Age</th>\n",
       "      <th>AgeSubstitutionFlag</th>\n",
       "      <th>AgeRecode52</th>\n",
       "      <th>AgeRecode27</th>\n",
       "      <th>AgeRecode12</th>\n",
       "      <th>InfantAgeRecode22</th>\n",
       "      <th>PlaceOfDeathAndDecedentsStatus</th>\n",
       "      <th>MaritalStatus</th>\n",
       "      <th>DayOfWeekOfDeath</th>\n",
       "      <th>CurrentDataYear</th>\n",
       "      <th>InjuryAtWork</th>\n",
       "      <th>MannerOfDeath</th>\n",
       "      <th>MethodOfDisposition</th>\n",
       "      <th>Autopsy</th>\n",
       "      <th>ActivityCode</th>\n",
       "      <th>PlaceOfInjury</th>\n",
       "      <th>Icd10Code</th>\n",
       "      <th>CauseRecode358</th>\n",
       "      <th>CauseRecode113</th>\n",
       "      <th>InfantCauseRecode130</th>\n",
       "      <th>CauseRecode39</th>\n",
       "      <th>NumberOfEntityAxisConditions</th>\n",
       "      <th>NumberOfRecordAxisConditions</th>\n",
       "      <th>Race</th>\n",
       "      <th>BridgedRaceFlag</th>\n",
       "      <th>RaceImputationFlag</th>\n",
       "      <th>RaceRecode3</th>\n",
       "      <th>RaceRecode5</th>\n",
       "      <th>HispanicOrigin</th>\n",
       "      <th>HispanicOriginRaceRecode</th>\n",
       "    </tr>\n",
       "  </thead>\n",
       "  <tbody>\n",
       "    <tr>\n",
       "      <th>2631166</th>\n",
       "      <td>2631167</td>\n",
       "      <td>3</td>\n",
       "      <td>0</td>\n",
       "      <td>6</td>\n",
       "      <td>1</td>\n",
       "      <td>12</td>\n",
       "      <td>M</td>\n",
       "      <td>1</td>\n",
       "      <td>84</td>\n",
       "      <td>0</td>\n",
       "      <td>42</td>\n",
       "      <td>22</td>\n",
       "      <td>10</td>\n",
       "      <td>0</td>\n",
       "      <td>6</td>\n",
       "      <td>S</td>\n",
       "      <td>2</td>\n",
       "      <td>2014</td>\n",
       "      <td>U</td>\n",
       "      <td>7</td>\n",
       "      <td>B</td>\n",
       "      <td>N</td>\n",
       "      <td>99</td>\n",
       "      <td>99</td>\n",
       "      <td>I119</td>\n",
       "      <td>207</td>\n",
       "      <td>56</td>\n",
       "      <td>0</td>\n",
       "      <td>20</td>\n",
       "      <td>4</td>\n",
       "      <td>4</td>\n",
       "      <td>1</td>\n",
       "      <td>0</td>\n",
       "      <td>0</td>\n",
       "      <td>1</td>\n",
       "      <td>1</td>\n",
       "      <td>100</td>\n",
       "      <td>6</td>\n",
       "    </tr>\n",
       "    <tr>\n",
       "      <th>2631167</th>\n",
       "      <td>2631168</td>\n",
       "      <td>3</td>\n",
       "      <td>0</td>\n",
       "      <td>9</td>\n",
       "      <td>1</td>\n",
       "      <td>12</td>\n",
       "      <td>F</td>\n",
       "      <td>1</td>\n",
       "      <td>74</td>\n",
       "      <td>0</td>\n",
       "      <td>40</td>\n",
       "      <td>20</td>\n",
       "      <td>9</td>\n",
       "      <td>0</td>\n",
       "      <td>6</td>\n",
       "      <td>S</td>\n",
       "      <td>7</td>\n",
       "      <td>2014</td>\n",
       "      <td>U</td>\n",
       "      <td>7</td>\n",
       "      <td>B</td>\n",
       "      <td>N</td>\n",
       "      <td>99</td>\n",
       "      <td>99</td>\n",
       "      <td>I251</td>\n",
       "      <td>215</td>\n",
       "      <td>63</td>\n",
       "      <td>0</td>\n",
       "      <td>21</td>\n",
       "      <td>2</td>\n",
       "      <td>2</td>\n",
       "      <td>1</td>\n",
       "      <td>0</td>\n",
       "      <td>1</td>\n",
       "      <td>1</td>\n",
       "      <td>1</td>\n",
       "      <td>998</td>\n",
       "      <td>9</td>\n",
       "    </tr>\n",
       "    <tr>\n",
       "      <th>2631168</th>\n",
       "      <td>2631169</td>\n",
       "      <td>3</td>\n",
       "      <td>0</td>\n",
       "      <td>1</td>\n",
       "      <td>1</td>\n",
       "      <td>12</td>\n",
       "      <td>M</td>\n",
       "      <td>6</td>\n",
       "      <td>7</td>\n",
       "      <td>0</td>\n",
       "      <td>1</td>\n",
       "      <td>1</td>\n",
       "      <td>1</td>\n",
       "      <td>1</td>\n",
       "      <td>1</td>\n",
       "      <td>S</td>\n",
       "      <td>4</td>\n",
       "      <td>2014</td>\n",
       "      <td>U</td>\n",
       "      <td>7</td>\n",
       "      <td>B</td>\n",
       "      <td>Y</td>\n",
       "      <td>99</td>\n",
       "      <td>99</td>\n",
       "      <td>P072</td>\n",
       "      <td>358</td>\n",
       "      <td>108</td>\n",
       "      <td>89</td>\n",
       "      <td>33</td>\n",
       "      <td>2</td>\n",
       "      <td>1</td>\n",
       "      <td>1</td>\n",
       "      <td>0</td>\n",
       "      <td>1</td>\n",
       "      <td>1</td>\n",
       "      <td>1</td>\n",
       "      <td>998</td>\n",
       "      <td>9</td>\n",
       "    </tr>\n",
       "    <tr>\n",
       "      <th>2631169</th>\n",
       "      <td>2631170</td>\n",
       "      <td>4</td>\n",
       "      <td>0</td>\n",
       "      <td>9</td>\n",
       "      <td>1</td>\n",
       "      <td>2</td>\n",
       "      <td>M</td>\n",
       "      <td>1</td>\n",
       "      <td>49</td>\n",
       "      <td>0</td>\n",
       "      <td>35</td>\n",
       "      <td>15</td>\n",
       "      <td>7</td>\n",
       "      <td>0</td>\n",
       "      <td>1</td>\n",
       "      <td>U</td>\n",
       "      <td>1</td>\n",
       "      <td>2014</td>\n",
       "      <td>U</td>\n",
       "      <td>7</td>\n",
       "      <td>O</td>\n",
       "      <td>N</td>\n",
       "      <td>99</td>\n",
       "      <td>99</td>\n",
       "      <td>I250</td>\n",
       "      <td>214</td>\n",
       "      <td>62</td>\n",
       "      <td>0</td>\n",
       "      <td>21</td>\n",
       "      <td>5</td>\n",
       "      <td>5</td>\n",
       "      <td>2</td>\n",
       "      <td>0</td>\n",
       "      <td>0</td>\n",
       "      <td>3</td>\n",
       "      <td>2</td>\n",
       "      <td>998</td>\n",
       "      <td>9</td>\n",
       "    </tr>\n",
       "    <tr>\n",
       "      <th>2631170</th>\n",
       "      <td>2631171</td>\n",
       "      <td>3</td>\n",
       "      <td>0</td>\n",
       "      <td>1</td>\n",
       "      <td>1</td>\n",
       "      <td>5</td>\n",
       "      <td>M</td>\n",
       "      <td>6</td>\n",
       "      <td>39</td>\n",
       "      <td>0</td>\n",
       "      <td>1</td>\n",
       "      <td>1</td>\n",
       "      <td>1</td>\n",
       "      <td>1</td>\n",
       "      <td>1</td>\n",
       "      <td>S</td>\n",
       "      <td>2</td>\n",
       "      <td>2014</td>\n",
       "      <td>U</td>\n",
       "      <td>7</td>\n",
       "      <td>O</td>\n",
       "      <td>N</td>\n",
       "      <td>99</td>\n",
       "      <td>99</td>\n",
       "      <td>P291</td>\n",
       "      <td>364</td>\n",
       "      <td>108</td>\n",
       "      <td>117</td>\n",
       "      <td>33</td>\n",
       "      <td>2</td>\n",
       "      <td>1</td>\n",
       "      <td>2</td>\n",
       "      <td>0</td>\n",
       "      <td>0</td>\n",
       "      <td>3</td>\n",
       "      <td>2</td>\n",
       "      <td>100</td>\n",
       "      <td>7</td>\n",
       "    </tr>\n",
       "  </tbody>\n",
       "</table>\n",
       "</div>"
      ],
      "text/plain": [
       "              Id  ResidentStatus  Education1989Revision  \\\n",
       "2631166  2631167               3                      0   \n",
       "2631167  2631168               3                      0   \n",
       "2631168  2631169               3                      0   \n",
       "2631169  2631170               4                      0   \n",
       "2631170  2631171               3                      0   \n",
       "\n",
       "         Education2003Revision  EducationReportingFlag  MonthOfDeath Sex  \\\n",
       "2631166                      6                       1            12   M   \n",
       "2631167                      9                       1            12   F   \n",
       "2631168                      1                       1            12   M   \n",
       "2631169                      9                       1             2   M   \n",
       "2631170                      1                       1             5   M   \n",
       "\n",
       "         AgeType  Age  AgeSubstitutionFlag  AgeRecode52  AgeRecode27  \\\n",
       "2631166        1   84                    0           42           22   \n",
       "2631167        1   74                    0           40           20   \n",
       "2631168        6    7                    0            1            1   \n",
       "2631169        1   49                    0           35           15   \n",
       "2631170        6   39                    0            1            1   \n",
       "\n",
       "         AgeRecode12  InfantAgeRecode22  PlaceOfDeathAndDecedentsStatus  \\\n",
       "2631166           10                  0                               6   \n",
       "2631167            9                  0                               6   \n",
       "2631168            1                  1                               1   \n",
       "2631169            7                  0                               1   \n",
       "2631170            1                  1                               1   \n",
       "\n",
       "        MaritalStatus  DayOfWeekOfDeath  CurrentDataYear InjuryAtWork  \\\n",
       "2631166             S                 2             2014            U   \n",
       "2631167             S                 7             2014            U   \n",
       "2631168             S                 4             2014            U   \n",
       "2631169             U                 1             2014            U   \n",
       "2631170             S                 2             2014            U   \n",
       "\n",
       "         MannerOfDeath MethodOfDisposition Autopsy  ActivityCode  \\\n",
       "2631166              7                   B       N            99   \n",
       "2631167              7                   B       N            99   \n",
       "2631168              7                   B       Y            99   \n",
       "2631169              7                   O       N            99   \n",
       "2631170              7                   O       N            99   \n",
       "\n",
       "         PlaceOfInjury Icd10Code  CauseRecode358  CauseRecode113  \\\n",
       "2631166             99      I119             207              56   \n",
       "2631167             99      I251             215              63   \n",
       "2631168             99      P072             358             108   \n",
       "2631169             99      I250             214              62   \n",
       "2631170             99      P291             364             108   \n",
       "\n",
       "         InfantCauseRecode130  CauseRecode39  NumberOfEntityAxisConditions  \\\n",
       "2631166                     0             20                             4   \n",
       "2631167                     0             21                             2   \n",
       "2631168                    89             33                             2   \n",
       "2631169                     0             21                             5   \n",
       "2631170                   117             33                             2   \n",
       "\n",
       "         NumberOfRecordAxisConditions  Race  BridgedRaceFlag  \\\n",
       "2631166                             4     1                0   \n",
       "2631167                             2     1                0   \n",
       "2631168                             1     1                0   \n",
       "2631169                             5     2                0   \n",
       "2631170                             1     2                0   \n",
       "\n",
       "         RaceImputationFlag  RaceRecode3  RaceRecode5  HispanicOrigin  \\\n",
       "2631166                   0            1            1             100   \n",
       "2631167                   1            1            1             998   \n",
       "2631168                   1            1            1             998   \n",
       "2631169                   0            3            2             998   \n",
       "2631170                   0            3            2             100   \n",
       "\n",
       "         HispanicOriginRaceRecode  \n",
       "2631166                         6  \n",
       "2631167                         9  \n",
       "2631168                         9  \n",
       "2631169                         9  \n",
       "2631170                         7  "
      ]
     },
     "execution_count": 13,
     "metadata": {},
     "output_type": "execute_result"
    }
   ],
   "source": [
    "myDF.tail()"
   ]
  },
  {
   "cell_type": "code",
   "execution_count": 14,
   "id": "33e65424-cad3-4fbb-b0ff-b19093a7d1fb",
   "metadata": {},
   "outputs": [
    {
     "data": {
      "text/plain": [
       "(2631171, 38)"
      ]
     },
     "execution_count": 14,
     "metadata": {},
     "output_type": "execute_result"
    }
   ],
   "source": [
    "myDF.shape"
   ]
  },
  {
   "cell_type": "code",
   "execution_count": 15,
   "id": "a5d33631-7d99-40fa-8403-479a2f8c16e0",
   "metadata": {},
   "outputs": [
    {
     "data": {
      "text/plain": [
       "Index(['Id', 'ResidentStatus', 'Education1989Revision',\n",
       "       'Education2003Revision', 'EducationReportingFlag', 'MonthOfDeath',\n",
       "       'Sex', 'AgeType', 'Age', 'AgeSubstitutionFlag', 'AgeRecode52',\n",
       "       'AgeRecode27', 'AgeRecode12', 'InfantAgeRecode22',\n",
       "       'PlaceOfDeathAndDecedentsStatus', 'MaritalStatus', 'DayOfWeekOfDeath',\n",
       "       'CurrentDataYear', 'InjuryAtWork', 'MannerOfDeath',\n",
       "       'MethodOfDisposition', 'Autopsy', 'ActivityCode', 'PlaceOfInjury',\n",
       "       'Icd10Code', 'CauseRecode358', 'CauseRecode113', 'InfantCauseRecode130',\n",
       "       'CauseRecode39', 'NumberOfEntityAxisConditions',\n",
       "       'NumberOfRecordAxisConditions', 'Race', 'BridgedRaceFlag',\n",
       "       'RaceImputationFlag', 'RaceRecode3', 'RaceRecode5', 'HispanicOrigin',\n",
       "       'HispanicOriginRaceRecode'],\n",
       "      dtype='object')"
      ]
     },
     "execution_count": 15,
     "metadata": {},
     "output_type": "execute_result"
    }
   ],
   "source": [
    "myDF.columns"
   ]
  },
  {
   "cell_type": "markdown",
   "id": "8e586edd-ff26-4ce2-8f6b-2424b26f2929",
   "metadata": {},
   "source": [
    "## Question 3"
   ]
  },
  {
   "cell_type": "code",
   "execution_count": 17,
   "id": "bbe0f40d-9655-4653-9ca8-886bdb61cb91",
   "metadata": {},
   "outputs": [
    {
     "data": {
      "text/plain": [
       "2325365"
      ]
     },
     "execution_count": 17,
     "metadata": {},
     "output_type": "execute_result"
    }
   ],
   "source": [
    "len(myDF['Age'][myDF['Age'] > 52])"
   ]
  },
  {
   "cell_type": "code",
   "execution_count": 18,
   "id": "c209fd90-413b-4131-9c7a-b777f5e2cc83",
   "metadata": {},
   "outputs": [
    {
     "data": {
      "text/plain": [
       "M    1331461\n",
       "F    1299710\n",
       "Name: Sex, dtype: int64"
      ]
     },
     "execution_count": 18,
     "metadata": {},
     "output_type": "execute_result"
    }
   ],
   "source": [
    "myDF['Sex'].value_counts()"
   ]
  },
  {
   "cell_type": "code",
   "execution_count": 20,
   "id": "6cfe98fa-8ce2-4c21-a908-26831767e30c",
   "metadata": {},
   "outputs": [
    {
     "data": {
      "text/plain": [
       "1186206"
      ]
     },
     "execution_count": 20,
     "metadata": {},
     "output_type": "execute_result"
    }
   ],
   "source": [
    "len(myDF['Sex'][ (myDF['Age'] > 52) & (myDF['Sex'] == 'F')])"
   ]
  },
  {
   "cell_type": "markdown",
   "id": "47c6229f-35f7-400c-8366-c442baa5cf47",
   "metadata": {},
   "source": [
    "a. There are 2325365 people over the age of 52 in this list.\n",
    "\n",
    "b. There are 1331461 males and 1299710 females.\n",
    "\n",
    "c. There are 1186206 females over the age of 70."
   ]
  },
  {
   "cell_type": "markdown",
   "id": "da22f29c-d245-4d2b-9fc1-ca14cb6087d9",
   "metadata": {},
   "source": [
    "## Question 4"
   ]
  },
  {
   "cell_type": "code",
   "execution_count": 21,
   "id": "8cffc767-d1c8-4d64-b7dc-f0d2ee8a80d1",
   "metadata": {},
   "outputs": [],
   "source": [
    "import matplotlib.pyplot as plt"
   ]
  },
  {
   "cell_type": "code",
   "execution_count": 22,
   "id": "6a472502-fd7f-45ab-af62-859095b7db34",
   "metadata": {},
   "outputs": [],
   "source": [
    "mydata = myDF['MaritalStatus'].value_counts()"
   ]
  },
  {
   "cell_type": "code",
   "execution_count": 23,
   "id": "f9f1cc48-a1c3-4f5f-9cc0-d2b638b6442d",
   "metadata": {},
   "outputs": [
    {
     "data": {
      "text/plain": [
       "M    980016\n",
       "W    898440\n",
       "D    400959\n",
       "S    333043\n",
       "U     18713\n",
       "Name: MaritalStatus, dtype: int64"
      ]
     },
     "execution_count": 23,
     "metadata": {},
     "output_type": "execute_result"
    }
   ],
   "source": [
    "mydata"
   ]
  },
  {
   "cell_type": "code",
   "execution_count": 24,
   "id": "d124018c-5b09-414a-bdea-f15f6845b0a0",
   "metadata": {},
   "outputs": [
    {
     "data": {
      "text/plain": [
       "<BarContainer object of 5 artists>"
      ]
     },
     "execution_count": 24,
     "metadata": {},
     "output_type": "execute_result"
    },
    {
     "data": {
      "image/png": "[encoded data removed]",
      "text/plain": [
       "<Figure size 432x288 with 1 Axes>"
      ]
     },
     "metadata": {
      "needs_background": "light"
     },
     "output_type": "display_data"
    }
   ],
   "source": [
    "plt.bar(mydata.index, mydata)"
   ]
  },
  {
   "cell_type": "code",
   "execution_count": 29,
   "id": "ea9f9f9e-0a9a-47bc-be80-8382947c16c7",
   "metadata": {},
   "outputs": [],
   "source": [
    "mydata2 = myDF['Age'][myDF['Age'] < 999].value_counts()"
   ]
  },
  {
   "cell_type": "code",
   "execution_count": 30,
   "id": "212c402d-f39e-44a4-b846-c283ece8bbe2",
   "metadata": {},
   "outputs": [
    {
     "data": {
      "text/plain": [
       "<BarContainer object of 116 artists>"
      ]
     },
     "execution_count": 30,
     "metadata": {},
     "output_type": "execute_result"
    },
    {
     "data": {
      "image/png": "[encoded data removed]",
      "text/plain": [
       "<Figure size 432x288 with 1 Axes>"
      ]
     },
     "metadata": {
      "needs_background": "light"
     },
     "output_type": "display_data"
    }
   ],
   "source": [
    "plt.bar(mydata2.index, mydata2)"
   ]
  },
  {
   "cell_type": "markdown",
   "id": "88c9cdac-3e92-498f-83fa-e089bfc44ac8",
   "metadata": {},
   "source": [
    "## Question 5"
   ]
  },
  {
   "cell_type": "code",
   "execution_count": 31,
   "id": "d370d7c9-06db-42b9-b75f-240481a5c491",
   "metadata": {},
   "outputs": [],
   "source": [
    "mydata3 = myDF['MonthOfDeath'].value_counts()"
   ]
  },
  {
   "cell_type": "code",
   "execution_count": 33,
   "id": "9007097a-5139-49ad-b01e-8d47e51cb79d",
   "metadata": {},
   "outputs": [
    {
     "data": {
      "text/plain": [
       "<BarContainer object of 12 artists>"
      ]
     },
     "execution_count": 33,
     "metadata": {},
     "output_type": "execute_result"
    },
    {
     "data": {
      "image/png": "[encoded data removed]",
      "text/plain": [
       "<Figure size 432x288 with 1 Axes>"
      ]
     },
     "metadata": {
      "needs_background": "light"
     },
     "output_type": "display_data"
    }
   ],
   "source": [
    "plt.bar(mydata3.index, mydata3)"
   ]
  },
  {
   "cell_type": "markdown",
   "id": "f76442d6-d02e-4f26-b9d6-c3183e1d6929",
   "metadata": {},
   "source": [
    "## Pledge\n",
    "\n",
    "By submitting this work I hereby pledge that this is my own, personal work. I've acknowledged in the designated place at the top of this file all sources that I used to complete said work, including but not limited to: online resources, books, and electronic communications. I've noted all collaboration with fellow students and/or TA's. I did not copy or plagiarize another's work.\n",
    "\n",
    "> As a Boilermaker pursuing academic excellence, I pledge to be honest and true in all that I do. Accountable together – We are Purdue."
   ]
  }
 ],
 "metadata": {
  "kernelspec": {
   "display_name": "f2022-s2023",
   "language": "python",
   "name": "f2022-s2023"
  },
  "language_info": {
   "codemirror_mode": {
    "name": "ipython",
    "version": 3
   },
   "file_extension": ".py",
   "mimetype": "text/x-python",
   "name": "python",
   "nbconvert_exporter": "python",
   "pygments_lexer": "ipython3",
   "version": "3.10.7"
  }
 },
 "nbformat": 4,
 "nbformat_minor": 5
}
