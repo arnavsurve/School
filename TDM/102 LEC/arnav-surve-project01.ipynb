{
 "cells": [
  {
   "cell_type": "markdown",
   "id": "be02a957-7133-4d02-818e-fedeb3cecb05",
   "metadata": {},
   "source": [
    "# Project 1 -- Arnav Surve"
   ]
  },
  {
   "cell_type": "markdown",
   "id": "a1228853-dd19-4ab2-89e0-0394d7d72de3",
   "metadata": {},
   "source": [
    "**TA Help:** N/A\n",
    "\n",
    "**Collaboration:** N/A"
   ]
  },
  {
   "cell_type": "markdown",
   "id": "6180e742-8e39-4698-98ff-5b00c8cf8ea0",
   "metadata": {
    "tags": []
   },
   "source": [
    "## Question 1"
   ]
  },
  {
   "cell_type": "code",
   "execution_count": 1,
   "id": "49445606-d363-41b4-b479-e319a9a84c01",
   "metadata": {},
   "outputs": [
    {
     "name": "stdout",
     "output_type": "stream",
     "text": [
      "17\n"
     ]
    }
   ],
   "source": [
    "# Print the sum of 7 and 10\n",
    "print(7+10)"
   ]
  },
  {
   "cell_type": "markdown",
   "id": "fc601975-35ed-4680-a4e1-0273ee3cc047",
   "metadata": {},
   "source": [
    "## Question 2"
   ]
  },
  {
   "cell_type": "code",
   "execution_count": 2,
   "id": "a16336a1-1ef0-41e8-bc7c-49387db27497",
   "metadata": {},
   "outputs": [
    {
     "name": "stdout",
     "output_type": "stream",
     "text": [
      "48\n"
     ]
    }
   ],
   "source": [
    "x = 6\n",
    "y = 8\n",
    "z = x * y\n",
    "print(z)"
   ]
  },
  {
   "cell_type": "code",
   "execution_count": 4,
   "id": "eee90d13-0f2a-4c02-b63c-7b583f5ed656",
   "metadata": {},
   "outputs": [],
   "source": [
    "x = z = y = \"peanutbutter\""
   ]
  },
  {
   "cell_type": "code",
   "execution_count": 6,
   "id": "8b152570-7db2-4fdc-a6ae-5db3a356b19d",
   "metadata": {},
   "outputs": [],
   "source": [
    "club_sandwich = [\"bread\", \"sliced chicken\", \"bacon\", \"lettuce\", \"tomato\", \"mayonnaise\"]"
   ]
  },
  {
   "cell_type": "markdown",
   "id": "14dc22d4-ddc3-41cc-a91a-cb0025bc0c80",
   "metadata": {},
   "source": [
    "Markdown notes and sentences and analysis written here."
   ]
  },
  {
   "cell_type": "markdown",
   "id": "8e586edd-ff26-4ce2-8f6b-2424b26f2929",
   "metadata": {},
   "source": [
    "## Question 3"
   ]
  },
  {
   "cell_type": "markdown",
   "id": "47c6229f-35f7-400c-8366-c442baa5cf47",
   "metadata": {},
   "source": [
    "There are 13 markdown cells and 5 code cells in the default template."
   ]
  },
  {
   "cell_type": "markdown",
   "id": "da22f29c-d245-4d2b-9fc1-ca14cb6087d9",
   "metadata": {},
   "source": [
    "## Question 4"
   ]
  },
  {
   "cell_type": "code",
   "execution_count": 9,
   "id": "8cffc767-d1c8-4d64-b7dc-f0d2ee8a80d1",
   "metadata": {},
   "outputs": [],
   "source": [
    "import pandas as pd"
   ]
  },
  {
   "cell_type": "code",
   "execution_count": 11,
   "id": "5f16b069-901b-41f7-ba41-8d6d94ba31a1",
   "metadata": {},
   "outputs": [
    {
     "data": {
      "text/html": [
       "<div>\n",
       "<style scoped>\n",
       "    .dataframe tbody tr th:only-of-type {\n",
       "        vertical-align: middle;\n",
       "    }\n",
       "\n",
       "    .dataframe tbody tr th {\n",
       "        vertical-align: top;\n",
       "    }\n",
       "\n",
       "    .dataframe thead th {\n",
       "        text-align: right;\n",
       "    }\n",
       "</style>\n",
       "<table border=\"1\" class=\"dataframe\">\n",
       "  <thead>\n",
       "    <tr style=\"text-align: right;\">\n",
       "      <th></th>\n",
       "      <th>date</th>\n",
       "      <th>datetime</th>\n",
       "      <th>SACTMIN</th>\n",
       "      <th>SPOSTMIN</th>\n",
       "    </tr>\n",
       "  </thead>\n",
       "  <tbody>\n",
       "    <tr>\n",
       "      <th>0</th>\n",
       "      <td>05/26/2017</td>\n",
       "      <td>2017-05-26 09:06:38</td>\n",
       "      <td>NaN</td>\n",
       "      <td>-999.0</td>\n",
       "    </tr>\n",
       "    <tr>\n",
       "      <th>1</th>\n",
       "      <td>05/26/2017</td>\n",
       "      <td>2017-05-26 09:10:11</td>\n",
       "      <td>47.0</td>\n",
       "      <td>NaN</td>\n",
       "    </tr>\n",
       "    <tr>\n",
       "      <th>2</th>\n",
       "      <td>05/26/2017</td>\n",
       "      <td>2017-05-26 09:10:12</td>\n",
       "      <td>NaN</td>\n",
       "      <td>5.0</td>\n",
       "    </tr>\n",
       "    <tr>\n",
       "      <th>3</th>\n",
       "      <td>05/26/2017</td>\n",
       "      <td>2017-05-26 09:17:09</td>\n",
       "      <td>NaN</td>\n",
       "      <td>60.0</td>\n",
       "    </tr>\n",
       "    <tr>\n",
       "      <th>4</th>\n",
       "      <td>05/26/2017</td>\n",
       "      <td>2017-05-26 09:24:07</td>\n",
       "      <td>NaN</td>\n",
       "      <td>60.0</td>\n",
       "    </tr>\n",
       "    <tr>\n",
       "      <th>...</th>\n",
       "      <td>...</td>\n",
       "      <td>...</td>\n",
       "      <td>...</td>\n",
       "      <td>...</td>\n",
       "    </tr>\n",
       "    <tr>\n",
       "      <th>184813</th>\n",
       "      <td>12/28/2021</td>\n",
       "      <td>2021-12-28 19:35:47</td>\n",
       "      <td>NaN</td>\n",
       "      <td>90.0</td>\n",
       "    </tr>\n",
       "    <tr>\n",
       "      <th>184814</th>\n",
       "      <td>12/28/2021</td>\n",
       "      <td>2021-12-28 19:42:15</td>\n",
       "      <td>NaN</td>\n",
       "      <td>90.0</td>\n",
       "    </tr>\n",
       "    <tr>\n",
       "      <th>184815</th>\n",
       "      <td>12/28/2021</td>\n",
       "      <td>2021-12-28 19:48:15</td>\n",
       "      <td>NaN</td>\n",
       "      <td>90.0</td>\n",
       "    </tr>\n",
       "    <tr>\n",
       "      <th>184816</th>\n",
       "      <td>12/28/2021</td>\n",
       "      <td>2021-12-28 19:54:10</td>\n",
       "      <td>NaN</td>\n",
       "      <td>90.0</td>\n",
       "    </tr>\n",
       "    <tr>\n",
       "      <th>184817</th>\n",
       "      <td>12/28/2021</td>\n",
       "      <td>2021-12-28 19:58:35</td>\n",
       "      <td>NaN</td>\n",
       "      <td>80.0</td>\n",
       "    </tr>\n",
       "  </tbody>\n",
       "</table>\n",
       "<p>184818 rows × 4 columns</p>\n",
       "</div>"
      ],
      "text/plain": [
       "              date             datetime  SACTMIN  SPOSTMIN\n",
       "0       05/26/2017  2017-05-26 09:06:38      NaN    -999.0\n",
       "1       05/26/2017  2017-05-26 09:10:11     47.0       NaN\n",
       "2       05/26/2017  2017-05-26 09:10:12      NaN       5.0\n",
       "3       05/26/2017  2017-05-26 09:17:09      NaN      60.0\n",
       "4       05/26/2017  2017-05-26 09:24:07      NaN      60.0\n",
       "...            ...                  ...      ...       ...\n",
       "184813  12/28/2021  2021-12-28 19:35:47      NaN      90.0\n",
       "184814  12/28/2021  2021-12-28 19:42:15      NaN      90.0\n",
       "184815  12/28/2021  2021-12-28 19:48:15      NaN      90.0\n",
       "184816  12/28/2021  2021-12-28 19:54:10      NaN      90.0\n",
       "184817  12/28/2021  2021-12-28 19:58:35      NaN      80.0\n",
       "\n",
       "[184818 rows x 4 columns]"
      ]
     },
     "execution_count": 11,
     "metadata": {},
     "output_type": "execute_result"
    }
   ],
   "source": [
    "disney = pd.read_csv(\"/anvil/projects/tdm/data/disney/flight_of_passage.csv\")\n",
    "disney"
   ]
  },
  {
   "cell_type": "code",
   "execution_count": 12,
   "id": "ad966ba8-c6b5-482c-b881-a182bb9c9b6f",
   "metadata": {},
   "outputs": [
    {
     "data": {
      "text/html": [
       "<div>\n",
       "<style scoped>\n",
       "    .dataframe tbody tr th:only-of-type {\n",
       "        vertical-align: middle;\n",
       "    }\n",
       "\n",
       "    .dataframe tbody tr th {\n",
       "        vertical-align: top;\n",
       "    }\n",
       "\n",
       "    .dataframe thead th {\n",
       "        text-align: right;\n",
       "    }\n",
       "</style>\n",
       "<table border=\"1\" class=\"dataframe\">\n",
       "  <thead>\n",
       "    <tr style=\"text-align: right;\">\n",
       "      <th></th>\n",
       "      <th>date</th>\n",
       "      <th>datetime</th>\n",
       "      <th>SACTMIN</th>\n",
       "      <th>SPOSTMIN</th>\n",
       "    </tr>\n",
       "  </thead>\n",
       "  <tbody>\n",
       "    <tr>\n",
       "      <th>0</th>\n",
       "      <td>05/26/2017</td>\n",
       "      <td>2017-05-26 09:06:38</td>\n",
       "      <td>NaN</td>\n",
       "      <td>-999.0</td>\n",
       "    </tr>\n",
       "    <tr>\n",
       "      <th>1</th>\n",
       "      <td>05/26/2017</td>\n",
       "      <td>2017-05-26 09:10:11</td>\n",
       "      <td>47.0</td>\n",
       "      <td>NaN</td>\n",
       "    </tr>\n",
       "    <tr>\n",
       "      <th>2</th>\n",
       "      <td>05/26/2017</td>\n",
       "      <td>2017-05-26 09:10:12</td>\n",
       "      <td>NaN</td>\n",
       "      <td>5.0</td>\n",
       "    </tr>\n",
       "    <tr>\n",
       "      <th>3</th>\n",
       "      <td>05/26/2017</td>\n",
       "      <td>2017-05-26 09:17:09</td>\n",
       "      <td>NaN</td>\n",
       "      <td>60.0</td>\n",
       "    </tr>\n",
       "    <tr>\n",
       "      <th>4</th>\n",
       "      <td>05/26/2017</td>\n",
       "      <td>2017-05-26 09:24:07</td>\n",
       "      <td>NaN</td>\n",
       "      <td>60.0</td>\n",
       "    </tr>\n",
       "  </tbody>\n",
       "</table>\n",
       "</div>"
      ],
      "text/plain": [
       "         date             datetime  SACTMIN  SPOSTMIN\n",
       "0  05/26/2017  2017-05-26 09:06:38      NaN    -999.0\n",
       "1  05/26/2017  2017-05-26 09:10:11     47.0       NaN\n",
       "2  05/26/2017  2017-05-26 09:10:12      NaN       5.0\n",
       "3  05/26/2017  2017-05-26 09:17:09      NaN      60.0\n",
       "4  05/26/2017  2017-05-26 09:24:07      NaN      60.0"
      ]
     },
     "execution_count": 12,
     "metadata": {},
     "output_type": "execute_result"
    }
   ],
   "source": [
    "disney.head()"
   ]
  },
  {
   "cell_type": "code",
   "execution_count": 13,
   "id": "6bb72b62-4262-4908-8cf7-373a3c29d885",
   "metadata": {},
   "outputs": [
    {
     "data": {
      "text/html": [
       "<div>\n",
       "<style scoped>\n",
       "    .dataframe tbody tr th:only-of-type {\n",
       "        vertical-align: middle;\n",
       "    }\n",
       "\n",
       "    .dataframe tbody tr th {\n",
       "        vertical-align: top;\n",
       "    }\n",
       "\n",
       "    .dataframe thead th {\n",
       "        text-align: right;\n",
       "    }\n",
       "</style>\n",
       "<table border=\"1\" class=\"dataframe\">\n",
       "  <thead>\n",
       "    <tr style=\"text-align: right;\">\n",
       "      <th></th>\n",
       "      <th>date</th>\n",
       "      <th>datetime</th>\n",
       "      <th>SACTMIN</th>\n",
       "      <th>SPOSTMIN</th>\n",
       "    </tr>\n",
       "  </thead>\n",
       "  <tbody>\n",
       "    <tr>\n",
       "      <th>184813</th>\n",
       "      <td>12/28/2021</td>\n",
       "      <td>2021-12-28 19:35:47</td>\n",
       "      <td>NaN</td>\n",
       "      <td>90.0</td>\n",
       "    </tr>\n",
       "    <tr>\n",
       "      <th>184814</th>\n",
       "      <td>12/28/2021</td>\n",
       "      <td>2021-12-28 19:42:15</td>\n",
       "      <td>NaN</td>\n",
       "      <td>90.0</td>\n",
       "    </tr>\n",
       "    <tr>\n",
       "      <th>184815</th>\n",
       "      <td>12/28/2021</td>\n",
       "      <td>2021-12-28 19:48:15</td>\n",
       "      <td>NaN</td>\n",
       "      <td>90.0</td>\n",
       "    </tr>\n",
       "    <tr>\n",
       "      <th>184816</th>\n",
       "      <td>12/28/2021</td>\n",
       "      <td>2021-12-28 19:54:10</td>\n",
       "      <td>NaN</td>\n",
       "      <td>90.0</td>\n",
       "    </tr>\n",
       "    <tr>\n",
       "      <th>184817</th>\n",
       "      <td>12/28/2021</td>\n",
       "      <td>2021-12-28 19:58:35</td>\n",
       "      <td>NaN</td>\n",
       "      <td>80.0</td>\n",
       "    </tr>\n",
       "  </tbody>\n",
       "</table>\n",
       "</div>"
      ],
      "text/plain": [
       "              date             datetime  SACTMIN  SPOSTMIN\n",
       "184813  12/28/2021  2021-12-28 19:35:47      NaN      90.0\n",
       "184814  12/28/2021  2021-12-28 19:42:15      NaN      90.0\n",
       "184815  12/28/2021  2021-12-28 19:48:15      NaN      90.0\n",
       "184816  12/28/2021  2021-12-28 19:54:10      NaN      90.0\n",
       "184817  12/28/2021  2021-12-28 19:58:35      NaN      80.0"
      ]
     },
     "execution_count": 13,
     "metadata": {},
     "output_type": "execute_result"
    }
   ],
   "source": [
    "disney.tail()"
   ]
  },
  {
   "cell_type": "markdown",
   "id": "0d552245-b4d6-474a-9cc9-fa7b8e674d55",
   "metadata": {},
   "source": [
    "There are 184,818 rows and 4 columns in the dataset."
   ]
  },
  {
   "cell_type": "markdown",
   "id": "88c9cdac-3e92-498f-83fa-e089bfc44ac8",
   "metadata": {},
   "source": [
    "## Question 5"
   ]
  },
  {
   "cell_type": "code",
   "execution_count": 14,
   "id": "d370d7c9-06db-42b9-b75f-240481a5c491",
   "metadata": {},
   "outputs": [],
   "source": [
    "# code here"
   ]
  },
  {
   "cell_type": "markdown",
   "id": "9fbf00fb-2418-460f-ae94-2a32b0c28952",
   "metadata": {},
   "source": [
    "Markdown notes and sentences and analysis written here."
   ]
  },
  {
   "cell_type": "markdown",
   "id": "f76442d6-d02e-4f26-b9d6-c3183e1d6929",
   "metadata": {},
   "source": [
    "## Pledge\n",
    "\n",
    "By submitting this work I hereby pledge that this is my own, personal work. I've acknowledged in the designated place at the top of this file all sources that I used to complete said work, including but not limited to: online resources, books, and electronic communications. I've noted all collaboration with fellow students and/or TA's. I did not copy or plagiarize another's work.\n",
    "\n",
    "> As a Boilermaker pursuing academic excellence, I pledge to be honest and true in all that I do. Accountable together – We are Purdue."
   ]
  }
 ],
 "metadata": {
  "kernelspec": {
   "display_name": "f2022-s2023",
   "language": "python",
   "name": "f2022-s2023"
  },
  "language_info": {
   "codemirror_mode": {
    "name": "ipython",
    "version": 3
   },
   "file_extension": ".py",
   "mimetype": "text/x-python",
   "name": "python",
   "nbconvert_exporter": "python",
   "pygments_lexer": "ipython3",
   "version": "3.10.7"
  }
 },
 "nbformat": 4,
 "nbformat_minor": 5
}
