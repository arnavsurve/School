{
 "cells": [
  {
   "cell_type": "markdown",
   "id": "be02a957-7133-4d02-818e-fedeb3cecb05",
   "metadata": {},
   "source": [
    "# Project 7 -- Arnav Surve"
   ]
  },
  {
   "cell_type": "markdown",
   "id": "a1228853-dd19-4ab2-89e0-0394d7d72de3",
   "metadata": {},
   "source": [
    "**TA Help:** N/A\n",
    "    \n",
    "**Collaboration:** N/A"
   ]
  },
  {
   "cell_type": "markdown",
   "id": "6180e742-8e39-4698-98ff-5b00c8cf8ea0",
   "metadata": {},
   "source": [
    "## Question 1"
   ]
  },
  {
   "cell_type": "code",
   "execution_count": 45,
   "id": "49445606-d363-41b4-b479-e319a9a84c01",
   "metadata": {},
   "outputs": [],
   "source": [
    "import pandas as pd\n",
    "pd.set_option('display.max_columns', None)"
   ]
  },
  {
   "cell_type": "code",
   "execution_count": 46,
   "id": "072fb1c5-1d05-4a7d-b41d-e16d60dae8d1",
   "metadata": {},
   "outputs": [],
   "source": [
    "%%bash\n",
    "head -n1 /anvil/projects/tdm/data/flights/subset/1987.csv >~/INDflights.csv\n",
    "grep -h \",IND,\" /anvil/projects/tdm/data/flights/subset/*.csv >>~/INDflights.csv"
   ]
  },
  {
   "cell_type": "code",
   "execution_count": 47,
   "id": "cf148dc2-987b-472c-830e-9aa3c82b41d3",
   "metadata": {},
   "outputs": [
    {
     "name": "stderr",
     "output_type": "stream",
     "text": [
      "/tmp/ipykernel_16/2939217996.py:1: DtypeWarning: Columns (10,22) have mixed types. Specify dtype option on import or set low_memory=False.\n",
      "  myDF = pd.read_csv('~/INDflights.csv')\n"
     ]
    }
   ],
   "source": [
    "myDF = pd.read_csv('~/INDflights.csv')"
   ]
  },
  {
   "cell_type": "code",
   "execution_count": 48,
   "id": "d106875b-6ccb-4a44-93ab-57a6f86469da",
   "metadata": {},
   "outputs": [
    {
     "data": {
      "text/plain": [
       "(1589899, 29)"
      ]
     },
     "execution_count": 48,
     "metadata": {},
     "output_type": "execute_result"
    }
   ],
   "source": [
    "myDF.shape"
   ]
  },
  {
   "cell_type": "code",
   "execution_count": 49,
   "id": "9233f402-fdf7-447a-ac28-3ab47a7af4d5",
   "metadata": {},
   "outputs": [
    {
     "data": {
      "text/plain": [
       "(796496, 29)"
      ]
     },
     "execution_count": 49,
     "metadata": {},
     "output_type": "execute_result"
    }
   ],
   "source": [
    "myDF[myDF['Origin'] == 'IND'].shape"
   ]
  },
  {
   "cell_type": "code",
   "execution_count": 50,
   "id": "5ba23272-afc5-4c06-9629-c7755a897101",
   "metadata": {},
   "outputs": [
    {
     "data": {
      "text/plain": [
       "(793403, 29)"
      ]
     },
     "execution_count": 50,
     "metadata": {},
     "output_type": "execute_result"
    }
   ],
   "source": [
    "myDF[myDF['Dest'] == 'IND'].shape"
   ]
  },
  {
   "cell_type": "markdown",
   "id": "b456e57c-4a12-464b-999a-ef2df5af80c1",
   "metadata": {},
   "source": [
    "a. cell 48\n",
    "\n",
    "b. cell 49\n",
    "\n",
    "c. cell 50"
   ]
  },
  {
   "cell_type": "markdown",
   "id": "fc601975-35ed-4680-a4e1-0273ee3cc047",
   "metadata": {},
   "source": [
    "## Question 2"
   ]
  },
  {
   "cell_type": "code",
   "execution_count": 8,
   "id": "a16336a1-1ef0-41e8-bc7c-49387db27497",
   "metadata": {},
   "outputs": [
    {
     "data": {
      "text/plain": [
       "Series([], Name: Dest, dtype: int64)"
      ]
     },
     "execution_count": 41,
     "metadata": {},
     "output_type": "execute_result"
    }
   ],
   "source": [
    "myDF[myDF['Origin'] == 'IND']['Dest'].value_counts().head(20)"
   ]
  },
  {
   "cell_type": "code",
   "execution_count": 9,
   "id": "f680be55-83b6-44ad-a177-e39fb2ffef4e",
   "metadata": {},
   "outputs": [
    {
     "data": {
      "text/plain": [
       "US    192109\n",
       "NW    119455\n",
       "WN     94232\n",
       "DL     68089\n",
       "UA     62763\n",
       "Name: UniqueCarrier, dtype: int64"
      ]
     },
     "execution_count": 9,
     "metadata": {},
     "output_type": "execute_result"
    }
   ],
   "source": [
    "myDF[myDF['Origin'] == 'IND']['UniqueCarrier'].value_counts().head(5)"
   ]
  },
  {
   "cell_type": "code",
   "execution_count": 51,
   "id": "58f9ffbe-a72f-4604-abdb-e46bfacfdcf6",
   "metadata": {},
   "outputs": [
    {
     "data": {
      "text/html": [
       "<div>\n",
       "<style scoped>\n",
       "    .dataframe tbody tr th:only-of-type {\n",
       "        vertical-align: middle;\n",
       "    }\n",
       "\n",
       "    .dataframe tbody tr th {\n",
       "        vertical-align: top;\n",
       "    }\n",
       "\n",
       "    .dataframe thead th {\n",
       "        text-align: right;\n",
       "    }\n",
       "</style>\n",
       "<table border=\"1\" class=\"dataframe\">\n",
       "  <thead>\n",
       "    <tr style=\"text-align: right;\">\n",
       "      <th></th>\n",
       "      <th>Year</th>\n",
       "      <th>Month</th>\n",
       "      <th>DayofMonth</th>\n",
       "      <th>DayOfWeek</th>\n",
       "      <th>DepTime</th>\n",
       "      <th>CRSDepTime</th>\n",
       "      <th>ArrTime</th>\n",
       "      <th>CRSArrTime</th>\n",
       "      <th>UniqueCarrier</th>\n",
       "      <th>FlightNum</th>\n",
       "      <th>TailNum</th>\n",
       "      <th>ActualElapsedTime</th>\n",
       "      <th>CRSElapsedTime</th>\n",
       "      <th>AirTime</th>\n",
       "      <th>ArrDelay</th>\n",
       "      <th>DepDelay</th>\n",
       "      <th>Origin</th>\n",
       "      <th>Dest</th>\n",
       "      <th>Distance</th>\n",
       "      <th>TaxiIn</th>\n",
       "      <th>TaxiOut</th>\n",
       "      <th>Cancelled</th>\n",
       "      <th>CancellationCode</th>\n",
       "      <th>Diverted</th>\n",
       "      <th>CarrierDelay</th>\n",
       "      <th>WeatherDelay</th>\n",
       "      <th>NASDelay</th>\n",
       "      <th>SecurityDelay</th>\n",
       "      <th>LateAircraftDelay</th>\n",
       "    </tr>\n",
       "  </thead>\n",
       "  <tbody>\n",
       "    <tr>\n",
       "      <th>0</th>\n",
       "      <td>1987</td>\n",
       "      <td>10</td>\n",
       "      <td>1</td>\n",
       "      <td>4</td>\n",
       "      <td>700.0</td>\n",
       "      <td>700</td>\n",
       "      <td>804.0</td>\n",
       "      <td>755</td>\n",
       "      <td>TW</td>\n",
       "      <td>76</td>\n",
       "      <td>NaN</td>\n",
       "      <td>64.0</td>\n",
       "      <td>55.0</td>\n",
       "      <td>NaN</td>\n",
       "      <td>9.0</td>\n",
       "      <td>0.0</td>\n",
       "      <td>STL</td>\n",
       "      <td>IND</td>\n",
       "      <td>229.0</td>\n",
       "      <td>NaN</td>\n",
       "      <td>NaN</td>\n",
       "      <td>0</td>\n",
       "      <td>NaN</td>\n",
       "      <td>0</td>\n",
       "      <td>NaN</td>\n",
       "      <td>NaN</td>\n",
       "      <td>NaN</td>\n",
       "      <td>NaN</td>\n",
       "      <td>NaN</td>\n",
       "    </tr>\n",
       "    <tr>\n",
       "      <th>1</th>\n",
       "      <td>1987</td>\n",
       "      <td>10</td>\n",
       "      <td>2</td>\n",
       "      <td>5</td>\n",
       "      <td>700.0</td>\n",
       "      <td>700</td>\n",
       "      <td>805.0</td>\n",
       "      <td>755</td>\n",
       "      <td>TW</td>\n",
       "      <td>76</td>\n",
       "      <td>NaN</td>\n",
       "      <td>65.0</td>\n",
       "      <td>55.0</td>\n",
       "      <td>NaN</td>\n",
       "      <td>10.0</td>\n",
       "      <td>0.0</td>\n",
       "      <td>STL</td>\n",
       "      <td>IND</td>\n",
       "      <td>229.0</td>\n",
       "      <td>NaN</td>\n",
       "      <td>NaN</td>\n",
       "      <td>0</td>\n",
       "      <td>NaN</td>\n",
       "      <td>0</td>\n",
       "      <td>NaN</td>\n",
       "      <td>NaN</td>\n",
       "      <td>NaN</td>\n",
       "      <td>NaN</td>\n",
       "      <td>NaN</td>\n",
       "    </tr>\n",
       "    <tr>\n",
       "      <th>2</th>\n",
       "      <td>1987</td>\n",
       "      <td>10</td>\n",
       "      <td>3</td>\n",
       "      <td>6</td>\n",
       "      <td>659.0</td>\n",
       "      <td>700</td>\n",
       "      <td>757.0</td>\n",
       "      <td>755</td>\n",
       "      <td>TW</td>\n",
       "      <td>76</td>\n",
       "      <td>NaN</td>\n",
       "      <td>58.0</td>\n",
       "      <td>55.0</td>\n",
       "      <td>NaN</td>\n",
       "      <td>2.0</td>\n",
       "      <td>-1.0</td>\n",
       "      <td>STL</td>\n",
       "      <td>IND</td>\n",
       "      <td>229.0</td>\n",
       "      <td>NaN</td>\n",
       "      <td>NaN</td>\n",
       "      <td>0</td>\n",
       "      <td>NaN</td>\n",
       "      <td>0</td>\n",
       "      <td>NaN</td>\n",
       "      <td>NaN</td>\n",
       "      <td>NaN</td>\n",
       "      <td>NaN</td>\n",
       "      <td>NaN</td>\n",
       "    </tr>\n",
       "    <tr>\n",
       "      <th>3</th>\n",
       "      <td>1987</td>\n",
       "      <td>10</td>\n",
       "      <td>4</td>\n",
       "      <td>7</td>\n",
       "      <td>700.0</td>\n",
       "      <td>700</td>\n",
       "      <td>756.0</td>\n",
       "      <td>755</td>\n",
       "      <td>TW</td>\n",
       "      <td>76</td>\n",
       "      <td>NaN</td>\n",
       "      <td>56.0</td>\n",
       "      <td>55.0</td>\n",
       "      <td>NaN</td>\n",
       "      <td>1.0</td>\n",
       "      <td>0.0</td>\n",
       "      <td>STL</td>\n",
       "      <td>IND</td>\n",
       "      <td>229.0</td>\n",
       "      <td>NaN</td>\n",
       "      <td>NaN</td>\n",
       "      <td>0</td>\n",
       "      <td>NaN</td>\n",
       "      <td>0</td>\n",
       "      <td>NaN</td>\n",
       "      <td>NaN</td>\n",
       "      <td>NaN</td>\n",
       "      <td>NaN</td>\n",
       "      <td>NaN</td>\n",
       "    </tr>\n",
       "    <tr>\n",
       "      <th>4</th>\n",
       "      <td>1987</td>\n",
       "      <td>10</td>\n",
       "      <td>6</td>\n",
       "      <td>2</td>\n",
       "      <td>702.0</td>\n",
       "      <td>700</td>\n",
       "      <td>806.0</td>\n",
       "      <td>755</td>\n",
       "      <td>TW</td>\n",
       "      <td>76</td>\n",
       "      <td>NaN</td>\n",
       "      <td>64.0</td>\n",
       "      <td>55.0</td>\n",
       "      <td>NaN</td>\n",
       "      <td>11.0</td>\n",
       "      <td>2.0</td>\n",
       "      <td>STL</td>\n",
       "      <td>IND</td>\n",
       "      <td>229.0</td>\n",
       "      <td>NaN</td>\n",
       "      <td>NaN</td>\n",
       "      <td>0</td>\n",
       "      <td>NaN</td>\n",
       "      <td>0</td>\n",
       "      <td>NaN</td>\n",
       "      <td>NaN</td>\n",
       "      <td>NaN</td>\n",
       "      <td>NaN</td>\n",
       "      <td>NaN</td>\n",
       "    </tr>\n",
       "  </tbody>\n",
       "</table>\n",
       "</div>"
      ],
      "text/plain": [
       "   Year  Month  DayofMonth  DayOfWeek  DepTime  CRSDepTime  ArrTime  \\\n",
       "0  1987     10           1          4    700.0         700    804.0   \n",
       "1  1987     10           2          5    700.0         700    805.0   \n",
       "2  1987     10           3          6    659.0         700    757.0   \n",
       "3  1987     10           4          7    700.0         700    756.0   \n",
       "4  1987     10           6          2    702.0         700    806.0   \n",
       "\n",
       "   CRSArrTime UniqueCarrier  FlightNum TailNum  ActualElapsedTime  \\\n",
       "0         755            TW         76     NaN               64.0   \n",
       "1         755            TW         76     NaN               65.0   \n",
       "2         755            TW         76     NaN               58.0   \n",
       "3         755            TW         76     NaN               56.0   \n",
       "4         755            TW         76     NaN               64.0   \n",
       "\n",
       "   CRSElapsedTime  AirTime  ArrDelay  DepDelay Origin Dest  Distance  TaxiIn  \\\n",
       "0            55.0      NaN       9.0       0.0    STL  IND     229.0     NaN   \n",
       "1            55.0      NaN      10.0       0.0    STL  IND     229.0     NaN   \n",
       "2            55.0      NaN       2.0      -1.0    STL  IND     229.0     NaN   \n",
       "3            55.0      NaN       1.0       0.0    STL  IND     229.0     NaN   \n",
       "4            55.0      NaN      11.0       2.0    STL  IND     229.0     NaN   \n",
       "\n",
       "   TaxiOut  Cancelled CancellationCode  Diverted  CarrierDelay  WeatherDelay  \\\n",
       "0      NaN          0              NaN         0           NaN           NaN   \n",
       "1      NaN          0              NaN         0           NaN           NaN   \n",
       "2      NaN          0              NaN         0           NaN           NaN   \n",
       "3      NaN          0              NaN         0           NaN           NaN   \n",
       "4      NaN          0              NaN         0           NaN           NaN   \n",
       "\n",
       "   NASDelay  SecurityDelay  LateAircraftDelay  \n",
       "0       NaN            NaN                NaN  \n",
       "1       NaN            NaN                NaN  \n",
       "2       NaN            NaN                NaN  \n",
       "3       NaN            NaN                NaN  \n",
       "4       NaN            NaN                NaN  "
      ]
     },
     "execution_count": 51,
     "metadata": {},
     "output_type": "execute_result"
    }
   ],
   "source": [
    "myDF.head()"
   ]
  },
  {
   "cell_type": "code",
   "execution_count": 11,
   "id": "1610660a-321c-4af7-a61e-04ca3125b1db",
   "metadata": {},
   "outputs": [
    {
     "data": {
      "text/html": [
       "<div>\n",
       "<style scoped>\n",
       "    .dataframe tbody tr th:only-of-type {\n",
       "        vertical-align: middle;\n",
       "    }\n",
       "\n",
       "    .dataframe tbody tr th {\n",
       "        vertical-align: top;\n",
       "    }\n",
       "\n",
       "    .dataframe thead th {\n",
       "        text-align: right;\n",
       "    }\n",
       "</style>\n",
       "<table border=\"1\" class=\"dataframe\">\n",
       "  <thead>\n",
       "    <tr style=\"text-align: right;\">\n",
       "      <th></th>\n",
       "      <th>Year</th>\n",
       "      <th>Month</th>\n",
       "      <th>DayofMonth</th>\n",
       "      <th>DayOfWeek</th>\n",
       "      <th>DepTime</th>\n",
       "      <th>CRSDepTime</th>\n",
       "      <th>ArrTime</th>\n",
       "      <th>CRSArrTime</th>\n",
       "      <th>UniqueCarrier</th>\n",
       "      <th>FlightNum</th>\n",
       "      <th>TailNum</th>\n",
       "      <th>ActualElapsedTime</th>\n",
       "      <th>CRSElapsedTime</th>\n",
       "      <th>AirTime</th>\n",
       "      <th>ArrDelay</th>\n",
       "      <th>DepDelay</th>\n",
       "      <th>Origin</th>\n",
       "      <th>Dest</th>\n",
       "      <th>Distance</th>\n",
       "      <th>TaxiIn</th>\n",
       "      <th>TaxiOut</th>\n",
       "      <th>Cancelled</th>\n",
       "      <th>CancellationCode</th>\n",
       "      <th>Diverted</th>\n",
       "      <th>CarrierDelay</th>\n",
       "      <th>WeatherDelay</th>\n",
       "      <th>NASDelay</th>\n",
       "      <th>SecurityDelay</th>\n",
       "      <th>LateAircraftDelay</th>\n",
       "    </tr>\n",
       "  </thead>\n",
       "  <tbody>\n",
       "    <tr>\n",
       "      <th>1589894</th>\n",
       "      <td>2008</td>\n",
       "      <td>4</td>\n",
       "      <td>16</td>\n",
       "      <td>3</td>\n",
       "      <td>1458.0</td>\n",
       "      <td>1500</td>\n",
       "      <td>1635.0</td>\n",
       "      <td>1637</td>\n",
       "      <td>DL</td>\n",
       "      <td>1613</td>\n",
       "      <td>N940DL</td>\n",
       "      <td>97.0</td>\n",
       "      <td>97.0</td>\n",
       "      <td>72.0</td>\n",
       "      <td>-2.0</td>\n",
       "      <td>-2.0</td>\n",
       "      <td>IND</td>\n",
       "      <td>ATL</td>\n",
       "      <td>432.0</td>\n",
       "      <td>7.0</td>\n",
       "      <td>18.0</td>\n",
       "      <td>0</td>\n",
       "      <td>NaN</td>\n",
       "      <td>0</td>\n",
       "      <td>NaN</td>\n",
       "      <td>NaN</td>\n",
       "      <td>NaN</td>\n",
       "      <td>NaN</td>\n",
       "      <td>NaN</td>\n",
       "    </tr>\n",
       "    <tr>\n",
       "      <th>1589895</th>\n",
       "      <td>2008</td>\n",
       "      <td>4</td>\n",
       "      <td>16</td>\n",
       "      <td>3</td>\n",
       "      <td>1334.0</td>\n",
       "      <td>1220</td>\n",
       "      <td>1505.0</td>\n",
       "      <td>1354</td>\n",
       "      <td>DL</td>\n",
       "      <td>1705</td>\n",
       "      <td>N949DL</td>\n",
       "      <td>91.0</td>\n",
       "      <td>94.0</td>\n",
       "      <td>69.0</td>\n",
       "      <td>71.0</td>\n",
       "      <td>74.0</td>\n",
       "      <td>IND</td>\n",
       "      <td>ATL</td>\n",
       "      <td>432.0</td>\n",
       "      <td>10.0</td>\n",
       "      <td>12.0</td>\n",
       "      <td>0</td>\n",
       "      <td>NaN</td>\n",
       "      <td>0</td>\n",
       "      <td>66.0</td>\n",
       "      <td>0.0</td>\n",
       "      <td>0.0</td>\n",
       "      <td>0.0</td>\n",
       "      <td>5.0</td>\n",
       "    </tr>\n",
       "    <tr>\n",
       "      <th>1589896</th>\n",
       "      <td>2008</td>\n",
       "      <td>4</td>\n",
       "      <td>16</td>\n",
       "      <td>3</td>\n",
       "      <td>1255.0</td>\n",
       "      <td>1248</td>\n",
       "      <td>1426.0</td>\n",
       "      <td>1419</td>\n",
       "      <td>DL</td>\n",
       "      <td>1756</td>\n",
       "      <td>N940DL</td>\n",
       "      <td>91.0</td>\n",
       "      <td>91.0</td>\n",
       "      <td>66.0</td>\n",
       "      <td>7.0</td>\n",
       "      <td>7.0</td>\n",
       "      <td>ATL</td>\n",
       "      <td>IND</td>\n",
       "      <td>432.0</td>\n",
       "      <td>9.0</td>\n",
       "      <td>16.0</td>\n",
       "      <td>0</td>\n",
       "      <td>NaN</td>\n",
       "      <td>0</td>\n",
       "      <td>NaN</td>\n",
       "      <td>NaN</td>\n",
       "      <td>NaN</td>\n",
       "      <td>NaN</td>\n",
       "      <td>NaN</td>\n",
       "    </tr>\n",
       "    <tr>\n",
       "      <th>1589897</th>\n",
       "      <td>2008</td>\n",
       "      <td>4</td>\n",
       "      <td>17</td>\n",
       "      <td>4</td>\n",
       "      <td>2016.0</td>\n",
       "      <td>2015</td>\n",
       "      <td>2148.0</td>\n",
       "      <td>2148</td>\n",
       "      <td>DL</td>\n",
       "      <td>860</td>\n",
       "      <td>N966DL</td>\n",
       "      <td>92.0</td>\n",
       "      <td>93.0</td>\n",
       "      <td>63.0</td>\n",
       "      <td>0.0</td>\n",
       "      <td>1.0</td>\n",
       "      <td>ATL</td>\n",
       "      <td>IND</td>\n",
       "      <td>432.0</td>\n",
       "      <td>9.0</td>\n",
       "      <td>20.0</td>\n",
       "      <td>0</td>\n",
       "      <td>NaN</td>\n",
       "      <td>0</td>\n",
       "      <td>NaN</td>\n",
       "      <td>NaN</td>\n",
       "      <td>NaN</td>\n",
       "      <td>NaN</td>\n",
       "      <td>NaN</td>\n",
       "    </tr>\n",
       "    <tr>\n",
       "      <th>1589898</th>\n",
       "      <td>2008</td>\n",
       "      <td>4</td>\n",
       "      <td>17</td>\n",
       "      <td>4</td>\n",
       "      <td>958.0</td>\n",
       "      <td>1005</td>\n",
       "      <td>1137.0</td>\n",
       "      <td>1140</td>\n",
       "      <td>DL</td>\n",
       "      <td>962</td>\n",
       "      <td>N924DL</td>\n",
       "      <td>99.0</td>\n",
       "      <td>95.0</td>\n",
       "      <td>62.0</td>\n",
       "      <td>-3.0</td>\n",
       "      <td>-7.0</td>\n",
       "      <td>ATL</td>\n",
       "      <td>IND</td>\n",
       "      <td>432.0</td>\n",
       "      <td>8.0</td>\n",
       "      <td>29.0</td>\n",
       "      <td>0</td>\n",
       "      <td>NaN</td>\n",
       "      <td>0</td>\n",
       "      <td>NaN</td>\n",
       "      <td>NaN</td>\n",
       "      <td>NaN</td>\n",
       "      <td>NaN</td>\n",
       "      <td>NaN</td>\n",
       "    </tr>\n",
       "  </tbody>\n",
       "</table>\n",
       "</div>"
      ],
      "text/plain": [
       "         Year  Month  DayofMonth  DayOfWeek  DepTime  CRSDepTime  ArrTime  \\\n",
       "1589894  2008      4          16          3   1458.0        1500   1635.0   \n",
       "1589895  2008      4          16          3   1334.0        1220   1505.0   \n",
       "1589896  2008      4          16          3   1255.0        1248   1426.0   \n",
       "1589897  2008      4          17          4   2016.0        2015   2148.0   \n",
       "1589898  2008      4          17          4    958.0        1005   1137.0   \n",
       "\n",
       "         CRSArrTime UniqueCarrier  FlightNum TailNum  ActualElapsedTime  \\\n",
       "1589894        1637            DL       1613  N940DL               97.0   \n",
       "1589895        1354            DL       1705  N949DL               91.0   \n",
       "1589896        1419            DL       1756  N940DL               91.0   \n",
       "1589897        2148            DL        860  N966DL               92.0   \n",
       "1589898        1140            DL        962  N924DL               99.0   \n",
       "\n",
       "         CRSElapsedTime  AirTime  ArrDelay  DepDelay Origin Dest  Distance  \\\n",
       "1589894            97.0     72.0      -2.0      -2.0    IND  ATL     432.0   \n",
       "1589895            94.0     69.0      71.0      74.0    IND  ATL     432.0   \n",
       "1589896            91.0     66.0       7.0       7.0    ATL  IND     432.0   \n",
       "1589897            93.0     63.0       0.0       1.0    ATL  IND     432.0   \n",
       "1589898            95.0     62.0      -3.0      -7.0    ATL  IND     432.0   \n",
       "\n",
       "         TaxiIn  TaxiOut  Cancelled CancellationCode  Diverted  CarrierDelay  \\\n",
       "1589894     7.0     18.0          0              NaN         0           NaN   \n",
       "1589895    10.0     12.0          0              NaN         0          66.0   \n",
       "1589896     9.0     16.0          0              NaN         0           NaN   \n",
       "1589897     9.0     20.0          0              NaN         0           NaN   \n",
       "1589898     8.0     29.0          0              NaN         0           NaN   \n",
       "\n",
       "         WeatherDelay  NASDelay  SecurityDelay  LateAircraftDelay  \n",
       "1589894           NaN       NaN            NaN                NaN  \n",
       "1589895           0.0       0.0            0.0                5.0  \n",
       "1589896           NaN       NaN            NaN                NaN  \n",
       "1589897           NaN       NaN            NaN                NaN  \n",
       "1589898           NaN       NaN            NaN                NaN  "
      ]
     },
     "execution_count": 11,
     "metadata": {},
     "output_type": "execute_result"
    }
   ],
   "source": [
    "myDF.tail()"
   ]
  },
  {
   "cell_type": "code",
   "execution_count": 12,
   "id": "255f9f39-fcf0-4ecc-b29f-325b8e74b982",
   "metadata": {},
   "outputs": [
    {
     "data": {
      "text/plain": [
       "Series([], dtype: int64)"
      ]
     },
     "execution_count": 12,
     "metadata": {},
     "output_type": "execute_result"
    }
   ],
   "source": [
    "myDF.value_counts()"
   ]
  },
  {
   "cell_type": "markdown",
   "id": "14dc22d4-ddc3-41cc-a91a-cb0025bc0c80",
   "metadata": {},
   "source": [
    "a. cell 8\n",
    "\n",
    "b. cell 9"
   ]
  },
  {
   "cell_type": "markdown",
   "id": "8e586edd-ff26-4ce2-8f6b-2424b26f2929",
   "metadata": {},
   "source": [
    "## Question 3"
   ]
  },
  {
   "cell_type": "code",
   "execution_count": 16,
   "id": "bbe0f40d-9655-4653-9ca8-886bdb61cb91",
   "metadata": {},
   "outputs": [],
   "source": [
    "def popularAirports(myDF: pd.DataFrame, airport: str) -> pd.Series:\n",
    "    return myDF[myDF['Origin'] == airport]['Dest'].value_counts().head(20)"
   ]
  },
  {
   "cell_type": "code",
   "execution_count": 17,
   "id": "4ec58e7f-02cf-4d8d-9b36-8fc57044c398",
   "metadata": {},
   "outputs": [
    {
     "data": {
      "text/plain": [
       "ORD    77720\n",
       "DTW    55974\n",
       "STL    54186\n",
       "ATL    48975\n",
       "DFW    36523\n",
       "MSP    34648\n",
       "CLT    34199\n",
       "DEN    29056\n",
       "PIT    28033\n",
       "EWR    26795\n",
       "MDW    26120\n",
       "MCO    25755\n",
       "PHL    24492\n",
       "IAH    24187\n",
       "CLE    23221\n",
       "CVG    22698\n",
       "MEM    21645\n",
       "DCA    20505\n",
       "PHX    19628\n",
       "LGA    18300\n",
       "Name: Dest, dtype: int64"
      ]
     },
     "execution_count": 17,
     "metadata": {},
     "output_type": "execute_result"
    }
   ],
   "source": [
    "popularAirports(myDF, 'IND')"
   ]
  },
  {
   "cell_type": "code",
   "execution_count": 34,
   "id": "1479d349-eb1f-444a-ae08-d8286b48f25b",
   "metadata": {},
   "outputs": [],
   "source": [
    "def popularAirlines(myDF: pd.DataFrame, airport: str) -> pd.Series:\n",
    "    return myDF[myDF['Origin'] == 'IND']['UniqueCarrier'].value_counts().head(5)"
   ]
  },
  {
   "cell_type": "code",
   "execution_count": 20,
   "id": "7ae3645f-9e48-4493-afc1-07ad7e806f06",
   "metadata": {},
   "outputs": [
    {
     "data": {
      "text/plain": [
       "Series([], Name: UniqueCarrier, dtype: int64)"
      ]
     },
     "execution_count": 35,
     "metadata": {},
     "output_type": "execute_result"
    }
   ],
   "source": [
    "popularAirlines(myDF, 'IND')"
   ]
  },
  {
   "cell_type": "markdown",
   "id": "47c6229f-35f7-400c-8366-c442baa5cf47",
   "metadata": {},
   "source": [
    "a. cell 16\n",
    "\n",
    "b. cell 19"
   ]
  },
  {
   "cell_type": "markdown",
   "id": "da22f29c-d245-4d2b-9fc1-ca14cb6087d9",
   "metadata": {},
   "source": [
    "## Question 4"
   ]
  },
  {
   "cell_type": "code",
   "execution_count": 23,
   "id": "8cffc767-d1c8-4d64-b7dc-f0d2ee8a80d1",
   "metadata": {},
   "outputs": [],
   "source": [
    "%%bash\n",
    "head -n1 /anvil/projects/tdm/data/flights/subset/1987.csv >~/BUFflights.csv\n",
    "grep -h \",BUF,\" /anvil/projects/tdm/data/flights/subset/*.csv >>~/BUFflights.csv"
   ]
  },
  {
   "cell_type": "code",
   "execution_count": 24,
   "id": "d884248c-ef72-4b23-8568-3a4eaf0bd748",
   "metadata": {},
   "outputs": [
    {
     "name": "stderr",
     "output_type": "stream",
     "text": [
      "/tmp/ipykernel_16/3886677068.py:1: DtypeWarning: Columns (10,22) have mixed types. Specify dtype option on import or set low_memory=False.\n",
      "  myDF = pd.read_csv('~/BUFflights.csv')\n"
     ]
    }
   ],
   "source": [
    "myDF = pd.read_csv('~/BUFflights.csv')"
   ]
  },
  {
   "cell_type": "code",
   "execution_count": 36,
   "id": "aa6dc53b-6d90-4491-98a7-41591aca7b97",
   "metadata": {},
   "outputs": [
    {
     "data": {
      "text/plain": [
       "ORD    71736\n",
       "EWR    51712\n",
       "ATL    37953\n",
       "LGA    36544\n",
       "DTW    34581\n",
       "PHL    29254\n",
       "BWI    26571\n",
       "PIT    24493\n",
       "JFK    18745\n",
       "CLT    18099\n",
       "DCA    17086\n",
       "BOS    15660\n",
       "CLE    14424\n",
       "CVG    12850\n",
       "IAD    10932\n",
       "MCO     7155\n",
       "RDU     6669\n",
       "MSP     6457\n",
       "ROC     5088\n",
       "ALB     5012\n",
       "Name: Dest, dtype: int64"
      ]
     },
     "execution_count": 36,
     "metadata": {},
     "output_type": "execute_result"
    }
   ],
   "source": [
    "popularAirports(myDF, 'BUF')"
   ]
  },
  {
   "cell_type": "code",
   "execution_count": 52,
   "id": "5ec86eca-48c8-49c5-a2fb-971722a0c57b",
   "metadata": {},
   "outputs": [
    {
     "data": {
      "text/plain": [
       "US    192109\n",
       "NW    119455\n",
       "WN     94232\n",
       "DL     68089\n",
       "UA     62763\n",
       "Name: UniqueCarrier, dtype: int64"
      ]
     },
     "execution_count": 52,
     "metadata": {},
     "output_type": "execute_result"
    }
   ],
   "source": [
    "popularAirlines(myDF, 'BUF')"
   ]
  },
  {
   "cell_type": "code",
   "execution_count": 53,
   "id": "0a0b9e09-e1f0-4de8-8db4-b7ad47b76685",
   "metadata": {},
   "outputs": [
    {
     "data": {
      "text/plain": [
       "IND    4129\n",
       "Name: Dest, dtype: int64"
      ]
     },
     "execution_count": 53,
     "metadata": {},
     "output_type": "execute_result"
    }
   ],
   "source": [
    "popularAirports(myDF, 'JAX')"
   ]
  },
  {
   "cell_type": "code",
   "execution_count": 54,
   "id": "fd7f7bff-9ca1-4f1e-97d6-bef2c63d74dc",
   "metadata": {},
   "outputs": [
    {
     "data": {
      "text/plain": [
       "US    192109\n",
       "NW    119455\n",
       "WN     94232\n",
       "DL     68089\n",
       "UA     62763\n",
       "Name: UniqueCarrier, dtype: int64"
      ]
     },
     "execution_count": 54,
     "metadata": {},
     "output_type": "execute_result"
    }
   ],
   "source": [
    "popularAirlines(myDF, 'JAX')"
   ]
  },
  {
   "cell_type": "markdown",
   "id": "f76442d6-d02e-4f26-b9d6-c3183e1d6929",
   "metadata": {},
   "source": [
    "## Pledge\n",
    "\n",
    "By submitting this work I hereby pledge that this is my own, personal work. I've acknowledged in the designated place at the top of this file all sources that I used to complete said work, including but not limited to: online resources, books, and electronic communications. I've noted all collaboration with fellow students and/or TA's. I did not copy or plagiarize another's work.\n",
    "\n",
    "> As a Boilermaker pursuing academic excellence, I pledge to be honest and true in all that I do. Accountable together – We are Purdue."
   ]
  }
 ],
 "metadata": {
  "kernelspec": {
   "display_name": "f2022-s2023",
   "language": "python",
   "name": "f2022-s2023"
  },
  "language_info": {
   "codemirror_mode": {
    "name": "ipython",
    "version": 3
   },
   "file_extension": ".py",
   "mimetype": "text/x-python",
   "name": "python",
   "nbconvert_exporter": "python",
   "pygments_lexer": "ipython3",
   "version": "3.10.9"
  }
 },
 "nbformat": 4,
 "nbformat_minor": 5
}
