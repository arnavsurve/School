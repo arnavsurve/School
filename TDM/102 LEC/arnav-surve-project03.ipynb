{
 "cells": [
  {
   "cell_type": "markdown",
   "id": "be02a957-7133-4d02-818e-fedeb3cecb05",
   "metadata": {},
   "source": [
    "# Project 3 -- Arnav Surve"
   ]
  },
  {
   "cell_type": "markdown",
   "id": "a1228853-dd19-4ab2-89e0-0394d7d72de3",
   "metadata": {},
   "source": [
    "**TA Help:** N/A\n",
    "    \n",
    "**Collaboration:** N/A"
   ]
  },
  {
   "cell_type": "markdown",
   "id": "6180e742-8e39-4698-98ff-5b00c8cf8ea0",
   "metadata": {},
   "source": [
    "## Question 1"
   ]
  },
  {
   "cell_type": "code",
   "execution_count": 2,
   "id": "49445606-d363-41b4-b479-e319a9a84c01",
   "metadata": {},
   "outputs": [
    {
     "name": "stdout",
     "output_type": "stream",
     "text": [
      "\u001b[0m\u001b[01;32m1987.csv\u001b[0m*     \u001b[01;32m1994.csv\u001b[0m*     \u001b[01;32m2001.csv\u001b[0m*     \u001b[01;32m2008.csv\u001b[0m*\n",
      "1987.parquet  1994.parquet  2001.parquet  2008.parquet\n",
      "\u001b[01;32m1988.csv\u001b[0m*     \u001b[01;32m1995.csv\u001b[0m*     \u001b[01;32m2002.csv\u001b[0m*     \u001b[01;32mairports.csv\u001b[0m*\n",
      "1988.parquet  1995.parquet  2002.parquet  airports.parquet\n",
      "\u001b[01;32m1989.csv\u001b[0m*     \u001b[01;32m1996.csv\u001b[0m*     \u001b[01;32m2003.csv\u001b[0m*     \u001b[01;32mcarriers.csv\u001b[0m*\n",
      "1989.parquet  1996.parquet  2003.parquet  carriers.parquet\n",
      "\u001b[01;32m1990.csv\u001b[0m*     \u001b[01;32m1997.csv\u001b[0m*     \u001b[01;32m2004.csv\u001b[0m*     \u001b[01;32mplane-data.csv\u001b[0m*\n",
      "1990.parquet  1997.parquet  2004.parquet  plane-data.parquet\n",
      "\u001b[01;32m1991.csv\u001b[0m*     \u001b[01;32m1998.csv\u001b[0m*     \u001b[01;32m2005.csv\u001b[0m*     \u001b[01;32msampler.sh\u001b[0m*\n",
      "1991.parquet  1998.parquet  2005.parquet  \u001b[01;32mvariable-descriptions.csv\u001b[0m*\n",
      "\u001b[01;32m1992.csv\u001b[0m*     \u001b[01;32m1999.csv\u001b[0m*     \u001b[01;32m2006.csv\u001b[0m*     variable-descriptions.parquet\n",
      "1992.parquet  1999.parquet  2006.parquet\n",
      "\u001b[01;32m1993.csv\u001b[0m*     \u001b[01;32m2000.csv\u001b[0m*     \u001b[01;32m2007.csv\u001b[0m*\n",
      "1993.parquet  2000.parquet  2007.parquet\n"
     ]
    }
   ],
   "source": [
    "ls /anvil/projects/tdm/data/flights/subset/"
   ]
  },
  {
   "cell_type": "code",
   "execution_count": 3,
   "id": "24165451-33bd-46cc-9962-5728cd1353c4",
   "metadata": {},
   "outputs": [],
   "source": [
    "import pandas as pd\n",
    "from pathlib import Path"
   ]
  },
  {
   "cell_type": "markdown",
   "id": "b456e57c-4a12-464b-999a-ef2df5af80c1",
   "metadata": {},
   "source": [
    "a. The years of data available are 1987 through 2008.\n",
    "\n",
    "b. /anvil/projects/tdm/data/flights/subset/2003.csv"
   ]
  },
  {
   "cell_type": "markdown",
   "id": "fc601975-35ed-4680-a4e1-0273ee3cc047",
   "metadata": {},
   "source": [
    "## Question 2"
   ]
  },
  {
   "cell_type": "code",
   "execution_count": 4,
   "id": "a16336a1-1ef0-41e8-bc7c-49387db27497",
   "metadata": {},
   "outputs": [],
   "source": [
    "files = [Path(f'/anvil/projects/tdm/data/flights/subset/{year}.csv') for year in range(1987,2009)]"
   ]
  },
  {
   "cell_type": "code",
   "execution_count": 6,
   "id": "f5fae68d-e7ce-4367-962d-c740c589d331",
   "metadata": {},
   "outputs": [
    {
     "data": {
      "text/plain": [
       "[PosixPath('/anvil/projects/tdm/data/flights/subset/1987.csv'),\n",
       " PosixPath('/anvil/projects/tdm/data/flights/subset/1988.csv'),\n",
       " PosixPath('/anvil/projects/tdm/data/flights/subset/1989.csv'),\n",
       " PosixPath('/anvil/projects/tdm/data/flights/subset/1990.csv'),\n",
       " PosixPath('/anvil/projects/tdm/data/flights/subset/1991.csv'),\n",
       " PosixPath('/anvil/projects/tdm/data/flights/subset/1992.csv'),\n",
       " PosixPath('/anvil/projects/tdm/data/flights/subset/1993.csv'),\n",
       " PosixPath('/anvil/projects/tdm/data/flights/subset/1994.csv'),\n",
       " PosixPath('/anvil/projects/tdm/data/flights/subset/1995.csv'),\n",
       " PosixPath('/anvil/projects/tdm/data/flights/subset/1996.csv'),\n",
       " PosixPath('/anvil/projects/tdm/data/flights/subset/1997.csv'),\n",
       " PosixPath('/anvil/projects/tdm/data/flights/subset/1998.csv'),\n",
       " PosixPath('/anvil/projects/tdm/data/flights/subset/1999.csv'),\n",
       " PosixPath('/anvil/projects/tdm/data/flights/subset/2000.csv'),\n",
       " PosixPath('/anvil/projects/tdm/data/flights/subset/2001.csv'),\n",
       " PosixPath('/anvil/projects/tdm/data/flights/subset/2002.csv'),\n",
       " PosixPath('/anvil/projects/tdm/data/flights/subset/2003.csv'),\n",
       " PosixPath('/anvil/projects/tdm/data/flights/subset/2004.csv'),\n",
       " PosixPath('/anvil/projects/tdm/data/flights/subset/2005.csv'),\n",
       " PosixPath('/anvil/projects/tdm/data/flights/subset/2006.csv'),\n",
       " PosixPath('/anvil/projects/tdm/data/flights/subset/2007.csv'),\n",
       " PosixPath('/anvil/projects/tdm/data/flights/subset/2008.csv')]"
      ]
     },
     "execution_count": 6,
     "metadata": {},
     "output_type": "execute_result"
    }
   ],
   "source": [
    "files"
   ]
  },
  {
   "cell_type": "code",
   "execution_count": 7,
   "id": "842881e0-d220-4a3f-b8aa-8e8abbb6bf77",
   "metadata": {},
   "outputs": [],
   "source": [
    "eightyseven = pd.read_csv(files[0])"
   ]
  },
  {
   "cell_type": "code",
   "execution_count": 8,
   "id": "7b7b5812-4ded-46fc-8c71-cb4ba0243424",
   "metadata": {},
   "outputs": [
    {
     "name": "stdout",
     "output_type": "stream",
     "text": [
      "Index(['Year', 'Month', 'DayofMonth', 'DayOfWeek', 'DepTime', 'CRSDepTime',\n",
      "       'ArrTime', 'CRSArrTime', 'UniqueCarrier', 'FlightNum', 'TailNum',\n",
      "       'ActualElapsedTime', 'CRSElapsedTime', 'AirTime', 'ArrDelay',\n",
      "       'DepDelay', 'Origin', 'Dest', 'Distance', 'TaxiIn', 'TaxiOut',\n",
      "       'Cancelled', 'CancellationCode', 'Diverted', 'CarrierDelay',\n",
      "       'WeatherDelay', 'NASDelay', 'SecurityDelay', 'LateAircraftDelay'],\n",
      "      dtype='object')\n"
     ]
    }
   ],
   "source": [
    "print(eightyseven.columns)"
   ]
  },
  {
   "cell_type": "code",
   "execution_count": 9,
   "id": "f96583f1-51b5-45ab-866d-e9ae48d6c9d6",
   "metadata": {},
   "outputs": [
    {
     "name": "stdout",
     "output_type": "stream",
     "text": [
      "29\n"
     ]
    }
   ],
   "source": [
    "print(len(eightyseven.columns))"
   ]
  },
  {
   "cell_type": "code",
   "execution_count": 10,
   "id": "29b9c081-80aa-4965-8b99-d56778c79a44",
   "metadata": {},
   "outputs": [
    {
     "name": "stdout",
     "output_type": "stream",
     "text": [
      "Index(['Year', 'Month', 'DayofMonth', 'DayOfWeek', 'DepTime'], dtype='object')\n"
     ]
    }
   ],
   "source": [
    "print(eightyseven.columns[:5])"
   ]
  },
  {
   "cell_type": "markdown",
   "id": "14dc22d4-ddc3-41cc-a91a-cb0025bc0c80",
   "metadata": {},
   "source": [
    "a. 29 columns\n",
    "\n",
    "b. cell 8\n",
    "\n",
    "c. cell 10"
   ]
  },
  {
   "cell_type": "markdown",
   "id": "8e586edd-ff26-4ce2-8f6b-2424b26f2929",
   "metadata": {},
   "source": [
    "## Question 3"
   ]
  },
  {
   "cell_type": "code",
   "execution_count": 11,
   "id": "418a0c4e-3870-411d-8769-bfb6c51a2b21",
   "metadata": {},
   "outputs": [
    {
     "data": {
      "text/plain": [
       "0          SAN\n",
       "1          SAN\n",
       "2          SAN\n",
       "3          SAN\n",
       "4          SAN\n",
       "          ... \n",
       "1311821    ORD\n",
       "1311822    ORD\n",
       "1311823    ORD\n",
       "1311824    BOS\n",
       "1311825    BOS\n",
       "Name: Origin, Length: 1311826, dtype: object"
      ]
     },
     "execution_count": 11,
     "metadata": {},
     "output_type": "execute_result"
    }
   ],
   "source": [
    "eightyseven['Origin']"
   ]
  },
  {
   "cell_type": "code",
   "execution_count": 12,
   "id": "bbe0f40d-9655-4653-9ca8-886bdb61cb91",
   "metadata": {
    "tags": []
   },
   "outputs": [
    {
     "data": {
      "text/plain": [
       "8817"
      ]
     },
     "execution_count": 12,
     "metadata": {},
     "output_type": "execute_result"
    }
   ],
   "source": [
    "eightyseven['Origin'].value_counts()['IND']"
   ]
  },
  {
   "cell_type": "markdown",
   "id": "47c6229f-35f7-400c-8366-c442baa5cf47",
   "metadata": {},
   "source": [
    "a. cell 16\n",
    "\n",
    "b. cell 17"
   ]
  },
  {
   "cell_type": "markdown",
   "id": "da22f29c-d245-4d2b-9fc1-ca14cb6087d9",
   "metadata": {},
   "source": [
    "## Question 4"
   ]
  },
  {
   "cell_type": "code",
   "execution_count": 13,
   "id": "8cffc767-d1c8-4d64-b7dc-f0d2ee8a80d1",
   "metadata": {},
   "outputs": [],
   "source": [
    "eightyeight = pd.read_csv(files[1])"
   ]
  },
  {
   "cell_type": "code",
   "execution_count": 15,
   "id": "f424c8b0-0411-48b2-9478-1f41eae14697",
   "metadata": {},
   "outputs": [],
   "source": [
    "eightynine = pd.read_csv(files[2])"
   ]
  },
  {
   "cell_type": "code",
   "execution_count": 16,
   "id": "2045eb16-8531-47d6-958e-1820b370353a",
   "metadata": {},
   "outputs": [],
   "source": [
    "ninety = pd.read_csv(files[3])"
   ]
  },
  {
   "cell_type": "code",
   "execution_count": 21,
   "id": "1e95fd75-19b8-491b-b724-424251faf9ee",
   "metadata": {},
   "outputs": [
    {
     "data": {
      "text/plain": [
       "37399"
      ]
     },
     "execution_count": 21,
     "metadata": {},
     "output_type": "execute_result"
    }
   ],
   "source": [
    "eightyeight['Origin'].value_counts()['IND']"
   ]
  },
  {
   "cell_type": "code",
   "execution_count": 22,
   "id": "68aa17bc-be63-4159-96b0-c109c1b89db5",
   "metadata": {},
   "outputs": [
    {
     "data": {
      "text/plain": [
       "40567"
      ]
     },
     "execution_count": 22,
     "metadata": {},
     "output_type": "execute_result"
    }
   ],
   "source": [
    "eightynine['Origin'].value_counts()['IND']"
   ]
  },
  {
   "cell_type": "code",
   "execution_count": 23,
   "id": "f1913e34-1af4-458f-b8d2-3fa570baa5d6",
   "metadata": {},
   "outputs": [
    {
     "data": {
      "text/plain": [
       "43826"
      ]
     },
     "execution_count": 23,
     "metadata": {},
     "output_type": "execute_result"
    }
   ],
   "source": [
    "ninety['Origin'].value_counts()['IND']"
   ]
  },
  {
   "cell_type": "markdown",
   "id": "0d552245-b4d6-474a-9cc9-fa7b8e674d55",
   "metadata": {},
   "source": [
    "a. 37399\n",
    "\n",
    "b. 40567\n",
    "\n",
    "c. 43826"
   ]
  },
  {
   "cell_type": "markdown",
   "id": "88c9cdac-3e92-498f-83fa-e089bfc44ac8",
   "metadata": {},
   "source": [
    "## Question 5"
   ]
  },
  {
   "cell_type": "code",
   "execution_count": 5,
   "id": "d370d7c9-06db-42b9-b75f-240481a5c491",
   "metadata": {},
   "outputs": [
    {
     "name": "stdout",
     "output_type": "stream",
     "text": [
      "796496\n"
     ]
    }
   ],
   "source": [
    "origin_ind = 0\n",
    "for file in files:\n",
    "    with open(file,'r') as f:\n",
    "        for line in f:\n",
    "            if line.split(\",\")[16] == 'IND':\n",
    "                origin_ind += 1\n",
    "print(origin_ind)"
   ]
  },
  {
   "cell_type": "markdown",
   "id": "9fbf00fb-2418-460f-ae94-2a32b0c28952",
   "metadata": {},
   "source": [
    "796496"
   ]
  },
  {
   "cell_type": "markdown",
   "id": "f76442d6-d02e-4f26-b9d6-c3183e1d6929",
   "metadata": {},
   "source": [
    "## Pledge\n",
    "\n",
    "By submitting this work I hereby pledge that this is my own, personal work. I've acknowledged in the designated place at the top of this file all sources that I used to complete said work, including but not limited to: online resources, books, and electronic communications. I've noted all collaboration with fellow students and/or TA's. I did not copy or plagiarize another's work.\n",
    "\n",
    "> As a Boilermaker pursuing academic excellence, I pledge to be honest and true in all that I do. Accountable together – We are Purdue."
   ]
  }
 ],
 "metadata": {
  "kernelspec": {
   "display_name": "f2022-s2023",
   "language": "python",
   "name": "f2022-s2023"
  },
  "language_info": {
   "codemirror_mode": {
    "name": "ipython",
    "version": 3
   },
   "file_extension": ".py",
   "mimetype": "text/x-python",
   "name": "python",
   "nbconvert_exporter": "python",
   "pygments_lexer": "ipython3",
   "version": "3.10.7"
  }
 },
 "nbformat": 4,
 "nbformat_minor": 5
}
